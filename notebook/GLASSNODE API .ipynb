{
 "cells": [
  {
   "cell_type": "markdown",
   "id": "1eb44583",
   "metadata": {},
   "source": [
    "## GLASSNODE API QUERY"
   ]
  },
  {
   "cell_type": "code",
   "execution_count": 2,
   "id": "33be0843",
   "metadata": {},
   "outputs": [],
   "source": [
    "import requests\n",
    "import os"
   ]
  },
  {
   "cell_type": "code",
   "execution_count": 4,
   "id": "a33862ff",
   "metadata": {},
   "outputs": [
    {
     "name": "stdout",
     "output_type": "stream",
     "text": [
      "2QpSA06P5sDxyadxyVlDP8pQLdQ\n"
     ]
    }
   ],
   "source": [
    "# Setting Glassnode API key\n",
    "api_key = os.environ[\"GLASSNODE_API_KEY\"]\n",
    "print(api_key)"
   ]
  },
  {
   "cell_type": "code",
   "execution_count": 5,
   "id": "1afdb13c",
   "metadata": {},
   "outputs": [],
   "source": [
    "# Defining the endpoint URL\n",
    "endpoint_url = 'https://api.glassnode.com/v1/metrics/mining/difficulty_latest'"
   ]
  },
  {
   "cell_type": "code",
   "execution_count": 21,
   "id": "5ae611f2",
   "metadata": {},
   "outputs": [],
   "source": [
    "# Defining the parameters for your request\n",
    "params = {\"a\": \"BTC\",\n",
    "          \"s\": 1564646400,\n",
    "          \"u\": 1685822400,\n",
    "          \"i\": \"24h\",\n",
    "          \"f\": \"CSV\",\n",
    "          \"timestamp_format\": \"unix\",\n",
    "         'api_key': api_key}"
   ]
  },
  {
   "cell_type": "code",
   "execution_count": 22,
   "id": "cf539d52",
   "metadata": {},
   "outputs": [],
   "source": [
    "# Make the API request\n",
    "response = requests.get(endpoint_url, params=params)"
   ]
  },
  {
   "cell_type": "code",
   "execution_count": 23,
   "id": "e9c15a2b",
   "metadata": {},
   "outputs": [
    {
     "data": {
      "text/plain": [
       "<Response [400]>"
      ]
     },
     "execution_count": 23,
     "metadata": {},
     "output_type": "execute_result"
    }
   ],
   "source": [
    "response"
   ]
  },
  {
   "cell_type": "code",
   "execution_count": null,
   "id": "e91d997e",
   "metadata": {},
   "outputs": [],
   "source": []
  }
 ],
 "metadata": {
  "kernelspec": {
   "display_name": "Python 3 (ipykernel)",
   "language": "python",
   "name": "python3"
  },
  "language_info": {
   "codemirror_mode": {
    "name": "ipython",
    "version": 3
   },
   "file_extension": ".py",
   "mimetype": "text/x-python",
   "name": "python",
   "nbconvert_exporter": "python",
   "pygments_lexer": "ipython3",
   "version": "3.10.6"
  },
  "toc": {
   "base_numbering": 1,
   "nav_menu": {},
   "number_sections": true,
   "sideBar": true,
   "skip_h1_title": false,
   "title_cell": "Table of Contents",
   "title_sidebar": "Contents",
   "toc_cell": false,
   "toc_position": {},
   "toc_section_display": true,
   "toc_window_display": false
  }
 },
 "nbformat": 4,
 "nbformat_minor": 5
}
