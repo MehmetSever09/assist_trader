{
 "cells": [
  {
   "cell_type": "markdown",
   "id": "e958c588",
   "metadata": {},
   "source": [
    "# Merged Data"
   ]
  },
  {
   "cell_type": "code",
   "execution_count": 113,
   "id": "b8f406e8",
   "metadata": {},
   "outputs": [],
   "source": [
    "import pandas as pd\n",
    "import ta\n",
    "import numpy as np"
   ]
  },
  {
   "cell_type": "markdown",
   "id": "a2ab151e",
   "metadata": {},
   "source": [
    "Data"
   ]
  },
  {
   "cell_type": "code",
   "execution_count": 2,
   "id": "2790e32a",
   "metadata": {},
   "outputs": [
    {
     "data": {
      "text/html": [
       "<div>\n",
       "<style scoped>\n",
       "    .dataframe tbody tr th:only-of-type {\n",
       "        vertical-align: middle;\n",
       "    }\n",
       "\n",
       "    .dataframe tbody tr th {\n",
       "        vertical-align: top;\n",
       "    }\n",
       "\n",
       "    .dataframe thead th {\n",
       "        text-align: right;\n",
       "    }\n",
       "</style>\n",
       "<table border=\"1\" class=\"dataframe\">\n",
       "  <thead>\n",
       "    <tr style=\"text-align: right;\">\n",
       "      <th></th>\n",
       "      <th>timestamp</th>\n",
       "      <th>open</th>\n",
       "      <th>high</th>\n",
       "      <th>low</th>\n",
       "      <th>close</th>\n",
       "      <th>volume</th>\n",
       "    </tr>\n",
       "  </thead>\n",
       "  <tbody>\n",
       "    <tr>\n",
       "      <th>32755</th>\n",
       "      <td>2023-06-04 00:00:00</td>\n",
       "      <td>27052.8</td>\n",
       "      <td>27069.3</td>\n",
       "      <td>26900.0</td>\n",
       "      <td>26990.0</td>\n",
       "      <td>18405.196</td>\n",
       "    </tr>\n",
       "  </tbody>\n",
       "</table>\n",
       "</div>"
      ],
      "text/plain": [
       "                 timestamp     open     high      low    close     volume\n",
       "32755  2023-06-04 00:00:00  27052.8  27069.3  26900.0  26990.0  18405.196"
      ]
     },
     "execution_count": 2,
     "metadata": {},
     "output_type": "execute_result"
    }
   ],
   "source": [
    "data = pd.read_csv(\"../raw_data/BTCUSDT_1h.csv\")\n",
    "data.tail(1)"
   ]
  },
  {
   "cell_type": "code",
   "execution_count": 3,
   "id": "c96a2c51",
   "metadata": {},
   "outputs": [
    {
     "data": {
      "text/plain": [
       "(32756, 6)"
      ]
     },
     "execution_count": 3,
     "metadata": {},
     "output_type": "execute_result"
    }
   ],
   "source": [
    "data.shape"
   ]
  },
  {
   "cell_type": "markdown",
   "id": "5cd8c88a",
   "metadata": {},
   "source": [
    "## Indicators"
   ]
  },
  {
   "cell_type": "markdown",
   "id": "71398fa4",
   "metadata": {},
   "source": [
    "### Volume Indicators"
   ]
  },
  {
   "cell_type": "markdown",
   "id": "95bf6e82",
   "metadata": {},
   "source": [
    "Imports"
   ]
  },
  {
   "cell_type": "code",
   "execution_count": 4,
   "id": "9968cf48",
   "metadata": {},
   "outputs": [],
   "source": [
    "from ta.volume import ChaikinMoneyFlowIndicator\n",
    "from ta.volume import ForceIndexIndicator\n",
    "from ta.volume import MFIIndicator\n",
    "from ta.volume import VolumeWeightedAveragePrice"
   ]
  },
  {
   "cell_type": "markdown",
   "id": "d4e1dfe0",
   "metadata": {},
   "source": [
    "Code"
   ]
  },
  {
   "cell_type": "code",
   "execution_count": 5,
   "id": "563f3896",
   "metadata": {},
   "outputs": [],
   "source": [
    "cmfi_indicator = ta.volume.ChaikinMoneyFlowIndicator(high = data[\"high\"], low = data[\"low\"], close = data[\"close\"], volume = data[\"volume\"])\n",
    "cmfi_values = cmfi_indicator.chaikin_money_flow()\n",
    "data['CMF'] = cmfi_values"
   ]
  },
  {
   "cell_type": "code",
   "execution_count": 6,
   "id": "355cda43",
   "metadata": {},
   "outputs": [],
   "source": [
    "fii_indicator = ta.volume.ForceIndexIndicator(close = data[\"close\"], volume = data[\"volume\"])\n",
    "fii_values = fii_indicator.force_index() \n",
    "data['FII'] = fii_values"
   ]
  },
  {
   "cell_type": "code",
   "execution_count": 7,
   "id": "9587df0c",
   "metadata": {},
   "outputs": [],
   "source": [
    "mfi_indicator = ta.volume.MFIIndicator(high = data[\"high\"], low = data[\"low\"], close = data[\"close\"], volume = data[\"volume\"])\n",
    "mfi_values = mfi_indicator.money_flow_index() \n",
    "data['MFI'] = mfi_values"
   ]
  },
  {
   "cell_type": "code",
   "execution_count": 8,
   "id": "e39a6f40",
   "metadata": {},
   "outputs": [],
   "source": [
    "vwa_indicator = ta.volume.VolumeWeightedAveragePrice(high = data[\"high\"], low = data[\"low\"], close = data[\"close\"], volume = data[\"volume\"])\n",
    "vwa_values = vwa_indicator.volume_weighted_average_price() \n",
    "data['VWA'] = vwa_values"
   ]
  },
  {
   "cell_type": "code",
   "execution_count": 9,
   "id": "bacbadc9",
   "metadata": {},
   "outputs": [
    {
     "data": {
      "text/plain": [
       "(32756, 10)"
      ]
     },
     "execution_count": 9,
     "metadata": {},
     "output_type": "execute_result"
    }
   ],
   "source": [
    "data.shape"
   ]
  },
  {
   "cell_type": "markdown",
   "id": "770c30c8",
   "metadata": {},
   "source": [
    "### Momentum Indicators"
   ]
  },
  {
   "cell_type": "markdown",
   "id": "42461b97",
   "metadata": {},
   "source": [
    "Imports"
   ]
  },
  {
   "cell_type": "code",
   "execution_count": 10,
   "id": "4edee572",
   "metadata": {},
   "outputs": [],
   "source": [
    "from ta.momentum import AwesomeOscillatorIndicator\n",
    "from ta.momentum import KAMAIndicator\n",
    "from ta.momentum import PercentagePriceOscillator\n",
    "from ta.momentum import PercentageVolumeOscillator\n",
    "from ta.momentum import ROCIndicator\n",
    "from ta.momentum import RSIIndicator\n",
    "from ta.momentum import StochRSIIndicator\n",
    "from ta.momentum import StochasticOscillator\n",
    "from ta.momentum import TSIIndicator\n",
    "from ta.momentum import UltimateOscillator\n",
    "from ta.momentum import WilliamsRIndicator"
   ]
  },
  {
   "cell_type": "markdown",
   "id": "7fb9ccff",
   "metadata": {},
   "source": [
    "Code"
   ]
  },
  {
   "cell_type": "code",
   "execution_count": 11,
   "id": "6d7ebb81",
   "metadata": {},
   "outputs": [],
   "source": [
    "ao_indicator = ta.momentum.AwesomeOscillatorIndicator(data[\"high\"], data[\"low\"])\n",
    "ao_values = ao_indicator.awesome_oscillator()\n",
    "data['AOI'] = ao_values"
   ]
  },
  {
   "cell_type": "code",
   "execution_count": 12,
   "id": "1b15c748",
   "metadata": {},
   "outputs": [],
   "source": [
    "kama_indicator = KAMAIndicator(close=data['close'])\n",
    "kama_values = kama_indicator.kama()\n",
    "data['KAMA'] = kama_values"
   ]
  },
  {
   "cell_type": "code",
   "execution_count": 13,
   "id": "2f94c082",
   "metadata": {},
   "outputs": [],
   "source": [
    "ppo_indicator = PercentagePriceOscillator(close=data['close'])\n",
    "ppo_values = ppo_indicator.ppo()\n",
    "data['PPO'] = ppo_values\n",
    "ppo_signal_values = ppo_indicator.ppo_signal()\n",
    "data['PPO_signal'] = ppo_signal_values"
   ]
  },
  {
   "cell_type": "code",
   "execution_count": 14,
   "id": "4ce9f78c",
   "metadata": {},
   "outputs": [],
   "source": [
    "pvo_indicator = PercentageVolumeOscillator(volume=data['volume'])\n",
    "pvo_values = pvo_indicator.pvo()\n",
    "data['PVO'] = pvo_values\n",
    "pvo_signal_values = pvo_indicator.pvo_signal()\n",
    "data['PVO_signal'] = pvo_signal_values"
   ]
  },
  {
   "cell_type": "code",
   "execution_count": 15,
   "id": "76f9c224",
   "metadata": {},
   "outputs": [],
   "source": [
    "roc_indicator = ROCIndicator(close=data['close'])\n",
    "roc_values = roc_indicator.roc()\n",
    "data['ROC'] = roc_values"
   ]
  },
  {
   "cell_type": "code",
   "execution_count": 16,
   "id": "893d8db4",
   "metadata": {},
   "outputs": [],
   "source": [
    "rsi_indicator = RSIIndicator(close=data['close'])\n",
    "rsi_values = rsi_indicator.rsi()\n",
    "data['rsi'] = rsi_values"
   ]
  },
  {
   "cell_type": "code",
   "execution_count": 17,
   "id": "2d350847",
   "metadata": {},
   "outputs": [],
   "source": [
    "srsi_indicator = StochRSIIndicator(close=data['close'])\n",
    "srsi_values = srsi_indicator.stochrsi()\n",
    "data['stoch_RSI'] = srsi_values"
   ]
  },
  {
   "cell_type": "code",
   "execution_count": 18,
   "id": "85003fd9",
   "metadata": {},
   "outputs": [],
   "source": [
    "so_indicator = StochasticOscillator(high = data[\"high\"], low = data[\"low\"], close = data['close'])\n",
    "so_values = so_indicator.stoch()\n",
    "data[\"StochOscillator\"] = so_values\n",
    "so_signal_values = so_indicator.stoch_signal()\n",
    "data['StochOscillator_signal'] = so_signal_values"
   ]
  },
  {
   "cell_type": "code",
   "execution_count": 19,
   "id": "4b585215",
   "metadata": {},
   "outputs": [],
   "source": [
    "tsi_indicator = TSIIndicator(close=data['close'])\n",
    "tsi_values = tsi_indicator.tsi()\n",
    "data['TSI'] = tsi_values"
   ]
  },
  {
   "cell_type": "code",
   "execution_count": 20,
   "id": "acd12f6c",
   "metadata": {},
   "outputs": [],
   "source": [
    "uo_indicator = UltimateOscillator(high = data[\"high\"], low = data[\"low\"], close = data['close'])\n",
    "uo_values = uo_indicator.ultimate_oscillator()\n",
    "data[\"UltimateOscillator\"] = uo_values"
   ]
  },
  {
   "cell_type": "code",
   "execution_count": 21,
   "id": "ccfcd251",
   "metadata": {},
   "outputs": [],
   "source": [
    "wri_indicator = WilliamsRIndicator(high = data[\"high\"], low = data[\"low\"], close = data['close'])\n",
    "wri_values = wri_indicator.williams_r()\n",
    "data[\"WilliamsRIndicator\"] = wri_values"
   ]
  },
  {
   "cell_type": "code",
   "execution_count": 22,
   "id": "09fff7d1",
   "metadata": {},
   "outputs": [
    {
     "data": {
      "text/plain": [
       "(32756, 24)"
      ]
     },
     "execution_count": 22,
     "metadata": {},
     "output_type": "execute_result"
    }
   ],
   "source": [
    "data.shape"
   ]
  },
  {
   "cell_type": "markdown",
   "id": "f04a07b7",
   "metadata": {},
   "source": [
    "### Volatility Indicator"
   ]
  },
  {
   "cell_type": "markdown",
   "id": "0fb22a20",
   "metadata": {},
   "source": [
    "Imports"
   ]
  },
  {
   "cell_type": "code",
   "execution_count": 23,
   "id": "9e229dd4",
   "metadata": {},
   "outputs": [],
   "source": [
    "from ta.volatility import AverageTrueRange\n",
    "from ta.volatility import BollingerBands\n",
    "from ta.volatility import keltner_channel_wband\n",
    "from ta.volatility import keltner_channel_pband\n",
    "from ta.volatility import keltner_channel_mband\n",
    "from ta.volatility import donchian_channel_lband\n",
    "from ta.volatility import donchian_channel_hband\n",
    "from ta.volatility import donchian_channel_mband\n",
    "from ta.volatility import ulcer_index"
   ]
  },
  {
   "cell_type": "markdown",
   "id": "db23be45",
   "metadata": {},
   "source": [
    "Code"
   ]
  },
  {
   "cell_type": "code",
   "execution_count": 24,
   "id": "5786da09",
   "metadata": {},
   "outputs": [],
   "source": [
    "atr_indicator = AverageTrueRange(high = data[\"high\"], low = data[\"low\"], close = data['close'])\n",
    "atr_values = atr_indicator.average_true_range()\n",
    "data['ATR'] = atr_values"
   ]
  },
  {
   "cell_type": "code",
   "execution_count": 25,
   "id": "cec76b31",
   "metadata": {},
   "outputs": [],
   "source": [
    "bol_indicator = BollingerBands(close = data['close'])\n",
    "bol_values = bol_indicator.bollinger_lband()\n",
    "data['BOL_lband'] = bol_values\n",
    "bol_hband_values = bol_indicator.bollinger_hband()\n",
    "data['BOL_hband'] = bol_hband_values\n",
    "bol_avg_values = bol_indicator.bollinger_mavg()\n",
    "data['BOL_avg'] = bol_avg_values"
   ]
  },
  {
   "cell_type": "code",
   "execution_count": 26,
   "id": "77b15d84",
   "metadata": {},
   "outputs": [],
   "source": [
    "kcw_indicator = keltner_channel_wband(high = data[\"high\"], low = data[\"low\"], close = data['close'])\n",
    "data['KCW'] = kcw_indicator"
   ]
  },
  {
   "cell_type": "code",
   "execution_count": 27,
   "id": "cc1fa59d",
   "metadata": {},
   "outputs": [],
   "source": [
    "kcp_indicator = keltner_channel_pband(high = data[\"high\"], low = data[\"low\"], close = data['close'])\n",
    "data['KCP'] = kcp_indicator"
   ]
  },
  {
   "cell_type": "code",
   "execution_count": 28,
   "id": "446c2ec7",
   "metadata": {},
   "outputs": [],
   "source": [
    "kcm_indicator = keltner_channel_mband(high = data[\"high\"], low = data[\"low\"], close = data['close'])\n",
    "data['KCM'] = kcm_indicator"
   ]
  },
  {
   "cell_type": "code",
   "execution_count": 29,
   "id": "c670695d",
   "metadata": {},
   "outputs": [],
   "source": [
    "dcl_indicator = donchian_channel_lband(high = data[\"high\"], low = data[\"low\"], close = data['close'])\n",
    "data[\"DCL\"] = dcl_indicator"
   ]
  },
  {
   "cell_type": "code",
   "execution_count": 30,
   "id": "40afc5d2",
   "metadata": {},
   "outputs": [],
   "source": [
    "dch_indicator = donchian_channel_hband(high = data[\"high\"], low = data[\"low\"], close = data['close'])\n",
    "data['DCH'] = dch_indicator"
   ]
  },
  {
   "cell_type": "code",
   "execution_count": 31,
   "id": "9d0a4960",
   "metadata": {},
   "outputs": [],
   "source": [
    "dcm_indicator = donchian_channel_mband(high = data[\"high\"], low = data[\"low\"], close = data['close'])\n",
    "data['DCM'] = dcm_indicator"
   ]
  },
  {
   "cell_type": "code",
   "execution_count": 32,
   "id": "301d7236",
   "metadata": {},
   "outputs": [],
   "source": [
    "uli_indicator = ulcer_index(close = data['close'])\n",
    "data['ULI'] = uli_indicator"
   ]
  },
  {
   "cell_type": "code",
   "execution_count": 33,
   "id": "2d669304",
   "metadata": {},
   "outputs": [
    {
     "data": {
      "text/plain": [
       "(32756, 35)"
      ]
     },
     "execution_count": 33,
     "metadata": {},
     "output_type": "execute_result"
    }
   ],
   "source": [
    "data.shape"
   ]
  },
  {
   "cell_type": "markdown",
   "id": "7b96220c",
   "metadata": {},
   "source": [
    "### Trend Indicator"
   ]
  },
  {
   "cell_type": "markdown",
   "id": "b19bddfe",
   "metadata": {},
   "source": [
    "Imports"
   ]
  },
  {
   "cell_type": "code",
   "execution_count": 34,
   "id": "82679781",
   "metadata": {},
   "outputs": [],
   "source": [
    "from ta.trend import ADXIndicator\n",
    "from ta.trend import AroonIndicator\n",
    "from ta.trend import CCIIndicator\n",
    "from ta.trend import DPOIndicator\n",
    "from ta.trend import EMAIndicator\n",
    "from ta.trend import KSTIndicator\n",
    "from ta.trend import MACD\n",
    "from ta.trend import MassIndex\n",
    "from ta.trend import PSARIndicator\n",
    "from ta.trend import SMAIndicator\n",
    "from ta.trend import STCIndicator\n",
    "from ta.trend import TRIXIndicator\n",
    "from ta.trend import VortexIndicator\n",
    "from ta.trend import WMAIndicator"
   ]
  },
  {
   "cell_type": "markdown",
   "id": "b4fbb898",
   "metadata": {},
   "source": [
    "Code"
   ]
  },
  {
   "cell_type": "code",
   "execution_count": 35,
   "id": "ad0da146",
   "metadata": {},
   "outputs": [
    {
     "name": "stderr",
     "output_type": "stream",
     "text": [
      "/Users/ferdinandkrainer/.pyenv/versions/3.10.6/envs/assist_trader/lib/python3.10/site-packages/ta/trend.py:780: RuntimeWarning: invalid value encountered in double_scalars\n",
      "  dip[idx] = 100 * (self._dip[idx] / value)\n",
      "/Users/ferdinandkrainer/.pyenv/versions/3.10.6/envs/assist_trader/lib/python3.10/site-packages/ta/trend.py:785: RuntimeWarning: invalid value encountered in double_scalars\n",
      "  din[idx] = 100 * (self._din[idx] / value)\n"
     ]
    }
   ],
   "source": [
    "data[\"ADX\"] = ADXIndicator(high = data[\"high\"], low = data[\"low\"], close = data['close']).adx()\n",
    "data[\"ADX_neg\"] = ADXIndicator(high = data[\"high\"], low = data[\"low\"], close = data['close']).adx_neg()\n",
    "data[\"ADX_pos\"] = ADXIndicator(high = data[\"high\"], low = data[\"low\"], close = data['close']).adx_pos()"
   ]
  },
  {
   "cell_type": "code",
   "execution_count": 36,
   "id": "f617cb4b",
   "metadata": {},
   "outputs": [],
   "source": [
    "data[\"ARI_down\"] = AroonIndicator(close = data['close']).aroon_down()\n",
    "data[\"ARI\"] = AroonIndicator(close = data['close']).aroon_indicator()\n",
    "data[\"ARI_up\"] = AroonIndicator(close = data['close']).aroon_up()"
   ]
  },
  {
   "cell_type": "code",
   "execution_count": 37,
   "id": "8d1014c2",
   "metadata": {},
   "outputs": [],
   "source": [
    "data[\"CCI\"] = CCIIndicator(high = data[\"high\"], low = data[\"low\"], close = data['close']).cci()"
   ]
  },
  {
   "cell_type": "code",
   "execution_count": 38,
   "id": "c155987b",
   "metadata": {},
   "outputs": [],
   "source": [
    "data[\"DPO\"] = DPOIndicator(close = data['close']).dpo()"
   ]
  },
  {
   "cell_type": "code",
   "execution_count": 39,
   "id": "661ef703",
   "metadata": {},
   "outputs": [],
   "source": [
    "data[\"EMA_14\"] = EMAIndicator(close = data['close'], window=14).ema_indicator()\n",
    "data[\"EMA_20\"] = EMAIndicator(close = data['close'], window=20).ema_indicator()\n",
    "data[\"EMA_50\"] = EMAIndicator(close = data['close'], window=50).ema_indicator()\n",
    "data[\"EMA_100\"] = EMAIndicator(close = data['close'], window=100).ema_indicator()\n",
    "data[\"EMA_200\"] = EMAIndicator(close = data['close'], window=200).ema_indicator()"
   ]
  },
  {
   "cell_type": "code",
   "execution_count": 40,
   "id": "1b5fc659",
   "metadata": {},
   "outputs": [],
   "source": [
    "data[\"KST\"] = KSTIndicator(close = data['close'], roc1= 10, roc2= 15, roc3= 20, roc4= 30,\n",
    "                                  window1= 10, window2= 10, window3= 10, window4= 15, nsig= 9).kst()\n",
    "data[\"KST_diff\"] = KSTIndicator(close = data['close'], roc1= 10, roc2= 15, roc3= 20, roc4= 30,\n",
    "                                  window1= 10, window2= 10, window3= 10, window4= 15, nsig= 9).kst_diff()\n",
    "data[\"KST_sig\"] = KSTIndicator(close = data['close'], roc1= 10, roc2= 15, roc3= 20, roc4= 30,\n",
    "                                  window1= 10, window2= 10, window3= 10, window4= 15, nsig= 9).kst_sig()"
   ]
  },
  {
   "cell_type": "code",
   "execution_count": 41,
   "id": "1136ef24",
   "metadata": {},
   "outputs": [],
   "source": [
    "data[\"MACD_line\"] = MACD(close = data['close'], window_slow= 26, window_fast= 12, window_sign= 9).macd()\n",
    "data[\"MACD_signal\"] = MACD(close = data['close'], window_slow= 26, window_fast= 12, window_sign= 9).macd_signal()"
   ]
  },
  {
   "cell_type": "code",
   "execution_count": 42,
   "id": "74c3ceb4",
   "metadata": {},
   "outputs": [],
   "source": [
    "data[\"MAI\"] = MassIndex(high = data[\"high\"], low = data[\"low\"], window_fast= 9, window_slow= 25).mass_index()"
   ]
  },
  {
   "cell_type": "code",
   "execution_count": 43,
   "id": "0f0df19c",
   "metadata": {},
   "outputs": [],
   "source": [
    "data[\"PSAR\"] = PSARIndicator(high = data[\"high\"], low = data[\"low\"], close = data['close'], step= 0.02, max_step= 0.2).psar()"
   ]
  },
  {
   "cell_type": "code",
   "execution_count": 44,
   "id": "e78fc16a",
   "metadata": {},
   "outputs": [],
   "source": [
    "data[\"SMA_14\"]= SMAIndicator(close = data['close'], window=14).sma_indicator()\n",
    "data[\"SMA_20\"]= SMAIndicator(close = data['close'], window=20).sma_indicator()\n",
    "data[\"SMA_50\"]= SMAIndicator(close = data['close'], window=50).sma_indicator()\n",
    "data[\"SMA_100\"]= SMAIndicator(close = data['close'], window=100).sma_indicator()\n",
    "data[\"SMA_200\"]= SMAIndicator(close = data['close'], window=200).sma_indicator()"
   ]
  },
  {
   "cell_type": "code",
   "execution_count": 45,
   "id": "79298a10",
   "metadata": {},
   "outputs": [],
   "source": [
    "data[\"STC\"]= STCIndicator(close = data['close'], window_slow= 50, window_fast= 23, cycle= 10, smooth1= 3, smooth2= 3).stc()"
   ]
  },
  {
   "cell_type": "code",
   "execution_count": 46,
   "id": "bf49ea39",
   "metadata": {},
   "outputs": [],
   "source": [
    "data[\"TRIX\"]= TRIXIndicator(close = data['close'], window= 15).trix()"
   ]
  },
  {
   "cell_type": "code",
   "execution_count": 47,
   "id": "41730616",
   "metadata": {},
   "outputs": [],
   "source": [
    "data[\"vortex_ind_diff\"] = VortexIndicator(high = data[\"high\"], low = data[\"low\"], close = data['close'], window= 14).vortex_indicator_diff()\n",
    "data[\"vortex_neg\"] = VortexIndicator(high = data[\"high\"], low = data[\"low\"], close = data['close'], window= 14).vortex_indicator_neg()\n",
    "data[\"vortex_pos\"] = VortexIndicator(high = data[\"high\"], low = data[\"low\"], close = data['close'], window= 14).vortex_indicator_pos()"
   ]
  },
  {
   "cell_type": "code",
   "execution_count": 48,
   "id": "ae08258c",
   "metadata": {},
   "outputs": [],
   "source": [
    "data[\"wma_9\"] = WMAIndicator(close = data['close'], window=14).wma()\n",
    "data[\"wma_20\"] = WMAIndicator(close = data['close'], window=20).wma()\n",
    "data[\"wma_50\"] = WMAIndicator(close = data['close'], window=50).wma()\n",
    "data[\"wma_100\"] = WMAIndicator(close = data['close'], window=100).wma()"
   ]
  },
  {
   "cell_type": "code",
   "execution_count": 49,
   "id": "da22d12e",
   "metadata": {},
   "outputs": [
    {
     "data": {
      "text/plain": [
       "(32756, 69)"
      ]
     },
     "execution_count": 49,
     "metadata": {},
     "output_type": "execute_result"
    }
   ],
   "source": [
    "data.shape"
   ]
  },
  {
   "cell_type": "code",
   "execution_count": 50,
   "id": "267842b6",
   "metadata": {},
   "outputs": [
    {
     "data": {
      "text/html": [
       "<div>\n",
       "<style scoped>\n",
       "    .dataframe tbody tr th:only-of-type {\n",
       "        vertical-align: middle;\n",
       "    }\n",
       "\n",
       "    .dataframe tbody tr th {\n",
       "        vertical-align: top;\n",
       "    }\n",
       "\n",
       "    .dataframe thead th {\n",
       "        text-align: right;\n",
       "    }\n",
       "</style>\n",
       "<table border=\"1\" class=\"dataframe\">\n",
       "  <thead>\n",
       "    <tr style=\"text-align: right;\">\n",
       "      <th></th>\n",
       "      <th>timestamp</th>\n",
       "      <th>open</th>\n",
       "      <th>high</th>\n",
       "      <th>low</th>\n",
       "      <th>close</th>\n",
       "      <th>volume</th>\n",
       "      <th>CMF</th>\n",
       "      <th>FII</th>\n",
       "      <th>MFI</th>\n",
       "      <th>VWA</th>\n",
       "      <th>...</th>\n",
       "      <th>SMA_200</th>\n",
       "      <th>STC</th>\n",
       "      <th>TRIX</th>\n",
       "      <th>vortex_ind_diff</th>\n",
       "      <th>vortex_neg</th>\n",
       "      <th>vortex_pos</th>\n",
       "      <th>wma_9</th>\n",
       "      <th>wma_20</th>\n",
       "      <th>wma_50</th>\n",
       "      <th>wma_100</th>\n",
       "    </tr>\n",
       "  </thead>\n",
       "  <tbody>\n",
       "    <tr>\n",
       "      <th>0</th>\n",
       "      <td>2019-09-08 20:00:00</td>\n",
       "      <td>10000.00</td>\n",
       "      <td>10000.00</td>\n",
       "      <td>10000.00</td>\n",
       "      <td>10000.00</td>\n",
       "      <td>0.002</td>\n",
       "      <td>NaN</td>\n",
       "      <td>NaN</td>\n",
       "      <td>NaN</td>\n",
       "      <td>NaN</td>\n",
       "      <td>...</td>\n",
       "      <td>NaN</td>\n",
       "      <td>NaN</td>\n",
       "      <td>NaN</td>\n",
       "      <td>NaN</td>\n",
       "      <td>NaN</td>\n",
       "      <td>NaN</td>\n",
       "      <td>NaN</td>\n",
       "      <td>NaN</td>\n",
       "      <td>NaN</td>\n",
       "      <td>NaN</td>\n",
       "    </tr>\n",
       "    <tr>\n",
       "      <th>1</th>\n",
       "      <td>2019-09-08 21:00:00</td>\n",
       "      <td>10000.00</td>\n",
       "      <td>10000.00</td>\n",
       "      <td>10000.00</td>\n",
       "      <td>10000.00</td>\n",
       "      <td>0.000</td>\n",
       "      <td>NaN</td>\n",
       "      <td>NaN</td>\n",
       "      <td>NaN</td>\n",
       "      <td>NaN</td>\n",
       "      <td>...</td>\n",
       "      <td>NaN</td>\n",
       "      <td>NaN</td>\n",
       "      <td>NaN</td>\n",
       "      <td>NaN</td>\n",
       "      <td>NaN</td>\n",
       "      <td>NaN</td>\n",
       "      <td>NaN</td>\n",
       "      <td>NaN</td>\n",
       "      <td>NaN</td>\n",
       "      <td>NaN</td>\n",
       "    </tr>\n",
       "    <tr>\n",
       "      <th>2</th>\n",
       "      <td>2019-09-08 22:00:00</td>\n",
       "      <td>10344.77</td>\n",
       "      <td>10357.53</td>\n",
       "      <td>10337.43</td>\n",
       "      <td>10340.12</td>\n",
       "      <td>471.659</td>\n",
       "      <td>NaN</td>\n",
       "      <td>NaN</td>\n",
       "      <td>NaN</td>\n",
       "      <td>NaN</td>\n",
       "      <td>...</td>\n",
       "      <td>NaN</td>\n",
       "      <td>NaN</td>\n",
       "      <td>NaN</td>\n",
       "      <td>NaN</td>\n",
       "      <td>NaN</td>\n",
       "      <td>NaN</td>\n",
       "      <td>NaN</td>\n",
       "      <td>NaN</td>\n",
       "      <td>NaN</td>\n",
       "      <td>NaN</td>\n",
       "    </tr>\n",
       "    <tr>\n",
       "      <th>3</th>\n",
       "      <td>2019-09-08 23:00:00</td>\n",
       "      <td>10340.12</td>\n",
       "      <td>10368.64</td>\n",
       "      <td>10334.54</td>\n",
       "      <td>10351.42</td>\n",
       "      <td>583.271</td>\n",
       "      <td>NaN</td>\n",
       "      <td>NaN</td>\n",
       "      <td>NaN</td>\n",
       "      <td>NaN</td>\n",
       "      <td>...</td>\n",
       "      <td>NaN</td>\n",
       "      <td>NaN</td>\n",
       "      <td>NaN</td>\n",
       "      <td>NaN</td>\n",
       "      <td>NaN</td>\n",
       "      <td>NaN</td>\n",
       "      <td>NaN</td>\n",
       "      <td>NaN</td>\n",
       "      <td>NaN</td>\n",
       "      <td>NaN</td>\n",
       "    </tr>\n",
       "    <tr>\n",
       "      <th>4</th>\n",
       "      <td>2019-09-09 00:00:00</td>\n",
       "      <td>10351.42</td>\n",
       "      <td>10391.90</td>\n",
       "      <td>10324.77</td>\n",
       "      <td>10391.90</td>\n",
       "      <td>689.759</td>\n",
       "      <td>NaN</td>\n",
       "      <td>NaN</td>\n",
       "      <td>NaN</td>\n",
       "      <td>NaN</td>\n",
       "      <td>...</td>\n",
       "      <td>NaN</td>\n",
       "      <td>NaN</td>\n",
       "      <td>NaN</td>\n",
       "      <td>NaN</td>\n",
       "      <td>NaN</td>\n",
       "      <td>NaN</td>\n",
       "      <td>NaN</td>\n",
       "      <td>NaN</td>\n",
       "      <td>NaN</td>\n",
       "      <td>NaN</td>\n",
       "    </tr>\n",
       "    <tr>\n",
       "      <th>...</th>\n",
       "      <td>...</td>\n",
       "      <td>...</td>\n",
       "      <td>...</td>\n",
       "      <td>...</td>\n",
       "      <td>...</td>\n",
       "      <td>...</td>\n",
       "      <td>...</td>\n",
       "      <td>...</td>\n",
       "      <td>...</td>\n",
       "      <td>...</td>\n",
       "      <td>...</td>\n",
       "      <td>...</td>\n",
       "      <td>...</td>\n",
       "      <td>...</td>\n",
       "      <td>...</td>\n",
       "      <td>...</td>\n",
       "      <td>...</td>\n",
       "      <td>...</td>\n",
       "      <td>...</td>\n",
       "      <td>...</td>\n",
       "      <td>...</td>\n",
       "    </tr>\n",
       "    <tr>\n",
       "      <th>32751</th>\n",
       "      <td>2023-06-03 20:00:00</td>\n",
       "      <td>27239.40</td>\n",
       "      <td>27246.40</td>\n",
       "      <td>27101.00</td>\n",
       "      <td>27147.60</td>\n",
       "      <td>15130.376</td>\n",
       "      <td>-0.048901</td>\n",
       "      <td>45306.477416</td>\n",
       "      <td>59.148253</td>\n",
       "      <td>27189.586323</td>\n",
       "      <td>...</td>\n",
       "      <td>27202.5725</td>\n",
       "      <td>61.706651</td>\n",
       "      <td>0.016418</td>\n",
       "      <td>0.065341</td>\n",
       "      <td>0.917674</td>\n",
       "      <td>0.983015</td>\n",
       "      <td>27175.009524</td>\n",
       "      <td>27168.372381</td>\n",
       "      <td>27127.760392</td>\n",
       "      <td>27073.676970</td>\n",
       "    </tr>\n",
       "    <tr>\n",
       "      <th>32752</th>\n",
       "      <td>2023-06-03 21:00:00</td>\n",
       "      <td>27147.70</td>\n",
       "      <td>27173.70</td>\n",
       "      <td>27113.90</td>\n",
       "      <td>27138.80</td>\n",
       "      <td>6229.878</td>\n",
       "      <td>-0.075151</td>\n",
       "      <td>31002.276871</td>\n",
       "      <td>58.559862</td>\n",
       "      <td>27189.451257</td>\n",
       "      <td>...</td>\n",
       "      <td>27206.0505</td>\n",
       "      <td>38.302308</td>\n",
       "      <td>0.015782</td>\n",
       "      <td>0.031675</td>\n",
       "      <td>0.984213</td>\n",
       "      <td>1.015887</td>\n",
       "      <td>27171.560000</td>\n",
       "      <td>27165.705238</td>\n",
       "      <td>27130.293333</td>\n",
       "      <td>27073.819644</td>\n",
       "    </tr>\n",
       "    <tr>\n",
       "      <th>32753</th>\n",
       "      <td>2023-06-03 22:00:00</td>\n",
       "      <td>27138.90</td>\n",
       "      <td>27153.60</td>\n",
       "      <td>27000.00</td>\n",
       "      <td>27084.90</td>\n",
       "      <td>15389.644</td>\n",
       "      <td>-0.042819</td>\n",
       "      <td>-91926.878625</td>\n",
       "      <td>49.242500</td>\n",
       "      <td>27175.830184</td>\n",
       "      <td>...</td>\n",
       "      <td>27209.2155</td>\n",
       "      <td>19.151154</td>\n",
       "      <td>0.014471</td>\n",
       "      <td>-0.113904</td>\n",
       "      <td>1.006104</td>\n",
       "      <td>0.892200</td>\n",
       "      <td>27161.040952</td>\n",
       "      <td>27158.451429</td>\n",
       "      <td>27130.667137</td>\n",
       "      <td>27072.988198</td>\n",
       "    </tr>\n",
       "    <tr>\n",
       "      <th>32754</th>\n",
       "      <td>2023-06-03 23:00:00</td>\n",
       "      <td>27084.90</td>\n",
       "      <td>27119.50</td>\n",
       "      <td>27042.00</td>\n",
       "      <td>27052.70</td>\n",
       "      <td>7760.747</td>\n",
       "      <td>-0.045307</td>\n",
       "      <td>-114493.903593</td>\n",
       "      <td>43.575625</td>\n",
       "      <td>27168.759575</td>\n",
       "      <td>...</td>\n",
       "      <td>27212.3255</td>\n",
       "      <td>9.575577</td>\n",
       "      <td>0.012502</td>\n",
       "      <td>-0.173782</td>\n",
       "      <td>1.079289</td>\n",
       "      <td>0.905507</td>\n",
       "      <td>27146.839048</td>\n",
       "      <td>27148.811429</td>\n",
       "      <td>27129.670745</td>\n",
       "      <td>27071.634000</td>\n",
       "    </tr>\n",
       "    <tr>\n",
       "      <th>32755</th>\n",
       "      <td>2023-06-04 00:00:00</td>\n",
       "      <td>27052.80</td>\n",
       "      <td>27069.30</td>\n",
       "      <td>26900.00</td>\n",
       "      <td>26990.00</td>\n",
       "      <td>18405.196</td>\n",
       "      <td>-0.030499</td>\n",
       "      <td>-262995.601537</td>\n",
       "      <td>38.631681</td>\n",
       "      <td>27142.897792</td>\n",
       "      <td>...</td>\n",
       "      <td>27214.6260</td>\n",
       "      <td>4.787789</td>\n",
       "      <td>0.009703</td>\n",
       "      <td>-0.291848</td>\n",
       "      <td>1.094035</td>\n",
       "      <td>0.802186</td>\n",
       "      <td>27125.388571</td>\n",
       "      <td>27133.696190</td>\n",
       "      <td>27126.143216</td>\n",
       "      <td>27069.165782</td>\n",
       "    </tr>\n",
       "  </tbody>\n",
       "</table>\n",
       "<p>32756 rows × 69 columns</p>\n",
       "</div>"
      ],
      "text/plain": [
       "                 timestamp      open      high       low     close     volume  \\\n",
       "0      2019-09-08 20:00:00  10000.00  10000.00  10000.00  10000.00      0.002   \n",
       "1      2019-09-08 21:00:00  10000.00  10000.00  10000.00  10000.00      0.000   \n",
       "2      2019-09-08 22:00:00  10344.77  10357.53  10337.43  10340.12    471.659   \n",
       "3      2019-09-08 23:00:00  10340.12  10368.64  10334.54  10351.42    583.271   \n",
       "4      2019-09-09 00:00:00  10351.42  10391.90  10324.77  10391.90    689.759   \n",
       "...                    ...       ...       ...       ...       ...        ...   \n",
       "32751  2023-06-03 20:00:00  27239.40  27246.40  27101.00  27147.60  15130.376   \n",
       "32752  2023-06-03 21:00:00  27147.70  27173.70  27113.90  27138.80   6229.878   \n",
       "32753  2023-06-03 22:00:00  27138.90  27153.60  27000.00  27084.90  15389.644   \n",
       "32754  2023-06-03 23:00:00  27084.90  27119.50  27042.00  27052.70   7760.747   \n",
       "32755  2023-06-04 00:00:00  27052.80  27069.30  26900.00  26990.00  18405.196   \n",
       "\n",
       "            CMF            FII        MFI           VWA  ...     SMA_200  \\\n",
       "0           NaN            NaN        NaN           NaN  ...         NaN   \n",
       "1           NaN            NaN        NaN           NaN  ...         NaN   \n",
       "2           NaN            NaN        NaN           NaN  ...         NaN   \n",
       "3           NaN            NaN        NaN           NaN  ...         NaN   \n",
       "4           NaN            NaN        NaN           NaN  ...         NaN   \n",
       "...         ...            ...        ...           ...  ...         ...   \n",
       "32751 -0.048901   45306.477416  59.148253  27189.586323  ...  27202.5725   \n",
       "32752 -0.075151   31002.276871  58.559862  27189.451257  ...  27206.0505   \n",
       "32753 -0.042819  -91926.878625  49.242500  27175.830184  ...  27209.2155   \n",
       "32754 -0.045307 -114493.903593  43.575625  27168.759575  ...  27212.3255   \n",
       "32755 -0.030499 -262995.601537  38.631681  27142.897792  ...  27214.6260   \n",
       "\n",
       "             STC      TRIX  vortex_ind_diff  vortex_neg  vortex_pos  \\\n",
       "0            NaN       NaN              NaN         NaN         NaN   \n",
       "1            NaN       NaN              NaN         NaN         NaN   \n",
       "2            NaN       NaN              NaN         NaN         NaN   \n",
       "3            NaN       NaN              NaN         NaN         NaN   \n",
       "4            NaN       NaN              NaN         NaN         NaN   \n",
       "...          ...       ...              ...         ...         ...   \n",
       "32751  61.706651  0.016418         0.065341    0.917674    0.983015   \n",
       "32752  38.302308  0.015782         0.031675    0.984213    1.015887   \n",
       "32753  19.151154  0.014471        -0.113904    1.006104    0.892200   \n",
       "32754   9.575577  0.012502        -0.173782    1.079289    0.905507   \n",
       "32755   4.787789  0.009703        -0.291848    1.094035    0.802186   \n",
       "\n",
       "              wma_9        wma_20        wma_50       wma_100  \n",
       "0               NaN           NaN           NaN           NaN  \n",
       "1               NaN           NaN           NaN           NaN  \n",
       "2               NaN           NaN           NaN           NaN  \n",
       "3               NaN           NaN           NaN           NaN  \n",
       "4               NaN           NaN           NaN           NaN  \n",
       "...             ...           ...           ...           ...  \n",
       "32751  27175.009524  27168.372381  27127.760392  27073.676970  \n",
       "32752  27171.560000  27165.705238  27130.293333  27073.819644  \n",
       "32753  27161.040952  27158.451429  27130.667137  27072.988198  \n",
       "32754  27146.839048  27148.811429  27129.670745  27071.634000  \n",
       "32755  27125.388571  27133.696190  27126.143216  27069.165782  \n",
       "\n",
       "[32756 rows x 69 columns]"
      ]
     },
     "execution_count": 50,
     "metadata": {},
     "output_type": "execute_result"
    }
   ],
   "source": [
    "data"
   ]
  },
  {
   "cell_type": "markdown",
   "id": "1a1c15f8",
   "metadata": {},
   "source": [
    "## Merging Tables"
   ]
  },
  {
   "cell_type": "markdown",
   "id": "d6853ea2",
   "metadata": {},
   "source": [
    "### Merging Inflation rate to Bitcoin"
   ]
  },
  {
   "cell_type": "markdown",
   "id": "6eaa20a7",
   "metadata": {},
   "source": [
    "Inflation rate dataset"
   ]
  },
  {
   "cell_type": "code",
   "execution_count": 51,
   "id": "9c96ee45",
   "metadata": {},
   "outputs": [],
   "source": [
    "data_inf_rt = pd.read_csv(\"../raw_data/SP500_price.csv\")\n",
    "data_inf_rt = data_inf_rt.dropna()"
   ]
  },
  {
   "cell_type": "code",
   "execution_count": 52,
   "id": "4fc1f01b",
   "metadata": {},
   "outputs": [],
   "source": [
    "data_inf_rt[\"Date\"] = pd.to_datetime(data_inf_rt[\"Date\"], format = '%b %d, %Y')"
   ]
  },
  {
   "cell_type": "code",
   "execution_count": 53,
   "id": "cb110c42",
   "metadata": {},
   "outputs": [],
   "source": [
    "data_inf_rt = data_inf_rt.drop([\"Open\", \"High\", \"Low\", \"Adj Close**\", \"Volume\"], axis=1)"
   ]
  },
  {
   "cell_type": "markdown",
   "id": "ea45909e",
   "metadata": {},
   "source": [
    "Big Dataset"
   ]
  },
  {
   "cell_type": "code",
   "execution_count": 54,
   "id": "b20127f1",
   "metadata": {},
   "outputs": [],
   "source": [
    "data[\"Date\"] = data[\"timestamp\"]\n",
    "data[\"Date\"]= pd.to_datetime(data[\"Date\"]).dt.date\n",
    "data[\"Date\"]= pd.to_datetime(data[\"Date\"])"
   ]
  },
  {
   "cell_type": "markdown",
   "id": "5e0fdc6f",
   "metadata": {},
   "source": [
    "Merging Datasets"
   ]
  },
  {
   "cell_type": "code",
   "execution_count": 55,
   "id": "86cf7702",
   "metadata": {},
   "outputs": [],
   "source": [
    "merged_df_sp = pd.merge(data, data_inf_rt, on=['Date', 'Date'], how='left')"
   ]
  },
  {
   "cell_type": "code",
   "execution_count": 56,
   "id": "9d2797a8",
   "metadata": {},
   "outputs": [],
   "source": [
    "data = merged_df_sp.drop(['Date'],axis = 1)"
   ]
  },
  {
   "cell_type": "markdown",
   "id": "ceb313da",
   "metadata": {},
   "source": [
    "### Merging Interest rate (US) to Bitcoin"
   ]
  },
  {
   "cell_type": "markdown",
   "id": "ac07da5a",
   "metadata": {},
   "source": [
    "Interest rate dataset"
   ]
  },
  {
   "cell_type": "code",
   "execution_count": 57,
   "id": "ac45fa1d",
   "metadata": {},
   "outputs": [],
   "source": [
    "data_int_us = pd.read_csv(\"../raw_data/historical_country_United_States_indicator_Interest_Rate.csv\")"
   ]
  },
  {
   "cell_type": "code",
   "execution_count": 58,
   "id": "7bae3ca3",
   "metadata": {},
   "outputs": [],
   "source": [
    "data_int_us.drop(columns=[\"Category\", \"Country\", \"Frequency\", \"HistoricalDataSymbol\", \"LastUpdate\"], inplace=True)"
   ]
  },
  {
   "cell_type": "code",
   "execution_count": 59,
   "id": "68e39741",
   "metadata": {},
   "outputs": [],
   "source": [
    "data_int_us = data_int_us.rename(columns={'Value': 'Interest_Rate'})"
   ]
  },
  {
   "cell_type": "code",
   "execution_count": 60,
   "id": "ced5668e",
   "metadata": {},
   "outputs": [],
   "source": [
    "data_int_us['DateTime'] = pd.to_datetime(data_int_us['DateTime'])"
   ]
  },
  {
   "cell_type": "code",
   "execution_count": 61,
   "id": "4a3a8f0e",
   "metadata": {},
   "outputs": [],
   "source": [
    "#data_int_us['datetime_M'] = data_int_us['DateTime'].dt.to_period('d').dt.strftime('%Y-%m-%d')"
   ]
  },
  {
   "cell_type": "markdown",
   "id": "dc7dc722",
   "metadata": {},
   "source": [
    "Big dataset"
   ]
  },
  {
   "cell_type": "code",
   "execution_count": 62,
   "id": "71dd3bdc",
   "metadata": {},
   "outputs": [],
   "source": [
    "data['timestamp'] = pd.to_datetime(data['timestamp'])"
   ]
  },
  {
   "cell_type": "code",
   "execution_count": 63,
   "id": "a5dac4eb",
   "metadata": {},
   "outputs": [],
   "source": [
    "data['datetime_d'] = data['timestamp'].dt.to_period('d').dt.strftime('%Y-%m-%d')"
   ]
  },
  {
   "cell_type": "markdown",
   "id": "96a423e9",
   "metadata": {},
   "source": [
    "Merging"
   ]
  },
  {
   "cell_type": "code",
   "execution_count": 64,
   "id": "ac044f9d",
   "metadata": {},
   "outputs": [],
   "source": [
    "data['datetime_d'] = pd.to_datetime(data['datetime_d'])"
   ]
  },
  {
   "cell_type": "code",
   "execution_count": 65,
   "id": "90ce9198",
   "metadata": {},
   "outputs": [],
   "source": [
    "data_int_us = data_int_us[data_int_us['DateTime'] > '2019-08-08']"
   ]
  },
  {
   "cell_type": "code",
   "execution_count": 66,
   "id": "1f118bbb",
   "metadata": {},
   "outputs": [],
   "source": [
    "data = data.merge(data_int_us, how='left', left_on='datetime_d', right_on='DateTime')"
   ]
  },
  {
   "cell_type": "code",
   "execution_count": 67,
   "id": "9f1d8893",
   "metadata": {},
   "outputs": [],
   "source": [
    "for i, row in data.iterrows():\n",
    "    \n",
    "    fill_interest_rate = 2.25\n",
    "    \n",
    "    \n",
    "    "
   ]
  },
  {
   "cell_type": "code",
   "execution_count": 68,
   "id": "87315d4f",
   "metadata": {},
   "outputs": [],
   "source": [
    "import math"
   ]
  },
  {
   "cell_type": "code",
   "execution_count": 69,
   "id": "140897bd",
   "metadata": {},
   "outputs": [
    {
     "data": {
      "text/html": [
       "<div>\n",
       "<style scoped>\n",
       "    .dataframe tbody tr th:only-of-type {\n",
       "        vertical-align: middle;\n",
       "    }\n",
       "\n",
       "    .dataframe tbody tr th {\n",
       "        vertical-align: top;\n",
       "    }\n",
       "\n",
       "    .dataframe thead th {\n",
       "        text-align: right;\n",
       "    }\n",
       "</style>\n",
       "<table border=\"1\" class=\"dataframe\">\n",
       "  <thead>\n",
       "    <tr style=\"text-align: right;\">\n",
       "      <th></th>\n",
       "      <th>timestamp</th>\n",
       "      <th>open</th>\n",
       "      <th>high</th>\n",
       "      <th>low</th>\n",
       "      <th>close</th>\n",
       "      <th>volume</th>\n",
       "      <th>CMF</th>\n",
       "      <th>FII</th>\n",
       "      <th>MFI</th>\n",
       "      <th>VWA</th>\n",
       "      <th>...</th>\n",
       "      <th>vortex_neg</th>\n",
       "      <th>vortex_pos</th>\n",
       "      <th>wma_9</th>\n",
       "      <th>wma_20</th>\n",
       "      <th>wma_50</th>\n",
       "      <th>wma_100</th>\n",
       "      <th>Close*</th>\n",
       "      <th>datetime_d</th>\n",
       "      <th>DateTime</th>\n",
       "      <th>Interest_Rate</th>\n",
       "    </tr>\n",
       "  </thead>\n",
       "  <tbody>\n",
       "    <tr>\n",
       "      <th>0</th>\n",
       "      <td>2019-09-08 20:00:00</td>\n",
       "      <td>10000.0</td>\n",
       "      <td>10000.0</td>\n",
       "      <td>10000.0</td>\n",
       "      <td>10000.0</td>\n",
       "      <td>0.002</td>\n",
       "      <td>NaN</td>\n",
       "      <td>NaN</td>\n",
       "      <td>NaN</td>\n",
       "      <td>NaN</td>\n",
       "      <td>...</td>\n",
       "      <td>NaN</td>\n",
       "      <td>NaN</td>\n",
       "      <td>NaN</td>\n",
       "      <td>NaN</td>\n",
       "      <td>NaN</td>\n",
       "      <td>NaN</td>\n",
       "      <td>NaN</td>\n",
       "      <td>2019-09-08</td>\n",
       "      <td>NaT</td>\n",
       "      <td>NaN</td>\n",
       "    </tr>\n",
       "  </tbody>\n",
       "</table>\n",
       "<p>1 rows × 73 columns</p>\n",
       "</div>"
      ],
      "text/plain": [
       "            timestamp     open     high      low    close  volume  CMF  FII  \\\n",
       "0 2019-09-08 20:00:00  10000.0  10000.0  10000.0  10000.0   0.002  NaN  NaN   \n",
       "\n",
       "   MFI  VWA  ...  vortex_neg  vortex_pos  wma_9  wma_20  wma_50  wma_100  \\\n",
       "0  NaN  NaN  ...         NaN         NaN    NaN     NaN     NaN      NaN   \n",
       "\n",
       "   Close*  datetime_d  DateTime  Interest_Rate  \n",
       "0     NaN  2019-09-08       NaT            NaN  \n",
       "\n",
       "[1 rows x 73 columns]"
      ]
     },
     "execution_count": 69,
     "metadata": {},
     "output_type": "execute_result"
    }
   ],
   "source": [
    "data.head(1)"
   ]
  },
  {
   "cell_type": "code",
   "execution_count": 70,
   "id": "38ead521",
   "metadata": {},
   "outputs": [],
   "source": [
    "int_list = data['Interest_Rate'].tolist()\n",
    "\n",
    "\n",
    "for i in range(len(int_list)):\n",
    "    \n",
    "    if i > 0 and math.isnan(int_list[i]):\n",
    "        \n",
    "        int_list[i] = int_list[i-1]\n",
    "        \n",
    "for i in range(len(int_list)):\n",
    "    \n",
    "    if math.isnan(int_list[i]):\n",
    "        \n",
    "        int_list[i] = 2.25"
   ]
  },
  {
   "cell_type": "code",
   "execution_count": 71,
   "id": "92c89e19",
   "metadata": {},
   "outputs": [],
   "source": [
    "data['Interest_rates_new'] = int_list"
   ]
  },
  {
   "cell_type": "code",
   "execution_count": 72,
   "id": "f1d7b69a",
   "metadata": {},
   "outputs": [],
   "source": [
    "data = data.drop([\"datetime_d\", \"DateTime\"], axis = 1)"
   ]
  },
  {
   "cell_type": "markdown",
   "id": "d7d06b89",
   "metadata": {},
   "source": [
    "### Merging Interest rate to Bitcoin"
   ]
  },
  {
   "cell_type": "markdown",
   "id": "37853c97",
   "metadata": {},
   "source": [
    "Inflation rate dataset"
   ]
  },
  {
   "cell_type": "code",
   "execution_count": 73,
   "id": "2ef0a70c",
   "metadata": {},
   "outputs": [],
   "source": [
    "data_inf_us = pd.read_csv(\"../raw_data/historical_country_United_States_indicator_Inflation_Rate.csv\")"
   ]
  },
  {
   "cell_type": "code",
   "execution_count": 74,
   "id": "1e49ecb1",
   "metadata": {},
   "outputs": [],
   "source": [
    "data_inf_us['DateTime'] = pd.to_datetime(data_inf_us['DateTime'])"
   ]
  },
  {
   "cell_type": "code",
   "execution_count": 75,
   "id": "af59afda",
   "metadata": {},
   "outputs": [],
   "source": [
    "data_inf_us['datetime_M'] = data_inf_us['DateTime'].dt.to_period('M').dt.strftime('%Y-%m')"
   ]
  },
  {
   "cell_type": "markdown",
   "id": "d1b63dcc",
   "metadata": {},
   "source": [
    "Big Dataset"
   ]
  },
  {
   "cell_type": "code",
   "execution_count": 76,
   "id": "6cc813f3",
   "metadata": {},
   "outputs": [],
   "source": [
    "data['datetime_M'] = data['timestamp'].dt.to_period('M').dt.strftime('%Y-%m')"
   ]
  },
  {
   "cell_type": "markdown",
   "id": "e70db8d6",
   "metadata": {},
   "source": [
    "Merging"
   ]
  },
  {
   "cell_type": "code",
   "execution_count": 77,
   "id": "bb0394e2",
   "metadata": {},
   "outputs": [],
   "source": [
    "data = pd.merge(data, data_inf_us, on=['datetime_M', 'datetime_M'], how='left')"
   ]
  },
  {
   "cell_type": "code",
   "execution_count": 78,
   "id": "fa9014f7",
   "metadata": {},
   "outputs": [
    {
     "data": {
      "text/html": [
       "<div>\n",
       "<style scoped>\n",
       "    .dataframe tbody tr th:only-of-type {\n",
       "        vertical-align: middle;\n",
       "    }\n",
       "\n",
       "    .dataframe tbody tr th {\n",
       "        vertical-align: top;\n",
       "    }\n",
       "\n",
       "    .dataframe thead th {\n",
       "        text-align: right;\n",
       "    }\n",
       "</style>\n",
       "<table border=\"1\" class=\"dataframe\">\n",
       "  <thead>\n",
       "    <tr style=\"text-align: right;\">\n",
       "      <th></th>\n",
       "      <th>timestamp</th>\n",
       "      <th>open</th>\n",
       "      <th>high</th>\n",
       "      <th>low</th>\n",
       "      <th>close</th>\n",
       "      <th>volume</th>\n",
       "      <th>CMF</th>\n",
       "      <th>FII</th>\n",
       "      <th>MFI</th>\n",
       "      <th>VWA</th>\n",
       "      <th>...</th>\n",
       "      <th>Interest_Rate</th>\n",
       "      <th>Interest_rates_new</th>\n",
       "      <th>datetime_M</th>\n",
       "      <th>Country</th>\n",
       "      <th>Category</th>\n",
       "      <th>DateTime</th>\n",
       "      <th>Value</th>\n",
       "      <th>Frequency</th>\n",
       "      <th>HistoricalDataSymbol</th>\n",
       "      <th>LastUpdate</th>\n",
       "    </tr>\n",
       "  </thead>\n",
       "  <tbody>\n",
       "    <tr>\n",
       "      <th>0</th>\n",
       "      <td>2019-09-08 20:00:00</td>\n",
       "      <td>10000.00</td>\n",
       "      <td>10000.00</td>\n",
       "      <td>10000.00</td>\n",
       "      <td>10000.00</td>\n",
       "      <td>0.002</td>\n",
       "      <td>NaN</td>\n",
       "      <td>NaN</td>\n",
       "      <td>NaN</td>\n",
       "      <td>NaN</td>\n",
       "      <td>...</td>\n",
       "      <td>NaN</td>\n",
       "      <td>2.25</td>\n",
       "      <td>2019-09</td>\n",
       "      <td>United States</td>\n",
       "      <td>Inflation Rate</td>\n",
       "      <td>2019-09-30</td>\n",
       "      <td>1.7</td>\n",
       "      <td>Monthly</td>\n",
       "      <td>CPI YOY</td>\n",
       "      <td>2019-11-13T13:30:00</td>\n",
       "    </tr>\n",
       "    <tr>\n",
       "      <th>1</th>\n",
       "      <td>2019-09-08 21:00:00</td>\n",
       "      <td>10000.00</td>\n",
       "      <td>10000.00</td>\n",
       "      <td>10000.00</td>\n",
       "      <td>10000.00</td>\n",
       "      <td>0.000</td>\n",
       "      <td>NaN</td>\n",
       "      <td>NaN</td>\n",
       "      <td>NaN</td>\n",
       "      <td>NaN</td>\n",
       "      <td>...</td>\n",
       "      <td>NaN</td>\n",
       "      <td>2.25</td>\n",
       "      <td>2019-09</td>\n",
       "      <td>United States</td>\n",
       "      <td>Inflation Rate</td>\n",
       "      <td>2019-09-30</td>\n",
       "      <td>1.7</td>\n",
       "      <td>Monthly</td>\n",
       "      <td>CPI YOY</td>\n",
       "      <td>2019-11-13T13:30:00</td>\n",
       "    </tr>\n",
       "    <tr>\n",
       "      <th>2</th>\n",
       "      <td>2019-09-08 22:00:00</td>\n",
       "      <td>10344.77</td>\n",
       "      <td>10357.53</td>\n",
       "      <td>10337.43</td>\n",
       "      <td>10340.12</td>\n",
       "      <td>471.659</td>\n",
       "      <td>NaN</td>\n",
       "      <td>NaN</td>\n",
       "      <td>NaN</td>\n",
       "      <td>NaN</td>\n",
       "      <td>...</td>\n",
       "      <td>NaN</td>\n",
       "      <td>2.25</td>\n",
       "      <td>2019-09</td>\n",
       "      <td>United States</td>\n",
       "      <td>Inflation Rate</td>\n",
       "      <td>2019-09-30</td>\n",
       "      <td>1.7</td>\n",
       "      <td>Monthly</td>\n",
       "      <td>CPI YOY</td>\n",
       "      <td>2019-11-13T13:30:00</td>\n",
       "    </tr>\n",
       "    <tr>\n",
       "      <th>3</th>\n",
       "      <td>2019-09-08 23:00:00</td>\n",
       "      <td>10340.12</td>\n",
       "      <td>10368.64</td>\n",
       "      <td>10334.54</td>\n",
       "      <td>10351.42</td>\n",
       "      <td>583.271</td>\n",
       "      <td>NaN</td>\n",
       "      <td>NaN</td>\n",
       "      <td>NaN</td>\n",
       "      <td>NaN</td>\n",
       "      <td>...</td>\n",
       "      <td>NaN</td>\n",
       "      <td>2.25</td>\n",
       "      <td>2019-09</td>\n",
       "      <td>United States</td>\n",
       "      <td>Inflation Rate</td>\n",
       "      <td>2019-09-30</td>\n",
       "      <td>1.7</td>\n",
       "      <td>Monthly</td>\n",
       "      <td>CPI YOY</td>\n",
       "      <td>2019-11-13T13:30:00</td>\n",
       "    </tr>\n",
       "    <tr>\n",
       "      <th>4</th>\n",
       "      <td>2019-09-09 00:00:00</td>\n",
       "      <td>10351.42</td>\n",
       "      <td>10391.90</td>\n",
       "      <td>10324.77</td>\n",
       "      <td>10391.90</td>\n",
       "      <td>689.759</td>\n",
       "      <td>NaN</td>\n",
       "      <td>NaN</td>\n",
       "      <td>NaN</td>\n",
       "      <td>NaN</td>\n",
       "      <td>...</td>\n",
       "      <td>NaN</td>\n",
       "      <td>2.25</td>\n",
       "      <td>2019-09</td>\n",
       "      <td>United States</td>\n",
       "      <td>Inflation Rate</td>\n",
       "      <td>2019-09-30</td>\n",
       "      <td>1.7</td>\n",
       "      <td>Monthly</td>\n",
       "      <td>CPI YOY</td>\n",
       "      <td>2019-11-13T13:30:00</td>\n",
       "    </tr>\n",
       "    <tr>\n",
       "      <th>...</th>\n",
       "      <td>...</td>\n",
       "      <td>...</td>\n",
       "      <td>...</td>\n",
       "      <td>...</td>\n",
       "      <td>...</td>\n",
       "      <td>...</td>\n",
       "      <td>...</td>\n",
       "      <td>...</td>\n",
       "      <td>...</td>\n",
       "      <td>...</td>\n",
       "      <td>...</td>\n",
       "      <td>...</td>\n",
       "      <td>...</td>\n",
       "      <td>...</td>\n",
       "      <td>...</td>\n",
       "      <td>...</td>\n",
       "      <td>...</td>\n",
       "      <td>...</td>\n",
       "      <td>...</td>\n",
       "      <td>...</td>\n",
       "      <td>...</td>\n",
       "    </tr>\n",
       "    <tr>\n",
       "      <th>32751</th>\n",
       "      <td>2023-06-03 20:00:00</td>\n",
       "      <td>27239.40</td>\n",
       "      <td>27246.40</td>\n",
       "      <td>27101.00</td>\n",
       "      <td>27147.60</td>\n",
       "      <td>15130.376</td>\n",
       "      <td>-0.048901</td>\n",
       "      <td>45306.477416</td>\n",
       "      <td>59.148253</td>\n",
       "      <td>27189.586323</td>\n",
       "      <td>...</td>\n",
       "      <td>NaN</td>\n",
       "      <td>5.25</td>\n",
       "      <td>2023-06</td>\n",
       "      <td>NaN</td>\n",
       "      <td>NaN</td>\n",
       "      <td>NaT</td>\n",
       "      <td>NaN</td>\n",
       "      <td>NaN</td>\n",
       "      <td>NaN</td>\n",
       "      <td>NaN</td>\n",
       "    </tr>\n",
       "    <tr>\n",
       "      <th>32752</th>\n",
       "      <td>2023-06-03 21:00:00</td>\n",
       "      <td>27147.70</td>\n",
       "      <td>27173.70</td>\n",
       "      <td>27113.90</td>\n",
       "      <td>27138.80</td>\n",
       "      <td>6229.878</td>\n",
       "      <td>-0.075151</td>\n",
       "      <td>31002.276871</td>\n",
       "      <td>58.559862</td>\n",
       "      <td>27189.451257</td>\n",
       "      <td>...</td>\n",
       "      <td>NaN</td>\n",
       "      <td>5.25</td>\n",
       "      <td>2023-06</td>\n",
       "      <td>NaN</td>\n",
       "      <td>NaN</td>\n",
       "      <td>NaT</td>\n",
       "      <td>NaN</td>\n",
       "      <td>NaN</td>\n",
       "      <td>NaN</td>\n",
       "      <td>NaN</td>\n",
       "    </tr>\n",
       "    <tr>\n",
       "      <th>32753</th>\n",
       "      <td>2023-06-03 22:00:00</td>\n",
       "      <td>27138.90</td>\n",
       "      <td>27153.60</td>\n",
       "      <td>27000.00</td>\n",
       "      <td>27084.90</td>\n",
       "      <td>15389.644</td>\n",
       "      <td>-0.042819</td>\n",
       "      <td>-91926.878625</td>\n",
       "      <td>49.242500</td>\n",
       "      <td>27175.830184</td>\n",
       "      <td>...</td>\n",
       "      <td>NaN</td>\n",
       "      <td>5.25</td>\n",
       "      <td>2023-06</td>\n",
       "      <td>NaN</td>\n",
       "      <td>NaN</td>\n",
       "      <td>NaT</td>\n",
       "      <td>NaN</td>\n",
       "      <td>NaN</td>\n",
       "      <td>NaN</td>\n",
       "      <td>NaN</td>\n",
       "    </tr>\n",
       "    <tr>\n",
       "      <th>32754</th>\n",
       "      <td>2023-06-03 23:00:00</td>\n",
       "      <td>27084.90</td>\n",
       "      <td>27119.50</td>\n",
       "      <td>27042.00</td>\n",
       "      <td>27052.70</td>\n",
       "      <td>7760.747</td>\n",
       "      <td>-0.045307</td>\n",
       "      <td>-114493.903593</td>\n",
       "      <td>43.575625</td>\n",
       "      <td>27168.759575</td>\n",
       "      <td>...</td>\n",
       "      <td>NaN</td>\n",
       "      <td>5.25</td>\n",
       "      <td>2023-06</td>\n",
       "      <td>NaN</td>\n",
       "      <td>NaN</td>\n",
       "      <td>NaT</td>\n",
       "      <td>NaN</td>\n",
       "      <td>NaN</td>\n",
       "      <td>NaN</td>\n",
       "      <td>NaN</td>\n",
       "    </tr>\n",
       "    <tr>\n",
       "      <th>32755</th>\n",
       "      <td>2023-06-04 00:00:00</td>\n",
       "      <td>27052.80</td>\n",
       "      <td>27069.30</td>\n",
       "      <td>26900.00</td>\n",
       "      <td>26990.00</td>\n",
       "      <td>18405.196</td>\n",
       "      <td>-0.030499</td>\n",
       "      <td>-262995.601537</td>\n",
       "      <td>38.631681</td>\n",
       "      <td>27142.897792</td>\n",
       "      <td>...</td>\n",
       "      <td>NaN</td>\n",
       "      <td>5.25</td>\n",
       "      <td>2023-06</td>\n",
       "      <td>NaN</td>\n",
       "      <td>NaN</td>\n",
       "      <td>NaT</td>\n",
       "      <td>NaN</td>\n",
       "      <td>NaN</td>\n",
       "      <td>NaN</td>\n",
       "      <td>NaN</td>\n",
       "    </tr>\n",
       "  </tbody>\n",
       "</table>\n",
       "<p>32756 rows × 80 columns</p>\n",
       "</div>"
      ],
      "text/plain": [
       "                timestamp      open      high       low     close     volume  \\\n",
       "0     2019-09-08 20:00:00  10000.00  10000.00  10000.00  10000.00      0.002   \n",
       "1     2019-09-08 21:00:00  10000.00  10000.00  10000.00  10000.00      0.000   \n",
       "2     2019-09-08 22:00:00  10344.77  10357.53  10337.43  10340.12    471.659   \n",
       "3     2019-09-08 23:00:00  10340.12  10368.64  10334.54  10351.42    583.271   \n",
       "4     2019-09-09 00:00:00  10351.42  10391.90  10324.77  10391.90    689.759   \n",
       "...                   ...       ...       ...       ...       ...        ...   \n",
       "32751 2023-06-03 20:00:00  27239.40  27246.40  27101.00  27147.60  15130.376   \n",
       "32752 2023-06-03 21:00:00  27147.70  27173.70  27113.90  27138.80   6229.878   \n",
       "32753 2023-06-03 22:00:00  27138.90  27153.60  27000.00  27084.90  15389.644   \n",
       "32754 2023-06-03 23:00:00  27084.90  27119.50  27042.00  27052.70   7760.747   \n",
       "32755 2023-06-04 00:00:00  27052.80  27069.30  26900.00  26990.00  18405.196   \n",
       "\n",
       "            CMF            FII        MFI           VWA  ...  Interest_Rate  \\\n",
       "0           NaN            NaN        NaN           NaN  ...            NaN   \n",
       "1           NaN            NaN        NaN           NaN  ...            NaN   \n",
       "2           NaN            NaN        NaN           NaN  ...            NaN   \n",
       "3           NaN            NaN        NaN           NaN  ...            NaN   \n",
       "4           NaN            NaN        NaN           NaN  ...            NaN   \n",
       "...         ...            ...        ...           ...  ...            ...   \n",
       "32751 -0.048901   45306.477416  59.148253  27189.586323  ...            NaN   \n",
       "32752 -0.075151   31002.276871  58.559862  27189.451257  ...            NaN   \n",
       "32753 -0.042819  -91926.878625  49.242500  27175.830184  ...            NaN   \n",
       "32754 -0.045307 -114493.903593  43.575625  27168.759575  ...            NaN   \n",
       "32755 -0.030499 -262995.601537  38.631681  27142.897792  ...            NaN   \n",
       "\n",
       "       Interest_rates_new  datetime_M        Country        Category  \\\n",
       "0                    2.25     2019-09  United States  Inflation Rate   \n",
       "1                    2.25     2019-09  United States  Inflation Rate   \n",
       "2                    2.25     2019-09  United States  Inflation Rate   \n",
       "3                    2.25     2019-09  United States  Inflation Rate   \n",
       "4                    2.25     2019-09  United States  Inflation Rate   \n",
       "...                   ...         ...            ...             ...   \n",
       "32751                5.25     2023-06            NaN             NaN   \n",
       "32752                5.25     2023-06            NaN             NaN   \n",
       "32753                5.25     2023-06            NaN             NaN   \n",
       "32754                5.25     2023-06            NaN             NaN   \n",
       "32755                5.25     2023-06            NaN             NaN   \n",
       "\n",
       "        DateTime  Value  Frequency  HistoricalDataSymbol           LastUpdate  \n",
       "0     2019-09-30    1.7    Monthly               CPI YOY  2019-11-13T13:30:00  \n",
       "1     2019-09-30    1.7    Monthly               CPI YOY  2019-11-13T13:30:00  \n",
       "2     2019-09-30    1.7    Monthly               CPI YOY  2019-11-13T13:30:00  \n",
       "3     2019-09-30    1.7    Monthly               CPI YOY  2019-11-13T13:30:00  \n",
       "4     2019-09-30    1.7    Monthly               CPI YOY  2019-11-13T13:30:00  \n",
       "...          ...    ...        ...                   ...                  ...  \n",
       "32751        NaT    NaN        NaN                   NaN                  NaN  \n",
       "32752        NaT    NaN        NaN                   NaN                  NaN  \n",
       "32753        NaT    NaN        NaN                   NaN                  NaN  \n",
       "32754        NaT    NaN        NaN                   NaN                  NaN  \n",
       "32755        NaT    NaN        NaN                   NaN                  NaN  \n",
       "\n",
       "[32756 rows x 80 columns]"
      ]
     },
     "execution_count": 78,
     "metadata": {},
     "output_type": "execute_result"
    }
   ],
   "source": [
    "data"
   ]
  },
  {
   "cell_type": "code",
   "execution_count": 79,
   "id": "01af468c",
   "metadata": {},
   "outputs": [],
   "source": [
    "data = data.drop([\"datetime_M\", \"Category\", \"Country\", \"Frequency\", \"HistoricalDataSymbol\", \"LastUpdate\", \"DateTime\"], axis=1)"
   ]
  },
  {
   "cell_type": "code",
   "execution_count": 80,
   "id": "c2ba86b7",
   "metadata": {},
   "outputs": [
    {
     "data": {
      "text/html": [
       "<div>\n",
       "<style scoped>\n",
       "    .dataframe tbody tr th:only-of-type {\n",
       "        vertical-align: middle;\n",
       "    }\n",
       "\n",
       "    .dataframe tbody tr th {\n",
       "        vertical-align: top;\n",
       "    }\n",
       "\n",
       "    .dataframe thead th {\n",
       "        text-align: right;\n",
       "    }\n",
       "</style>\n",
       "<table border=\"1\" class=\"dataframe\">\n",
       "  <thead>\n",
       "    <tr style=\"text-align: right;\">\n",
       "      <th></th>\n",
       "      <th>timestamp</th>\n",
       "      <th>open</th>\n",
       "      <th>high</th>\n",
       "      <th>low</th>\n",
       "      <th>close</th>\n",
       "      <th>volume</th>\n",
       "      <th>CMF</th>\n",
       "      <th>FII</th>\n",
       "      <th>MFI</th>\n",
       "      <th>VWA</th>\n",
       "      <th>...</th>\n",
       "      <th>vortex_neg</th>\n",
       "      <th>vortex_pos</th>\n",
       "      <th>wma_9</th>\n",
       "      <th>wma_20</th>\n",
       "      <th>wma_50</th>\n",
       "      <th>wma_100</th>\n",
       "      <th>Close*</th>\n",
       "      <th>Interest_Rate</th>\n",
       "      <th>Interest_rates_new</th>\n",
       "      <th>Inflation_Rate</th>\n",
       "    </tr>\n",
       "  </thead>\n",
       "  <tbody>\n",
       "    <tr>\n",
       "      <th>32751</th>\n",
       "      <td>2023-06-03 20:00:00</td>\n",
       "      <td>27239.4</td>\n",
       "      <td>27246.4</td>\n",
       "      <td>27101.0</td>\n",
       "      <td>27147.6</td>\n",
       "      <td>15130.376</td>\n",
       "      <td>-0.048901</td>\n",
       "      <td>45306.477416</td>\n",
       "      <td>59.148253</td>\n",
       "      <td>27189.586323</td>\n",
       "      <td>...</td>\n",
       "      <td>0.917674</td>\n",
       "      <td>0.983015</td>\n",
       "      <td>27175.009524</td>\n",
       "      <td>27168.372381</td>\n",
       "      <td>27127.760392</td>\n",
       "      <td>27073.676970</td>\n",
       "      <td>NaN</td>\n",
       "      <td>NaN</td>\n",
       "      <td>5.25</td>\n",
       "      <td>NaN</td>\n",
       "    </tr>\n",
       "    <tr>\n",
       "      <th>32752</th>\n",
       "      <td>2023-06-03 21:00:00</td>\n",
       "      <td>27147.7</td>\n",
       "      <td>27173.7</td>\n",
       "      <td>27113.9</td>\n",
       "      <td>27138.8</td>\n",
       "      <td>6229.878</td>\n",
       "      <td>-0.075151</td>\n",
       "      <td>31002.276871</td>\n",
       "      <td>58.559862</td>\n",
       "      <td>27189.451257</td>\n",
       "      <td>...</td>\n",
       "      <td>0.984213</td>\n",
       "      <td>1.015887</td>\n",
       "      <td>27171.560000</td>\n",
       "      <td>27165.705238</td>\n",
       "      <td>27130.293333</td>\n",
       "      <td>27073.819644</td>\n",
       "      <td>NaN</td>\n",
       "      <td>NaN</td>\n",
       "      <td>5.25</td>\n",
       "      <td>NaN</td>\n",
       "    </tr>\n",
       "    <tr>\n",
       "      <th>32753</th>\n",
       "      <td>2023-06-03 22:00:00</td>\n",
       "      <td>27138.9</td>\n",
       "      <td>27153.6</td>\n",
       "      <td>27000.0</td>\n",
       "      <td>27084.9</td>\n",
       "      <td>15389.644</td>\n",
       "      <td>-0.042819</td>\n",
       "      <td>-91926.878625</td>\n",
       "      <td>49.242500</td>\n",
       "      <td>27175.830184</td>\n",
       "      <td>...</td>\n",
       "      <td>1.006104</td>\n",
       "      <td>0.892200</td>\n",
       "      <td>27161.040952</td>\n",
       "      <td>27158.451429</td>\n",
       "      <td>27130.667137</td>\n",
       "      <td>27072.988198</td>\n",
       "      <td>NaN</td>\n",
       "      <td>NaN</td>\n",
       "      <td>5.25</td>\n",
       "      <td>NaN</td>\n",
       "    </tr>\n",
       "    <tr>\n",
       "      <th>32754</th>\n",
       "      <td>2023-06-03 23:00:00</td>\n",
       "      <td>27084.9</td>\n",
       "      <td>27119.5</td>\n",
       "      <td>27042.0</td>\n",
       "      <td>27052.7</td>\n",
       "      <td>7760.747</td>\n",
       "      <td>-0.045307</td>\n",
       "      <td>-114493.903593</td>\n",
       "      <td>43.575625</td>\n",
       "      <td>27168.759575</td>\n",
       "      <td>...</td>\n",
       "      <td>1.079289</td>\n",
       "      <td>0.905507</td>\n",
       "      <td>27146.839048</td>\n",
       "      <td>27148.811429</td>\n",
       "      <td>27129.670745</td>\n",
       "      <td>27071.634000</td>\n",
       "      <td>NaN</td>\n",
       "      <td>NaN</td>\n",
       "      <td>5.25</td>\n",
       "      <td>NaN</td>\n",
       "    </tr>\n",
       "    <tr>\n",
       "      <th>32755</th>\n",
       "      <td>2023-06-04 00:00:00</td>\n",
       "      <td>27052.8</td>\n",
       "      <td>27069.3</td>\n",
       "      <td>26900.0</td>\n",
       "      <td>26990.0</td>\n",
       "      <td>18405.196</td>\n",
       "      <td>-0.030499</td>\n",
       "      <td>-262995.601537</td>\n",
       "      <td>38.631681</td>\n",
       "      <td>27142.897792</td>\n",
       "      <td>...</td>\n",
       "      <td>1.094035</td>\n",
       "      <td>0.802186</td>\n",
       "      <td>27125.388571</td>\n",
       "      <td>27133.696190</td>\n",
       "      <td>27126.143216</td>\n",
       "      <td>27069.165782</td>\n",
       "      <td>NaN</td>\n",
       "      <td>NaN</td>\n",
       "      <td>5.25</td>\n",
       "      <td>NaN</td>\n",
       "    </tr>\n",
       "  </tbody>\n",
       "</table>\n",
       "<p>5 rows × 73 columns</p>\n",
       "</div>"
      ],
      "text/plain": [
       "                timestamp     open     high      low    close     volume  \\\n",
       "32751 2023-06-03 20:00:00  27239.4  27246.4  27101.0  27147.6  15130.376   \n",
       "32752 2023-06-03 21:00:00  27147.7  27173.7  27113.9  27138.8   6229.878   \n",
       "32753 2023-06-03 22:00:00  27138.9  27153.6  27000.0  27084.9  15389.644   \n",
       "32754 2023-06-03 23:00:00  27084.9  27119.5  27042.0  27052.7   7760.747   \n",
       "32755 2023-06-04 00:00:00  27052.8  27069.3  26900.0  26990.0  18405.196   \n",
       "\n",
       "            CMF            FII        MFI           VWA  ...  vortex_neg  \\\n",
       "32751 -0.048901   45306.477416  59.148253  27189.586323  ...    0.917674   \n",
       "32752 -0.075151   31002.276871  58.559862  27189.451257  ...    0.984213   \n",
       "32753 -0.042819  -91926.878625  49.242500  27175.830184  ...    1.006104   \n",
       "32754 -0.045307 -114493.903593  43.575625  27168.759575  ...    1.079289   \n",
       "32755 -0.030499 -262995.601537  38.631681  27142.897792  ...    1.094035   \n",
       "\n",
       "       vortex_pos         wma_9        wma_20        wma_50       wma_100  \\\n",
       "32751    0.983015  27175.009524  27168.372381  27127.760392  27073.676970   \n",
       "32752    1.015887  27171.560000  27165.705238  27130.293333  27073.819644   \n",
       "32753    0.892200  27161.040952  27158.451429  27130.667137  27072.988198   \n",
       "32754    0.905507  27146.839048  27148.811429  27129.670745  27071.634000   \n",
       "32755    0.802186  27125.388571  27133.696190  27126.143216  27069.165782   \n",
       "\n",
       "       Close*  Interest_Rate  Interest_rates_new  Inflation_Rate  \n",
       "32751     NaN            NaN                5.25             NaN  \n",
       "32752     NaN            NaN                5.25             NaN  \n",
       "32753     NaN            NaN                5.25             NaN  \n",
       "32754     NaN            NaN                5.25             NaN  \n",
       "32755     NaN            NaN                5.25             NaN  \n",
       "\n",
       "[5 rows x 73 columns]"
      ]
     },
     "execution_count": 80,
     "metadata": {},
     "output_type": "execute_result"
    }
   ],
   "source": [
    "data = data.rename(columns={'Value': 'Inflation_Rate'})\n",
    "data.tail()\n"
   ]
  },
  {
   "cell_type": "code",
   "execution_count": 81,
   "id": "86956d3a",
   "metadata": {},
   "outputs": [],
   "source": [
    "data.to_csv(\"Big_dataset_1\")"
   ]
  },
  {
   "cell_type": "markdown",
   "id": "2ae4cf1e",
   "metadata": {},
   "source": [
    "## Functions"
   ]
  },
  {
   "cell_type": "markdown",
   "id": "7382c585",
   "metadata": {
    "heading_collapsed": true
   },
   "source": [
    "#### subhag trend"
   ]
  },
  {
   "cell_type": "code",
   "execution_count": 82,
   "id": "b00cd2da",
   "metadata": {
    "hidden": true
   },
   "outputs": [],
   "source": [
    "#def ghost_trend_signal(data, resolution=60, fast_length=3, slow_length=10):\n",
    "#    src = data.close\n",
    "#    trend_60 = ((ta.trend.ema_indicator(src, fast_length) - ta.trend.ema_indicator(src, slow_length))/src)*100\n",
    "#    prev_trend_60 = ((ta.trend.ema_indicator(src.shift(5), fast_length) - ta.trend.ema_indicator(src.shift(5), slow_length))/src.shift(5))*100\n",
    "#    trend_status_60 = ['GREEN' if trend_60[i] > prev_trend_60[i] else 'RED' for i in range(len(data))]\n",
    "#    return pd.DataFrame({'timestamp': data.timestamp,'subhag_signal': trend_status_60})\n"
   ]
  },
  {
   "cell_type": "code",
   "execution_count": 83,
   "id": "82cff0ff",
   "metadata": {
    "hidden": true
   },
   "outputs": [],
   "source": [
    "#data_g_r = ghost_trend_signal(data, resolution=60, fast_length=3, slow_length=10)"
   ]
  },
  {
   "cell_type": "code",
   "execution_count": 91,
   "id": "4a1588c0",
   "metadata": {
    "hidden": true
   },
   "outputs": [],
   "source": [
    "#data = pd.merge(data, data_g_r, on=['timestamp', 'timestamp'], how='left')"
   ]
  },
  {
   "cell_type": "code",
   "execution_count": 90,
   "id": "3c97878d",
   "metadata": {
    "hidden": true
   },
   "outputs": [
    {
     "data": {
      "text/html": [
       "<div>\n",
       "<style scoped>\n",
       "    .dataframe tbody tr th:only-of-type {\n",
       "        vertical-align: middle;\n",
       "    }\n",
       "\n",
       "    .dataframe tbody tr th {\n",
       "        vertical-align: top;\n",
       "    }\n",
       "\n",
       "    .dataframe thead th {\n",
       "        text-align: right;\n",
       "    }\n",
       "</style>\n",
       "<table border=\"1\" class=\"dataframe\">\n",
       "  <thead>\n",
       "    <tr style=\"text-align: right;\">\n",
       "      <th></th>\n",
       "      <th>timestamp</th>\n",
       "      <th>subhag_signal</th>\n",
       "    </tr>\n",
       "  </thead>\n",
       "  <tbody>\n",
       "    <tr>\n",
       "      <th>0</th>\n",
       "      <td>2019-09-08 20:00:00</td>\n",
       "      <td>RED</td>\n",
       "    </tr>\n",
       "    <tr>\n",
       "      <th>1</th>\n",
       "      <td>2019-09-08 21:00:00</td>\n",
       "      <td>RED</td>\n",
       "    </tr>\n",
       "    <tr>\n",
       "      <th>2</th>\n",
       "      <td>2019-09-08 22:00:00</td>\n",
       "      <td>RED</td>\n",
       "    </tr>\n",
       "    <tr>\n",
       "      <th>3</th>\n",
       "      <td>2019-09-08 23:00:00</td>\n",
       "      <td>RED</td>\n",
       "    </tr>\n",
       "    <tr>\n",
       "      <th>4</th>\n",
       "      <td>2019-09-09 00:00:00</td>\n",
       "      <td>RED</td>\n",
       "    </tr>\n",
       "    <tr>\n",
       "      <th>...</th>\n",
       "      <td>...</td>\n",
       "      <td>...</td>\n",
       "    </tr>\n",
       "    <tr>\n",
       "      <th>32751</th>\n",
       "      <td>2023-06-03 20:00:00</td>\n",
       "      <td>GREEN</td>\n",
       "    </tr>\n",
       "    <tr>\n",
       "      <th>32752</th>\n",
       "      <td>2023-06-03 21:00:00</td>\n",
       "      <td>RED</td>\n",
       "    </tr>\n",
       "    <tr>\n",
       "      <th>32753</th>\n",
       "      <td>2023-06-03 22:00:00</td>\n",
       "      <td>RED</td>\n",
       "    </tr>\n",
       "    <tr>\n",
       "      <th>32754</th>\n",
       "      <td>2023-06-03 23:00:00</td>\n",
       "      <td>RED</td>\n",
       "    </tr>\n",
       "    <tr>\n",
       "      <th>32755</th>\n",
       "      <td>2023-06-04 00:00:00</td>\n",
       "      <td>RED</td>\n",
       "    </tr>\n",
       "  </tbody>\n",
       "</table>\n",
       "<p>32756 rows × 2 columns</p>\n",
       "</div>"
      ],
      "text/plain": [
       "                timestamp subhag_signal\n",
       "0     2019-09-08 20:00:00           RED\n",
       "1     2019-09-08 21:00:00           RED\n",
       "2     2019-09-08 22:00:00           RED\n",
       "3     2019-09-08 23:00:00           RED\n",
       "4     2019-09-09 00:00:00           RED\n",
       "...                   ...           ...\n",
       "32751 2023-06-03 20:00:00         GREEN\n",
       "32752 2023-06-03 21:00:00           RED\n",
       "32753 2023-06-03 22:00:00           RED\n",
       "32754 2023-06-03 23:00:00           RED\n",
       "32755 2023-06-04 00:00:00           RED\n",
       "\n",
       "[32756 rows x 2 columns]"
      ]
     },
     "execution_count": 90,
     "metadata": {},
     "output_type": "execute_result"
    }
   ],
   "source": [
    "#data_g_r"
   ]
  },
  {
   "cell_type": "code",
   "execution_count": 104,
   "id": "5810655d",
   "metadata": {
    "hidden": true
   },
   "outputs": [],
   "source": [
    "#df = pd.DataFrame(pd.concat([data[\"timestamp\"], data_g_r[\"timestamp\"]],axis=1))"
   ]
  },
  {
   "cell_type": "code",
   "execution_count": 109,
   "id": "f15815f0",
   "metadata": {
    "hidden": true
   },
   "outputs": [
    {
     "data": {
      "text/plain": [
       "Index(['timestamp', 'timestamp'], dtype='object')"
      ]
     },
     "execution_count": 109,
     "metadata": {},
     "output_type": "execute_result"
    }
   ],
   "source": [
    "#df.columns"
   ]
  },
  {
   "cell_type": "code",
   "execution_count": 108,
   "id": "5e5b6af8",
   "metadata": {
    "hidden": true
   },
   "outputs": [
    {
     "data": {
      "text/html": [
       "<div>\n",
       "<style scoped>\n",
       "    .dataframe tbody tr th:only-of-type {\n",
       "        vertical-align: middle;\n",
       "    }\n",
       "\n",
       "    .dataframe tbody tr th {\n",
       "        vertical-align: top;\n",
       "    }\n",
       "\n",
       "    .dataframe thead th {\n",
       "        text-align: right;\n",
       "    }\n",
       "</style>\n",
       "<table border=\"1\" class=\"dataframe\">\n",
       "  <thead>\n",
       "    <tr style=\"text-align: right;\">\n",
       "      <th></th>\n",
       "      <th>timestamp</th>\n",
       "      <th>timestamp</th>\n",
       "    </tr>\n",
       "  </thead>\n",
       "  <tbody>\n",
       "    <tr>\n",
       "      <th>0</th>\n",
       "      <td>False</td>\n",
       "      <td>False</td>\n",
       "    </tr>\n",
       "    <tr>\n",
       "      <th>1</th>\n",
       "      <td>False</td>\n",
       "      <td>False</td>\n",
       "    </tr>\n",
       "    <tr>\n",
       "      <th>2</th>\n",
       "      <td>False</td>\n",
       "      <td>False</td>\n",
       "    </tr>\n",
       "    <tr>\n",
       "      <th>3</th>\n",
       "      <td>False</td>\n",
       "      <td>False</td>\n",
       "    </tr>\n",
       "    <tr>\n",
       "      <th>4</th>\n",
       "      <td>False</td>\n",
       "      <td>False</td>\n",
       "    </tr>\n",
       "    <tr>\n",
       "      <th>...</th>\n",
       "      <td>...</td>\n",
       "      <td>...</td>\n",
       "    </tr>\n",
       "    <tr>\n",
       "      <th>32841</th>\n",
       "      <td>False</td>\n",
       "      <td>True</td>\n",
       "    </tr>\n",
       "    <tr>\n",
       "      <th>32842</th>\n",
       "      <td>False</td>\n",
       "      <td>True</td>\n",
       "    </tr>\n",
       "    <tr>\n",
       "      <th>32843</th>\n",
       "      <td>False</td>\n",
       "      <td>True</td>\n",
       "    </tr>\n",
       "    <tr>\n",
       "      <th>32844</th>\n",
       "      <td>False</td>\n",
       "      <td>True</td>\n",
       "    </tr>\n",
       "    <tr>\n",
       "      <th>32845</th>\n",
       "      <td>False</td>\n",
       "      <td>True</td>\n",
       "    </tr>\n",
       "  </tbody>\n",
       "</table>\n",
       "<p>32846 rows × 2 columns</p>\n",
       "</div>"
      ],
      "text/plain": [
       "       timestamp  timestamp\n",
       "0          False      False\n",
       "1          False      False\n",
       "2          False      False\n",
       "3          False      False\n",
       "4          False      False\n",
       "...          ...        ...\n",
       "32841      False       True\n",
       "32842      False       True\n",
       "32843      False       True\n",
       "32844      False       True\n",
       "32845      False       True\n",
       "\n",
       "[32846 rows x 2 columns]"
      ]
     },
     "execution_count": 108,
     "metadata": {},
     "output_type": "execute_result"
    }
   ],
   "source": [
    "#df.isnull()"
   ]
  },
  {
   "cell_type": "markdown",
   "id": "105d1e16",
   "metadata": {},
   "source": [
    "#### Fisher transform"
   ]
  },
  {
   "cell_type": "code",
   "execution_count": 116,
   "id": "c83a2033",
   "metadata": {},
   "outputs": [],
   "source": [
    "def highes(data, length):\n",
    "    return np.array( [0]*length + [ np.max(data[i-length+1: i+1]) for i in range(length, len(data))])\n",
    "def lowes(data, length):\n",
    "    return np.array( [0]*length + [ np.min(data[i-length+1: i+1]) for i in range(length, len(data))])\n",
    "def fisher_transform(df, len_=9):\n",
    "    high, low = df.high, df.low\n",
    "    hl2 = (high+low)/2\n",
    "    high_ = highes(hl2, len_)\n",
    "    low_ = lowes(hl2, len_)\n",
    "    def round_(val):\n",
    "        return .999 if val > .99 else -.999 if val < -.99 else val\n",
    "    value, fish1 = [0.0], [0.0]\n",
    "    for i in range(1, len(hl2)):\n",
    "        value.append(round_(.66 * ((hl2[i] - low_[i]) / (high_[i] - low_[i]) - .5) + .67 * value[i-1]))\n",
    "        fish1.append(.5 * np.log((1 + value[i]) / (1 - value[i])) + .5 * fish1[i-1])\n",
    "    fish1 = pd.Series(fish1)\n",
    "    fish2 = fish1.shift().fillna(method='bfill')\n",
    "    return pd.DataFrame({'timestamp': df.timestamp,\n",
    "                         'Fisher': np.round(fish1, 5),\n",
    "                         'Fisher_trigger': np.round(fish2, 5)})"
   ]
  },
  {
   "cell_type": "code",
   "execution_count": 117,
   "id": "470dcc38",
   "metadata": {},
   "outputs": [
    {
     "name": "stderr",
     "output_type": "stream",
     "text": [
      "/var/folders/0n/87jbs2_x4ydc8dqckcntbhfw0000gn/T/ipykernel_28503/3376831689.py:14: RuntimeWarning: divide by zero encountered in double_scalars\n",
      "  value.append(round_(.66 * ((hl2[i] - low_[i]) / (high_[i] - low_[i]) - .5) + .67 * value[i-1]))\n"
     ]
    },
    {
     "data": {
      "text/html": [
       "<div>\n",
       "<style scoped>\n",
       "    .dataframe tbody tr th:only-of-type {\n",
       "        vertical-align: middle;\n",
       "    }\n",
       "\n",
       "    .dataframe tbody tr th {\n",
       "        vertical-align: top;\n",
       "    }\n",
       "\n",
       "    .dataframe thead th {\n",
       "        text-align: right;\n",
       "    }\n",
       "</style>\n",
       "<table border=\"1\" class=\"dataframe\">\n",
       "  <thead>\n",
       "    <tr style=\"text-align: right;\">\n",
       "      <th></th>\n",
       "      <th>timestamp</th>\n",
       "      <th>Fisher</th>\n",
       "      <th>Fisher_trigger</th>\n",
       "    </tr>\n",
       "  </thead>\n",
       "  <tbody>\n",
       "    <tr>\n",
       "      <th>0</th>\n",
       "      <td>2019-09-08 20:00:00</td>\n",
       "      <td>0.00000</td>\n",
       "      <td>0.00000</td>\n",
       "    </tr>\n",
       "    <tr>\n",
       "      <th>1</th>\n",
       "      <td>2019-09-08 21:00:00</td>\n",
       "      <td>3.80020</td>\n",
       "      <td>0.00000</td>\n",
       "    </tr>\n",
       "    <tr>\n",
       "      <th>2</th>\n",
       "      <td>2019-09-08 22:00:00</td>\n",
       "      <td>5.70030</td>\n",
       "      <td>3.80020</td>\n",
       "    </tr>\n",
       "    <tr>\n",
       "      <th>3</th>\n",
       "      <td>2019-09-08 23:00:00</td>\n",
       "      <td>6.65035</td>\n",
       "      <td>5.70030</td>\n",
       "    </tr>\n",
       "    <tr>\n",
       "      <th>4</th>\n",
       "      <td>2019-09-09 00:00:00</td>\n",
       "      <td>7.12538</td>\n",
       "      <td>6.65035</td>\n",
       "    </tr>\n",
       "    <tr>\n",
       "      <th>...</th>\n",
       "      <td>...</td>\n",
       "      <td>...</td>\n",
       "      <td>...</td>\n",
       "    </tr>\n",
       "    <tr>\n",
       "      <th>32841</th>\n",
       "      <td>2023-06-03 20:00:00</td>\n",
       "      <td>0.55827</td>\n",
       "      <td>0.61369</td>\n",
       "    </tr>\n",
       "    <tr>\n",
       "      <th>32842</th>\n",
       "      <td>2023-06-03 21:00:00</td>\n",
       "      <td>0.15512</td>\n",
       "      <td>0.55827</td>\n",
       "    </tr>\n",
       "    <tr>\n",
       "      <th>32843</th>\n",
       "      <td>2023-06-03 22:00:00</td>\n",
       "      <td>-0.36126</td>\n",
       "      <td>0.15512</td>\n",
       "    </tr>\n",
       "    <tr>\n",
       "      <th>32844</th>\n",
       "      <td>2023-06-03 23:00:00</td>\n",
       "      <td>-0.86198</td>\n",
       "      <td>-0.36126</td>\n",
       "    </tr>\n",
       "    <tr>\n",
       "      <th>32845</th>\n",
       "      <td>2023-06-04 00:00:00</td>\n",
       "      <td>-1.35313</td>\n",
       "      <td>-0.86198</td>\n",
       "    </tr>\n",
       "  </tbody>\n",
       "</table>\n",
       "<p>32846 rows × 3 columns</p>\n",
       "</div>"
      ],
      "text/plain": [
       "                timestamp   Fisher  Fisher_trigger\n",
       "0     2019-09-08 20:00:00  0.00000         0.00000\n",
       "1     2019-09-08 21:00:00  3.80020         0.00000\n",
       "2     2019-09-08 22:00:00  5.70030         3.80020\n",
       "3     2019-09-08 23:00:00  6.65035         5.70030\n",
       "4     2019-09-09 00:00:00  7.12538         6.65035\n",
       "...                   ...      ...             ...\n",
       "32841 2023-06-03 20:00:00  0.55827         0.61369\n",
       "32842 2023-06-03 21:00:00  0.15512         0.55827\n",
       "32843 2023-06-03 22:00:00 -0.36126         0.15512\n",
       "32844 2023-06-03 23:00:00 -0.86198        -0.36126\n",
       "32845 2023-06-04 00:00:00 -1.35313        -0.86198\n",
       "\n",
       "[32846 rows x 3 columns]"
      ]
     },
     "execution_count": 117,
     "metadata": {},
     "output_type": "execute_result"
    }
   ],
   "source": [
    "fisher_transform(data, len_=9)"
   ]
  },
  {
   "cell_type": "code",
   "execution_count": null,
   "id": "6ff03ff2",
   "metadata": {},
   "outputs": [],
   "source": []
  },
  {
   "cell_type": "code",
   "execution_count": null,
   "id": "8af3cb8d",
   "metadata": {},
   "outputs": [],
   "source": []
  },
  {
   "cell_type": "code",
   "execution_count": null,
   "id": "a799ff5b",
   "metadata": {},
   "outputs": [],
   "source": []
  },
  {
   "cell_type": "code",
   "execution_count": null,
   "id": "5601fa45",
   "metadata": {},
   "outputs": [],
   "source": []
  },
  {
   "cell_type": "code",
   "execution_count": null,
   "id": "5de3e5aa",
   "metadata": {},
   "outputs": [],
   "source": []
  },
  {
   "cell_type": "code",
   "execution_count": null,
   "id": "17eca93f",
   "metadata": {},
   "outputs": [],
   "source": []
  },
  {
   "cell_type": "code",
   "execution_count": null,
   "id": "49ed7280",
   "metadata": {},
   "outputs": [],
   "source": []
  },
  {
   "cell_type": "code",
   "execution_count": null,
   "id": "63bd58b4",
   "metadata": {},
   "outputs": [],
   "source": []
  },
  {
   "cell_type": "code",
   "execution_count": null,
   "id": "7e98f14a",
   "metadata": {},
   "outputs": [],
   "source": []
  },
  {
   "cell_type": "code",
   "execution_count": null,
   "id": "b1da38da",
   "metadata": {},
   "outputs": [],
   "source": []
  },
  {
   "cell_type": "code",
   "execution_count": null,
   "id": "238f8b20",
   "metadata": {},
   "outputs": [],
   "source": []
  },
  {
   "cell_type": "code",
   "execution_count": null,
   "id": "73677433",
   "metadata": {},
   "outputs": [],
   "source": []
  },
  {
   "cell_type": "code",
   "execution_count": null,
   "id": "f146d6ff",
   "metadata": {},
   "outputs": [],
   "source": []
  },
  {
   "cell_type": "code",
   "execution_count": null,
   "id": "a2ec54f8",
   "metadata": {},
   "outputs": [],
   "source": []
  }
 ],
 "metadata": {
  "kernelspec": {
   "display_name": "Python 3 (ipykernel)",
   "language": "python",
   "name": "python3"
  },
  "language_info": {
   "codemirror_mode": {
    "name": "ipython",
    "version": 3
   },
   "file_extension": ".py",
   "mimetype": "text/x-python",
   "name": "python",
   "nbconvert_exporter": "python",
   "pygments_lexer": "ipython3",
   "version": "3.10.6"
  },
  "toc": {
   "base_numbering": 1,
   "nav_menu": {},
   "number_sections": true,
   "sideBar": true,
   "skip_h1_title": false,
   "title_cell": "Table of Contents",
   "title_sidebar": "Contents",
   "toc_cell": false,
   "toc_position": {},
   "toc_section_display": true,
   "toc_window_display": false
  }
 },
 "nbformat": 4,
 "nbformat_minor": 5
}
