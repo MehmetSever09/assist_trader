{
 "cells": [
  {
   "cell_type": "markdown",
   "id": "ba91ddef",
   "metadata": {},
   "source": [
    "# Momentum Indicators"
   ]
  },
  {
   "cell_type": "markdown",
   "id": "1911abf4",
   "metadata": {},
   "source": [
    "Imports"
   ]
  },
  {
   "cell_type": "code",
   "execution_count": 148,
   "id": "06bb2b01",
   "metadata": {},
   "outputs": [],
   "source": [
    "import ta\n",
    "import pandas as pd"
   ]
  },
  {
   "cell_type": "markdown",
   "id": "b8ab38b3",
   "metadata": {},
   "source": [
    "Data"
   ]
  },
  {
   "cell_type": "code",
   "execution_count": 149,
   "id": "ae40e376",
   "metadata": {},
   "outputs": [
    {
     "data": {
      "text/html": [
       "<div>\n",
       "<style scoped>\n",
       "    .dataframe tbody tr th:only-of-type {\n",
       "        vertical-align: middle;\n",
       "    }\n",
       "\n",
       "    .dataframe tbody tr th {\n",
       "        vertical-align: top;\n",
       "    }\n",
       "\n",
       "    .dataframe thead th {\n",
       "        text-align: right;\n",
       "    }\n",
       "</style>\n",
       "<table border=\"1\" class=\"dataframe\">\n",
       "  <thead>\n",
       "    <tr style=\"text-align: right;\">\n",
       "      <th></th>\n",
       "      <th>timestamp</th>\n",
       "      <th>open</th>\n",
       "      <th>high</th>\n",
       "      <th>low</th>\n",
       "      <th>close</th>\n",
       "      <th>volume</th>\n",
       "    </tr>\n",
       "  </thead>\n",
       "  <tbody>\n",
       "    <tr>\n",
       "      <th>0</th>\n",
       "      <td>2019-09-08 20:00:00</td>\n",
       "      <td>10000.00</td>\n",
       "      <td>10000.00</td>\n",
       "      <td>10000.00</td>\n",
       "      <td>10000.00</td>\n",
       "      <td>0.002</td>\n",
       "    </tr>\n",
       "    <tr>\n",
       "      <th>1</th>\n",
       "      <td>2019-09-08 21:00:00</td>\n",
       "      <td>10000.00</td>\n",
       "      <td>10000.00</td>\n",
       "      <td>10000.00</td>\n",
       "      <td>10000.00</td>\n",
       "      <td>0.000</td>\n",
       "    </tr>\n",
       "    <tr>\n",
       "      <th>2</th>\n",
       "      <td>2019-09-08 22:00:00</td>\n",
       "      <td>10344.77</td>\n",
       "      <td>10357.53</td>\n",
       "      <td>10337.43</td>\n",
       "      <td>10340.12</td>\n",
       "      <td>471.659</td>\n",
       "    </tr>\n",
       "    <tr>\n",
       "      <th>3</th>\n",
       "      <td>2019-09-08 23:00:00</td>\n",
       "      <td>10340.12</td>\n",
       "      <td>10368.64</td>\n",
       "      <td>10334.54</td>\n",
       "      <td>10351.42</td>\n",
       "      <td>583.271</td>\n",
       "    </tr>\n",
       "    <tr>\n",
       "      <th>4</th>\n",
       "      <td>2019-09-09 00:00:00</td>\n",
       "      <td>10351.42</td>\n",
       "      <td>10391.90</td>\n",
       "      <td>10324.77</td>\n",
       "      <td>10391.90</td>\n",
       "      <td>689.759</td>\n",
       "    </tr>\n",
       "  </tbody>\n",
       "</table>\n",
       "</div>"
      ],
      "text/plain": [
       "             timestamp      open      high       low     close   volume\n",
       "0  2019-09-08 20:00:00  10000.00  10000.00  10000.00  10000.00    0.002\n",
       "1  2019-09-08 21:00:00  10000.00  10000.00  10000.00  10000.00    0.000\n",
       "2  2019-09-08 22:00:00  10344.77  10357.53  10337.43  10340.12  471.659\n",
       "3  2019-09-08 23:00:00  10340.12  10368.64  10334.54  10351.42  583.271\n",
       "4  2019-09-09 00:00:00  10351.42  10391.90  10324.77  10391.90  689.759"
      ]
     },
     "execution_count": 149,
     "metadata": {},
     "output_type": "execute_result"
    }
   ],
   "source": [
    "data = pd.read_csv(\"../raw_data/BTCUSDT_1h.csv\")\n",
    "data.head()"
   ]
  },
  {
   "cell_type": "markdown",
   "id": "40e31284",
   "metadata": {},
   "source": [
    "Awesome Oscillator Indicator"
   ]
  },
  {
   "cell_type": "code",
   "execution_count": 150,
   "id": "618a7f3e",
   "metadata": {},
   "outputs": [],
   "source": [
    "from ta.momentum import AwesomeOscillatorIndicator"
   ]
  },
  {
   "cell_type": "code",
   "execution_count": 151,
   "id": "13237217",
   "metadata": {},
   "outputs": [
    {
     "data": {
      "text/html": [
       "<div>\n",
       "<style scoped>\n",
       "    .dataframe tbody tr th:only-of-type {\n",
       "        vertical-align: middle;\n",
       "    }\n",
       "\n",
       "    .dataframe tbody tr th {\n",
       "        vertical-align: top;\n",
       "    }\n",
       "\n",
       "    .dataframe thead th {\n",
       "        text-align: right;\n",
       "    }\n",
       "</style>\n",
       "<table border=\"1\" class=\"dataframe\">\n",
       "  <thead>\n",
       "    <tr style=\"text-align: right;\">\n",
       "      <th></th>\n",
       "      <th>timestamp</th>\n",
       "      <th>open</th>\n",
       "      <th>high</th>\n",
       "      <th>low</th>\n",
       "      <th>close</th>\n",
       "      <th>volume</th>\n",
       "      <th>aoi</th>\n",
       "    </tr>\n",
       "  </thead>\n",
       "  <tbody>\n",
       "    <tr>\n",
       "      <th>32755</th>\n",
       "      <td>2023-06-04 00:00:00</td>\n",
       "      <td>27052.8</td>\n",
       "      <td>27069.3</td>\n",
       "      <td>26900.0</td>\n",
       "      <td>26990.0</td>\n",
       "      <td>18405.196</td>\n",
       "      <td>-40.026176</td>\n",
       "    </tr>\n",
       "  </tbody>\n",
       "</table>\n",
       "</div>"
      ],
      "text/plain": [
       "                 timestamp     open     high      low    close     volume  \\\n",
       "32755  2023-06-04 00:00:00  27052.8  27069.3  26900.0  26990.0  18405.196   \n",
       "\n",
       "             aoi  \n",
       "32755 -40.026176  "
      ]
     },
     "execution_count": 151,
     "metadata": {},
     "output_type": "execute_result"
    }
   ],
   "source": [
    "ao_indicator = ta.momentum.AwesomeOscillatorIndicator(data[\"high\"], data[\"low\"])\n",
    "ao_values = ao_indicator.awesome_oscillator()\n",
    "data['aoi'] = ao_values\n",
    "data.tail(1)"
   ]
  },
  {
   "cell_type": "markdown",
   "id": "1fbe44ef",
   "metadata": {},
   "source": [
    "KAMA Indicator"
   ]
  },
  {
   "cell_type": "code",
   "execution_count": 152,
   "id": "cdaae9e2",
   "metadata": {},
   "outputs": [],
   "source": [
    "from ta.momentum import KAMAIndicator"
   ]
  },
  {
   "cell_type": "code",
   "execution_count": 153,
   "id": "bdbae1d0",
   "metadata": {},
   "outputs": [
    {
     "data": {
      "text/html": [
       "<div>\n",
       "<style scoped>\n",
       "    .dataframe tbody tr th:only-of-type {\n",
       "        vertical-align: middle;\n",
       "    }\n",
       "\n",
       "    .dataframe tbody tr th {\n",
       "        vertical-align: top;\n",
       "    }\n",
       "\n",
       "    .dataframe thead th {\n",
       "        text-align: right;\n",
       "    }\n",
       "</style>\n",
       "<table border=\"1\" class=\"dataframe\">\n",
       "  <thead>\n",
       "    <tr style=\"text-align: right;\">\n",
       "      <th></th>\n",
       "      <th>timestamp</th>\n",
       "      <th>open</th>\n",
       "      <th>high</th>\n",
       "      <th>low</th>\n",
       "      <th>close</th>\n",
       "      <th>volume</th>\n",
       "      <th>aoi</th>\n",
       "      <th>kama</th>\n",
       "    </tr>\n",
       "  </thead>\n",
       "  <tbody>\n",
       "    <tr>\n",
       "      <th>32755</th>\n",
       "      <td>2023-06-04 00:00:00</td>\n",
       "      <td>27052.8</td>\n",
       "      <td>27069.3</td>\n",
       "      <td>26900.0</td>\n",
       "      <td>26990.0</td>\n",
       "      <td>18405.196</td>\n",
       "      <td>-40.026176</td>\n",
       "      <td>27131.053078</td>\n",
       "    </tr>\n",
       "  </tbody>\n",
       "</table>\n",
       "</div>"
      ],
      "text/plain": [
       "                 timestamp     open     high      low    close     volume  \\\n",
       "32755  2023-06-04 00:00:00  27052.8  27069.3  26900.0  26990.0  18405.196   \n",
       "\n",
       "             aoi          kama  \n",
       "32755 -40.026176  27131.053078  "
      ]
     },
     "execution_count": 153,
     "metadata": {},
     "output_type": "execute_result"
    }
   ],
   "source": [
    "kama_indicator = KAMAIndicator(close=data['close'])\n",
    "kama_values = kama_indicator.kama()\n",
    "data['kama'] = kama_values\n",
    "data.tail(1)"
   ]
  },
  {
   "cell_type": "markdown",
   "id": "6537a50c",
   "metadata": {},
   "source": [
    "Percentage Price Oscillator"
   ]
  },
  {
   "cell_type": "code",
   "execution_count": 154,
   "id": "77b2a797",
   "metadata": {},
   "outputs": [],
   "source": [
    "from ta.momentum import PercentagePriceOscillator"
   ]
  },
  {
   "cell_type": "code",
   "execution_count": 155,
   "id": "87154cf2",
   "metadata": {},
   "outputs": [
    {
     "data": {
      "text/html": [
       "<div>\n",
       "<style scoped>\n",
       "    .dataframe tbody tr th:only-of-type {\n",
       "        vertical-align: middle;\n",
       "    }\n",
       "\n",
       "    .dataframe tbody tr th {\n",
       "        vertical-align: top;\n",
       "    }\n",
       "\n",
       "    .dataframe thead th {\n",
       "        text-align: right;\n",
       "    }\n",
       "</style>\n",
       "<table border=\"1\" class=\"dataframe\">\n",
       "  <thead>\n",
       "    <tr style=\"text-align: right;\">\n",
       "      <th></th>\n",
       "      <th>timestamp</th>\n",
       "      <th>open</th>\n",
       "      <th>high</th>\n",
       "      <th>low</th>\n",
       "      <th>close</th>\n",
       "      <th>volume</th>\n",
       "      <th>aoi</th>\n",
       "      <th>kama</th>\n",
       "      <th>ppo</th>\n",
       "      <th>ppo_signal</th>\n",
       "    </tr>\n",
       "  </thead>\n",
       "  <tbody>\n",
       "    <tr>\n",
       "      <th>32755</th>\n",
       "      <td>2023-06-04 00:00:00</td>\n",
       "      <td>27052.8</td>\n",
       "      <td>27069.3</td>\n",
       "      <td>26900.0</td>\n",
       "      <td>26990.0</td>\n",
       "      <td>18405.196</td>\n",
       "      <td>-40.026176</td>\n",
       "      <td>27131.053078</td>\n",
       "      <td>-0.023582</td>\n",
       "      <td>0.059091</td>\n",
       "    </tr>\n",
       "  </tbody>\n",
       "</table>\n",
       "</div>"
      ],
      "text/plain": [
       "                 timestamp     open     high      low    close     volume  \\\n",
       "32755  2023-06-04 00:00:00  27052.8  27069.3  26900.0  26990.0  18405.196   \n",
       "\n",
       "             aoi          kama       ppo  ppo_signal  \n",
       "32755 -40.026176  27131.053078 -0.023582    0.059091  "
      ]
     },
     "execution_count": 155,
     "metadata": {},
     "output_type": "execute_result"
    }
   ],
   "source": [
    "ppo_indicator = PercentagePriceOscillator(close=data['close'])\n",
    "ppo_values = ppo_indicator.ppo()\n",
    "data['ppo'] = ppo_values\n",
    "ppo_signal_values = ppo_indicator.ppo_signal()\n",
    "data['ppo_signal'] = ppo_signal_values\n",
    "data.tail(1)"
   ]
  },
  {
   "cell_type": "markdown",
   "id": "05d12c07",
   "metadata": {},
   "source": [
    "Percentage Volume Oscillator"
   ]
  },
  {
   "cell_type": "code",
   "execution_count": 156,
   "id": "4505cb9c",
   "metadata": {},
   "outputs": [],
   "source": [
    "from ta.momentum import PercentageVolumeOscillator"
   ]
  },
  {
   "cell_type": "code",
   "execution_count": 157,
   "id": "96e5a7a7",
   "metadata": {},
   "outputs": [
    {
     "data": {
      "text/html": [
       "<div>\n",
       "<style scoped>\n",
       "    .dataframe tbody tr th:only-of-type {\n",
       "        vertical-align: middle;\n",
       "    }\n",
       "\n",
       "    .dataframe tbody tr th {\n",
       "        vertical-align: top;\n",
       "    }\n",
       "\n",
       "    .dataframe thead th {\n",
       "        text-align: right;\n",
       "    }\n",
       "</style>\n",
       "<table border=\"1\" class=\"dataframe\">\n",
       "  <thead>\n",
       "    <tr style=\"text-align: right;\">\n",
       "      <th></th>\n",
       "      <th>timestamp</th>\n",
       "      <th>open</th>\n",
       "      <th>high</th>\n",
       "      <th>low</th>\n",
       "      <th>close</th>\n",
       "      <th>volume</th>\n",
       "      <th>aoi</th>\n",
       "      <th>kama</th>\n",
       "      <th>ppo</th>\n",
       "      <th>ppo_signal</th>\n",
       "      <th>pvo</th>\n",
       "      <th>pvo_signal</th>\n",
       "    </tr>\n",
       "  </thead>\n",
       "  <tbody>\n",
       "    <tr>\n",
       "      <th>32755</th>\n",
       "      <td>2023-06-04 00:00:00</td>\n",
       "      <td>27052.8</td>\n",
       "      <td>27069.3</td>\n",
       "      <td>26900.0</td>\n",
       "      <td>26990.0</td>\n",
       "      <td>18405.196</td>\n",
       "      <td>-40.026176</td>\n",
       "      <td>27131.053078</td>\n",
       "      <td>-0.023582</td>\n",
       "      <td>0.059091</td>\n",
       "      <td>7.066128</td>\n",
       "      <td>-6.392036</td>\n",
       "    </tr>\n",
       "  </tbody>\n",
       "</table>\n",
       "</div>"
      ],
      "text/plain": [
       "                 timestamp     open     high      low    close     volume  \\\n",
       "32755  2023-06-04 00:00:00  27052.8  27069.3  26900.0  26990.0  18405.196   \n",
       "\n",
       "             aoi          kama       ppo  ppo_signal       pvo  pvo_signal  \n",
       "32755 -40.026176  27131.053078 -0.023582    0.059091  7.066128   -6.392036  "
      ]
     },
     "execution_count": 157,
     "metadata": {},
     "output_type": "execute_result"
    }
   ],
   "source": [
    "pvo_indicator = PercentageVolumeOscillator(volume=data['volume'])\n",
    "pvo_values = pvo_indicator.pvo()\n",
    "data['pvo'] = pvo_values\n",
    "pvo_signal_values = pvo_indicator.pvo_signal()\n",
    "data['pvo_signal'] = pvo_signal_values\n",
    "data.tail(1)"
   ]
  },
  {
   "cell_type": "markdown",
   "id": "cf82086b",
   "metadata": {},
   "source": [
    "ROC Indicator"
   ]
  },
  {
   "cell_type": "code",
   "execution_count": 158,
   "id": "946ff789",
   "metadata": {},
   "outputs": [],
   "source": [
    "from ta.momentum import ROCIndicator"
   ]
  },
  {
   "cell_type": "code",
   "execution_count": 159,
   "id": "16f0620b",
   "metadata": {},
   "outputs": [
    {
     "data": {
      "text/html": [
       "<div>\n",
       "<style scoped>\n",
       "    .dataframe tbody tr th:only-of-type {\n",
       "        vertical-align: middle;\n",
       "    }\n",
       "\n",
       "    .dataframe tbody tr th {\n",
       "        vertical-align: top;\n",
       "    }\n",
       "\n",
       "    .dataframe thead th {\n",
       "        text-align: right;\n",
       "    }\n",
       "</style>\n",
       "<table border=\"1\" class=\"dataframe\">\n",
       "  <thead>\n",
       "    <tr style=\"text-align: right;\">\n",
       "      <th></th>\n",
       "      <th>timestamp</th>\n",
       "      <th>open</th>\n",
       "      <th>high</th>\n",
       "      <th>low</th>\n",
       "      <th>close</th>\n",
       "      <th>volume</th>\n",
       "      <th>aoi</th>\n",
       "      <th>kama</th>\n",
       "      <th>ppo</th>\n",
       "      <th>ppo_signal</th>\n",
       "      <th>pvo</th>\n",
       "      <th>pvo_signal</th>\n",
       "      <th>roc</th>\n",
       "    </tr>\n",
       "  </thead>\n",
       "  <tbody>\n",
       "    <tr>\n",
       "      <th>32755</th>\n",
       "      <td>2023-06-04 00:00:00</td>\n",
       "      <td>27052.8</td>\n",
       "      <td>27069.3</td>\n",
       "      <td>26900.0</td>\n",
       "      <td>26990.0</td>\n",
       "      <td>18405.196</td>\n",
       "      <td>-40.026176</td>\n",
       "      <td>27131.053078</td>\n",
       "      <td>-0.023582</td>\n",
       "      <td>0.059091</td>\n",
       "      <td>7.066128</td>\n",
       "      <td>-6.392036</td>\n",
       "      <td>-0.568443</td>\n",
       "    </tr>\n",
       "  </tbody>\n",
       "</table>\n",
       "</div>"
      ],
      "text/plain": [
       "                 timestamp     open     high      low    close     volume  \\\n",
       "32755  2023-06-04 00:00:00  27052.8  27069.3  26900.0  26990.0  18405.196   \n",
       "\n",
       "             aoi          kama       ppo  ppo_signal       pvo  pvo_signal  \\\n",
       "32755 -40.026176  27131.053078 -0.023582    0.059091  7.066128   -6.392036   \n",
       "\n",
       "            roc  \n",
       "32755 -0.568443  "
      ]
     },
     "execution_count": 159,
     "metadata": {},
     "output_type": "execute_result"
    }
   ],
   "source": [
    "roc_indicator = ROCIndicator(close=data['close'])\n",
    "roc_values = roc_indicator.roc()\n",
    "data['roc'] = roc_values\n",
    "data.tail(1)"
   ]
  },
  {
   "cell_type": "markdown",
   "id": "aa6f6225",
   "metadata": {},
   "source": [
    "RSI Indicator"
   ]
  },
  {
   "cell_type": "code",
   "execution_count": 160,
   "id": "5f159943",
   "metadata": {},
   "outputs": [],
   "source": [
    "from ta.momentum import RSIIndicator"
   ]
  },
  {
   "cell_type": "code",
   "execution_count": 161,
   "id": "2db171c6",
   "metadata": {},
   "outputs": [
    {
     "data": {
      "text/html": [
       "<div>\n",
       "<style scoped>\n",
       "    .dataframe tbody tr th:only-of-type {\n",
       "        vertical-align: middle;\n",
       "    }\n",
       "\n",
       "    .dataframe tbody tr th {\n",
       "        vertical-align: top;\n",
       "    }\n",
       "\n",
       "    .dataframe thead th {\n",
       "        text-align: right;\n",
       "    }\n",
       "</style>\n",
       "<table border=\"1\" class=\"dataframe\">\n",
       "  <thead>\n",
       "    <tr style=\"text-align: right;\">\n",
       "      <th></th>\n",
       "      <th>timestamp</th>\n",
       "      <th>open</th>\n",
       "      <th>high</th>\n",
       "      <th>low</th>\n",
       "      <th>close</th>\n",
       "      <th>volume</th>\n",
       "      <th>aoi</th>\n",
       "      <th>kama</th>\n",
       "      <th>ppo</th>\n",
       "      <th>ppo_signal</th>\n",
       "      <th>pvo</th>\n",
       "      <th>pvo_signal</th>\n",
       "      <th>roc</th>\n",
       "      <th>rsi</th>\n",
       "    </tr>\n",
       "  </thead>\n",
       "  <tbody>\n",
       "    <tr>\n",
       "      <th>32755</th>\n",
       "      <td>2023-06-04 00:00:00</td>\n",
       "      <td>27052.8</td>\n",
       "      <td>27069.3</td>\n",
       "      <td>26900.0</td>\n",
       "      <td>26990.0</td>\n",
       "      <td>18405.196</td>\n",
       "      <td>-40.026176</td>\n",
       "      <td>27131.053078</td>\n",
       "      <td>-0.023582</td>\n",
       "      <td>0.059091</td>\n",
       "      <td>7.066128</td>\n",
       "      <td>-6.392036</td>\n",
       "      <td>-0.568443</td>\n",
       "      <td>37.997542</td>\n",
       "    </tr>\n",
       "  </tbody>\n",
       "</table>\n",
       "</div>"
      ],
      "text/plain": [
       "                 timestamp     open     high      low    close     volume  \\\n",
       "32755  2023-06-04 00:00:00  27052.8  27069.3  26900.0  26990.0  18405.196   \n",
       "\n",
       "             aoi          kama       ppo  ppo_signal       pvo  pvo_signal  \\\n",
       "32755 -40.026176  27131.053078 -0.023582    0.059091  7.066128   -6.392036   \n",
       "\n",
       "            roc        rsi  \n",
       "32755 -0.568443  37.997542  "
      ]
     },
     "execution_count": 161,
     "metadata": {},
     "output_type": "execute_result"
    }
   ],
   "source": [
    "rsi_indicator = RSIIndicator(close=data['close'])\n",
    "rsi_values = rsi_indicator.rsi()\n",
    "data['rsi'] = rsi_values\n",
    "data.tail(1)"
   ]
  },
  {
   "cell_type": "markdown",
   "id": "89b20f1a",
   "metadata": {},
   "source": [
    "Stoch RSI Indicator"
   ]
  },
  {
   "cell_type": "code",
   "execution_count": 162,
   "id": "2b60d867",
   "metadata": {},
   "outputs": [],
   "source": [
    "from ta.momentum import StochRSIIndicator"
   ]
  },
  {
   "cell_type": "code",
   "execution_count": 163,
   "id": "e874c599",
   "metadata": {},
   "outputs": [
    {
     "data": {
      "text/html": [
       "<div>\n",
       "<style scoped>\n",
       "    .dataframe tbody tr th:only-of-type {\n",
       "        vertical-align: middle;\n",
       "    }\n",
       "\n",
       "    .dataframe tbody tr th {\n",
       "        vertical-align: top;\n",
       "    }\n",
       "\n",
       "    .dataframe thead th {\n",
       "        text-align: right;\n",
       "    }\n",
       "</style>\n",
       "<table border=\"1\" class=\"dataframe\">\n",
       "  <thead>\n",
       "    <tr style=\"text-align: right;\">\n",
       "      <th></th>\n",
       "      <th>timestamp</th>\n",
       "      <th>open</th>\n",
       "      <th>high</th>\n",
       "      <th>low</th>\n",
       "      <th>close</th>\n",
       "      <th>volume</th>\n",
       "      <th>aoi</th>\n",
       "      <th>kama</th>\n",
       "      <th>ppo</th>\n",
       "      <th>ppo_signal</th>\n",
       "      <th>pvo</th>\n",
       "      <th>pvo_signal</th>\n",
       "      <th>roc</th>\n",
       "      <th>rsi</th>\n",
       "      <th>stochrsi</th>\n",
       "    </tr>\n",
       "  </thead>\n",
       "  <tbody>\n",
       "    <tr>\n",
       "      <th>32755</th>\n",
       "      <td>2023-06-04 00:00:00</td>\n",
       "      <td>27052.8</td>\n",
       "      <td>27069.3</td>\n",
       "      <td>26900.0</td>\n",
       "      <td>26990.0</td>\n",
       "      <td>18405.196</td>\n",
       "      <td>-40.026176</td>\n",
       "      <td>27131.053078</td>\n",
       "      <td>-0.023582</td>\n",
       "      <td>0.059091</td>\n",
       "      <td>7.066128</td>\n",
       "      <td>-6.392036</td>\n",
       "      <td>-0.568443</td>\n",
       "      <td>37.997542</td>\n",
       "      <td>0.0</td>\n",
       "    </tr>\n",
       "  </tbody>\n",
       "</table>\n",
       "</div>"
      ],
      "text/plain": [
       "                 timestamp     open     high      low    close     volume  \\\n",
       "32755  2023-06-04 00:00:00  27052.8  27069.3  26900.0  26990.0  18405.196   \n",
       "\n",
       "             aoi          kama       ppo  ppo_signal       pvo  pvo_signal  \\\n",
       "32755 -40.026176  27131.053078 -0.023582    0.059091  7.066128   -6.392036   \n",
       "\n",
       "            roc        rsi  stochrsi  \n",
       "32755 -0.568443  37.997542       0.0  "
      ]
     },
     "execution_count": 163,
     "metadata": {},
     "output_type": "execute_result"
    }
   ],
   "source": [
    "srsi_indicator = StochRSIIndicator(close=data['close'])\n",
    "srsi_values = srsi_indicator.stochrsi()\n",
    "data['stochrsi'] = srsi_values\n",
    "data.tail(1)"
   ]
  },
  {
   "cell_type": "markdown",
   "id": "5cd27935",
   "metadata": {},
   "source": [
    "Stochastic Oscillator"
   ]
  },
  {
   "cell_type": "code",
   "execution_count": 164,
   "id": "70870141",
   "metadata": {},
   "outputs": [],
   "source": [
    "from ta.momentum import StochasticOscillator"
   ]
  },
  {
   "cell_type": "code",
   "execution_count": 165,
   "id": "26f9a768",
   "metadata": {},
   "outputs": [
    {
     "data": {
      "text/html": [
       "<div>\n",
       "<style scoped>\n",
       "    .dataframe tbody tr th:only-of-type {\n",
       "        vertical-align: middle;\n",
       "    }\n",
       "\n",
       "    .dataframe tbody tr th {\n",
       "        vertical-align: top;\n",
       "    }\n",
       "\n",
       "    .dataframe thead th {\n",
       "        text-align: right;\n",
       "    }\n",
       "</style>\n",
       "<table border=\"1\" class=\"dataframe\">\n",
       "  <thead>\n",
       "    <tr style=\"text-align: right;\">\n",
       "      <th></th>\n",
       "      <th>timestamp</th>\n",
       "      <th>open</th>\n",
       "      <th>high</th>\n",
       "      <th>low</th>\n",
       "      <th>close</th>\n",
       "      <th>volume</th>\n",
       "      <th>aoi</th>\n",
       "      <th>kama</th>\n",
       "      <th>ppo</th>\n",
       "      <th>ppo_signal</th>\n",
       "      <th>pvo</th>\n",
       "      <th>pvo_signal</th>\n",
       "      <th>roc</th>\n",
       "      <th>rsi</th>\n",
       "      <th>stochrsi</th>\n",
       "      <th>StochOscillator</th>\n",
       "      <th>StochOscillator_signal</th>\n",
       "    </tr>\n",
       "  </thead>\n",
       "  <tbody>\n",
       "    <tr>\n",
       "      <th>32755</th>\n",
       "      <td>2023-06-04 00:00:00</td>\n",
       "      <td>27052.8</td>\n",
       "      <td>27069.3</td>\n",
       "      <td>26900.0</td>\n",
       "      <td>26990.0</td>\n",
       "      <td>18405.196</td>\n",
       "      <td>-40.026176</td>\n",
       "      <td>27131.053078</td>\n",
       "      <td>-0.023582</td>\n",
       "      <td>0.059091</td>\n",
       "      <td>7.066128</td>\n",
       "      <td>-6.392036</td>\n",
       "      <td>-0.568443</td>\n",
       "      <td>37.997542</td>\n",
       "      <td>0.0</td>\n",
       "      <td>20.445252</td>\n",
       "      <td>20.297349</td>\n",
       "    </tr>\n",
       "  </tbody>\n",
       "</table>\n",
       "</div>"
      ],
      "text/plain": [
       "                 timestamp     open     high      low    close     volume  \\\n",
       "32755  2023-06-04 00:00:00  27052.8  27069.3  26900.0  26990.0  18405.196   \n",
       "\n",
       "             aoi          kama       ppo  ppo_signal       pvo  pvo_signal  \\\n",
       "32755 -40.026176  27131.053078 -0.023582    0.059091  7.066128   -6.392036   \n",
       "\n",
       "            roc        rsi  stochrsi  StochOscillator  StochOscillator_signal  \n",
       "32755 -0.568443  37.997542       0.0        20.445252               20.297349  "
      ]
     },
     "execution_count": 165,
     "metadata": {},
     "output_type": "execute_result"
    }
   ],
   "source": [
    "so_indicator = StochasticOscillator(high = data[\"high\"], low = data[\"low\"], close = data['close'])\n",
    "so_values = so_indicator.stoch()\n",
    "data[\"StochOscillator\"] = so_values\n",
    "so_signal_values = so_indicator.stoch_signal()\n",
    "data['StochOscillator_signal'] = so_signal_values\n",
    "data.tail(1)"
   ]
  },
  {
   "cell_type": "markdown",
   "id": "534267e1",
   "metadata": {},
   "source": [
    "TSI Indicator"
   ]
  },
  {
   "cell_type": "code",
   "execution_count": 166,
   "id": "a022cbee",
   "metadata": {},
   "outputs": [],
   "source": [
    "from ta.momentum import TSIIndicator"
   ]
  },
  {
   "cell_type": "code",
   "execution_count": 167,
   "id": "226d10b4",
   "metadata": {},
   "outputs": [
    {
     "data": {
      "text/html": [
       "<div>\n",
       "<style scoped>\n",
       "    .dataframe tbody tr th:only-of-type {\n",
       "        vertical-align: middle;\n",
       "    }\n",
       "\n",
       "    .dataframe tbody tr th {\n",
       "        vertical-align: top;\n",
       "    }\n",
       "\n",
       "    .dataframe thead th {\n",
       "        text-align: right;\n",
       "    }\n",
       "</style>\n",
       "<table border=\"1\" class=\"dataframe\">\n",
       "  <thead>\n",
       "    <tr style=\"text-align: right;\">\n",
       "      <th></th>\n",
       "      <th>timestamp</th>\n",
       "      <th>open</th>\n",
       "      <th>high</th>\n",
       "      <th>low</th>\n",
       "      <th>close</th>\n",
       "      <th>volume</th>\n",
       "      <th>aoi</th>\n",
       "      <th>kama</th>\n",
       "      <th>ppo</th>\n",
       "      <th>ppo_signal</th>\n",
       "      <th>pvo</th>\n",
       "      <th>pvo_signal</th>\n",
       "      <th>roc</th>\n",
       "      <th>rsi</th>\n",
       "      <th>stochrsi</th>\n",
       "      <th>StochOscillator</th>\n",
       "      <th>StochOscillator_signal</th>\n",
       "      <th>tsi</th>\n",
       "    </tr>\n",
       "  </thead>\n",
       "  <tbody>\n",
       "    <tr>\n",
       "      <th>32755</th>\n",
       "      <td>2023-06-04 00:00:00</td>\n",
       "      <td>27052.8</td>\n",
       "      <td>27069.3</td>\n",
       "      <td>26900.0</td>\n",
       "      <td>26990.0</td>\n",
       "      <td>18405.196</td>\n",
       "      <td>-40.026176</td>\n",
       "      <td>27131.053078</td>\n",
       "      <td>-0.023582</td>\n",
       "      <td>0.059091</td>\n",
       "      <td>7.066128</td>\n",
       "      <td>-6.392036</td>\n",
       "      <td>-0.568443</td>\n",
       "      <td>37.997542</td>\n",
       "      <td>0.0</td>\n",
       "      <td>20.445252</td>\n",
       "      <td>20.297349</td>\n",
       "      <td>-1.855015</td>\n",
       "    </tr>\n",
       "  </tbody>\n",
       "</table>\n",
       "</div>"
      ],
      "text/plain": [
       "                 timestamp     open     high      low    close     volume  \\\n",
       "32755  2023-06-04 00:00:00  27052.8  27069.3  26900.0  26990.0  18405.196   \n",
       "\n",
       "             aoi          kama       ppo  ppo_signal       pvo  pvo_signal  \\\n",
       "32755 -40.026176  27131.053078 -0.023582    0.059091  7.066128   -6.392036   \n",
       "\n",
       "            roc        rsi  stochrsi  StochOscillator  StochOscillator_signal  \\\n",
       "32755 -0.568443  37.997542       0.0        20.445252               20.297349   \n",
       "\n",
       "            tsi  \n",
       "32755 -1.855015  "
      ]
     },
     "execution_count": 167,
     "metadata": {},
     "output_type": "execute_result"
    }
   ],
   "source": [
    "tsi_indicator = TSIIndicator(close=data['close'])\n",
    "tsi_values = tsi_indicator.tsi()\n",
    "data['tsi'] = tsi_values\n",
    "data.tail(1)"
   ]
  },
  {
   "cell_type": "markdown",
   "id": "35807dcb",
   "metadata": {},
   "source": [
    "Ultimate Oscillator"
   ]
  },
  {
   "cell_type": "code",
   "execution_count": 168,
   "id": "97113645",
   "metadata": {},
   "outputs": [],
   "source": [
    "from ta.momentum import UltimateOscillator"
   ]
  },
  {
   "cell_type": "code",
   "execution_count": 169,
   "id": "4ec24dae",
   "metadata": {},
   "outputs": [
    {
     "data": {
      "text/html": [
       "<div>\n",
       "<style scoped>\n",
       "    .dataframe tbody tr th:only-of-type {\n",
       "        vertical-align: middle;\n",
       "    }\n",
       "\n",
       "    .dataframe tbody tr th {\n",
       "        vertical-align: top;\n",
       "    }\n",
       "\n",
       "    .dataframe thead th {\n",
       "        text-align: right;\n",
       "    }\n",
       "</style>\n",
       "<table border=\"1\" class=\"dataframe\">\n",
       "  <thead>\n",
       "    <tr style=\"text-align: right;\">\n",
       "      <th></th>\n",
       "      <th>timestamp</th>\n",
       "      <th>open</th>\n",
       "      <th>high</th>\n",
       "      <th>low</th>\n",
       "      <th>close</th>\n",
       "      <th>volume</th>\n",
       "      <th>aoi</th>\n",
       "      <th>kama</th>\n",
       "      <th>ppo</th>\n",
       "      <th>ppo_signal</th>\n",
       "      <th>pvo</th>\n",
       "      <th>pvo_signal</th>\n",
       "      <th>roc</th>\n",
       "      <th>rsi</th>\n",
       "      <th>stochrsi</th>\n",
       "      <th>StochOscillator</th>\n",
       "      <th>StochOscillator_signal</th>\n",
       "      <th>tsi</th>\n",
       "      <th>UltimateOscillator</th>\n",
       "    </tr>\n",
       "  </thead>\n",
       "  <tbody>\n",
       "    <tr>\n",
       "      <th>32755</th>\n",
       "      <td>2023-06-04 00:00:00</td>\n",
       "      <td>27052.8</td>\n",
       "      <td>27069.3</td>\n",
       "      <td>26900.0</td>\n",
       "      <td>26990.0</td>\n",
       "      <td>18405.196</td>\n",
       "      <td>-40.026176</td>\n",
       "      <td>27131.053078</td>\n",
       "      <td>-0.023582</td>\n",
       "      <td>0.059091</td>\n",
       "      <td>7.066128</td>\n",
       "      <td>-6.392036</td>\n",
       "      <td>-0.568443</td>\n",
       "      <td>37.997542</td>\n",
       "      <td>0.0</td>\n",
       "      <td>20.445252</td>\n",
       "      <td>20.297349</td>\n",
       "      <td>-1.855015</td>\n",
       "      <td>49.626618</td>\n",
       "    </tr>\n",
       "  </tbody>\n",
       "</table>\n",
       "</div>"
      ],
      "text/plain": [
       "                 timestamp     open     high      low    close     volume  \\\n",
       "32755  2023-06-04 00:00:00  27052.8  27069.3  26900.0  26990.0  18405.196   \n",
       "\n",
       "             aoi          kama       ppo  ppo_signal       pvo  pvo_signal  \\\n",
       "32755 -40.026176  27131.053078 -0.023582    0.059091  7.066128   -6.392036   \n",
       "\n",
       "            roc        rsi  stochrsi  StochOscillator  StochOscillator_signal  \\\n",
       "32755 -0.568443  37.997542       0.0        20.445252               20.297349   \n",
       "\n",
       "            tsi  UltimateOscillator  \n",
       "32755 -1.855015           49.626618  "
      ]
     },
     "execution_count": 169,
     "metadata": {},
     "output_type": "execute_result"
    }
   ],
   "source": [
    "uo_indicator = UltimateOscillator(high = data[\"high\"], low = data[\"low\"], close = data['close'])\n",
    "uo_values = uo_indicator.ultimate_oscillator()\n",
    "data[\"UltimateOscillator\"] = uo_values\n",
    "data.tail(1)"
   ]
  },
  {
   "cell_type": "markdown",
   "id": "a24557dc",
   "metadata": {},
   "source": [
    "Williams R Indicator"
   ]
  },
  {
   "cell_type": "code",
   "execution_count": 170,
   "id": "18107266",
   "metadata": {},
   "outputs": [],
   "source": [
    "from ta.momentum import WilliamsRIndicator"
   ]
  },
  {
   "cell_type": "code",
   "execution_count": 172,
   "id": "8cea3387",
   "metadata": {
    "scrolled": true
   },
   "outputs": [
    {
     "data": {
      "text/html": [
       "<div>\n",
       "<style scoped>\n",
       "    .dataframe tbody tr th:only-of-type {\n",
       "        vertical-align: middle;\n",
       "    }\n",
       "\n",
       "    .dataframe tbody tr th {\n",
       "        vertical-align: top;\n",
       "    }\n",
       "\n",
       "    .dataframe thead th {\n",
       "        text-align: right;\n",
       "    }\n",
       "</style>\n",
       "<table border=\"1\" class=\"dataframe\">\n",
       "  <thead>\n",
       "    <tr style=\"text-align: right;\">\n",
       "      <th></th>\n",
       "      <th>timestamp</th>\n",
       "      <th>open</th>\n",
       "      <th>high</th>\n",
       "      <th>low</th>\n",
       "      <th>close</th>\n",
       "      <th>volume</th>\n",
       "      <th>aoi</th>\n",
       "      <th>kama</th>\n",
       "      <th>ppo</th>\n",
       "      <th>ppo_signal</th>\n",
       "      <th>pvo</th>\n",
       "      <th>pvo_signal</th>\n",
       "      <th>roc</th>\n",
       "      <th>rsi</th>\n",
       "      <th>stochrsi</th>\n",
       "      <th>StochOscillator</th>\n",
       "      <th>StochOscillator_signal</th>\n",
       "      <th>tsi</th>\n",
       "      <th>UltimateOscillator</th>\n",
       "      <th>WilliamsRIndicator</th>\n",
       "    </tr>\n",
       "  </thead>\n",
       "  <tbody>\n",
       "    <tr>\n",
       "      <th>32754</th>\n",
       "      <td>2023-06-03 23:00:00</td>\n",
       "      <td>27084.9</td>\n",
       "      <td>27119.5</td>\n",
       "      <td>27042.0</td>\n",
       "      <td>27052.7</td>\n",
       "      <td>7760.747</td>\n",
       "      <td>11.745882</td>\n",
       "      <td>27138.989036</td>\n",
       "      <td>0.022304</td>\n",
       "      <td>0.079759</td>\n",
       "      <td>0.537820</td>\n",
       "      <td>-9.756577</td>\n",
       "      <td>-0.300726</td>\n",
       "      <td>42.459919</td>\n",
       "      <td>0.0</td>\n",
       "      <td>15.490888</td>\n",
       "      <td>18.866667</td>\n",
       "      <td>2.404269</td>\n",
       "      <td>47.991564</td>\n",
       "      <td>-84.509112</td>\n",
       "    </tr>\n",
       "    <tr>\n",
       "      <th>32755</th>\n",
       "      <td>2023-06-04 00:00:00</td>\n",
       "      <td>27052.8</td>\n",
       "      <td>27069.3</td>\n",
       "      <td>26900.0</td>\n",
       "      <td>26990.0</td>\n",
       "      <td>18405.196</td>\n",
       "      <td>-40.026176</td>\n",
       "      <td>27131.053078</td>\n",
       "      <td>-0.023582</td>\n",
       "      <td>0.059091</td>\n",
       "      <td>7.066128</td>\n",
       "      <td>-6.392036</td>\n",
       "      <td>-0.568443</td>\n",
       "      <td>37.997542</td>\n",
       "      <td>0.0</td>\n",
       "      <td>20.445252</td>\n",
       "      <td>20.297349</td>\n",
       "      <td>-1.855015</td>\n",
       "      <td>49.626618</td>\n",
       "      <td>-79.554748</td>\n",
       "    </tr>\n",
       "  </tbody>\n",
       "</table>\n",
       "</div>"
      ],
      "text/plain": [
       "                 timestamp     open     high      low    close     volume  \\\n",
       "32754  2023-06-03 23:00:00  27084.9  27119.5  27042.0  27052.7   7760.747   \n",
       "32755  2023-06-04 00:00:00  27052.8  27069.3  26900.0  26990.0  18405.196   \n",
       "\n",
       "             aoi          kama       ppo  ppo_signal       pvo  pvo_signal  \\\n",
       "32754  11.745882  27138.989036  0.022304    0.079759  0.537820   -9.756577   \n",
       "32755 -40.026176  27131.053078 -0.023582    0.059091  7.066128   -6.392036   \n",
       "\n",
       "            roc        rsi  stochrsi  StochOscillator  StochOscillator_signal  \\\n",
       "32754 -0.300726  42.459919       0.0        15.490888               18.866667   \n",
       "32755 -0.568443  37.997542       0.0        20.445252               20.297349   \n",
       "\n",
       "            tsi  UltimateOscillator  WilliamsRIndicator  \n",
       "32754  2.404269           47.991564          -84.509112  \n",
       "32755 -1.855015           49.626618          -79.554748  "
      ]
     },
     "execution_count": 172,
     "metadata": {},
     "output_type": "execute_result"
    }
   ],
   "source": [
    "wri_indicator = WilliamsRIndicator(high = data[\"high\"], low = data[\"low\"], close = data['close'])\n",
    "wri_values = wri_indicator.williams_r()\n",
    "data[\"WilliamsRIndicator\"] = wri_values\n",
    "data.tail(2)"
   ]
  },
  {
   "cell_type": "code",
   "execution_count": 173,
   "id": "d16a1b9c",
   "metadata": {},
   "outputs": [],
   "source": [
    "data.to_csv(\"Momentum_Indicators_BTCUSDT_1h\")"
   ]
  },
  {
   "cell_type": "code",
   "execution_count": null,
   "id": "b4fa0555",
   "metadata": {},
   "outputs": [],
   "source": []
  }
 ],
 "metadata": {
  "kernelspec": {
   "display_name": "Python 3 (ipykernel)",
   "language": "python",
   "name": "python3"
  },
  "language_info": {
   "codemirror_mode": {
    "name": "ipython",
    "version": 3
   },
   "file_extension": ".py",
   "mimetype": "text/x-python",
   "name": "python",
   "nbconvert_exporter": "python",
   "pygments_lexer": "ipython3",
   "version": "3.10.6"
  },
  "toc": {
   "base_numbering": 1,
   "nav_menu": {},
   "number_sections": true,
   "sideBar": true,
   "skip_h1_title": false,
   "title_cell": "Table of Contents",
   "title_sidebar": "Contents",
   "toc_cell": false,
   "toc_position": {},
   "toc_section_display": true,
   "toc_window_display": false
  }
 },
 "nbformat": 4,
 "nbformat_minor": 5
}
