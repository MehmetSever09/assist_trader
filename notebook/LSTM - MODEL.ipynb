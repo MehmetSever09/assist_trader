{
 "cells": [
  {
   "cell_type": "markdown",
   "id": "540e2e5e",
   "metadata": {},
   "source": [
    "## LSTM MODEL For Timeseries ##"
   ]
  },
  {
   "cell_type": "code",
   "execution_count": 3,
   "id": "069ef11e",
   "metadata": {},
   "outputs": [],
   "source": [
    "import pandas as pd \n",
    "import numpy as np\n",
    "import ta\n",
    "from sklearn.preprocessing import MinMaxScaler\n",
    "from sklearn.preprocessing import RobustScaler\n",
    "from darts import TimeSeries\n",
    "from darts.utils.timeseries_generation import datetime_attribute_timeseries"
   ]
  },
  {
   "cell_type": "markdown",
   "id": "cc922902",
   "metadata": {},
   "source": [
    "### Split the data with darts package"
   ]
  },
  {
   "cell_type": "code",
   "execution_count": null,
   "id": "99488df7",
   "metadata": {},
   "outputs": [],
   "source": [
    "#Import your data here\n",
    "df = pd.read_csv('.csv', delimiter=\",\")"
   ]
  },
  {
   "cell_type": "code",
   "execution_count": null,
   "id": "ff22607b",
   "metadata": {},
   "outputs": [],
   "source": [
    "# Define the split ratio\n",
    "train_ratio = 0.8"
   ]
  },
  {
   "cell_type": "code",
   "execution_count": null,
   "id": "c495196e",
   "metadata": {},
   "outputs": [],
   "source": [
    "# splitting the data into test and train\n",
    "split_index = int(len(df) * train_ratio)\n",
    "\n",
    "\n",
    "train_data = df[:split_index]\n",
    "test_data = df[split_index:]"
   ]
  },
  {
   "cell_type": "markdown",
   "id": "e17e9957",
   "metadata": {},
   "source": [
    "### Scaling, fitting and transforming with RobustScaler"
   ]
  },
  {
   "cell_type": "code",
   "execution_count": null,
   "id": "33c079d7",
   "metadata": {},
   "outputs": [],
   "source": [
    "# Initialize the MinMaxScaler\n",
    "scaler = RobustScaler()"
   ]
  },
  {
   "cell_type": "code",
   "execution_count": null,
   "id": "ab15ad4a",
   "metadata": {},
   "outputs": [],
   "source": [
    "# Reshape the data to fit the scaler\n",
    "X_reshaped = X.reshape(-1, num_features)"
   ]
  },
  {
   "cell_type": "code",
   "execution_count": null,
   "id": "511286e1",
   "metadata": {},
   "outputs": [],
   "source": [
    "# Fit the scaler to your reshaped dataset\n",
    "scaler.fit(X_reshaped)"
   ]
  },
  {
   "cell_type": "code",
   "execution_count": null,
   "id": "a37cfdcd",
   "metadata": {},
   "outputs": [],
   "source": [
    "# Apply the scaling transformation\n",
    "X_scaled = scaler.transform(X_reshaped)"
   ]
  },
  {
   "cell_type": "markdown",
   "id": "212a1eae",
   "metadata": {},
   "source": [
    "### Defining Model"
   ]
  },
  {
   "cell_type": "code",
   "execution_count": null,
   "id": "3a2ba6cc",
   "metadata": {},
   "outputs": [],
   "source": []
  },
  {
   "cell_type": "code",
   "execution_count": null,
   "id": "01936b4e",
   "metadata": {},
   "outputs": [],
   "source": []
  },
  {
   "cell_type": "code",
   "execution_count": null,
   "id": "e9204208",
   "metadata": {},
   "outputs": [],
   "source": []
  },
  {
   "cell_type": "markdown",
   "id": "c5b02f29",
   "metadata": {},
   "source": [
    "### Evaluation of Model"
   ]
  },
  {
   "cell_type": "code",
   "execution_count": null,
   "id": "45ca4c21",
   "metadata": {},
   "outputs": [],
   "source": []
  }
 ],
 "metadata": {
  "kernelspec": {
   "display_name": "Python 3 (ipykernel)",
   "language": "python",
   "name": "python3"
  },
  "language_info": {
   "codemirror_mode": {
    "name": "ipython",
    "version": 3
   },
   "file_extension": ".py",
   "mimetype": "text/x-python",
   "name": "python",
   "nbconvert_exporter": "python",
   "pygments_lexer": "ipython3",
   "version": "3.10.6"
  },
  "toc": {
   "base_numbering": 1,
   "nav_menu": {},
   "number_sections": true,
   "sideBar": true,
   "skip_h1_title": false,
   "title_cell": "Table of Contents",
   "title_sidebar": "Contents",
   "toc_cell": false,
   "toc_position": {},
   "toc_section_display": true,
   "toc_window_display": false
  }
 },
 "nbformat": 4,
 "nbformat_minor": 5
}
