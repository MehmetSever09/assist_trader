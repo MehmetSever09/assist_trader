{
 "cells": [
  {
   "cell_type": "code",
   "execution_count": 2,
   "id": "a859ad6d",
   "metadata": {},
   "outputs": [
    {
     "ename": "ModuleNotFoundError",
     "evalue": "No module named 'darts'",
     "output_type": "error",
     "traceback": [
      "\u001b[0;31m---------------------------------------------------------------------------\u001b[0m",
      "\u001b[0;31mModuleNotFoundError\u001b[0m                       Traceback (most recent call last)",
      "Cell \u001b[0;32mIn[2], line 2\u001b[0m\n\u001b[1;32m      1\u001b[0m \u001b[38;5;28;01mimport\u001b[39;00m \u001b[38;5;21;01mpandas\u001b[39;00m \u001b[38;5;28;01mas\u001b[39;00m \u001b[38;5;21;01mpd\u001b[39;00m\n\u001b[0;32m----> 2\u001b[0m \u001b[38;5;28;01mfrom\u001b[39;00m \u001b[38;5;21;01mdarts\u001b[39;00m \u001b[38;5;28;01mimport\u001b[39;00m TimeSeries\n",
      "\u001b[0;31mModuleNotFoundError\u001b[0m: No module named 'darts'"
     ]
    }
   ],
   "source": [
    "import pandas as pd\n",
    "from darts import TimeSeries"
   ]
  },
  {
   "cell_type": "code",
   "execution_count": null,
   "id": "05ed4b08",
   "metadata": {},
   "outputs": [],
   "source": [
    "from darts.models import AutoARIMA"
   ]
  },
  {
   "cell_type": "code",
   "execution_count": null,
   "id": "efb1a288",
   "metadata": {},
   "outputs": [],
   "source": [
    "import pandas as pd\n",
    "from pandas import Series\n",
    "from pandas.tseries.offsets import DateOffset\n",
    "import numpy as np\n",
    "import scipy\n",
    "from scipy import stats\n",
    "import scipy.stats as scs\n",
    "import itertools\n",
    "from scipy.special import boxcox, inv_boxcox"
   ]
  },
  {
   "cell_type": "code",
   "execution_count": null,
   "id": "75094656",
   "metadata": {},
   "outputs": [],
   "source": [
    "import statsmodels\n",
    "import statsmodels.api as sm\n",
    "import statsmodels.stats as sms\n",
    "from statsmodels.stats.stattools import jarque_bera\n",
    "from statsmodels.tsa.arima_model import ARIMA\n",
    "from statsmodels.tsa.arima_model import ARMA\n",
    "from statsmodels.tsa.statespace.sarimax import SARIMAX\n",
    "from statsmodels.tsa.stattools import adfuller\n",
    "from statsmodels.tsa.seasonal import seasonal_decompose\n",
    "import statsmodels.tsa.api as smt\n",
    "from statsmodels.graphics.tsaplots import plot_acf, plot_pacf\n",
    "from statsmodels.graphics import tsaplots\n",
    "import pmdarima as pm"
   ]
  },
  {
   "cell_type": "code",
   "execution_count": null,
   "id": "827130a5",
   "metadata": {},
   "outputs": [],
   "source": [
    "from datetime import datetime, timedelta, date"
   ]
  },
  {
   "cell_type": "code",
   "execution_count": null,
   "id": "036a1dda",
   "metadata": {},
   "outputs": [],
   "source": [
    "import prophet\n",
    "from prophet import Prophet"
   ]
  },
  {
   "cell_type": "code",
   "execution_count": null,
   "id": "a032d769",
   "metadata": {},
   "outputs": [],
   "source": [
    "import sys\n",
    "import warnings\n",
    "import matplotlib.cbook\n",
    "if not sys.warnoptions:\n",
    "    warnings.simplefilter(\"ignore\")\n",
    "warnings.simplefilter(action='ignore', category=FutureWarning)\n",
    "warnings.filterwarnings(\"ignore\", category=FutureWarning)\n",
    "warnings.filterwarnings(\"ignore\", category=matplotlib.cbook.mplDeprecation)\n",
    "\n",
    "\n",
    "import pandas as pd\n",
    "from pandas import Series\n",
    "from pandas.tseries.offsets import DateOffset\n",
    "import numpy as np\n",
    "import scipy\n",
    "from scipy import stats\n",
    "import scipy.stats as scs\n",
    "import itertools\n",
    "from scipy.special import boxcox, inv_boxcox\n",
    "\n",
    "\n",
    "import matplotlib.pyplot as plt\n",
    "import matplotlib as m\n",
    "import seaborn as sns\n",
    "\n",
    "# Data Source\n",
    "import yfinance as yf\n",
    "\n",
    "# Stats models\n",
    "import statsmodels\n",
    "import statsmodels.api as sm\n",
    "import statsmodels.stats as sms\n",
    "from statsmodels.stats.stattools import jarque_bera\n",
    "from statsmodels.tsa.arima_model import ARIMA\n",
    "from statsmodels.tsa.arima_model import ARMA\n",
    "from statsmodels.tsa.statespace.sarimax import SARIMAX\n",
    "from statsmodels.tsa.stattools import adfuller\n",
    "from statsmodels.tsa.seasonal import seasonal_decompose\n",
    "import statsmodels.tsa.api as smt\n",
    "from statsmodels.graphics.tsaplots import plot_acf, plot_pacf\n",
    "from statsmodels.graphics import tsaplots\n",
    "import pmdarima as pm\n",
    "\n",
    "# Date tools\n",
    "from datetime import datetime, timedelta, date\n",
    "\n",
    "# Prophet model\n",
    "import prophet\n",
    "from prophet import Prophet\n",
    "\n",
    "# Imports for model metrics and performance\n",
    "import math\n",
    "from math import sqrt \n",
    "import sklearn\n",
    "from sklearn.metrics import mean_squared_error\n",
    "import plotly as py\n",
    "import plotly.express as px\n",
    "import plotly.graph_objs as go \n",
    "from plotly.offline import download_plotlyjs, init_notebook_mode, plot, iplot\n",
    "from sklearn.preprocessing import MinMaxScaler"
   ]
  },
  {
   "cell_type": "code",
   "execution_count": null,
   "id": "aacb4e68",
   "metadata": {},
   "outputs": [],
   "source": [
    "from statsmodels.tsa.seasonal import seasonal_decompose"
   ]
  },
  {
   "cell_type": "code",
   "execution_count": null,
   "id": "c41ef76f",
   "metadata": {},
   "outputs": [],
   "source": [
    "import re"
   ]
  },
  {
   "cell_type": "code",
   "execution_count": null,
   "id": "ec085fa3",
   "metadata": {},
   "outputs": [],
   "source": [
    "import statsmodels.api as sm\n",
    "import statsmodels.tsa.api as smt\n",
    "import statsmodels.formula.api as smf\n",
    "\n",
    "from sklearn.metrics import mean_squared_error"
   ]
  },
  {
   "cell_type": "code",
   "execution_count": null,
   "id": "23f2cf31",
   "metadata": {},
   "outputs": [],
   "source": [
    "%matplotlib inline\n",
    "\n",
    "import pandas as pd\n",
    "import numpy as np\n",
    "import matplotlib.pyplot as plt"
   ]
  },
  {
   "cell_type": "code",
   "execution_count": null,
   "id": "c4287a8b",
   "metadata": {},
   "outputs": [],
   "source": [
    "plt.rcParams[\"figure.figsize\"] = (14,6)\n",
    "plt.style.use('fivethirtyeight')\n",
    "pd.set_option('display.expand_frame_repr', False)\n",
    "pd.set_option('display.max_columns', 500)\n",
    "pd.set_option('display.width', 1000)\n",
    "m.rcParams['axes.labelsize'] = 14\n",
    "m.rcParams['xtick.labelsize'] = 12\n",
    "m.rcParams['ytick.labelsize'] = 12\n",
    "m.rcParams['text.color'] = 'k'"
   ]
  },
  {
   "cell_type": "code",
   "execution_count": null,
   "id": "af8f6a90",
   "metadata": {
    "scrolled": true
   },
   "outputs": [],
   "source": [
    "data_path = (\"../raw_data/data_daily.csv\")\n",
    "data = pd.read_csv(data_path)\n",
    "data[\"timestamp\"] = pd.to_datetime(data['timestamp'])\n",
    "\n",
    "data.drop_duplicates(subset='timestamp', inplace=True)\n",
    "\n",
    "data.head()"
   ]
  },
  {
   "cell_type": "code",
   "execution_count": null,
   "id": "733583c8",
   "metadata": {},
   "outputs": [],
   "source": [
    "data.info()"
   ]
  },
  {
   "cell_type": "code",
   "execution_count": null,
   "id": "6e758d69",
   "metadata": {
    "scrolled": true
   },
   "outputs": [],
   "source": [
    "data.isnull().sum().sum()"
   ]
  },
  {
   "cell_type": "code",
   "execution_count": null,
   "id": "f9efc169",
   "metadata": {},
   "outputs": [],
   "source": [
    "#data=data.dropna()"
   ]
  },
  {
   "cell_type": "code",
   "execution_count": null,
   "id": "9a9a0d19",
   "metadata": {
    "scrolled": true
   },
   "outputs": [],
   "source": [
    "data.duplicated().sum()"
   ]
  },
  {
   "cell_type": "code",
   "execution_count": null,
   "id": "63bf0788",
   "metadata": {},
   "outputs": [],
   "source": [
    "#data = data.drop_duplicates()"
   ]
  },
  {
   "cell_type": "code",
   "execution_count": null,
   "id": "c088e154",
   "metadata": {
    "scrolled": true
   },
   "outputs": [],
   "source": [
    "#had to remove duplicates\n",
    "#series = TimeSeries.from_dataframe(data,\"timestamp\", \"close\", freq='H')"
   ]
  },
  {
   "cell_type": "markdown",
   "id": "5de5fbe6",
   "metadata": {},
   "source": [
    "# TRAIN SPLIT"
   ]
  },
  {
   "cell_type": "code",
   "execution_count": null,
   "id": "d5c0144f",
   "metadata": {},
   "outputs": [],
   "source": [
    "train_size = 0.7\n",
    "index = round(train_size*data.shape[0])\n",
    "\n",
    "data_train = data.iloc[:index]\n",
    "data_test = data.iloc[index:]"
   ]
  },
  {
   "cell_type": "code",
   "execution_count": null,
   "id": "ee60848e",
   "metadata": {},
   "outputs": [],
   "source": [
    "data_train.shape"
   ]
  },
  {
   "cell_type": "code",
   "execution_count": null,
   "id": "13efe47b",
   "metadata": {},
   "outputs": [],
   "source": [
    "data_test.shape"
   ]
  },
  {
   "cell_type": "code",
   "execution_count": null,
   "id": "3eda6fe9",
   "metadata": {},
   "outputs": [],
   "source": [
    "y_train=data_train[['timestamp', 'close']]\n",
    "X_train=data_train.drop(columns=['timestamp', 'close'])\n",
    "X_train"
   ]
  },
  {
   "cell_type": "code",
   "execution_count": null,
   "id": "9c829206",
   "metadata": {},
   "outputs": [],
   "source": [
    "y_train"
   ]
  },
  {
   "cell_type": "code",
   "execution_count": null,
   "id": "49cb5d59",
   "metadata": {},
   "outputs": [],
   "source": [
    "y_test=data_test[['timestamp', 'close']]\n",
    "X_test=data_test.drop(columns=['timestamp', 'close'])\n",
    "X_test"
   ]
  },
  {
   "cell_type": "code",
   "execution_count": null,
   "id": "388d5b72",
   "metadata": {},
   "outputs": [],
   "source": [
    "y_test"
   ]
  },
  {
   "cell_type": "markdown",
   "id": "5af8a427",
   "metadata": {},
   "source": [
    "# ETS(baseline)"
   ]
  },
  {
   "cell_type": "code",
   "execution_count": null,
   "id": "44f43022",
   "metadata": {
    "scrolled": true
   },
   "outputs": [],
   "source": [
    "from darts.models import ExponentialSmoothing"
   ]
  },
  {
   "cell_type": "code",
   "execution_count": null,
   "id": "5a00b181",
   "metadata": {},
   "outputs": [],
   "source": [
    "data"
   ]
  },
  {
   "cell_type": "code",
   "execution_count": null,
   "id": "b251668b",
   "metadata": {},
   "outputs": [],
   "source": [
    "data.info()"
   ]
  },
  {
   "cell_type": "code",
   "execution_count": null,
   "id": "6dd05029",
   "metadata": {},
   "outputs": [],
   "source": [
    "#data.reset_index(inplace=True)"
   ]
  },
  {
   "cell_type": "code",
   "execution_count": null,
   "id": "2ec3bb9c",
   "metadata": {},
   "outputs": [],
   "source": [
    "data"
   ]
  },
  {
   "cell_type": "code",
   "execution_count": null,
   "id": "89e5e756",
   "metadata": {},
   "outputs": [],
   "source": [
    "data['log_close'] = np.log(data['close'])"
   ]
  },
  {
   "cell_type": "code",
   "execution_count": null,
   "id": "daf4a7e2",
   "metadata": {
    "scrolled": true
   },
   "outputs": [],
   "source": [
    "series = TimeSeries.from_dataframe(data, 'timestamp', \"log_close\",freq='1D')"
   ]
  },
  {
   "cell_type": "code",
   "execution_count": null,
   "id": "dd939d04",
   "metadata": {},
   "outputs": [],
   "source": [
    "train, val = series.split_before(pd.Timestamp('2023-01-01 00:00:00'))"
   ]
  },
  {
   "cell_type": "code",
   "execution_count": null,
   "id": "f925a030",
   "metadata": {},
   "outputs": [],
   "source": [
    "data['timestamp'].duplicated().sum()"
   ]
  },
  {
   "cell_type": "code",
   "execution_count": null,
   "id": "9290a463",
   "metadata": {},
   "outputs": [],
   "source": [
    "model = ExponentialSmoothing()\n",
    "model.fit(train)\n",
    "prediction = model.predict(1)#, num_samples=1000)"
   ]
  },
  {
   "cell_type": "code",
   "execution_count": null,
   "id": "b291a70b",
   "metadata": {},
   "outputs": [],
   "source": [
    "series[:1300].plot()\n",
    "prediction.plot()"
   ]
  },
  {
   "cell_type": "code",
   "execution_count": null,
   "id": "5ca79bf6",
   "metadata": {},
   "outputs": [],
   "source": [
    "len(train)"
   ]
  },
  {
   "cell_type": "code",
   "execution_count": null,
   "id": "05c42b92",
   "metadata": {},
   "outputs": [],
   "source": [
    "prediction = model.predict(len(val))"
   ]
  },
  {
   "cell_type": "code",
   "execution_count": null,
   "id": "7e2b37d8",
   "metadata": {},
   "outputs": [],
   "source": [
    "import matplotlib.pyplot as plt\n",
    "\n",
    "series.plot()\n",
    "prediction.plot(label=\"forecast\", low_quantile=0.05, high_quantile=0.95)\n",
    "plt.legend()"
   ]
  },
  {
   "cell_type": "code",
   "execution_count": null,
   "id": "26bc8679",
   "metadata": {},
   "outputs": [],
   "source": [
    "from darts.ad import KMeansScorer\n",
    "\n",
    "scorer = KMeansScorer(k=2, window=5)\n",
    "scorer.fit(train)\n",
    "anom_score = scorer.score(val)"
   ]
  },
  {
   "cell_type": "code",
   "execution_count": null,
   "id": "364c2214",
   "metadata": {},
   "outputs": [],
   "source": [
    "from darts.ad import QuantileDetector\n",
    "\n",
    "detector = QuantileDetector(high_quantile=0.99)\n",
    "detector.fit(scorer.score(train))\n",
    "binary_anom = detector.detect(anom_score)"
   ]
  },
  {
   "cell_type": "code",
   "execution_count": null,
   "id": "594d4080",
   "metadata": {
    "scrolled": true
   },
   "outputs": [],
   "source": [
    "import matplotlib.pyplot as plt\n",
    "\n",
    "series.plot()\n",
    "(anom_score / 2. - 100).plot(label=\"computed anomaly score\", c=\"orangered\", lw=3)\n",
    "(binary_anom * 45 - 150).plot(label=\"detected binary anomaly\", lw=4)"
   ]
  },
  {
   "cell_type": "code",
   "execution_count": null,
   "id": "67783eb2",
   "metadata": {
    "scrolled": true
   },
   "outputs": [],
   "source": [
    "from darts.metrics import mape"
   ]
  },
  {
   "cell_type": "code",
   "execution_count": null,
   "id": "920c95a3",
   "metadata": {},
   "outputs": [],
   "source": [
    "score=mape(val,prediction)"
   ]
  },
  {
   "cell_type": "code",
   "execution_count": null,
   "id": "4720d02c",
   "metadata": {},
   "outputs": [],
   "source": [
    "score"
   ]
  },
  {
   "cell_type": "code",
   "execution_count": null,
   "id": "977aaeb2",
   "metadata": {},
   "outputs": [],
   "source": [
    "from darts.metrics import mase"
   ]
  },
  {
   "cell_type": "code",
   "execution_count": null,
   "id": "020fe7e7",
   "metadata": {},
   "outputs": [],
   "source": [
    "score1=mase(val,prediction,train)"
   ]
  },
  {
   "cell_type": "code",
   "execution_count": null,
   "id": "0407260a",
   "metadata": {},
   "outputs": [],
   "source": [
    "score1"
   ]
  },
  {
   "cell_type": "code",
   "execution_count": null,
   "id": "892d0d07",
   "metadata": {},
   "outputs": [],
   "source": [
    "model = ExponentialSmoothing()\n",
    "\n",
    "backtest = model.historical_forecasts(series,start=0.8, forecast_horizon=1)"
   ]
  },
  {
   "cell_type": "code",
   "execution_count": null,
   "id": "0ee3cd84",
   "metadata": {},
   "outputs": [],
   "source": [
    "series[1000:].plot()\n",
    "backtest.plot(label=\"forecast\", low_quantile=0.05, high_quantile=0.95)\n",
    "plt.legend()"
   ]
  },
  {
   "cell_type": "markdown",
   "id": "e1d42514",
   "metadata": {},
   "source": [
    "Choosing the model for forecasting"
   ]
  },
  {
   "cell_type": "markdown",
   "id": "7abe508a",
   "metadata": {},
   "source": [
    "Gridsearch best model.best params"
   ]
  },
  {
   "cell_type": "markdown",
   "id": "6ddfd19f",
   "metadata": {},
   "source": [
    "# ARIMA"
   ]
  },
  {
   "cell_type": "code",
   "execution_count": null,
   "id": "16210e46",
   "metadata": {},
   "outputs": [],
   "source": [
    "from statsmodels.tsa.arima.model import ARIMA"
   ]
  },
  {
   "cell_type": "code",
   "execution_count": null,
   "id": "6e6942c9",
   "metadata": {},
   "outputs": [],
   "source": [
    "from statsmodels.tsa.seasonal import seasonal_decompose"
   ]
  },
  {
   "cell_type": "code",
   "execution_count": null,
   "id": "3d7eefcf",
   "metadata": {},
   "outputs": [],
   "source": [
    "data.set_index('timestamp',inplace=True)"
   ]
  },
  {
   "cell_type": "code",
   "execution_count": null,
   "id": "22bfb33d",
   "metadata": {},
   "outputs": [],
   "source": [
    "data"
   ]
  },
  {
   "cell_type": "code",
   "execution_count": null,
   "id": "6ba4d96b",
   "metadata": {
    "scrolled": false
   },
   "outputs": [],
   "source": [
    "type(data.index)"
   ]
  },
  {
   "cell_type": "markdown",
   "id": "3b9e0023",
   "metadata": {},
   "source": [
    "Multiplicative Decomposition "
   ]
  },
  {
   "cell_type": "code",
   "execution_count": null,
   "id": "891516ab",
   "metadata": {},
   "outputs": [],
   "source": [
    "indexed_data=data[:1000]"
   ]
  },
  {
   "cell_type": "code",
   "execution_count": null,
   "id": "17cdc0bc",
   "metadata": {},
   "outputs": [],
   "source": [
    "indexed_data"
   ]
  },
  {
   "cell_type": "code",
   "execution_count": null,
   "id": "ac7f8641",
   "metadata": {},
   "outputs": [],
   "source": [
    "result_mul = seasonal_decompose(data['close'], model='multiplicative',period=120)"
   ]
  },
  {
   "cell_type": "code",
   "execution_count": null,
   "id": "a50e7509",
   "metadata": {},
   "outputs": [],
   "source": [
    "pwd!"
   ]
  },
  {
   "cell_type": "code",
   "execution_count": null,
   "id": "1ab81489",
   "metadata": {},
   "outputs": [],
   "source": [
    "#Removing seasons\n",
    "data['deseasonalized'] = data.close.values/result_mul.seasonal"
   ]
  },
  {
   "cell_type": "code",
   "execution_count": null,
   "id": "72ff397a",
   "metadata": {},
   "outputs": [],
   "source": [
    "#plt.figure(figsize=(15,4)); plt.subplot(1,2,1); plt.plot(data.deseasonalized);\n",
    "#plt.title('close price lin', fontsize=16);"
   ]
  },
  {
   "cell_type": "code",
   "execution_count": null,
   "id": "90d8b817",
   "metadata": {},
   "outputs": [],
   "source": [
    "#Removing trend\n",
    "data['linearized'] = np.log(data['deseasonalized'])"
   ]
  },
  {
   "cell_type": "code",
   "execution_count": null,
   "id": "de199f5c",
   "metadata": {},
   "outputs": [],
   "source": [
    "#plt.subplot(1,2,2); plt.plot(data['linearized'])\n",
    "#plt.title('close price lin', fontsize=16);"
   ]
  },
  {
   "cell_type": "code",
   "execution_count": null,
   "id": "999e46aa",
   "metadata": {},
   "outputs": [],
   "source": [
    "# 1st Differencing\n",
    "y_diff = data['linearized'].diff().dropna()\n",
    "\n",
    "# 2nd Differencing\n",
    "y_diff_diff = data['linearized'].diff().diff().dropna()"
   ]
  },
  {
   "cell_type": "code",
   "execution_count": null,
   "id": "1b459db4",
   "metadata": {},
   "outputs": [],
   "source": [
    "print('p-value zero-diff: ', adfuller(data['linearized'])[1])\n",
    "print('p-value first-diff: ', adfuller(data['linearized'].diff().dropna())[1])\n",
    "print('p-value second-diff: ', adfuller(data['linearized'].diff().diff().dropna())[1])"
   ]
  },
  {
   "cell_type": "code",
   "execution_count": null,
   "id": "5222f078",
   "metadata": {},
   "outputs": [],
   "source": [
    "from pmdarima.arima.utils import ndiffs\n",
    "ndiffs(data['linearized'])"
   ]
  },
  {
   "cell_type": "code",
   "execution_count": null,
   "id": "21173fbf",
   "metadata": {},
   "outputs": [],
   "source": [
    "arima = ARIMA(data['linearized'], order=(2, 1, 1), trend='t')\n",
    "arima = arima.fit()"
   ]
  },
  {
   "cell_type": "code",
   "execution_count": null,
   "id": "a1097ebf",
   "metadata": {},
   "outputs": [],
   "source": [
    "arima.summary()"
   ]
  },
  {
   "cell_type": "markdown",
   "id": "a9a11904",
   "metadata": {},
   "source": [
    "parameters"
   ]
  },
  {
   "cell_type": "code",
   "execution_count": null,
   "id": "d48ef801",
   "metadata": {},
   "outputs": [],
   "source": [
    "smodel = pm.auto_arima(df['linearized'],\n",
    "                       start_p=1, max_p=2,\n",
    "                       start_q=1, max_q=2,\n",
    "                       trend='t',\n",
    "                       seasonal=False,\n",
    "                       trace=True)"
   ]
  },
  {
   "cell_type": "code",
   "execution_count": null,
   "id": "6e406d19",
   "metadata": {},
   "outputs": [],
   "source": [
    "aarima_model = AutoARIMA(\n",
    "    start_p=1, start_q=1,\n",
    "    max_p=5, max_q=5,\n",
    "    m=1,\n",
    "    d=1,\n",
    "    seasonal=False,\n",
    "    start_P=0,\n",
    "    D=None,\n",
    "    trace=True,\n",
    "    error_action='ignore',\n",
    "    suppress_warnings=True, stepwise=True\n",
    ")\n",
    "\n",
    "aarima_model.fit(train)"
   ]
  },
  {
   "cell_type": "code",
   "execution_count": null,
   "id": "3b79bcdf",
   "metadata": {},
   "outputs": [],
   "source": [
    "aarima_model.model_params"
   ]
  },
  {
   "cell_type": "code",
   "execution_count": null,
   "id": "8967ce1d",
   "metadata": {},
   "outputs": [],
   "source": [
    "data['linearized']"
   ]
  },
  {
   "cell_type": "code",
   "execution_count": null,
   "id": "7e749064",
   "metadata": {},
   "outputs": [],
   "source": [
    "prediction = aarima_model.predict(len(val))"
   ]
  },
  {
   "cell_type": "code",
   "execution_count": null,
   "id": "90592d86",
   "metadata": {},
   "outputs": [],
   "source": [
    "import matplotlib.pyplot as plt\n",
    "\n",
    "series.plot(label='actual')\n",
    "prediction.plot(label='forecast', lw=3)\n",
    "plt.legend()"
   ]
  },
  {
   "cell_type": "code",
   "execution_count": null,
   "id": "1477e064",
   "metadata": {},
   "outputs": [],
   "source": [
    "train = data['linearized'][0:25000]\n",
    "val = data['linearized'][25000:]\n",
    "\n",
    "# Building model\n",
    "arima = ARIMA(train, order=(2, 1, 1), trend='t')  \n",
    "arima = arima.fit()\n",
    "\n",
    "\n",
    "forecast = arima.forecast(len(val), alpha=0.05)  # 95% confidence\n",
    "\n",
    "\n",
    "forecast_results = arima.get_forecast(len(val), alpha=0.05)\n",
    "forecast = forecast_results.predicted_mean\n",
    "confidence_int = forecast_results.conf_int().values"
   ]
  },
  {
   "cell_type": "code",
   "execution_count": null,
   "id": "56296e87",
   "metadata": {},
   "outputs": [],
   "source": [
    "#recomposition back to timeseries\n",
    "forecast_recons = np.exp(forecast) * result_mul.seasonal[25000:]\n",
    "train_recons = np.exp(train) * result_mul.seasonal[0:25000]\n",
    "val_recons = np.exp(val) * result_mul.seasonal[25000:]\n",
    "lower_recons = np.exp(confidence_int)[:, 0] * result_mul.seasonal[25000:]\n",
    "upper_recons = np.exp(confidence_int)[:, 1] * result_mul.seasonal[25000:]"
   ]
  },
  {
   "cell_type": "code",
   "execution_count": null,
   "id": "90c93c4f",
   "metadata": {},
   "outputs": [],
   "source": [
    "residuals = pd.DataFrame(arima.resid)\n",
    "\n",
    "fig, ax = plt.subplots(1,2, figsize=(16,3))\n",
    "residuals.plot(title=\"Residuals\", ax=ax[0])\n",
    "residuals.plot(kind='kde', title='Density', ax=ax[1]);"
   ]
  },
  {
   "cell_type": "code",
   "execution_count": null,
   "id": "323706f2",
   "metadata": {
    "scrolled": true
   },
   "outputs": [],
   "source": [
    "best_order = smodel.order"
   ]
  },
  {
   "cell_type": "code",
   "execution_count": null,
   "id": "d268e684",
   "metadata": {
    "scrolled": true
   },
   "outputs": [],
   "source": [
    "print(np.exp(ARIMA(log_close,order=best_order).fit().get_forecast(1).predicted_mean))"
   ]
  },
  {
   "cell_type": "markdown",
   "id": "0da0c148",
   "metadata": {},
   "source": [
    "# SARIMA"
   ]
  },
  {
   "cell_type": "markdown",
   "id": "56475aa7",
   "metadata": {},
   "source": [
    "Train split"
   ]
  },
  {
   "cell_type": "code",
   "execution_count": null,
   "id": "b4f809bd",
   "metadata": {
    "scrolled": true
   },
   "outputs": [],
   "source": [
    "data['log'] = np.log(data.close)"
   ]
  },
  {
   "cell_type": "code",
   "execution_count": null,
   "id": "b01eb027",
   "metadata": {
    "scrolled": true
   },
   "outputs": [],
   "source": [
    "train = data.log[0:25000]\n",
    "val = data.log[25000:]"
   ]
  },
  {
   "cell_type": "code",
   "execution_count": null,
   "id": "4b17f82d",
   "metadata": {},
   "outputs": [],
   "source": [
    "smodel = pm.auto_arima(train, seasonal=True, m=12, \n",
    "                       start_p=0, max_p=1, max_d=1, start_q=0, max_q=1,\n",
    "                       start_P=0, max_P=2, max_D=1, start_Q=0, max_Q=2, \n",
    "                       trace=True, error_action='ignore', suppress_warnings=True)"
   ]
  },
  {
   "cell_type": "code",
   "execution_count": null,
   "id": "95d4de74",
   "metadata": {
    "scrolled": true
   },
   "outputs": [],
   "source": [
    "from statsmodels.tsa.statespace.sarimax import SARIMAX\n",
    "\n",
    "\n",
    "sarima = SARIMAX(train, order=(1, 1, 1), seasonal_order=(2, 0, 0, 12))\n",
    "sarima = sarima.fit(maxiter=75)\n",
    "\n",
    "results = sarima.get_forecast(len(val), alpha=0.05)\n",
    "forecast = results.predicted_mean\n",
    "confidence_int = results.conf_int()"
   ]
  },
  {
   "cell_type": "code",
   "execution_count": null,
   "id": "e5f52374",
   "metadata": {},
   "outputs": [],
   "source": [
    "forecast_recons = pd.Series(np.exp(forecast), index=val.index)\n",
    "lower_recons = np.exp(confidence_int['lower log']).values\n",
    "upper_recons = np.exp(confidence_int['upper log']).values"
   ]
  },
  {
   "cell_type": "code",
   "execution_count": null,
   "id": "5647037b",
   "metadata": {},
   "outputs": [],
   "source": [
    "sarima.summary()"
   ]
  },
  {
   "cell_type": "markdown",
   "id": "49ad1dfa",
   "metadata": {},
   "source": [
    "# PROPHET"
   ]
  },
  {
   "cell_type": "code",
   "execution_count": null,
   "id": "50f43f30",
   "metadata": {},
   "outputs": [],
   "source": [
    "df = data.reset_index().rename(columns={'timestamp': 'ds', 'close':'y'})\n",
    "df.head()"
   ]
  },
  {
   "cell_type": "code",
   "execution_count": null,
   "id": "c0ea1146",
   "metadata": {},
   "outputs": [],
   "source": [
    "from prophet import Prophet\n",
    "\n",
    "train = df.iloc[:28000]\n",
    "val = df.iloc[28000:]\n",
    "\n",
    "model = Prophet(seasonality_mode='multiplicative')\n",
    "\n",
    "model.fit(train)"
   ]
  },
  {
   "cell_type": "code",
   "execution_count": null,
   "id": "e4f34563",
   "metadata": {},
   "outputs": [],
   "source": [
    "forecast_val = model.predict(val)\n",
    "forecast_val.head()"
   ]
  },
  {
   "cell_type": "code",
   "execution_count": null,
   "id": "a0c4dca5",
   "metadata": {},
   "outputs": [],
   "source": [
    "model.plot(forecast_val);"
   ]
  },
  {
   "cell_type": "code",
   "execution_count": null,
   "id": "dd7a42b5",
   "metadata": {},
   "outputs": [],
   "source": [
    "# Predict the next 50 datapoints\n",
    "future = model.make_future_dataframe(periods=50, freq='1h')\n",
    "forecast_future = model.predict(future)\n",
    "forecast_future.head()"
   ]
  },
  {
   "cell_type": "code",
   "execution_count": null,
   "id": "817487a1",
   "metadata": {},
   "outputs": [],
   "source": [
    "from prophet.diagnostics import cross_validation, performance_metrics\n",
    "from prophet.plot import plot_cross_validation_metric\n",
    "\n",
    "initial = f'{5 * 365} days' \n",
    "period = f'{5 * 365} days'\n",
    "horizon = '365 days'\n",
    "df_cv = cross_validation(model, initial=initial, period=period, horizon=horizon)"
   ]
  },
  {
   "cell_type": "code",
   "execution_count": null,
   "id": "b815e2cc",
   "metadata": {},
   "outputs": [],
   "source": []
  },
  {
   "cell_type": "code",
   "execution_count": null,
   "id": "8d9de6e1",
   "metadata": {},
   "outputs": [],
   "source": []
  },
  {
   "cell_type": "code",
   "execution_count": null,
   "id": "4a3357a6",
   "metadata": {},
   "outputs": [],
   "source": []
  },
  {
   "cell_type": "code",
   "execution_count": null,
   "id": "d28d7ea1",
   "metadata": {},
   "outputs": [],
   "source": []
  },
  {
   "cell_type": "code",
   "execution_count": null,
   "id": "68cfdd6d",
   "metadata": {},
   "outputs": [],
   "source": []
  },
  {
   "cell_type": "code",
   "execution_count": null,
   "id": "36ff751d",
   "metadata": {},
   "outputs": [],
   "source": []
  }
 ],
 "metadata": {
  "kernelspec": {
   "display_name": "Python 3 (ipykernel)",
   "language": "python",
   "name": "python3"
  },
  "language_info": {
   "codemirror_mode": {
    "name": "ipython",
    "version": 3
   },
   "file_extension": ".py",
   "mimetype": "text/x-python",
   "name": "python",
   "nbconvert_exporter": "python",
   "pygments_lexer": "ipython3",
   "version": "3.10.6"
  },
  "toc": {
   "base_numbering": 1,
   "nav_menu": {},
   "number_sections": true,
   "sideBar": true,
   "skip_h1_title": false,
   "title_cell": "Table of Contents",
   "title_sidebar": "Contents",
   "toc_cell": false,
   "toc_position": {},
   "toc_section_display": true,
   "toc_window_display": false
  }
 },
 "nbformat": 4,
 "nbformat_minor": 5
}
