{
 "cells": [
  {
   "cell_type": "markdown",
   "id": "ac948406",
   "metadata": {},
   "source": [
    "# Volume Indicators"
   ]
  },
  {
   "cell_type": "markdown",
   "id": "97db202a",
   "metadata": {},
   "source": [
    "Imports"
   ]
  },
  {
   "cell_type": "code",
   "execution_count": 1,
   "id": "fc5da2fd",
   "metadata": {},
   "outputs": [],
   "source": [
    "import ta\n",
    "import pandas as pd"
   ]
  },
  {
   "cell_type": "markdown",
   "id": "45a8ccfd",
   "metadata": {},
   "source": [
    "Data"
   ]
  },
  {
   "cell_type": "code",
   "execution_count": 2,
   "id": "8257a51f",
   "metadata": {},
   "outputs": [
    {
     "data": {
      "text/html": [
       "<div>\n",
       "<style scoped>\n",
       "    .dataframe tbody tr th:only-of-type {\n",
       "        vertical-align: middle;\n",
       "    }\n",
       "\n",
       "    .dataframe tbody tr th {\n",
       "        vertical-align: top;\n",
       "    }\n",
       "\n",
       "    .dataframe thead th {\n",
       "        text-align: right;\n",
       "    }\n",
       "</style>\n",
       "<table border=\"1\" class=\"dataframe\">\n",
       "  <thead>\n",
       "    <tr style=\"text-align: right;\">\n",
       "      <th></th>\n",
       "      <th>timestamp</th>\n",
       "      <th>open</th>\n",
       "      <th>high</th>\n",
       "      <th>low</th>\n",
       "      <th>close</th>\n",
       "      <th>volume</th>\n",
       "    </tr>\n",
       "  </thead>\n",
       "  <tbody>\n",
       "    <tr>\n",
       "      <th>0</th>\n",
       "      <td>2019-09-08 20:00:00</td>\n",
       "      <td>10000.00</td>\n",
       "      <td>10000.00</td>\n",
       "      <td>10000.00</td>\n",
       "      <td>10000.00</td>\n",
       "      <td>0.002</td>\n",
       "    </tr>\n",
       "    <tr>\n",
       "      <th>1</th>\n",
       "      <td>2019-09-08 21:00:00</td>\n",
       "      <td>10000.00</td>\n",
       "      <td>10000.00</td>\n",
       "      <td>10000.00</td>\n",
       "      <td>10000.00</td>\n",
       "      <td>0.000</td>\n",
       "    </tr>\n",
       "    <tr>\n",
       "      <th>2</th>\n",
       "      <td>2019-09-08 22:00:00</td>\n",
       "      <td>10344.77</td>\n",
       "      <td>10357.53</td>\n",
       "      <td>10337.43</td>\n",
       "      <td>10340.12</td>\n",
       "      <td>471.659</td>\n",
       "    </tr>\n",
       "    <tr>\n",
       "      <th>3</th>\n",
       "      <td>2019-09-08 23:00:00</td>\n",
       "      <td>10340.12</td>\n",
       "      <td>10368.64</td>\n",
       "      <td>10334.54</td>\n",
       "      <td>10351.42</td>\n",
       "      <td>583.271</td>\n",
       "    </tr>\n",
       "    <tr>\n",
       "      <th>4</th>\n",
       "      <td>2019-09-09 00:00:00</td>\n",
       "      <td>10351.42</td>\n",
       "      <td>10391.90</td>\n",
       "      <td>10324.77</td>\n",
       "      <td>10391.90</td>\n",
       "      <td>689.759</td>\n",
       "    </tr>\n",
       "  </tbody>\n",
       "</table>\n",
       "</div>"
      ],
      "text/plain": [
       "             timestamp      open      high       low     close   volume\n",
       "0  2019-09-08 20:00:00  10000.00  10000.00  10000.00  10000.00    0.002\n",
       "1  2019-09-08 21:00:00  10000.00  10000.00  10000.00  10000.00    0.000\n",
       "2  2019-09-08 22:00:00  10344.77  10357.53  10337.43  10340.12  471.659\n",
       "3  2019-09-08 23:00:00  10340.12  10368.64  10334.54  10351.42  583.271\n",
       "4  2019-09-09 00:00:00  10351.42  10391.90  10324.77  10391.90  689.759"
      ]
     },
     "execution_count": 2,
     "metadata": {},
     "output_type": "execute_result"
    }
   ],
   "source": [
    "data = pd.read_csv(\"../raw_data/BTCUSDT_1h.csv\")\n",
    "data.head()"
   ]
  },
  {
   "cell_type": "markdown",
   "id": "d58ee2c3",
   "metadata": {},
   "source": [
    "Acc Dist Index Indicator"
   ]
  },
  {
   "cell_type": "code",
   "execution_count": 3,
   "id": "6dbcc874",
   "metadata": {},
   "outputs": [],
   "source": [
    "#from ta.volume import AccDistIndexIndicator"
   ]
  },
  {
   "cell_type": "code",
   "execution_count": 4,
   "id": "a80508c0",
   "metadata": {},
   "outputs": [],
   "source": [
    "#adii_indicator = ta.volume.AccDistIndexIndicator(high = data[\"high\"], low = data[\"low\"], close = data[\"close\"], volume = data[\"volume\"])\n",
    "#adii_values = adii_indicator.acc_dist_index()\n",
    "#data['adi'] = adii_values\n",
    "#data.tail(1)"
   ]
  },
  {
   "cell_type": "markdown",
   "id": "6e9e1b5d",
   "metadata": {},
   "source": [
    "Chaikin Money Flow Indicator"
   ]
  },
  {
   "cell_type": "code",
   "execution_count": 5,
   "id": "879c45db",
   "metadata": {},
   "outputs": [],
   "source": [
    "from ta.volume import ChaikinMoneyFlowIndicator"
   ]
  },
  {
   "cell_type": "code",
   "execution_count": 6,
   "id": "74ddcd8e",
   "metadata": {},
   "outputs": [
    {
     "data": {
      "text/html": [
       "<div>\n",
       "<style scoped>\n",
       "    .dataframe tbody tr th:only-of-type {\n",
       "        vertical-align: middle;\n",
       "    }\n",
       "\n",
       "    .dataframe tbody tr th {\n",
       "        vertical-align: top;\n",
       "    }\n",
       "\n",
       "    .dataframe thead th {\n",
       "        text-align: right;\n",
       "    }\n",
       "</style>\n",
       "<table border=\"1\" class=\"dataframe\">\n",
       "  <thead>\n",
       "    <tr style=\"text-align: right;\">\n",
       "      <th></th>\n",
       "      <th>timestamp</th>\n",
       "      <th>open</th>\n",
       "      <th>high</th>\n",
       "      <th>low</th>\n",
       "      <th>close</th>\n",
       "      <th>volume</th>\n",
       "      <th>CMF</th>\n",
       "    </tr>\n",
       "  </thead>\n",
       "  <tbody>\n",
       "    <tr>\n",
       "      <th>32755</th>\n",
       "      <td>2023-06-04 00:00:00</td>\n",
       "      <td>27052.8</td>\n",
       "      <td>27069.3</td>\n",
       "      <td>26900.0</td>\n",
       "      <td>26990.0</td>\n",
       "      <td>18405.196</td>\n",
       "      <td>-0.030499</td>\n",
       "    </tr>\n",
       "  </tbody>\n",
       "</table>\n",
       "</div>"
      ],
      "text/plain": [
       "                 timestamp     open     high      low    close     volume  \\\n",
       "32755  2023-06-04 00:00:00  27052.8  27069.3  26900.0  26990.0  18405.196   \n",
       "\n",
       "            CMF  \n",
       "32755 -0.030499  "
      ]
     },
     "execution_count": 6,
     "metadata": {},
     "output_type": "execute_result"
    }
   ],
   "source": [
    "cmfi_indicator = ta.volume.ChaikinMoneyFlowIndicator(high = data[\"high\"], low = data[\"low\"], close = data[\"close\"], volume = data[\"volume\"])\n",
    "cmfi_values = cmfi_indicator.chaikin_money_flow()\n",
    "data['CMF'] = cmfi_values\n",
    "data.tail(1)"
   ]
  },
  {
   "cell_type": "markdown",
   "id": "1894b19f",
   "metadata": {},
   "source": [
    "Ease Of Movement Indicator"
   ]
  },
  {
   "cell_type": "code",
   "execution_count": 7,
   "id": "fdd92250",
   "metadata": {},
   "outputs": [],
   "source": [
    "#from ta.volume import EaseOfMovementIndicator"
   ]
  },
  {
   "cell_type": "code",
   "execution_count": 8,
   "id": "3b9a62bf",
   "metadata": {},
   "outputs": [],
   "source": [
    "#omi_indicator = ta.volume.EaseOfMovementIndicator(high = data[\"high\"], low = data[\"low\"], volume = data[\"volume\"])\n",
    "#eomi_values = eomi_indicator.sma_ease_of_movement() \n",
    "#data['EMO'] = eomi_values\n",
    "#data.tail(3)#e"
   ]
  },
  {
   "cell_type": "markdown",
   "id": "dc00c705",
   "metadata": {},
   "source": [
    "Force Index Indicator"
   ]
  },
  {
   "cell_type": "code",
   "execution_count": 9,
   "id": "0c04533e",
   "metadata": {},
   "outputs": [],
   "source": [
    "from ta.volume import ForceIndexIndicator"
   ]
  },
  {
   "cell_type": "code",
   "execution_count": 10,
   "id": "1f0095cd",
   "metadata": {},
   "outputs": [
    {
     "data": {
      "text/html": [
       "<div>\n",
       "<style scoped>\n",
       "    .dataframe tbody tr th:only-of-type {\n",
       "        vertical-align: middle;\n",
       "    }\n",
       "\n",
       "    .dataframe tbody tr th {\n",
       "        vertical-align: top;\n",
       "    }\n",
       "\n",
       "    .dataframe thead th {\n",
       "        text-align: right;\n",
       "    }\n",
       "</style>\n",
       "<table border=\"1\" class=\"dataframe\">\n",
       "  <thead>\n",
       "    <tr style=\"text-align: right;\">\n",
       "      <th></th>\n",
       "      <th>timestamp</th>\n",
       "      <th>open</th>\n",
       "      <th>high</th>\n",
       "      <th>low</th>\n",
       "      <th>close</th>\n",
       "      <th>volume</th>\n",
       "      <th>CMF</th>\n",
       "      <th>FII</th>\n",
       "    </tr>\n",
       "  </thead>\n",
       "  <tbody>\n",
       "    <tr>\n",
       "      <th>32753</th>\n",
       "      <td>2023-06-03 22:00:00</td>\n",
       "      <td>27138.9</td>\n",
       "      <td>27153.6</td>\n",
       "      <td>27000.0</td>\n",
       "      <td>27084.9</td>\n",
       "      <td>15389.644</td>\n",
       "      <td>-0.042819</td>\n",
       "      <td>-91926.878625</td>\n",
       "    </tr>\n",
       "    <tr>\n",
       "      <th>32754</th>\n",
       "      <td>2023-06-03 23:00:00</td>\n",
       "      <td>27084.9</td>\n",
       "      <td>27119.5</td>\n",
       "      <td>27042.0</td>\n",
       "      <td>27052.7</td>\n",
       "      <td>7760.747</td>\n",
       "      <td>-0.045307</td>\n",
       "      <td>-114493.903593</td>\n",
       "    </tr>\n",
       "    <tr>\n",
       "      <th>32755</th>\n",
       "      <td>2023-06-04 00:00:00</td>\n",
       "      <td>27052.8</td>\n",
       "      <td>27069.3</td>\n",
       "      <td>26900.0</td>\n",
       "      <td>26990.0</td>\n",
       "      <td>18405.196</td>\n",
       "      <td>-0.030499</td>\n",
       "      <td>-262995.601537</td>\n",
       "    </tr>\n",
       "  </tbody>\n",
       "</table>\n",
       "</div>"
      ],
      "text/plain": [
       "                 timestamp     open     high      low    close     volume  \\\n",
       "32753  2023-06-03 22:00:00  27138.9  27153.6  27000.0  27084.9  15389.644   \n",
       "32754  2023-06-03 23:00:00  27084.9  27119.5  27042.0  27052.7   7760.747   \n",
       "32755  2023-06-04 00:00:00  27052.8  27069.3  26900.0  26990.0  18405.196   \n",
       "\n",
       "            CMF            FII  \n",
       "32753 -0.042819  -91926.878625  \n",
       "32754 -0.045307 -114493.903593  \n",
       "32755 -0.030499 -262995.601537  "
      ]
     },
     "execution_count": 10,
     "metadata": {},
     "output_type": "execute_result"
    }
   ],
   "source": [
    "fii_indicator = ta.volume.ForceIndexIndicator(close = data[\"close\"], volume = data[\"volume\"])\n",
    "fii_values = fii_indicator.force_index() \n",
    "data['FII'] = fii_values\n",
    "data.tail(3)"
   ]
  },
  {
   "cell_type": "markdown",
   "id": "fd078c2f",
   "metadata": {},
   "source": [
    "MFI Indicator"
   ]
  },
  {
   "cell_type": "code",
   "execution_count": 11,
   "id": "83df1698",
   "metadata": {},
   "outputs": [],
   "source": [
    "from ta.volume import MFIIndicator"
   ]
  },
  {
   "cell_type": "code",
   "execution_count": 12,
   "id": "61f96019",
   "metadata": {},
   "outputs": [
    {
     "data": {
      "text/html": [
       "<div>\n",
       "<style scoped>\n",
       "    .dataframe tbody tr th:only-of-type {\n",
       "        vertical-align: middle;\n",
       "    }\n",
       "\n",
       "    .dataframe tbody tr th {\n",
       "        vertical-align: top;\n",
       "    }\n",
       "\n",
       "    .dataframe thead th {\n",
       "        text-align: right;\n",
       "    }\n",
       "</style>\n",
       "<table border=\"1\" class=\"dataframe\">\n",
       "  <thead>\n",
       "    <tr style=\"text-align: right;\">\n",
       "      <th></th>\n",
       "      <th>timestamp</th>\n",
       "      <th>open</th>\n",
       "      <th>high</th>\n",
       "      <th>low</th>\n",
       "      <th>close</th>\n",
       "      <th>volume</th>\n",
       "      <th>CMF</th>\n",
       "      <th>FII</th>\n",
       "      <th>MFI</th>\n",
       "    </tr>\n",
       "  </thead>\n",
       "  <tbody>\n",
       "    <tr>\n",
       "      <th>32753</th>\n",
       "      <td>2023-06-03 22:00:00</td>\n",
       "      <td>27138.9</td>\n",
       "      <td>27153.6</td>\n",
       "      <td>27000.0</td>\n",
       "      <td>27084.9</td>\n",
       "      <td>15389.644</td>\n",
       "      <td>-0.042819</td>\n",
       "      <td>-91926.878625</td>\n",
       "      <td>49.242500</td>\n",
       "    </tr>\n",
       "    <tr>\n",
       "      <th>32754</th>\n",
       "      <td>2023-06-03 23:00:00</td>\n",
       "      <td>27084.9</td>\n",
       "      <td>27119.5</td>\n",
       "      <td>27042.0</td>\n",
       "      <td>27052.7</td>\n",
       "      <td>7760.747</td>\n",
       "      <td>-0.045307</td>\n",
       "      <td>-114493.903593</td>\n",
       "      <td>43.575625</td>\n",
       "    </tr>\n",
       "    <tr>\n",
       "      <th>32755</th>\n",
       "      <td>2023-06-04 00:00:00</td>\n",
       "      <td>27052.8</td>\n",
       "      <td>27069.3</td>\n",
       "      <td>26900.0</td>\n",
       "      <td>26990.0</td>\n",
       "      <td>18405.196</td>\n",
       "      <td>-0.030499</td>\n",
       "      <td>-262995.601537</td>\n",
       "      <td>38.631681</td>\n",
       "    </tr>\n",
       "  </tbody>\n",
       "</table>\n",
       "</div>"
      ],
      "text/plain": [
       "                 timestamp     open     high      low    close     volume  \\\n",
       "32753  2023-06-03 22:00:00  27138.9  27153.6  27000.0  27084.9  15389.644   \n",
       "32754  2023-06-03 23:00:00  27084.9  27119.5  27042.0  27052.7   7760.747   \n",
       "32755  2023-06-04 00:00:00  27052.8  27069.3  26900.0  26990.0  18405.196   \n",
       "\n",
       "            CMF            FII        MFI  \n",
       "32753 -0.042819  -91926.878625  49.242500  \n",
       "32754 -0.045307 -114493.903593  43.575625  \n",
       "32755 -0.030499 -262995.601537  38.631681  "
      ]
     },
     "execution_count": 12,
     "metadata": {},
     "output_type": "execute_result"
    }
   ],
   "source": [
    "mfi_indicator = ta.volume.MFIIndicator(high = data[\"high\"], low = data[\"low\"], close = data[\"close\"], volume = data[\"volume\"])\n",
    "mfi_values = mfi_indicator.money_flow_index() \n",
    "data['MFI'] = mfi_values\n",
    "data.tail(3)"
   ]
  },
  {
   "cell_type": "markdown",
   "id": "7c016331",
   "metadata": {},
   "source": [
    "Negative Volume Index Indicator"
   ]
  },
  {
   "cell_type": "code",
   "execution_count": 13,
   "id": "fc751ba5",
   "metadata": {},
   "outputs": [],
   "source": [
    "#from ta.volume import NegativeVolumeIndexIndicator"
   ]
  },
  {
   "cell_type": "code",
   "execution_count": 14,
   "id": "8010aa9b",
   "metadata": {},
   "outputs": [],
   "source": [
    "#nvi_indicator = ta.volume.NegativeVolumeIndexIndicator(close = data[\"close\"], volume = data[\"volume\"])\n",
    "#nvi_values = nvi_indicator.negative_volume_index() \n",
    "#data['NVI'] = nvi_values\n",
    "#data.tail(3)"
   ]
  },
  {
   "cell_type": "markdown",
   "id": "0fe4d021",
   "metadata": {},
   "source": [
    "On Balance Volume Indicator"
   ]
  },
  {
   "cell_type": "code",
   "execution_count": 15,
   "id": "bcaa94a3",
   "metadata": {},
   "outputs": [],
   "source": [
    "#from ta.volume import OnBalanceVolumeIndicator"
   ]
  },
  {
   "cell_type": "code",
   "execution_count": 16,
   "id": "e4821e26",
   "metadata": {},
   "outputs": [],
   "source": [
    "#obv_indicator = ta.volume.OnBalanceVolumeIndicator(close = data[\"close\"], volume = data[\"volume\"])\n",
    "#obv_values = obv_indicator.on_balance_volume() \n",
    "#data['OBV'] = obv_values\n",
    "#data.tail(3)"
   ]
  },
  {
   "cell_type": "markdown",
   "id": "c2eb98dc",
   "metadata": {},
   "source": [
    "Volume Price Trend Indicator"
   ]
  },
  {
   "cell_type": "code",
   "execution_count": 17,
   "id": "abf305c9",
   "metadata": {},
   "outputs": [],
   "source": [
    "#from ta.volume import VolumePriceTrendIndicator"
   ]
  },
  {
   "cell_type": "code",
   "execution_count": 18,
   "id": "4873a5ef",
   "metadata": {},
   "outputs": [],
   "source": [
    "#vpt_indicator = ta.volume.VolumePriceTrendIndicator(close = data[\"close\"], volume = data[\"volume\"])\n",
    "#vpt_values = vpt_indicator.volume_price_trend() \n",
    "#data['VPT'] = vpt_values\n",
    "#data.tail(3)"
   ]
  },
  {
   "cell_type": "markdown",
   "id": "ad293547",
   "metadata": {},
   "source": [
    "Volume Weighted Average Price"
   ]
  },
  {
   "cell_type": "code",
   "execution_count": 19,
   "id": "e973b527",
   "metadata": {},
   "outputs": [],
   "source": [
    "from ta.volume import VolumeWeightedAveragePrice"
   ]
  },
  {
   "cell_type": "code",
   "execution_count": 20,
   "id": "bb239c48",
   "metadata": {
    "scrolled": true
   },
   "outputs": [
    {
     "data": {
      "text/html": [
       "<div>\n",
       "<style scoped>\n",
       "    .dataframe tbody tr th:only-of-type {\n",
       "        vertical-align: middle;\n",
       "    }\n",
       "\n",
       "    .dataframe tbody tr th {\n",
       "        vertical-align: top;\n",
       "    }\n",
       "\n",
       "    .dataframe thead th {\n",
       "        text-align: right;\n",
       "    }\n",
       "</style>\n",
       "<table border=\"1\" class=\"dataframe\">\n",
       "  <thead>\n",
       "    <tr style=\"text-align: right;\">\n",
       "      <th></th>\n",
       "      <th>timestamp</th>\n",
       "      <th>open</th>\n",
       "      <th>high</th>\n",
       "      <th>low</th>\n",
       "      <th>close</th>\n",
       "      <th>volume</th>\n",
       "      <th>CMF</th>\n",
       "      <th>FII</th>\n",
       "      <th>MFI</th>\n",
       "      <th>VWA</th>\n",
       "    </tr>\n",
       "  </thead>\n",
       "  <tbody>\n",
       "    <tr>\n",
       "      <th>32753</th>\n",
       "      <td>2023-06-03 22:00:00</td>\n",
       "      <td>27138.9</td>\n",
       "      <td>27153.6</td>\n",
       "      <td>27000.0</td>\n",
       "      <td>27084.9</td>\n",
       "      <td>15389.644</td>\n",
       "      <td>-0.042819</td>\n",
       "      <td>-91926.878625</td>\n",
       "      <td>49.242500</td>\n",
       "      <td>27175.830184</td>\n",
       "    </tr>\n",
       "    <tr>\n",
       "      <th>32754</th>\n",
       "      <td>2023-06-03 23:00:00</td>\n",
       "      <td>27084.9</td>\n",
       "      <td>27119.5</td>\n",
       "      <td>27042.0</td>\n",
       "      <td>27052.7</td>\n",
       "      <td>7760.747</td>\n",
       "      <td>-0.045307</td>\n",
       "      <td>-114493.903593</td>\n",
       "      <td>43.575625</td>\n",
       "      <td>27168.759575</td>\n",
       "    </tr>\n",
       "    <tr>\n",
       "      <th>32755</th>\n",
       "      <td>2023-06-04 00:00:00</td>\n",
       "      <td>27052.8</td>\n",
       "      <td>27069.3</td>\n",
       "      <td>26900.0</td>\n",
       "      <td>26990.0</td>\n",
       "      <td>18405.196</td>\n",
       "      <td>-0.030499</td>\n",
       "      <td>-262995.601537</td>\n",
       "      <td>38.631681</td>\n",
       "      <td>27142.897792</td>\n",
       "    </tr>\n",
       "  </tbody>\n",
       "</table>\n",
       "</div>"
      ],
      "text/plain": [
       "                 timestamp     open     high      low    close     volume  \\\n",
       "32753  2023-06-03 22:00:00  27138.9  27153.6  27000.0  27084.9  15389.644   \n",
       "32754  2023-06-03 23:00:00  27084.9  27119.5  27042.0  27052.7   7760.747   \n",
       "32755  2023-06-04 00:00:00  27052.8  27069.3  26900.0  26990.0  18405.196   \n",
       "\n",
       "            CMF            FII        MFI           VWA  \n",
       "32753 -0.042819  -91926.878625  49.242500  27175.830184  \n",
       "32754 -0.045307 -114493.903593  43.575625  27168.759575  \n",
       "32755 -0.030499 -262995.601537  38.631681  27142.897792  "
      ]
     },
     "execution_count": 20,
     "metadata": {},
     "output_type": "execute_result"
    }
   ],
   "source": [
    "vwa_indicator = ta.volume.VolumeWeightedAveragePrice(high = data[\"high\"], low = data[\"low\"], close = data[\"close\"], volume = data[\"volume\"])\n",
    "vwa_values = vwa_indicator.volume_weighted_average_price() \n",
    "data['VWA'] = vwa_values\n",
    "data.tail(3)"
   ]
  },
  {
   "cell_type": "code",
   "execution_count": 21,
   "id": "24674460",
   "metadata": {},
   "outputs": [],
   "source": [
    "data.to_csv(\"Volume_Indicators_BTCUSDT_1h\")"
   ]
  },
  {
   "cell_type": "code",
   "execution_count": null,
   "id": "fd6a0a9a",
   "metadata": {},
   "outputs": [],
   "source": []
  },
  {
   "cell_type": "code",
   "execution_count": null,
   "id": "4bf0a09e",
   "metadata": {},
   "outputs": [],
   "source": []
  },
  {
   "cell_type": "code",
   "execution_count": null,
   "id": "e57ea896",
   "metadata": {},
   "outputs": [],
   "source": []
  }
 ],
 "metadata": {
  "kernelspec": {
   "display_name": "Python 3 (ipykernel)",
   "language": "python",
   "name": "python3"
  },
  "language_info": {
   "codemirror_mode": {
    "name": "ipython",
    "version": 3
   },
   "file_extension": ".py",
   "mimetype": "text/x-python",
   "name": "python",
   "nbconvert_exporter": "python",
   "pygments_lexer": "ipython3",
   "version": "3.10.6"
  },
  "toc": {
   "base_numbering": 1,
   "nav_menu": {},
   "number_sections": true,
   "sideBar": true,
   "skip_h1_title": false,
   "title_cell": "Table of Contents",
   "title_sidebar": "Contents",
   "toc_cell": false,
   "toc_position": {},
   "toc_section_display": true,
   "toc_window_display": false
  }
 },
 "nbformat": 4,
 "nbformat_minor": 5
}
