{
 "cells": [
  {
   "attachments": {},
   "cell_type": "markdown",
   "id": "e958c588",
   "metadata": {},
   "source": [
    "# Merged Data"
   ]
  },
  {
   "cell_type": "code",
   "execution_count": 1,
   "id": "b8f406e8",
   "metadata": {},
   "outputs": [],
   "source": [
    "import pandas as pd\n",
    "import ta\n",
    "import numpy as np\n",
    "import matplotlib.pyplot as plt\n",
    "import missingno as msno"
   ]
  },
  {
   "attachments": {},
   "cell_type": "markdown",
   "id": "a2ab151e",
   "metadata": {},
   "source": [
    "Data"
   ]
  },
  {
   "cell_type": "code",
   "execution_count": 2,
   "id": "2790e32a",
   "metadata": {},
   "outputs": [],
   "source": [
    "data = pd.read_csv('../raw_data/BTCUSDT_1h.csv')\n",
    "data = data.drop_duplicates(subset='timestamp')\n",
    "data['timestamp'] = pd.to_datetime(data['timestamp'])\n"
   ]
  },
  {
   "cell_type": "code",
   "execution_count": 3,
   "id": "e0631390",
   "metadata": {},
   "outputs": [],
   "source": [
    "def data_check(data):\n",
    "    print(f'Shape: {data.shape}')\n",
    "    print(f'Duplicates: {data.duplicated().sum()}')\n",
    "    print(f\"Duplicate timestamps {data['timestamp'].duplicated().sum()}\")\n",
    "    print(f'Total amount of NaN: {data.isna().sum().sum()}')"
   ]
  },
  {
   "cell_type": "code",
   "execution_count": 4,
   "id": "a52484df",
   "metadata": {},
   "outputs": [
    {
     "name": "stdout",
     "output_type": "stream",
     "text": [
      "Shape: (32741, 6)\n",
      "Duplicates: 0\n",
      "Duplicate timestamps 0\n",
      "Total amount of NaN: 0\n"
     ]
    }
   ],
   "source": [
    "data_check(data)"
   ]
  },
  {
   "attachments": {},
   "cell_type": "markdown",
   "id": "5cd8c88a",
   "metadata": {},
   "source": [
    "## Indicators"
   ]
  },
  {
   "attachments": {},
   "cell_type": "markdown",
   "id": "71398fa4",
   "metadata": {},
   "source": [
    "### Volume Indicators"
   ]
  },
  {
   "attachments": {},
   "cell_type": "markdown",
   "id": "95bf6e82",
   "metadata": {},
   "source": [
    "Imports"
   ]
  },
  {
   "cell_type": "code",
   "execution_count": 5,
   "id": "9968cf48",
   "metadata": {},
   "outputs": [],
   "source": [
    "from ta.volume import ChaikinMoneyFlowIndicator\n",
    "from ta.volume import ForceIndexIndicator\n",
    "from ta.volume import MFIIndicator\n",
    "from ta.volume import VolumeWeightedAveragePrice"
   ]
  },
  {
   "attachments": {},
   "cell_type": "markdown",
   "id": "d4e1dfe0",
   "metadata": {},
   "source": [
    "Code"
   ]
  },
  {
   "cell_type": "code",
   "execution_count": 6,
   "id": "563f3896",
   "metadata": {},
   "outputs": [],
   "source": [
    "cmfi_indicator = ta.volume.ChaikinMoneyFlowIndicator(high = data[\"high\"], low = data[\"low\"], close = data[\"close\"], volume = data[\"volume\"])\n",
    "cmfi_values = cmfi_indicator.chaikin_money_flow()\n",
    "data['volume_CMF'] = cmfi_values"
   ]
  },
  {
   "cell_type": "code",
   "execution_count": 7,
   "id": "355cda43",
   "metadata": {},
   "outputs": [],
   "source": [
    "fii_indicator = ta.volume.ForceIndexIndicator(close = data[\"close\"], volume = data[\"volume\"])\n",
    "fii_values = fii_indicator.force_index() \n",
    "data['volume_FII'] = fii_values"
   ]
  },
  {
   "cell_type": "code",
   "execution_count": 8,
   "id": "9587df0c",
   "metadata": {},
   "outputs": [],
   "source": [
    "mfi_indicator = ta.volume.MFIIndicator(high = data[\"high\"], low = data[\"low\"], close = data[\"close\"], volume = data[\"volume\"])\n",
    "mfi_values = mfi_indicator.money_flow_index() \n",
    "data['volume_MFI'] = mfi_values"
   ]
  },
  {
   "cell_type": "code",
   "execution_count": 9,
   "id": "e39a6f40",
   "metadata": {},
   "outputs": [],
   "source": [
    "vwa_indicator = ta.volume.VolumeWeightedAveragePrice(high = data[\"high\"], low = data[\"low\"], close = data[\"close\"], volume = data[\"volume\"])\n",
    "vwa_values = vwa_indicator.volume_weighted_average_price() \n",
    "data['volume_VWA'] = vwa_values"
   ]
  },
  {
   "cell_type": "code",
   "execution_count": 10,
   "id": "bacbadc9",
   "metadata": {},
   "outputs": [
    {
     "name": "stdout",
     "output_type": "stream",
     "text": [
      "Shape: (32741, 10)\n",
      "Duplicates: 0\n",
      "Duplicate timestamps 0\n",
      "Total amount of NaN: 58\n"
     ]
    }
   ],
   "source": [
    "data_check(data)"
   ]
  },
  {
   "attachments": {},
   "cell_type": "markdown",
   "id": "770c30c8",
   "metadata": {},
   "source": [
    "### Momentum Indicators"
   ]
  },
  {
   "attachments": {},
   "cell_type": "markdown",
   "id": "42461b97",
   "metadata": {},
   "source": [
    "Imports"
   ]
  },
  {
   "cell_type": "code",
   "execution_count": 11,
   "id": "4edee572",
   "metadata": {},
   "outputs": [],
   "source": [
    "from ta.momentum import AwesomeOscillatorIndicator\n",
    "from ta.momentum import KAMAIndicator\n",
    "from ta.momentum import PercentagePriceOscillator\n",
    "from ta.momentum import PercentageVolumeOscillator\n",
    "from ta.momentum import ROCIndicator\n",
    "from ta.momentum import RSIIndicator\n",
    "from ta.momentum import StochRSIIndicator\n",
    "from ta.momentum import StochasticOscillator\n",
    "from ta.momentum import TSIIndicator\n",
    "from ta.momentum import UltimateOscillator\n",
    "from ta.momentum import WilliamsRIndicator"
   ]
  },
  {
   "attachments": {},
   "cell_type": "markdown",
   "id": "7fb9ccff",
   "metadata": {},
   "source": [
    "Code"
   ]
  },
  {
   "cell_type": "code",
   "execution_count": 12,
   "id": "6d7ebb81",
   "metadata": {},
   "outputs": [],
   "source": [
    "ao_indicator = ta.momentum.AwesomeOscillatorIndicator(data[\"high\"], data[\"low\"])\n",
    "ao_values = ao_indicator.awesome_oscillator()\n",
    "data['mom_AOI'] = ao_values"
   ]
  },
  {
   "cell_type": "code",
   "execution_count": 13,
   "id": "1b15c748",
   "metadata": {},
   "outputs": [],
   "source": [
    "# kama_indicator = KAMAIndicator(close=data['close'])\n",
    "# kama_values = kama_indicator.kama()\n",
    "# data['mom_KAMA'] = kama_values"
   ]
  },
  {
   "cell_type": "code",
   "execution_count": 14,
   "id": "2f94c082",
   "metadata": {},
   "outputs": [],
   "source": [
    "ppo_indicator = PercentagePriceOscillator(close=data['close'])\n",
    "ppo_values = ppo_indicator.ppo()\n",
    "data['mom_PPO'] = ppo_values\n",
    "ppo_signal_values = ppo_indicator.ppo_signal()\n",
    "data['mom_PPO_signal'] = ppo_signal_values"
   ]
  },
  {
   "cell_type": "code",
   "execution_count": 15,
   "id": "4ce9f78c",
   "metadata": {},
   "outputs": [],
   "source": [
    "pvo_indicator = PercentageVolumeOscillator(volume=data['volume'])\n",
    "pvo_values = pvo_indicator.pvo()\n",
    "data['mom_PVO'] = pvo_values\n",
    "pvo_signal_values = pvo_indicator.pvo_signal()\n",
    "data['mom_PVO_signal'] = pvo_signal_values"
   ]
  },
  {
   "cell_type": "code",
   "execution_count": 16,
   "id": "76f9c224",
   "metadata": {},
   "outputs": [],
   "source": [
    "roc_indicator = ROCIndicator(close=data['close'])\n",
    "roc_values = roc_indicator.roc()\n",
    "data['mom_ROC'] = roc_values"
   ]
  },
  {
   "cell_type": "code",
   "execution_count": 17,
   "id": "893d8db4",
   "metadata": {},
   "outputs": [],
   "source": [
    "rsi_indicator = RSIIndicator(close=data['close'])\n",
    "rsi_values = rsi_indicator.rsi()\n",
    "data['mom_rsi'] = rsi_values"
   ]
  },
  {
   "cell_type": "code",
   "execution_count": 18,
   "id": "2d350847",
   "metadata": {},
   "outputs": [],
   "source": [
    "srsi_indicator = StochRSIIndicator(close=data['close'])\n",
    "srsi_values = srsi_indicator.stochrsi()\n",
    "data['mom_stoch_RSI'] = srsi_values"
   ]
  },
  {
   "cell_type": "code",
   "execution_count": 19,
   "id": "85003fd9",
   "metadata": {},
   "outputs": [],
   "source": [
    "so_indicator = StochasticOscillator(high = data[\"high\"], low = data[\"low\"], close = data['close'])\n",
    "so_values = so_indicator.stoch()\n",
    "data[\"mom_StochOscillator\"] = so_values\n",
    "so_signal_values = so_indicator.stoch_signal()\n",
    "data['mom_StochOscillator_signal'] = so_signal_values"
   ]
  },
  {
   "cell_type": "code",
   "execution_count": 20,
   "id": "4b585215",
   "metadata": {},
   "outputs": [],
   "source": [
    "tsi_indicator = TSIIndicator(close=data['close'])\n",
    "tsi_values = tsi_indicator.tsi()\n",
    "data['mom_TSI'] = tsi_values"
   ]
  },
  {
   "cell_type": "code",
   "execution_count": 21,
   "id": "acd12f6c",
   "metadata": {},
   "outputs": [],
   "source": [
    "uo_indicator = UltimateOscillator(high = data[\"high\"], low = data[\"low\"], close = data['close'])\n",
    "uo_values = uo_indicator.ultimate_oscillator()\n",
    "data[\"mom_UltimateOscillator\"] = uo_values"
   ]
  },
  {
   "cell_type": "code",
   "execution_count": 22,
   "id": "ccfcd251",
   "metadata": {},
   "outputs": [],
   "source": [
    "wri_indicator = WilliamsRIndicator(high = data[\"high\"], low = data[\"low\"], close = data['close'])\n",
    "wri_values = wri_indicator.williams_r()\n",
    "data[\"mom_WilliamsRIndicator\"] = wri_values"
   ]
  },
  {
   "cell_type": "code",
   "execution_count": 23,
   "id": "09fff7d1",
   "metadata": {},
   "outputs": [
    {
     "name": "stdout",
     "output_type": "stream",
     "text": [
      "Shape: (32741, 23)\n",
      "Duplicates: 0\n",
      "Duplicate timestamps 0\n",
      "Total amount of NaN: 364\n"
     ]
    }
   ],
   "source": [
    "data_check(data)"
   ]
  },
  {
   "cell_type": "code",
   "execution_count": 24,
   "id": "b07c02d7",
   "metadata": {},
   "outputs": [],
   "source": [
    "# msno.matrix(data[:500])"
   ]
  },
  {
   "attachments": {},
   "cell_type": "markdown",
   "id": "f04a07b7",
   "metadata": {},
   "source": [
    "### Volatility Indicator"
   ]
  },
  {
   "attachments": {},
   "cell_type": "markdown",
   "id": "0fb22a20",
   "metadata": {},
   "source": [
    "Imports"
   ]
  },
  {
   "cell_type": "code",
   "execution_count": 25,
   "id": "9e229dd4",
   "metadata": {},
   "outputs": [],
   "source": [
    "from ta.volatility import AverageTrueRange\n",
    "from ta.volatility import BollingerBands\n",
    "from ta.volatility import keltner_channel_wband\n",
    "from ta.volatility import keltner_channel_pband\n",
    "from ta.volatility import keltner_channel_mband\n",
    "from ta.volatility import donchian_channel_lband\n",
    "from ta.volatility import donchian_channel_hband\n",
    "from ta.volatility import donchian_channel_mband\n",
    "from ta.volatility import donchian_channel_wband\n",
    "from ta.volatility import ulcer_index"
   ]
  },
  {
   "attachments": {},
   "cell_type": "markdown",
   "id": "db23be45",
   "metadata": {},
   "source": [
    "Code"
   ]
  },
  {
   "cell_type": "code",
   "execution_count": 26,
   "id": "5786da09",
   "metadata": {},
   "outputs": [],
   "source": [
    "# Average True Range\n",
    "\n",
    "atr_indicator = AverageTrueRange(high = data[\"high\"], low = data[\"low\"], close = data['close'])\n",
    "atr_values = atr_indicator.average_true_range()\n",
    "data['volat_ATR'] = atr_values"
   ]
  },
  {
   "cell_type": "code",
   "execution_count": 27,
   "id": "13961a5e",
   "metadata": {},
   "outputs": [],
   "source": [
    "# Bollinger Indications\n",
    "\n",
    "bol_indicator = BollingerBands(close=data['close'])\n",
    "\n",
    "data['volat_bol_hband_binary'] = bol_indicator.bollinger_hband_indicator()\n",
    "data['volat_bol_lband_binary'] = bol_indicator.bollinger_lband_indicator()\n",
    "data['volat_bol_band_width'] = bol_indicator.bollinger_wband()"
   ]
  },
  {
   "cell_type": "code",
   "execution_count": 28,
   "id": "77b15d84",
   "metadata": {},
   "outputs": [],
   "source": [
    "# Keltner Channels\n",
    "\n",
    "kcw_indicator = keltner_channel_wband(high = data[\"high\"], low = data[\"low\"], close = data['close'])\n",
    "data['KCW'] = kcw_indicator\n",
    "\n",
    "kcp_indicator = keltner_channel_pband(high = data[\"high\"], low = data[\"low\"], close = data['close'])\n",
    "data['KCP'] = kcp_indicator\n",
    "\n",
    "# Perfect Correlation\n",
    "# kcm_indicator = keltner_channel_mband(high = data[\"high\"], low = data[\"low\"], close = data['close'])\n",
    "# data['KCM'] = kcm_indicator"
   ]
  },
  {
   "cell_type": "code",
   "execution_count": 29,
   "id": "c670695d",
   "metadata": {},
   "outputs": [],
   "source": [
    "# Donchian channels\n",
    "\n",
    "dcw_indicator = donchian_channel_wband(high=data[\"high\"], low=data['low'], close=data['close'])\n",
    "data['donch_DCW'] = dcw_indicator\n",
    "\n",
    "# Highly correlated\n",
    "# dcl_indicator = donchian_channel_lband(high = data[\"high\"], low = data[\"low\"], close = data['close'])\n",
    "# data[\"DCL\"] = dcl_indicator\n",
    "\n",
    "# dch_indicator = donchian_channel_hband(high = data[\"high\"], low = data[\"low\"], close = data['close'])\n",
    "# data['DCH'] = dch_indicator\n",
    "\n",
    "# dcm_indicator = donchian_channel_mband(high = data[\"high\"], low = data[\"low\"], close = data['close'])\n",
    "# data['DCM'] = dcm_indicator"
   ]
  },
  {
   "cell_type": "code",
   "execution_count": 30,
   "id": "301d7236",
   "metadata": {},
   "outputs": [],
   "source": [
    "# Ulcer\n",
    "\n",
    "uli_indicator = ulcer_index(close = data['close'])\n",
    "data['ULI'] = uli_indicator"
   ]
  },
  {
   "cell_type": "code",
   "execution_count": 31,
   "id": "2d669304",
   "metadata": {},
   "outputs": [
    {
     "name": "stdout",
     "output_type": "stream",
     "text": [
      "Shape: (32741, 31)\n",
      "Duplicates: 0\n",
      "Duplicate timestamps 0\n",
      "Total amount of NaN: 426\n"
     ]
    }
   ],
   "source": [
    "data_check(data)"
   ]
  },
  {
   "attachments": {},
   "cell_type": "markdown",
   "id": "7b96220c",
   "metadata": {},
   "source": [
    "### Trend Indicator"
   ]
  },
  {
   "attachments": {},
   "cell_type": "markdown",
   "id": "b19bddfe",
   "metadata": {},
   "source": [
    "Imports"
   ]
  },
  {
   "cell_type": "code",
   "execution_count": 32,
   "id": "82679781",
   "metadata": {},
   "outputs": [],
   "source": [
    "from ta.trend import ADXIndicator\n",
    "from ta.trend import AroonIndicator\n",
    "from ta.trend import CCIIndicator\n",
    "from ta.trend import DPOIndicator\n",
    "from ta.trend import EMAIndicator\n",
    "from ta.trend import KSTIndicator\n",
    "from ta.trend import MACD\n",
    "from ta.trend import MassIndex\n",
    "from ta.trend import PSARIndicator\n",
    "from ta.trend import SMAIndicator\n",
    "from ta.trend import STCIndicator\n",
    "from ta.trend import TRIXIndicator\n",
    "from ta.trend import VortexIndicator\n",
    "from ta.trend import WMAIndicator"
   ]
  },
  {
   "attachments": {},
   "cell_type": "markdown",
   "id": "b4fbb898",
   "metadata": {},
   "source": [
    "Code"
   ]
  },
  {
   "cell_type": "code",
   "execution_count": 33,
   "id": "ad0da146",
   "metadata": {},
   "outputs": [
    {
     "name": "stderr",
     "output_type": "stream",
     "text": [
      "/home/lscr/.pyenv/versions/3.10.6/envs/assist_trader/lib/python3.10/site-packages/ta/trend.py:780: RuntimeWarning: invalid value encountered in double_scalars\n",
      "  dip[idx] = 100 * (self._dip[idx] / value)\n",
      "/home/lscr/.pyenv/versions/3.10.6/envs/assist_trader/lib/python3.10/site-packages/ta/trend.py:785: RuntimeWarning: invalid value encountered in double_scalars\n",
      "  din[idx] = 100 * (self._din[idx] / value)\n"
     ]
    }
   ],
   "source": [
    "data[\"ADX\"] = ADXIndicator(high = data[\"high\"], low = data[\"low\"], close = data['close']).adx()\n",
    "data[\"ADX_neg\"] = ADXIndicator(high = data[\"high\"], low = data[\"low\"], close = data['close']).adx_neg()\n",
    "data[\"ADX_pos\"] = ADXIndicator(high = data[\"high\"], low = data[\"low\"], close = data['close']).adx_pos()"
   ]
  },
  {
   "cell_type": "code",
   "execution_count": 34,
   "id": "f617cb4b",
   "metadata": {},
   "outputs": [],
   "source": [
    "data[\"ARI_down\"] = AroonIndicator(close = data['close']).aroon_down()\n",
    "data[\"ARI\"] = AroonIndicator(close = data['close']).aroon_indicator()\n",
    "data[\"ARI_up\"] = AroonIndicator(close = data['close']).aroon_up()"
   ]
  },
  {
   "cell_type": "code",
   "execution_count": 35,
   "id": "8d1014c2",
   "metadata": {},
   "outputs": [],
   "source": [
    "data[\"CCI\"] = CCIIndicator(high = data[\"high\"], low = data[\"low\"], close = data['close']).cci()"
   ]
  },
  {
   "cell_type": "code",
   "execution_count": 36,
   "id": "c155987b",
   "metadata": {},
   "outputs": [],
   "source": [
    "data[\"DPO\"] = DPOIndicator(close = data['close']).dpo()"
   ]
  },
  {
   "cell_type": "code",
   "execution_count": 37,
   "id": "661ef703",
   "metadata": {},
   "outputs": [],
   "source": [
    "data[\"EMA_100\"] = EMAIndicator(close = data['close'], window=100).ema_indicator()\n",
    "\n",
    "def make_binary(feat, close):\n",
    "    if close > feat:\n",
    "        return 1\n",
    "    else:\n",
    "        return 0\n",
    "\n",
    "data['EMA_100_binary'] = data.apply(lambda x: make_binary(x['EMA_100'], x['close']), axis=1)\n",
    "\n",
    "data = data.drop(columns=['EMA_100'])\n",
    "\n",
    "# data[\"EMA_14\"] = EMAIndicator(close = data['close'], window=14).ema_indicator()\n",
    "# data[\"EMA_20\"] = EMAIndicator(close = data['close'], window=20).ema_indicator()\n",
    "# data[\"EMA_50\"] = EMAIndicator(close = data['close'], window=50).ema_indicator()\n",
    "# data[\"EMA_200\"] = EMAIndicator(close = data['close'], window=200).ema_indicator()"
   ]
  },
  {
   "cell_type": "code",
   "execution_count": 38,
   "id": "1b5fc659",
   "metadata": {},
   "outputs": [],
   "source": [
    "data[\"KST\"] = KSTIndicator(close = data['close'], roc1= 10, roc2= 15, roc3= 20, roc4= 30,\n",
    "                                  window1= 10, window2= 10, window3= 10, window4= 15, nsig= 9).kst()\n",
    "data[\"KST_diff\"] = KSTIndicator(close = data['close'], roc1= 10, roc2= 15, roc3= 20, roc4= 30,\n",
    "                                  window1= 10, window2= 10, window3= 10, window4= 15, nsig= 9).kst_diff()\n",
    "data[\"KST_sig\"] = KSTIndicator(close = data['close'], roc1= 10, roc2= 15, roc3= 20, roc4= 30,\n",
    "                                  window1= 10, window2= 10, window3= 10, window4= 15, nsig= 9).kst_sig()"
   ]
  },
  {
   "cell_type": "code",
   "execution_count": 39,
   "id": "1136ef24",
   "metadata": {},
   "outputs": [],
   "source": [
    "data[\"MACD_line\"] = MACD(close = data['close'], window_slow= 26, window_fast= 12, window_sign= 9).macd()\n",
    "data[\"MACD_signal\"] = MACD(close = data['close'], window_slow= 26, window_fast= 12, window_sign= 9).macd_signal()"
   ]
  },
  {
   "cell_type": "code",
   "execution_count": 40,
   "id": "74c3ceb4",
   "metadata": {},
   "outputs": [],
   "source": [
    "data[\"MAI\"] = MassIndex(high = data[\"high\"], low = data[\"low\"], window_fast= 9, window_slow= 25).mass_index()"
   ]
  },
  {
   "cell_type": "code",
   "execution_count": 41,
   "id": "0f0df19c",
   "metadata": {},
   "outputs": [],
   "source": [
    "data[\"PSAR\"] = PSARIndicator(high = data[\"high\"], low = data[\"low\"], close = data['close'], step= 0.02, max_step= 0.2).psar()\n",
    "\n",
    "data['PSAR_binary'] = data.apply(lambda x: make_binary(x['PSAR'], x['close']), axis=1)\n",
    "\n",
    "data = data.drop(columns=['PSAR'])"
   ]
  },
  {
   "cell_type": "code",
   "execution_count": 42,
   "id": "79298a10",
   "metadata": {},
   "outputs": [],
   "source": [
    "data[\"STC\"]= STCIndicator(close = data['close'], window_slow= 50, window_fast= 23, cycle= 10, smooth1= 3, smooth2= 3).stc()"
   ]
  },
  {
   "cell_type": "code",
   "execution_count": 43,
   "id": "bf49ea39",
   "metadata": {},
   "outputs": [],
   "source": [
    "data[\"TRIX\"]= TRIXIndicator(close = data['close'], window= 15).trix()"
   ]
  },
  {
   "cell_type": "code",
   "execution_count": 44,
   "id": "41730616",
   "metadata": {},
   "outputs": [],
   "source": [
    "data[\"vortex_ind_diff\"] = VortexIndicator(high = data[\"high\"], low = data[\"low\"], close = data['close'], window= 14).vortex_indicator_diff()\n",
    "data[\"vortex_neg\"] = VortexIndicator(high = data[\"high\"], low = data[\"low\"], close = data['close'], window= 14).vortex_indicator_neg()\n",
    "data[\"vortex_pos\"] = VortexIndicator(high = data[\"high\"], low = data[\"low\"], close = data['close'], window= 14).vortex_indicator_pos()"
   ]
  },
  {
   "cell_type": "code",
   "execution_count": 45,
   "id": "ae08258c",
   "metadata": {},
   "outputs": [],
   "source": [
    "# data[\"wma_9\"] = WMAIndicator(close = data['close'], window=14).wma()\n",
    "# data[\"wma_20\"] = WMAIndicator(close = data['close'], window=20).wma()\n",
    "# data[\"wma_50\"] = WMAIndicator(close = data['close'], window=50).wma()\n",
    "# data[\"wma_100\"] = WMAIndicator(close = data['close'], window=100).wma()"
   ]
  },
  {
   "cell_type": "code",
   "execution_count": 46,
   "id": "da22d12e",
   "metadata": {},
   "outputs": [
    {
     "name": "stdout",
     "output_type": "stream",
     "text": [
      "Shape: (32741, 52)\n",
      "Duplicates: 0\n",
      "Duplicate timestamps 0\n",
      "Total amount of NaN: 832\n"
     ]
    }
   ],
   "source": [
    "data_check(data)"
   ]
  },
  {
   "cell_type": "code",
   "execution_count": 47,
   "id": "267842b6",
   "metadata": {},
   "outputs": [
    {
     "name": "stdout",
     "output_type": "stream",
     "text": [
      "<class 'pandas.core.frame.DataFrame'>\n",
      "Int64Index: 32741 entries, 0 to 32755\n",
      "Data columns (total 52 columns):\n",
      " #   Column                      Non-Null Count  Dtype         \n",
      "---  ------                      --------------  -----         \n",
      " 0   timestamp                   32741 non-null  datetime64[ns]\n",
      " 1   open                        32741 non-null  float64       \n",
      " 2   high                        32741 non-null  float64       \n",
      " 3   low                         32741 non-null  float64       \n",
      " 4   close                       32741 non-null  float64       \n",
      " 5   volume                      32741 non-null  float64       \n",
      " 6   volume_CMF                  32722 non-null  float64       \n",
      " 7   volume_FII                  32728 non-null  float64       \n",
      " 8   volume_MFI                  32728 non-null  float64       \n",
      " 9   volume_VWA                  32728 non-null  float64       \n",
      " 10  mom_AOI                     32708 non-null  float64       \n",
      " 11  mom_PPO                     32716 non-null  float64       \n",
      " 12  mom_PPO_signal              32708 non-null  float64       \n",
      " 13  mom_PVO                     32716 non-null  float64       \n",
      " 14  mom_PVO_signal              32708 non-null  float64       \n",
      " 15  mom_ROC                     32729 non-null  float64       \n",
      " 16  mom_rsi                     32728 non-null  float64       \n",
      " 17  mom_stoch_RSI               32715 non-null  float64       \n",
      " 18  mom_StochOscillator         32728 non-null  float64       \n",
      " 19  mom_StochOscillator_signal  32726 non-null  float64       \n",
      " 20  mom_TSI                     32704 non-null  float64       \n",
      " 21  mom_UltimateOscillator      32713 non-null  float64       \n",
      " 22  mom_WilliamsRIndicator      32728 non-null  float64       \n",
      " 23  volat_ATR                   32741 non-null  float64       \n",
      " 24  volat_bol_hband_binary      32741 non-null  float64       \n",
      " 25  volat_bol_lband_binary      32741 non-null  float64       \n",
      " 26  volat_bol_band_width        32722 non-null  float64       \n",
      " 27  KCW                         32722 non-null  float64       \n",
      " 28  KCP                         32739 non-null  float64       \n",
      " 29  donch_DCW                   32732 non-null  float64       \n",
      " 30  ULI                         32728 non-null  float64       \n",
      " 31  ADX                         32741 non-null  float64       \n",
      " 32  ADX_neg                     32741 non-null  float64       \n",
      " 33  ADX_pos                     32741 non-null  float64       \n",
      " 34  ARI_down                    32717 non-null  float64       \n",
      " 35  ARI                         32717 non-null  float64       \n",
      " 36  ARI_up                      32717 non-null  float64       \n",
      " 37  CCI                         32722 non-null  float64       \n",
      " 38  DPO                         32722 non-null  float64       \n",
      " 39  EMA_100_binary              32741 non-null  int64         \n",
      " 40  KST                         32727 non-null  float64       \n",
      " 41  KST_diff                    32727 non-null  float64       \n",
      " 42  KST_sig                     32727 non-null  float64       \n",
      " 43  MACD_line                   32716 non-null  float64       \n",
      " 44  MACD_signal                 32708 non-null  float64       \n",
      " 45  MAI                         32701 non-null  float64       \n",
      " 46  PSAR_binary                 32741 non-null  int64         \n",
      " 47  STC                         32670 non-null  float64       \n",
      " 48  TRIX                        32698 non-null  float64       \n",
      " 49  vortex_ind_diff             32727 non-null  float64       \n",
      " 50  vortex_neg                  32727 non-null  float64       \n",
      " 51  vortex_pos                  32727 non-null  float64       \n",
      "dtypes: datetime64[ns](1), float64(49), int64(2)\n",
      "memory usage: 14.2 MB\n"
     ]
    }
   ],
   "source": [
    "data.info()"
   ]
  },
  {
   "attachments": {},
   "cell_type": "markdown",
   "id": "1a1c15f8",
   "metadata": {},
   "source": [
    "## Merging Tables"
   ]
  },
  {
   "attachments": {},
   "cell_type": "markdown",
   "id": "d6853ea2",
   "metadata": {},
   "source": [
    "### Merging Inflation rate to Bitcoin"
   ]
  },
  {
   "attachments": {},
   "cell_type": "markdown",
   "id": "6eaa20a7",
   "metadata": {},
   "source": [
    "Inflation rate dataset"
   ]
  },
  {
   "cell_type": "code",
   "execution_count": 48,
   "id": "9c96ee45",
   "metadata": {},
   "outputs": [],
   "source": [
    "data_inf_rt = pd.read_csv(\"../raw_data/SP500_price.csv\")\n",
    "data_inf_rt = data_inf_rt.dropna()"
   ]
  },
  {
   "cell_type": "code",
   "execution_count": 49,
   "id": "4fc1f01b",
   "metadata": {},
   "outputs": [],
   "source": [
    "data_inf_rt[\"Date\"] = pd.to_datetime(data_inf_rt[\"Date\"], format = '%b %d, %Y')"
   ]
  },
  {
   "cell_type": "code",
   "execution_count": 50,
   "id": "cb110c42",
   "metadata": {},
   "outputs": [],
   "source": [
    "data_inf_rt = data_inf_rt.drop([\"Open\", \"High\", \"Low\", \"Adj Close**\", \"Volume\"], axis=1)"
   ]
  },
  {
   "cell_type": "code",
   "execution_count": 51,
   "id": "68e40aa1",
   "metadata": {},
   "outputs": [
    {
     "name": "stdout",
     "output_type": "stream",
     "text": [
      "Shape: (32741, 52)\n",
      "Duplicates: 0\n",
      "Duplicate timestamps 0\n",
      "Total amount of NaN: 832\n"
     ]
    }
   ],
   "source": [
    "data_check(data)"
   ]
  },
  {
   "cell_type": "code",
   "execution_count": 52,
   "id": "3c51b7f0",
   "metadata": {},
   "outputs": [
    {
     "name": "stdout",
     "output_type": "stream",
     "text": [
      "<class 'pandas.core.frame.DataFrame'>\n",
      "Int64Index: 32741 entries, 0 to 32755\n",
      "Data columns (total 52 columns):\n",
      " #   Column                      Non-Null Count  Dtype         \n",
      "---  ------                      --------------  -----         \n",
      " 0   timestamp                   32741 non-null  datetime64[ns]\n",
      " 1   open                        32741 non-null  float64       \n",
      " 2   high                        32741 non-null  float64       \n",
      " 3   low                         32741 non-null  float64       \n",
      " 4   close                       32741 non-null  float64       \n",
      " 5   volume                      32741 non-null  float64       \n",
      " 6   volume_CMF                  32722 non-null  float64       \n",
      " 7   volume_FII                  32728 non-null  float64       \n",
      " 8   volume_MFI                  32728 non-null  float64       \n",
      " 9   volume_VWA                  32728 non-null  float64       \n",
      " 10  mom_AOI                     32708 non-null  float64       \n",
      " 11  mom_PPO                     32716 non-null  float64       \n",
      " 12  mom_PPO_signal              32708 non-null  float64       \n",
      " 13  mom_PVO                     32716 non-null  float64       \n",
      " 14  mom_PVO_signal              32708 non-null  float64       \n",
      " 15  mom_ROC                     32729 non-null  float64       \n",
      " 16  mom_rsi                     32728 non-null  float64       \n",
      " 17  mom_stoch_RSI               32715 non-null  float64       \n",
      " 18  mom_StochOscillator         32728 non-null  float64       \n",
      " 19  mom_StochOscillator_signal  32726 non-null  float64       \n",
      " 20  mom_TSI                     32704 non-null  float64       \n",
      " 21  mom_UltimateOscillator      32713 non-null  float64       \n",
      " 22  mom_WilliamsRIndicator      32728 non-null  float64       \n",
      " 23  volat_ATR                   32741 non-null  float64       \n",
      " 24  volat_bol_hband_binary      32741 non-null  float64       \n",
      " 25  volat_bol_lband_binary      32741 non-null  float64       \n",
      " 26  volat_bol_band_width        32722 non-null  float64       \n",
      " 27  KCW                         32722 non-null  float64       \n",
      " 28  KCP                         32739 non-null  float64       \n",
      " 29  donch_DCW                   32732 non-null  float64       \n",
      " 30  ULI                         32728 non-null  float64       \n",
      " 31  ADX                         32741 non-null  float64       \n",
      " 32  ADX_neg                     32741 non-null  float64       \n",
      " 33  ADX_pos                     32741 non-null  float64       \n",
      " 34  ARI_down                    32717 non-null  float64       \n",
      " 35  ARI                         32717 non-null  float64       \n",
      " 36  ARI_up                      32717 non-null  float64       \n",
      " 37  CCI                         32722 non-null  float64       \n",
      " 38  DPO                         32722 non-null  float64       \n",
      " 39  EMA_100_binary              32741 non-null  int64         \n",
      " 40  KST                         32727 non-null  float64       \n",
      " 41  KST_diff                    32727 non-null  float64       \n",
      " 42  KST_sig                     32727 non-null  float64       \n",
      " 43  MACD_line                   32716 non-null  float64       \n",
      " 44  MACD_signal                 32708 non-null  float64       \n",
      " 45  MAI                         32701 non-null  float64       \n",
      " 46  PSAR_binary                 32741 non-null  int64         \n",
      " 47  STC                         32670 non-null  float64       \n",
      " 48  TRIX                        32698 non-null  float64       \n",
      " 49  vortex_ind_diff             32727 non-null  float64       \n",
      " 50  vortex_neg                  32727 non-null  float64       \n",
      " 51  vortex_pos                  32727 non-null  float64       \n",
      "dtypes: datetime64[ns](1), float64(49), int64(2)\n",
      "memory usage: 14.2 MB\n"
     ]
    }
   ],
   "source": [
    "data.info()"
   ]
  },
  {
   "attachments": {},
   "cell_type": "markdown",
   "id": "ea45909e",
   "metadata": {},
   "source": [
    "Big Dataset"
   ]
  },
  {
   "cell_type": "code",
   "execution_count": 53,
   "id": "b20127f1",
   "metadata": {},
   "outputs": [],
   "source": [
    "data[\"Date\"] = data[\"timestamp\"]\n",
    "data[\"Date\"]= pd.to_datetime(data[\"Date\"]).dt.date\n",
    "data[\"Date\"]= pd.to_datetime(data[\"Date\"])"
   ]
  },
  {
   "attachments": {},
   "cell_type": "markdown",
   "id": "5e0fdc6f",
   "metadata": {},
   "source": [
    "Merging Datasets"
   ]
  },
  {
   "cell_type": "code",
   "execution_count": 54,
   "id": "86cf7702",
   "metadata": {},
   "outputs": [],
   "source": [
    "merged_df_sp = pd.merge(data, data_inf_rt, on=['Date', 'Date'], how='left')"
   ]
  },
  {
   "cell_type": "code",
   "execution_count": 55,
   "id": "9d2797a8",
   "metadata": {},
   "outputs": [],
   "source": [
    "data = merged_df_sp.drop(['Date'],axis = 1)"
   ]
  },
  {
   "cell_type": "code",
   "execution_count": 56,
   "id": "eb52bd0f",
   "metadata": {},
   "outputs": [],
   "source": [
    "data = data.rename(columns={'Close*': 'S&P_close'})"
   ]
  },
  {
   "cell_type": "code",
   "execution_count": 57,
   "id": "e147398c",
   "metadata": {},
   "outputs": [],
   "source": [
    "data['S&P_close'] = data['S&P_close'].str.replace(',', '').astype(float)"
   ]
  },
  {
   "cell_type": "code",
   "execution_count": 58,
   "id": "8fc847a1",
   "metadata": {},
   "outputs": [],
   "source": [
    "import math\n",
    "\n",
    "SP_close = data['S&P_close'].tolist()\n",
    "\n",
    "for i in range(len(SP_close)):\n",
    "    \n",
    "    if i > 0 and math.isnan(SP_close[i]):\n",
    "        \n",
    "        SP_close[i] = SP_close[i-1]\n",
    "        \n",
    "for i in range(len(SP_close)):\n",
    "    \n",
    "    if math.isnan(SP_close[i]):\n",
    "        \n",
    "        SP_close[i] = 2978.43"
   ]
  },
  {
   "cell_type": "code",
   "execution_count": 59,
   "id": "295b18ca",
   "metadata": {},
   "outputs": [],
   "source": [
    "data[\"S&P_close_filled\"] = SP_close"
   ]
  },
  {
   "cell_type": "code",
   "execution_count": 60,
   "id": "8d0c25a0",
   "metadata": {},
   "outputs": [],
   "source": [
    "data = data.drop([\"S&P_close\"], axis = 1)"
   ]
  },
  {
   "cell_type": "code",
   "execution_count": 61,
   "id": "96f93357",
   "metadata": {},
   "outputs": [
    {
     "data": {
      "text/html": [
       "<div>\n",
       "<style scoped>\n",
       "    .dataframe tbody tr th:only-of-type {\n",
       "        vertical-align: middle;\n",
       "    }\n",
       "\n",
       "    .dataframe tbody tr th {\n",
       "        vertical-align: top;\n",
       "    }\n",
       "\n",
       "    .dataframe thead th {\n",
       "        text-align: right;\n",
       "    }\n",
       "</style>\n",
       "<table border=\"1\" class=\"dataframe\">\n",
       "  <thead>\n",
       "    <tr style=\"text-align: right;\">\n",
       "      <th></th>\n",
       "      <th>timestamp</th>\n",
       "      <th>open</th>\n",
       "      <th>high</th>\n",
       "      <th>low</th>\n",
       "      <th>close</th>\n",
       "      <th>volume</th>\n",
       "      <th>volume_CMF</th>\n",
       "      <th>volume_FII</th>\n",
       "      <th>volume_MFI</th>\n",
       "      <th>volume_VWA</th>\n",
       "      <th>...</th>\n",
       "      <th>MACD_line</th>\n",
       "      <th>MACD_signal</th>\n",
       "      <th>MAI</th>\n",
       "      <th>PSAR_binary</th>\n",
       "      <th>STC</th>\n",
       "      <th>TRIX</th>\n",
       "      <th>vortex_ind_diff</th>\n",
       "      <th>vortex_neg</th>\n",
       "      <th>vortex_pos</th>\n",
       "      <th>S&amp;P_close_filled</th>\n",
       "    </tr>\n",
       "  </thead>\n",
       "  <tbody>\n",
       "    <tr>\n",
       "      <th>0</th>\n",
       "      <td>2019-09-08 20:00:00</td>\n",
       "      <td>10000.00</td>\n",
       "      <td>10000.00</td>\n",
       "      <td>10000.00</td>\n",
       "      <td>10000.00</td>\n",
       "      <td>0.002</td>\n",
       "      <td>NaN</td>\n",
       "      <td>NaN</td>\n",
       "      <td>NaN</td>\n",
       "      <td>NaN</td>\n",
       "      <td>...</td>\n",
       "      <td>NaN</td>\n",
       "      <td>NaN</td>\n",
       "      <td>NaN</td>\n",
       "      <td>0</td>\n",
       "      <td>NaN</td>\n",
       "      <td>NaN</td>\n",
       "      <td>NaN</td>\n",
       "      <td>NaN</td>\n",
       "      <td>NaN</td>\n",
       "      <td>2978.43</td>\n",
       "    </tr>\n",
       "    <tr>\n",
       "      <th>1</th>\n",
       "      <td>2019-09-08 21:00:00</td>\n",
       "      <td>10000.00</td>\n",
       "      <td>10000.00</td>\n",
       "      <td>10000.00</td>\n",
       "      <td>10000.00</td>\n",
       "      <td>0.000</td>\n",
       "      <td>NaN</td>\n",
       "      <td>NaN</td>\n",
       "      <td>NaN</td>\n",
       "      <td>NaN</td>\n",
       "      <td>...</td>\n",
       "      <td>NaN</td>\n",
       "      <td>NaN</td>\n",
       "      <td>NaN</td>\n",
       "      <td>0</td>\n",
       "      <td>NaN</td>\n",
       "      <td>NaN</td>\n",
       "      <td>NaN</td>\n",
       "      <td>NaN</td>\n",
       "      <td>NaN</td>\n",
       "      <td>2978.43</td>\n",
       "    </tr>\n",
       "    <tr>\n",
       "      <th>2</th>\n",
       "      <td>2019-09-08 22:00:00</td>\n",
       "      <td>10344.77</td>\n",
       "      <td>10357.53</td>\n",
       "      <td>10337.43</td>\n",
       "      <td>10340.12</td>\n",
       "      <td>471.659</td>\n",
       "      <td>NaN</td>\n",
       "      <td>NaN</td>\n",
       "      <td>NaN</td>\n",
       "      <td>NaN</td>\n",
       "      <td>...</td>\n",
       "      <td>NaN</td>\n",
       "      <td>NaN</td>\n",
       "      <td>NaN</td>\n",
       "      <td>1</td>\n",
       "      <td>NaN</td>\n",
       "      <td>NaN</td>\n",
       "      <td>NaN</td>\n",
       "      <td>NaN</td>\n",
       "      <td>NaN</td>\n",
       "      <td>2978.43</td>\n",
       "    </tr>\n",
       "    <tr>\n",
       "      <th>3</th>\n",
       "      <td>2019-09-08 23:00:00</td>\n",
       "      <td>10340.12</td>\n",
       "      <td>10368.64</td>\n",
       "      <td>10334.54</td>\n",
       "      <td>10351.42</td>\n",
       "      <td>583.271</td>\n",
       "      <td>NaN</td>\n",
       "      <td>NaN</td>\n",
       "      <td>NaN</td>\n",
       "      <td>NaN</td>\n",
       "      <td>...</td>\n",
       "      <td>NaN</td>\n",
       "      <td>NaN</td>\n",
       "      <td>NaN</td>\n",
       "      <td>1</td>\n",
       "      <td>NaN</td>\n",
       "      <td>NaN</td>\n",
       "      <td>NaN</td>\n",
       "      <td>NaN</td>\n",
       "      <td>NaN</td>\n",
       "      <td>2978.43</td>\n",
       "    </tr>\n",
       "    <tr>\n",
       "      <th>4</th>\n",
       "      <td>2019-09-09 00:00:00</td>\n",
       "      <td>10351.42</td>\n",
       "      <td>10391.90</td>\n",
       "      <td>10324.77</td>\n",
       "      <td>10391.90</td>\n",
       "      <td>689.759</td>\n",
       "      <td>NaN</td>\n",
       "      <td>NaN</td>\n",
       "      <td>NaN</td>\n",
       "      <td>NaN</td>\n",
       "      <td>...</td>\n",
       "      <td>NaN</td>\n",
       "      <td>NaN</td>\n",
       "      <td>NaN</td>\n",
       "      <td>1</td>\n",
       "      <td>NaN</td>\n",
       "      <td>NaN</td>\n",
       "      <td>NaN</td>\n",
       "      <td>NaN</td>\n",
       "      <td>NaN</td>\n",
       "      <td>2978.43</td>\n",
       "    </tr>\n",
       "  </tbody>\n",
       "</table>\n",
       "<p>5 rows × 53 columns</p>\n",
       "</div>"
      ],
      "text/plain": [
       "            timestamp      open      high       low     close   volume  \\\n",
       "0 2019-09-08 20:00:00  10000.00  10000.00  10000.00  10000.00    0.002   \n",
       "1 2019-09-08 21:00:00  10000.00  10000.00  10000.00  10000.00    0.000   \n",
       "2 2019-09-08 22:00:00  10344.77  10357.53  10337.43  10340.12  471.659   \n",
       "3 2019-09-08 23:00:00  10340.12  10368.64  10334.54  10351.42  583.271   \n",
       "4 2019-09-09 00:00:00  10351.42  10391.90  10324.77  10391.90  689.759   \n",
       "\n",
       "   volume_CMF  volume_FII  volume_MFI  volume_VWA  ...  MACD_line  \\\n",
       "0         NaN         NaN         NaN         NaN  ...        NaN   \n",
       "1         NaN         NaN         NaN         NaN  ...        NaN   \n",
       "2         NaN         NaN         NaN         NaN  ...        NaN   \n",
       "3         NaN         NaN         NaN         NaN  ...        NaN   \n",
       "4         NaN         NaN         NaN         NaN  ...        NaN   \n",
       "\n",
       "   MACD_signal  MAI  PSAR_binary  STC  TRIX  vortex_ind_diff  vortex_neg  \\\n",
       "0          NaN  NaN            0  NaN   NaN              NaN         NaN   \n",
       "1          NaN  NaN            0  NaN   NaN              NaN         NaN   \n",
       "2          NaN  NaN            1  NaN   NaN              NaN         NaN   \n",
       "3          NaN  NaN            1  NaN   NaN              NaN         NaN   \n",
       "4          NaN  NaN            1  NaN   NaN              NaN         NaN   \n",
       "\n",
       "   vortex_pos  S&P_close_filled  \n",
       "0         NaN           2978.43  \n",
       "1         NaN           2978.43  \n",
       "2         NaN           2978.43  \n",
       "3         NaN           2978.43  \n",
       "4         NaN           2978.43  \n",
       "\n",
       "[5 rows x 53 columns]"
      ]
     },
     "execution_count": 61,
     "metadata": {},
     "output_type": "execute_result"
    }
   ],
   "source": [
    "data.head()"
   ]
  },
  {
   "cell_type": "code",
   "execution_count": 62,
   "id": "ef137878",
   "metadata": {},
   "outputs": [],
   "source": [
    "# msno.matrix(data[:300], figsize=(50, 10))"
   ]
  },
  {
   "cell_type": "code",
   "execution_count": 63,
   "id": "fb3ff24b",
   "metadata": {},
   "outputs": [
    {
     "name": "stdout",
     "output_type": "stream",
     "text": [
      "Shape: (32741, 53)\n",
      "Duplicates: 0\n",
      "Duplicate timestamps 0\n",
      "Total amount of NaN: 832\n"
     ]
    }
   ],
   "source": [
    "data_check(data)"
   ]
  },
  {
   "attachments": {},
   "cell_type": "markdown",
   "id": "ceb313da",
   "metadata": {},
   "source": [
    "### Merging Interest rate (US) to Bitcoin"
   ]
  },
  {
   "attachments": {},
   "cell_type": "markdown",
   "id": "ac07da5a",
   "metadata": {},
   "source": [
    "Interest rate dataset"
   ]
  },
  {
   "cell_type": "code",
   "execution_count": 64,
   "id": "ac45fa1d",
   "metadata": {},
   "outputs": [
    {
     "data": {
      "text/html": [
       "<div>\n",
       "<style scoped>\n",
       "    .dataframe tbody tr th:only-of-type {\n",
       "        vertical-align: middle;\n",
       "    }\n",
       "\n",
       "    .dataframe tbody tr th {\n",
       "        vertical-align: top;\n",
       "    }\n",
       "\n",
       "    .dataframe thead th {\n",
       "        text-align: right;\n",
       "    }\n",
       "</style>\n",
       "<table border=\"1\" class=\"dataframe\">\n",
       "  <thead>\n",
       "    <tr style=\"text-align: right;\">\n",
       "      <th></th>\n",
       "      <th>DateTime</th>\n",
       "      <th>Interest_Rate</th>\n",
       "    </tr>\n",
       "  </thead>\n",
       "  <tbody>\n",
       "    <tr>\n",
       "      <th>0</th>\n",
       "      <td>1971-08-04</td>\n",
       "      <td>5.50</td>\n",
       "    </tr>\n",
       "    <tr>\n",
       "      <th>1</th>\n",
       "      <td>1971-08-16</td>\n",
       "      <td>5.75</td>\n",
       "    </tr>\n",
       "    <tr>\n",
       "      <th>2</th>\n",
       "      <td>1971-09-01</td>\n",
       "      <td>5.13</td>\n",
       "    </tr>\n",
       "    <tr>\n",
       "      <th>3</th>\n",
       "      <td>1971-10-01</td>\n",
       "      <td>5.13</td>\n",
       "    </tr>\n",
       "    <tr>\n",
       "      <th>4</th>\n",
       "      <td>1971-11-01</td>\n",
       "      <td>5.13</td>\n",
       "    </tr>\n",
       "    <tr>\n",
       "      <th>...</th>\n",
       "      <td>...</td>\n",
       "      <td>...</td>\n",
       "    </tr>\n",
       "    <tr>\n",
       "      <th>826</th>\n",
       "      <td>2023-01-31</td>\n",
       "      <td>4.50</td>\n",
       "    </tr>\n",
       "    <tr>\n",
       "      <th>827</th>\n",
       "      <td>2023-02-01</td>\n",
       "      <td>4.75</td>\n",
       "    </tr>\n",
       "    <tr>\n",
       "      <th>828</th>\n",
       "      <td>2023-03-22</td>\n",
       "      <td>5.00</td>\n",
       "    </tr>\n",
       "    <tr>\n",
       "      <th>829</th>\n",
       "      <td>2023-04-30</td>\n",
       "      <td>5.00</td>\n",
       "    </tr>\n",
       "    <tr>\n",
       "      <th>830</th>\n",
       "      <td>2023-05-03</td>\n",
       "      <td>5.25</td>\n",
       "    </tr>\n",
       "  </tbody>\n",
       "</table>\n",
       "<p>831 rows × 2 columns</p>\n",
       "</div>"
      ],
      "text/plain": [
       "      DateTime  Interest_Rate\n",
       "0   1971-08-04           5.50\n",
       "1   1971-08-16           5.75\n",
       "2   1971-09-01           5.13\n",
       "3   1971-10-01           5.13\n",
       "4   1971-11-01           5.13\n",
       "..         ...            ...\n",
       "826 2023-01-31           4.50\n",
       "827 2023-02-01           4.75\n",
       "828 2023-03-22           5.00\n",
       "829 2023-04-30           5.00\n",
       "830 2023-05-03           5.25\n",
       "\n",
       "[831 rows x 2 columns]"
      ]
     },
     "execution_count": 64,
     "metadata": {},
     "output_type": "execute_result"
    }
   ],
   "source": [
    "data_int_us = pd.read_csv(\"../raw_data/historical_country_United_States_indicator_Interest_Rate.csv\")\n",
    "\n",
    "data_int_us.drop(columns=[\"Category\", \"Country\", \"Frequency\", \"HistoricalDataSymbol\", \"LastUpdate\"], inplace=True)\n",
    "data_int_us = data_int_us.rename(columns={'Value': 'Interest_Rate'})\n",
    "data_int_us['DateTime'] = pd.to_datetime(data_int_us['DateTime'])\n",
    "\n",
    "data_int_us"
   ]
  },
  {
   "cell_type": "code",
   "execution_count": 65,
   "id": "4a3a8f0e",
   "metadata": {},
   "outputs": [],
   "source": [
    "data_int_us['datetime_M'] = data_int_us['DateTime'].dt.to_period('d').dt.strftime('%Y-%m-%d')"
   ]
  },
  {
   "attachments": {},
   "cell_type": "markdown",
   "id": "dc7dc722",
   "metadata": {},
   "source": [
    "Big dataset"
   ]
  },
  {
   "cell_type": "code",
   "execution_count": 66,
   "id": "71dd3bdc",
   "metadata": {},
   "outputs": [
    {
     "name": "stdout",
     "output_type": "stream",
     "text": [
      "<class 'pandas.core.frame.DataFrame'>\n",
      "Int64Index: 32741 entries, 0 to 32740\n",
      "Data columns (total 53 columns):\n",
      " #   Column                      Non-Null Count  Dtype         \n",
      "---  ------                      --------------  -----         \n",
      " 0   timestamp                   32741 non-null  datetime64[ns]\n",
      " 1   open                        32741 non-null  float64       \n",
      " 2   high                        32741 non-null  float64       \n",
      " 3   low                         32741 non-null  float64       \n",
      " 4   close                       32741 non-null  float64       \n",
      " 5   volume                      32741 non-null  float64       \n",
      " 6   volume_CMF                  32722 non-null  float64       \n",
      " 7   volume_FII                  32728 non-null  float64       \n",
      " 8   volume_MFI                  32728 non-null  float64       \n",
      " 9   volume_VWA                  32728 non-null  float64       \n",
      " 10  mom_AOI                     32708 non-null  float64       \n",
      " 11  mom_PPO                     32716 non-null  float64       \n",
      " 12  mom_PPO_signal              32708 non-null  float64       \n",
      " 13  mom_PVO                     32716 non-null  float64       \n",
      " 14  mom_PVO_signal              32708 non-null  float64       \n",
      " 15  mom_ROC                     32729 non-null  float64       \n",
      " 16  mom_rsi                     32728 non-null  float64       \n",
      " 17  mom_stoch_RSI               32715 non-null  float64       \n",
      " 18  mom_StochOscillator         32728 non-null  float64       \n",
      " 19  mom_StochOscillator_signal  32726 non-null  float64       \n",
      " 20  mom_TSI                     32704 non-null  float64       \n",
      " 21  mom_UltimateOscillator      32713 non-null  float64       \n",
      " 22  mom_WilliamsRIndicator      32728 non-null  float64       \n",
      " 23  volat_ATR                   32741 non-null  float64       \n",
      " 24  volat_bol_hband_binary      32741 non-null  float64       \n",
      " 25  volat_bol_lband_binary      32741 non-null  float64       \n",
      " 26  volat_bol_band_width        32722 non-null  float64       \n",
      " 27  KCW                         32722 non-null  float64       \n",
      " 28  KCP                         32739 non-null  float64       \n",
      " 29  donch_DCW                   32732 non-null  float64       \n",
      " 30  ULI                         32728 non-null  float64       \n",
      " 31  ADX                         32741 non-null  float64       \n",
      " 32  ADX_neg                     32741 non-null  float64       \n",
      " 33  ADX_pos                     32741 non-null  float64       \n",
      " 34  ARI_down                    32717 non-null  float64       \n",
      " 35  ARI                         32717 non-null  float64       \n",
      " 36  ARI_up                      32717 non-null  float64       \n",
      " 37  CCI                         32722 non-null  float64       \n",
      " 38  DPO                         32722 non-null  float64       \n",
      " 39  EMA_100_binary              32741 non-null  int64         \n",
      " 40  KST                         32727 non-null  float64       \n",
      " 41  KST_diff                    32727 non-null  float64       \n",
      " 42  KST_sig                     32727 non-null  float64       \n",
      " 43  MACD_line                   32716 non-null  float64       \n",
      " 44  MACD_signal                 32708 non-null  float64       \n",
      " 45  MAI                         32701 non-null  float64       \n",
      " 46  PSAR_binary                 32741 non-null  int64         \n",
      " 47  STC                         32670 non-null  float64       \n",
      " 48  TRIX                        32698 non-null  float64       \n",
      " 49  vortex_ind_diff             32727 non-null  float64       \n",
      " 50  vortex_neg                  32727 non-null  float64       \n",
      " 51  vortex_pos                  32727 non-null  float64       \n",
      " 52  S&P_close_filled            32741 non-null  float64       \n",
      "dtypes: datetime64[ns](1), float64(50), int64(2)\n",
      "memory usage: 13.5 MB\n"
     ]
    }
   ],
   "source": [
    "data.info()"
   ]
  },
  {
   "cell_type": "code",
   "execution_count": 67,
   "id": "a5dac4eb",
   "metadata": {},
   "outputs": [],
   "source": [
    "data['datetime_d'] = data['timestamp'].dt.to_period('d').dt.strftime('%Y-%m-%d')"
   ]
  },
  {
   "attachments": {},
   "cell_type": "markdown",
   "id": "96a423e9",
   "metadata": {},
   "source": [
    "Merging"
   ]
  },
  {
   "cell_type": "code",
   "execution_count": 68,
   "id": "ac044f9d",
   "metadata": {},
   "outputs": [],
   "source": [
    "data['datetime_d'] = pd.to_datetime(data['datetime_d'])"
   ]
  },
  {
   "cell_type": "code",
   "execution_count": 69,
   "id": "90ce9198",
   "metadata": {},
   "outputs": [],
   "source": [
    "data_int_us = data_int_us[data_int_us['DateTime'] > '2019-08-08']"
   ]
  },
  {
   "cell_type": "code",
   "execution_count": 70,
   "id": "1f118bbb",
   "metadata": {},
   "outputs": [],
   "source": [
    "data = data.merge(data_int_us, how='left', left_on='datetime_d', right_on='DateTime')"
   ]
  },
  {
   "cell_type": "code",
   "execution_count": 71,
   "id": "87315d4f",
   "metadata": {},
   "outputs": [],
   "source": [
    "import math"
   ]
  },
  {
   "cell_type": "code",
   "execution_count": 72,
   "id": "140897bd",
   "metadata": {},
   "outputs": [
    {
     "data": {
      "text/html": [
       "<div>\n",
       "<style scoped>\n",
       "    .dataframe tbody tr th:only-of-type {\n",
       "        vertical-align: middle;\n",
       "    }\n",
       "\n",
       "    .dataframe tbody tr th {\n",
       "        vertical-align: top;\n",
       "    }\n",
       "\n",
       "    .dataframe thead th {\n",
       "        text-align: right;\n",
       "    }\n",
       "</style>\n",
       "<table border=\"1\" class=\"dataframe\">\n",
       "  <thead>\n",
       "    <tr style=\"text-align: right;\">\n",
       "      <th></th>\n",
       "      <th>timestamp</th>\n",
       "      <th>open</th>\n",
       "      <th>high</th>\n",
       "      <th>low</th>\n",
       "      <th>close</th>\n",
       "      <th>volume</th>\n",
       "      <th>volume_CMF</th>\n",
       "      <th>volume_FII</th>\n",
       "      <th>volume_MFI</th>\n",
       "      <th>volume_VWA</th>\n",
       "      <th>...</th>\n",
       "      <th>STC</th>\n",
       "      <th>TRIX</th>\n",
       "      <th>vortex_ind_diff</th>\n",
       "      <th>vortex_neg</th>\n",
       "      <th>vortex_pos</th>\n",
       "      <th>S&amp;P_close_filled</th>\n",
       "      <th>datetime_d</th>\n",
       "      <th>DateTime</th>\n",
       "      <th>Interest_Rate</th>\n",
       "      <th>datetime_M</th>\n",
       "    </tr>\n",
       "  </thead>\n",
       "  <tbody>\n",
       "    <tr>\n",
       "      <th>0</th>\n",
       "      <td>2019-09-08 20:00:00</td>\n",
       "      <td>10000.0</td>\n",
       "      <td>10000.0</td>\n",
       "      <td>10000.0</td>\n",
       "      <td>10000.0</td>\n",
       "      <td>0.002</td>\n",
       "      <td>NaN</td>\n",
       "      <td>NaN</td>\n",
       "      <td>NaN</td>\n",
       "      <td>NaN</td>\n",
       "      <td>...</td>\n",
       "      <td>NaN</td>\n",
       "      <td>NaN</td>\n",
       "      <td>NaN</td>\n",
       "      <td>NaN</td>\n",
       "      <td>NaN</td>\n",
       "      <td>2978.43</td>\n",
       "      <td>2019-09-08</td>\n",
       "      <td>NaT</td>\n",
       "      <td>NaN</td>\n",
       "      <td>NaN</td>\n",
       "    </tr>\n",
       "  </tbody>\n",
       "</table>\n",
       "<p>1 rows × 57 columns</p>\n",
       "</div>"
      ],
      "text/plain": [
       "            timestamp     open     high      low    close  volume  volume_CMF  \\\n",
       "0 2019-09-08 20:00:00  10000.0  10000.0  10000.0  10000.0   0.002         NaN   \n",
       "\n",
       "   volume_FII  volume_MFI  volume_VWA  ...  STC  TRIX  vortex_ind_diff  \\\n",
       "0         NaN         NaN         NaN  ...  NaN   NaN              NaN   \n",
       "\n",
       "   vortex_neg  vortex_pos  S&P_close_filled  datetime_d  DateTime  \\\n",
       "0         NaN         NaN           2978.43  2019-09-08       NaT   \n",
       "\n",
       "   Interest_Rate  datetime_M  \n",
       "0            NaN         NaN  \n",
       "\n",
       "[1 rows x 57 columns]"
      ]
     },
     "execution_count": 72,
     "metadata": {},
     "output_type": "execute_result"
    }
   ],
   "source": [
    "data.head(1)"
   ]
  },
  {
   "cell_type": "code",
   "execution_count": 73,
   "id": "38ead521",
   "metadata": {},
   "outputs": [],
   "source": [
    "int_list = data['Interest_Rate'].tolist()\n",
    "\n",
    "\n",
    "for i in range(len(int_list)):\n",
    "    \n",
    "    if i > 0 and math.isnan(int_list[i]):\n",
    "        \n",
    "        int_list[i] = int_list[i-1]\n",
    "        \n",
    "for i in range(len(int_list)):\n",
    "    \n",
    "    if math.isnan(int_list[i]):\n",
    "        \n",
    "        int_list[i] = 2.25"
   ]
  },
  {
   "cell_type": "code",
   "execution_count": 74,
   "id": "92c89e19",
   "metadata": {},
   "outputs": [],
   "source": [
    "data['Interest_Rates_filled'] = int_list"
   ]
  },
  {
   "cell_type": "code",
   "execution_count": 75,
   "id": "f1d7b69a",
   "metadata": {},
   "outputs": [],
   "source": [
    "data = data.drop([\"datetime_d\", \"DateTime\", \"Interest_Rate\"], axis = 1)"
   ]
  },
  {
   "cell_type": "code",
   "execution_count": 76,
   "id": "b31c69d2",
   "metadata": {},
   "outputs": [
    {
     "name": "stdout",
     "output_type": "stream",
     "text": [
      "Shape: (32741, 55)\n",
      "Duplicates: 0\n",
      "Duplicate timestamps 0\n",
      "Total amount of NaN: 32469\n"
     ]
    }
   ],
   "source": [
    "data_check(data)"
   ]
  },
  {
   "cell_type": "code",
   "execution_count": 77,
   "id": "8e743d41",
   "metadata": {},
   "outputs": [
    {
     "data": {
      "text/html": [
       "<div>\n",
       "<style scoped>\n",
       "    .dataframe tbody tr th:only-of-type {\n",
       "        vertical-align: middle;\n",
       "    }\n",
       "\n",
       "    .dataframe tbody tr th {\n",
       "        vertical-align: top;\n",
       "    }\n",
       "\n",
       "    .dataframe thead th {\n",
       "        text-align: right;\n",
       "    }\n",
       "</style>\n",
       "<table border=\"1\" class=\"dataframe\">\n",
       "  <thead>\n",
       "    <tr style=\"text-align: right;\">\n",
       "      <th></th>\n",
       "      <th>timestamp</th>\n",
       "      <th>open</th>\n",
       "      <th>high</th>\n",
       "      <th>low</th>\n",
       "      <th>close</th>\n",
       "      <th>volume</th>\n",
       "      <th>volume_CMF</th>\n",
       "      <th>volume_FII</th>\n",
       "      <th>volume_MFI</th>\n",
       "      <th>volume_VWA</th>\n",
       "      <th>...</th>\n",
       "      <th>MAI</th>\n",
       "      <th>PSAR_binary</th>\n",
       "      <th>STC</th>\n",
       "      <th>TRIX</th>\n",
       "      <th>vortex_ind_diff</th>\n",
       "      <th>vortex_neg</th>\n",
       "      <th>vortex_pos</th>\n",
       "      <th>S&amp;P_close_filled</th>\n",
       "      <th>datetime_M</th>\n",
       "      <th>Interest_Rates_filled</th>\n",
       "    </tr>\n",
       "  </thead>\n",
       "  <tbody>\n",
       "    <tr>\n",
       "      <th>0</th>\n",
       "      <td>2019-09-08 20:00:00</td>\n",
       "      <td>10000.00</td>\n",
       "      <td>10000.00</td>\n",
       "      <td>10000.00</td>\n",
       "      <td>10000.00</td>\n",
       "      <td>0.002</td>\n",
       "      <td>NaN</td>\n",
       "      <td>NaN</td>\n",
       "      <td>NaN</td>\n",
       "      <td>NaN</td>\n",
       "      <td>...</td>\n",
       "      <td>NaN</td>\n",
       "      <td>0</td>\n",
       "      <td>NaN</td>\n",
       "      <td>NaN</td>\n",
       "      <td>NaN</td>\n",
       "      <td>NaN</td>\n",
       "      <td>NaN</td>\n",
       "      <td>2978.43</td>\n",
       "      <td>NaN</td>\n",
       "      <td>2.25</td>\n",
       "    </tr>\n",
       "    <tr>\n",
       "      <th>1</th>\n",
       "      <td>2019-09-08 21:00:00</td>\n",
       "      <td>10000.00</td>\n",
       "      <td>10000.00</td>\n",
       "      <td>10000.00</td>\n",
       "      <td>10000.00</td>\n",
       "      <td>0.000</td>\n",
       "      <td>NaN</td>\n",
       "      <td>NaN</td>\n",
       "      <td>NaN</td>\n",
       "      <td>NaN</td>\n",
       "      <td>...</td>\n",
       "      <td>NaN</td>\n",
       "      <td>0</td>\n",
       "      <td>NaN</td>\n",
       "      <td>NaN</td>\n",
       "      <td>NaN</td>\n",
       "      <td>NaN</td>\n",
       "      <td>NaN</td>\n",
       "      <td>2978.43</td>\n",
       "      <td>NaN</td>\n",
       "      <td>2.25</td>\n",
       "    </tr>\n",
       "    <tr>\n",
       "      <th>2</th>\n",
       "      <td>2019-09-08 22:00:00</td>\n",
       "      <td>10344.77</td>\n",
       "      <td>10357.53</td>\n",
       "      <td>10337.43</td>\n",
       "      <td>10340.12</td>\n",
       "      <td>471.659</td>\n",
       "      <td>NaN</td>\n",
       "      <td>NaN</td>\n",
       "      <td>NaN</td>\n",
       "      <td>NaN</td>\n",
       "      <td>...</td>\n",
       "      <td>NaN</td>\n",
       "      <td>1</td>\n",
       "      <td>NaN</td>\n",
       "      <td>NaN</td>\n",
       "      <td>NaN</td>\n",
       "      <td>NaN</td>\n",
       "      <td>NaN</td>\n",
       "      <td>2978.43</td>\n",
       "      <td>NaN</td>\n",
       "      <td>2.25</td>\n",
       "    </tr>\n",
       "    <tr>\n",
       "      <th>3</th>\n",
       "      <td>2019-09-08 23:00:00</td>\n",
       "      <td>10340.12</td>\n",
       "      <td>10368.64</td>\n",
       "      <td>10334.54</td>\n",
       "      <td>10351.42</td>\n",
       "      <td>583.271</td>\n",
       "      <td>NaN</td>\n",
       "      <td>NaN</td>\n",
       "      <td>NaN</td>\n",
       "      <td>NaN</td>\n",
       "      <td>...</td>\n",
       "      <td>NaN</td>\n",
       "      <td>1</td>\n",
       "      <td>NaN</td>\n",
       "      <td>NaN</td>\n",
       "      <td>NaN</td>\n",
       "      <td>NaN</td>\n",
       "      <td>NaN</td>\n",
       "      <td>2978.43</td>\n",
       "      <td>NaN</td>\n",
       "      <td>2.25</td>\n",
       "    </tr>\n",
       "    <tr>\n",
       "      <th>4</th>\n",
       "      <td>2019-09-09 00:00:00</td>\n",
       "      <td>10351.42</td>\n",
       "      <td>10391.90</td>\n",
       "      <td>10324.77</td>\n",
       "      <td>10391.90</td>\n",
       "      <td>689.759</td>\n",
       "      <td>NaN</td>\n",
       "      <td>NaN</td>\n",
       "      <td>NaN</td>\n",
       "      <td>NaN</td>\n",
       "      <td>...</td>\n",
       "      <td>NaN</td>\n",
       "      <td>1</td>\n",
       "      <td>NaN</td>\n",
       "      <td>NaN</td>\n",
       "      <td>NaN</td>\n",
       "      <td>NaN</td>\n",
       "      <td>NaN</td>\n",
       "      <td>2978.43</td>\n",
       "      <td>NaN</td>\n",
       "      <td>2.25</td>\n",
       "    </tr>\n",
       "    <tr>\n",
       "      <th>...</th>\n",
       "      <td>...</td>\n",
       "      <td>...</td>\n",
       "      <td>...</td>\n",
       "      <td>...</td>\n",
       "      <td>...</td>\n",
       "      <td>...</td>\n",
       "      <td>...</td>\n",
       "      <td>...</td>\n",
       "      <td>...</td>\n",
       "      <td>...</td>\n",
       "      <td>...</td>\n",
       "      <td>...</td>\n",
       "      <td>...</td>\n",
       "      <td>...</td>\n",
       "      <td>...</td>\n",
       "      <td>...</td>\n",
       "      <td>...</td>\n",
       "      <td>...</td>\n",
       "      <td>...</td>\n",
       "      <td>...</td>\n",
       "      <td>...</td>\n",
       "    </tr>\n",
       "    <tr>\n",
       "      <th>32736</th>\n",
       "      <td>2023-06-03 20:00:00</td>\n",
       "      <td>27239.40</td>\n",
       "      <td>27246.40</td>\n",
       "      <td>27101.00</td>\n",
       "      <td>27147.60</td>\n",
       "      <td>15130.376</td>\n",
       "      <td>-0.048901</td>\n",
       "      <td>45306.477416</td>\n",
       "      <td>59.148253</td>\n",
       "      <td>27189.586323</td>\n",
       "      <td>...</td>\n",
       "      <td>22.182831</td>\n",
       "      <td>0</td>\n",
       "      <td>61.706651</td>\n",
       "      <td>0.016418</td>\n",
       "      <td>0.065341</td>\n",
       "      <td>0.917674</td>\n",
       "      <td>0.983015</td>\n",
       "      <td>4282.37</td>\n",
       "      <td>NaN</td>\n",
       "      <td>5.25</td>\n",
       "    </tr>\n",
       "    <tr>\n",
       "      <th>32737</th>\n",
       "      <td>2023-06-03 21:00:00</td>\n",
       "      <td>27147.70</td>\n",
       "      <td>27173.70</td>\n",
       "      <td>27113.90</td>\n",
       "      <td>27138.80</td>\n",
       "      <td>6229.878</td>\n",
       "      <td>-0.075151</td>\n",
       "      <td>31002.276871</td>\n",
       "      <td>58.559862</td>\n",
       "      <td>27189.451257</td>\n",
       "      <td>...</td>\n",
       "      <td>22.439449</td>\n",
       "      <td>0</td>\n",
       "      <td>38.302308</td>\n",
       "      <td>0.015782</td>\n",
       "      <td>0.031675</td>\n",
       "      <td>0.984213</td>\n",
       "      <td>1.015887</td>\n",
       "      <td>4282.37</td>\n",
       "      <td>NaN</td>\n",
       "      <td>5.25</td>\n",
       "    </tr>\n",
       "    <tr>\n",
       "      <th>32738</th>\n",
       "      <td>2023-06-03 22:00:00</td>\n",
       "      <td>27138.90</td>\n",
       "      <td>27153.60</td>\n",
       "      <td>27000.00</td>\n",
       "      <td>27084.90</td>\n",
       "      <td>15389.644</td>\n",
       "      <td>-0.042819</td>\n",
       "      <td>-91926.878625</td>\n",
       "      <td>49.242500</td>\n",
       "      <td>27175.830184</td>\n",
       "      <td>...</td>\n",
       "      <td>22.679318</td>\n",
       "      <td>0</td>\n",
       "      <td>19.151154</td>\n",
       "      <td>0.014471</td>\n",
       "      <td>-0.113904</td>\n",
       "      <td>1.006104</td>\n",
       "      <td>0.892200</td>\n",
       "      <td>4282.37</td>\n",
       "      <td>NaN</td>\n",
       "      <td>5.25</td>\n",
       "    </tr>\n",
       "    <tr>\n",
       "      <th>32739</th>\n",
       "      <td>2023-06-03 23:00:00</td>\n",
       "      <td>27084.90</td>\n",
       "      <td>27119.50</td>\n",
       "      <td>27042.00</td>\n",
       "      <td>27052.70</td>\n",
       "      <td>7760.747</td>\n",
       "      <td>-0.045307</td>\n",
       "      <td>-114493.903593</td>\n",
       "      <td>43.575625</td>\n",
       "      <td>27168.759575</td>\n",
       "      <td>...</td>\n",
       "      <td>22.794642</td>\n",
       "      <td>0</td>\n",
       "      <td>9.575577</td>\n",
       "      <td>0.012502</td>\n",
       "      <td>-0.173782</td>\n",
       "      <td>1.079289</td>\n",
       "      <td>0.905507</td>\n",
       "      <td>4282.37</td>\n",
       "      <td>NaN</td>\n",
       "      <td>5.25</td>\n",
       "    </tr>\n",
       "    <tr>\n",
       "      <th>32740</th>\n",
       "      <td>2023-06-04 00:00:00</td>\n",
       "      <td>27052.80</td>\n",
       "      <td>27069.30</td>\n",
       "      <td>26900.00</td>\n",
       "      <td>26990.00</td>\n",
       "      <td>18405.196</td>\n",
       "      <td>-0.030499</td>\n",
       "      <td>-262995.601537</td>\n",
       "      <td>38.631681</td>\n",
       "      <td>27142.897792</td>\n",
       "      <td>...</td>\n",
       "      <td>23.049919</td>\n",
       "      <td>0</td>\n",
       "      <td>4.787789</td>\n",
       "      <td>0.009703</td>\n",
       "      <td>-0.291848</td>\n",
       "      <td>1.094035</td>\n",
       "      <td>0.802186</td>\n",
       "      <td>4282.37</td>\n",
       "      <td>NaN</td>\n",
       "      <td>5.25</td>\n",
       "    </tr>\n",
       "  </tbody>\n",
       "</table>\n",
       "<p>32741 rows × 55 columns</p>\n",
       "</div>"
      ],
      "text/plain": [
       "                timestamp      open      high       low     close     volume  \\\n",
       "0     2019-09-08 20:00:00  10000.00  10000.00  10000.00  10000.00      0.002   \n",
       "1     2019-09-08 21:00:00  10000.00  10000.00  10000.00  10000.00      0.000   \n",
       "2     2019-09-08 22:00:00  10344.77  10357.53  10337.43  10340.12    471.659   \n",
       "3     2019-09-08 23:00:00  10340.12  10368.64  10334.54  10351.42    583.271   \n",
       "4     2019-09-09 00:00:00  10351.42  10391.90  10324.77  10391.90    689.759   \n",
       "...                   ...       ...       ...       ...       ...        ...   \n",
       "32736 2023-06-03 20:00:00  27239.40  27246.40  27101.00  27147.60  15130.376   \n",
       "32737 2023-06-03 21:00:00  27147.70  27173.70  27113.90  27138.80   6229.878   \n",
       "32738 2023-06-03 22:00:00  27138.90  27153.60  27000.00  27084.90  15389.644   \n",
       "32739 2023-06-03 23:00:00  27084.90  27119.50  27042.00  27052.70   7760.747   \n",
       "32740 2023-06-04 00:00:00  27052.80  27069.30  26900.00  26990.00  18405.196   \n",
       "\n",
       "       volume_CMF     volume_FII  volume_MFI    volume_VWA  ...        MAI  \\\n",
       "0             NaN            NaN         NaN           NaN  ...        NaN   \n",
       "1             NaN            NaN         NaN           NaN  ...        NaN   \n",
       "2             NaN            NaN         NaN           NaN  ...        NaN   \n",
       "3             NaN            NaN         NaN           NaN  ...        NaN   \n",
       "4             NaN            NaN         NaN           NaN  ...        NaN   \n",
       "...           ...            ...         ...           ...  ...        ...   \n",
       "32736   -0.048901   45306.477416   59.148253  27189.586323  ...  22.182831   \n",
       "32737   -0.075151   31002.276871   58.559862  27189.451257  ...  22.439449   \n",
       "32738   -0.042819  -91926.878625   49.242500  27175.830184  ...  22.679318   \n",
       "32739   -0.045307 -114493.903593   43.575625  27168.759575  ...  22.794642   \n",
       "32740   -0.030499 -262995.601537   38.631681  27142.897792  ...  23.049919   \n",
       "\n",
       "       PSAR_binary        STC      TRIX  vortex_ind_diff  vortex_neg  \\\n",
       "0                0        NaN       NaN              NaN         NaN   \n",
       "1                0        NaN       NaN              NaN         NaN   \n",
       "2                1        NaN       NaN              NaN         NaN   \n",
       "3                1        NaN       NaN              NaN         NaN   \n",
       "4                1        NaN       NaN              NaN         NaN   \n",
       "...            ...        ...       ...              ...         ...   \n",
       "32736            0  61.706651  0.016418         0.065341    0.917674   \n",
       "32737            0  38.302308  0.015782         0.031675    0.984213   \n",
       "32738            0  19.151154  0.014471        -0.113904    1.006104   \n",
       "32739            0   9.575577  0.012502        -0.173782    1.079289   \n",
       "32740            0   4.787789  0.009703        -0.291848    1.094035   \n",
       "\n",
       "       vortex_pos  S&P_close_filled  datetime_M  Interest_Rates_filled  \n",
       "0             NaN           2978.43         NaN                   2.25  \n",
       "1             NaN           2978.43         NaN                   2.25  \n",
       "2             NaN           2978.43         NaN                   2.25  \n",
       "3             NaN           2978.43         NaN                   2.25  \n",
       "4             NaN           2978.43         NaN                   2.25  \n",
       "...           ...               ...         ...                    ...  \n",
       "32736    0.983015           4282.37         NaN                   5.25  \n",
       "32737    1.015887           4282.37         NaN                   5.25  \n",
       "32738    0.892200           4282.37         NaN                   5.25  \n",
       "32739    0.905507           4282.37         NaN                   5.25  \n",
       "32740    0.802186           4282.37         NaN                   5.25  \n",
       "\n",
       "[32741 rows x 55 columns]"
      ]
     },
     "execution_count": 77,
     "metadata": {},
     "output_type": "execute_result"
    }
   ],
   "source": [
    "data"
   ]
  },
  {
   "attachments": {},
   "cell_type": "markdown",
   "id": "d7d06b89",
   "metadata": {},
   "source": [
    "### Merging Inflation rate to Bitcoin"
   ]
  },
  {
   "attachments": {},
   "cell_type": "markdown",
   "id": "37853c97",
   "metadata": {},
   "source": [
    "Inflation rate dataset"
   ]
  },
  {
   "cell_type": "code",
   "execution_count": 78,
   "id": "2ef0a70c",
   "metadata": {},
   "outputs": [],
   "source": [
    "data_inf_us = pd.read_csv(\"../raw_data/historical_country_United_States_indicator_Inflation_Rate.csv\")"
   ]
  },
  {
   "cell_type": "code",
   "execution_count": 79,
   "id": "6bfe0fb8",
   "metadata": {},
   "outputs": [],
   "source": [
    "new_rows = [{'Value': 5.15, 'DateTime': '2023-05-30T00:00:00'}, {'Value': 5.08, 'DateTime': '2023-06-30T00:00:00'}]\n",
    "new_df = pd.DataFrame(new_rows)\n",
    "data_inf_us = pd.concat([data_inf_us, new_df], ignore_index=True)"
   ]
  },
  {
   "cell_type": "code",
   "execution_count": 80,
   "id": "1e49ecb1",
   "metadata": {},
   "outputs": [],
   "source": [
    "data_inf_us['DateTime'] = pd.to_datetime(data_inf_us['DateTime'])"
   ]
  },
  {
   "cell_type": "code",
   "execution_count": 81,
   "id": "75f3c65a",
   "metadata": {},
   "outputs": [
    {
     "data": {
      "text/html": [
       "<div>\n",
       "<style scoped>\n",
       "    .dataframe tbody tr th:only-of-type {\n",
       "        vertical-align: middle;\n",
       "    }\n",
       "\n",
       "    .dataframe tbody tr th {\n",
       "        vertical-align: top;\n",
       "    }\n",
       "\n",
       "    .dataframe thead th {\n",
       "        text-align: right;\n",
       "    }\n",
       "</style>\n",
       "<table border=\"1\" class=\"dataframe\">\n",
       "  <thead>\n",
       "    <tr style=\"text-align: right;\">\n",
       "      <th></th>\n",
       "      <th>Country</th>\n",
       "      <th>Category</th>\n",
       "      <th>DateTime</th>\n",
       "      <th>Value</th>\n",
       "      <th>Frequency</th>\n",
       "      <th>HistoricalDataSymbol</th>\n",
       "      <th>LastUpdate</th>\n",
       "    </tr>\n",
       "  </thead>\n",
       "  <tbody>\n",
       "    <tr>\n",
       "      <th>0</th>\n",
       "      <td>United States</td>\n",
       "      <td>Inflation Rate</td>\n",
       "      <td>1914-12-31</td>\n",
       "      <td>1.00</td>\n",
       "      <td>Monthly</td>\n",
       "      <td>CPI YOY</td>\n",
       "      <td>2015-02-26T15:56:00</td>\n",
       "    </tr>\n",
       "    <tr>\n",
       "      <th>1</th>\n",
       "      <td>United States</td>\n",
       "      <td>Inflation Rate</td>\n",
       "      <td>1915-01-31</td>\n",
       "      <td>1.00</td>\n",
       "      <td>Monthly</td>\n",
       "      <td>CPI YOY</td>\n",
       "      <td>2015-02-26T15:56:00</td>\n",
       "    </tr>\n",
       "    <tr>\n",
       "      <th>2</th>\n",
       "      <td>United States</td>\n",
       "      <td>Inflation Rate</td>\n",
       "      <td>1915-02-28</td>\n",
       "      <td>1.00</td>\n",
       "      <td>Monthly</td>\n",
       "      <td>CPI YOY</td>\n",
       "      <td>2015-02-26T15:56:00</td>\n",
       "    </tr>\n",
       "    <tr>\n",
       "      <th>3</th>\n",
       "      <td>United States</td>\n",
       "      <td>Inflation Rate</td>\n",
       "      <td>1915-03-31</td>\n",
       "      <td>0.00</td>\n",
       "      <td>Monthly</td>\n",
       "      <td>CPI YOY</td>\n",
       "      <td>2015-02-26T15:56:00</td>\n",
       "    </tr>\n",
       "    <tr>\n",
       "      <th>4</th>\n",
       "      <td>United States</td>\n",
       "      <td>Inflation Rate</td>\n",
       "      <td>1915-04-30</td>\n",
       "      <td>2.00</td>\n",
       "      <td>Monthly</td>\n",
       "      <td>CPI YOY</td>\n",
       "      <td>2015-02-26T15:56:00</td>\n",
       "    </tr>\n",
       "    <tr>\n",
       "      <th>...</th>\n",
       "      <td>...</td>\n",
       "      <td>...</td>\n",
       "      <td>...</td>\n",
       "      <td>...</td>\n",
       "      <td>...</td>\n",
       "      <td>...</td>\n",
       "      <td>...</td>\n",
       "    </tr>\n",
       "    <tr>\n",
       "      <th>1298</th>\n",
       "      <td>United States</td>\n",
       "      <td>Inflation Rate</td>\n",
       "      <td>2023-02-28</td>\n",
       "      <td>6.00</td>\n",
       "      <td>Monthly</td>\n",
       "      <td>CPI YOY</td>\n",
       "      <td>2023-04-12T12:30:00</td>\n",
       "    </tr>\n",
       "    <tr>\n",
       "      <th>1299</th>\n",
       "      <td>United States</td>\n",
       "      <td>Inflation Rate</td>\n",
       "      <td>2023-03-31</td>\n",
       "      <td>5.00</td>\n",
       "      <td>Monthly</td>\n",
       "      <td>CPI YOY</td>\n",
       "      <td>2023-05-10T12:30:00</td>\n",
       "    </tr>\n",
       "    <tr>\n",
       "      <th>1300</th>\n",
       "      <td>United States</td>\n",
       "      <td>Inflation Rate</td>\n",
       "      <td>2023-04-30</td>\n",
       "      <td>4.90</td>\n",
       "      <td>Monthly</td>\n",
       "      <td>CPI YOY</td>\n",
       "      <td>2023-05-10T12:30:00</td>\n",
       "    </tr>\n",
       "    <tr>\n",
       "      <th>1301</th>\n",
       "      <td>NaN</td>\n",
       "      <td>NaN</td>\n",
       "      <td>2023-05-30</td>\n",
       "      <td>5.15</td>\n",
       "      <td>NaN</td>\n",
       "      <td>NaN</td>\n",
       "      <td>NaN</td>\n",
       "    </tr>\n",
       "    <tr>\n",
       "      <th>1302</th>\n",
       "      <td>NaN</td>\n",
       "      <td>NaN</td>\n",
       "      <td>2023-06-30</td>\n",
       "      <td>5.08</td>\n",
       "      <td>NaN</td>\n",
       "      <td>NaN</td>\n",
       "      <td>NaN</td>\n",
       "    </tr>\n",
       "  </tbody>\n",
       "</table>\n",
       "<p>1303 rows × 7 columns</p>\n",
       "</div>"
      ],
      "text/plain": [
       "            Country        Category   DateTime  Value Frequency  \\\n",
       "0     United States  Inflation Rate 1914-12-31   1.00   Monthly   \n",
       "1     United States  Inflation Rate 1915-01-31   1.00   Monthly   \n",
       "2     United States  Inflation Rate 1915-02-28   1.00   Monthly   \n",
       "3     United States  Inflation Rate 1915-03-31   0.00   Monthly   \n",
       "4     United States  Inflation Rate 1915-04-30   2.00   Monthly   \n",
       "...             ...             ...        ...    ...       ...   \n",
       "1298  United States  Inflation Rate 2023-02-28   6.00   Monthly   \n",
       "1299  United States  Inflation Rate 2023-03-31   5.00   Monthly   \n",
       "1300  United States  Inflation Rate 2023-04-30   4.90   Monthly   \n",
       "1301            NaN             NaN 2023-05-30   5.15       NaN   \n",
       "1302            NaN             NaN 2023-06-30   5.08       NaN   \n",
       "\n",
       "     HistoricalDataSymbol           LastUpdate  \n",
       "0                 CPI YOY  2015-02-26T15:56:00  \n",
       "1                 CPI YOY  2015-02-26T15:56:00  \n",
       "2                 CPI YOY  2015-02-26T15:56:00  \n",
       "3                 CPI YOY  2015-02-26T15:56:00  \n",
       "4                 CPI YOY  2015-02-26T15:56:00  \n",
       "...                   ...                  ...  \n",
       "1298              CPI YOY  2023-04-12T12:30:00  \n",
       "1299              CPI YOY  2023-05-10T12:30:00  \n",
       "1300              CPI YOY  2023-05-10T12:30:00  \n",
       "1301                  NaN                  NaN  \n",
       "1302                  NaN                  NaN  \n",
       "\n",
       "[1303 rows x 7 columns]"
      ]
     },
     "execution_count": 81,
     "metadata": {},
     "output_type": "execute_result"
    }
   ],
   "source": [
    "data_inf_us"
   ]
  },
  {
   "cell_type": "code",
   "execution_count": null,
   "id": "e188d3f7",
   "metadata": {},
   "outputs": [],
   "source": []
  },
  {
   "cell_type": "code",
   "execution_count": 82,
   "id": "af59afda",
   "metadata": {},
   "outputs": [],
   "source": [
    "data_inf_us['datetime_M'] = data_inf_us['DateTime'].dt.to_period('M').dt.strftime('%Y-%m')"
   ]
  },
  {
   "cell_type": "code",
   "execution_count": 83,
   "id": "6380b7bc",
   "metadata": {},
   "outputs": [],
   "source": [
    "data_inf_us = data_inf_us.drop([\"Category\", \"Country\", \"Frequency\", \"HistoricalDataSymbol\", \"LastUpdate\", \"DateTime\"], axis=1)"
   ]
  },
  {
   "cell_type": "code",
   "execution_count": 84,
   "id": "920d8ced",
   "metadata": {},
   "outputs": [
    {
     "name": "stdout",
     "output_type": "stream",
     "text": [
      "<class 'pandas.core.frame.DataFrame'>\n",
      "RangeIndex: 1303 entries, 0 to 1302\n",
      "Data columns (total 2 columns):\n",
      " #   Column      Non-Null Count  Dtype  \n",
      "---  ------      --------------  -----  \n",
      " 0   Value       1303 non-null   float64\n",
      " 1   datetime_M  1303 non-null   object \n",
      "dtypes: float64(1), object(1)\n",
      "memory usage: 20.5+ KB\n"
     ]
    }
   ],
   "source": [
    "data_inf_us.info()"
   ]
  },
  {
   "attachments": {},
   "cell_type": "markdown",
   "id": "d1b63dcc",
   "metadata": {},
   "source": [
    "Big Dataset"
   ]
  },
  {
   "cell_type": "code",
   "execution_count": null,
   "id": "282b4776",
   "metadata": {},
   "outputs": [],
   "source": []
  },
  {
   "cell_type": "code",
   "execution_count": 85,
   "id": "f9646ed5",
   "metadata": {},
   "outputs": [
    {
     "name": "stdout",
     "output_type": "stream",
     "text": [
      "<class 'pandas.core.frame.DataFrame'>\n",
      "RangeIndex: 1303 entries, 0 to 1302\n",
      "Data columns (total 2 columns):\n",
      " #   Column      Non-Null Count  Dtype  \n",
      "---  ------      --------------  -----  \n",
      " 0   Value       1303 non-null   float64\n",
      " 1   datetime_M  1303 non-null   object \n",
      "dtypes: float64(1), object(1)\n",
      "memory usage: 20.5+ KB\n"
     ]
    }
   ],
   "source": [
    "data_inf_us.info()"
   ]
  },
  {
   "cell_type": "code",
   "execution_count": 86,
   "id": "6cc813f3",
   "metadata": {},
   "outputs": [],
   "source": [
    "data['datetime_M'] = data['timestamp'].dt.to_period('M').dt.strftime('%Y-%m')"
   ]
  },
  {
   "attachments": {},
   "cell_type": "markdown",
   "id": "e70db8d6",
   "metadata": {},
   "source": [
    "Merging"
   ]
  },
  {
   "cell_type": "code",
   "execution_count": 87,
   "id": "bb0394e2",
   "metadata": {},
   "outputs": [],
   "source": [
    "data = pd.merge(data, data_inf_us, on=['datetime_M', 'datetime_M'], how='left')"
   ]
  },
  {
   "cell_type": "code",
   "execution_count": 88,
   "id": "fa9014f7",
   "metadata": {
    "scrolled": false
   },
   "outputs": [],
   "source": [
    "# data.tail(50)"
   ]
  },
  {
   "cell_type": "code",
   "execution_count": 89,
   "id": "01af468c",
   "metadata": {},
   "outputs": [],
   "source": [
    "data = data.drop([\"datetime_M\"], axis=1)"
   ]
  },
  {
   "cell_type": "code",
   "execution_count": 90,
   "id": "c2ba86b7",
   "metadata": {},
   "outputs": [
    {
     "data": {
      "text/html": [
       "<div>\n",
       "<style scoped>\n",
       "    .dataframe tbody tr th:only-of-type {\n",
       "        vertical-align: middle;\n",
       "    }\n",
       "\n",
       "    .dataframe tbody tr th {\n",
       "        vertical-align: top;\n",
       "    }\n",
       "\n",
       "    .dataframe thead th {\n",
       "        text-align: right;\n",
       "    }\n",
       "</style>\n",
       "<table border=\"1\" class=\"dataframe\">\n",
       "  <thead>\n",
       "    <tr style=\"text-align: right;\">\n",
       "      <th></th>\n",
       "      <th>timestamp</th>\n",
       "      <th>open</th>\n",
       "      <th>high</th>\n",
       "      <th>low</th>\n",
       "      <th>close</th>\n",
       "      <th>volume</th>\n",
       "      <th>volume_CMF</th>\n",
       "      <th>volume_FII</th>\n",
       "      <th>volume_MFI</th>\n",
       "      <th>volume_VWA</th>\n",
       "      <th>...</th>\n",
       "      <th>MAI</th>\n",
       "      <th>PSAR_binary</th>\n",
       "      <th>STC</th>\n",
       "      <th>TRIX</th>\n",
       "      <th>vortex_ind_diff</th>\n",
       "      <th>vortex_neg</th>\n",
       "      <th>vortex_pos</th>\n",
       "      <th>S&amp;P_close_filled</th>\n",
       "      <th>Interest_Rates_filled</th>\n",
       "      <th>Inflation_Rate_us</th>\n",
       "    </tr>\n",
       "  </thead>\n",
       "  <tbody>\n",
       "    <tr>\n",
       "      <th>32736</th>\n",
       "      <td>2023-06-03 20:00:00</td>\n",
       "      <td>27239.4</td>\n",
       "      <td>27246.4</td>\n",
       "      <td>27101.0</td>\n",
       "      <td>27147.6</td>\n",
       "      <td>15130.376</td>\n",
       "      <td>-0.048901</td>\n",
       "      <td>45306.477416</td>\n",
       "      <td>59.148253</td>\n",
       "      <td>27189.586323</td>\n",
       "      <td>...</td>\n",
       "      <td>22.182831</td>\n",
       "      <td>0</td>\n",
       "      <td>61.706651</td>\n",
       "      <td>0.016418</td>\n",
       "      <td>0.065341</td>\n",
       "      <td>0.917674</td>\n",
       "      <td>0.983015</td>\n",
       "      <td>4282.37</td>\n",
       "      <td>5.25</td>\n",
       "      <td>5.08</td>\n",
       "    </tr>\n",
       "    <tr>\n",
       "      <th>32737</th>\n",
       "      <td>2023-06-03 21:00:00</td>\n",
       "      <td>27147.7</td>\n",
       "      <td>27173.7</td>\n",
       "      <td>27113.9</td>\n",
       "      <td>27138.8</td>\n",
       "      <td>6229.878</td>\n",
       "      <td>-0.075151</td>\n",
       "      <td>31002.276871</td>\n",
       "      <td>58.559862</td>\n",
       "      <td>27189.451257</td>\n",
       "      <td>...</td>\n",
       "      <td>22.439449</td>\n",
       "      <td>0</td>\n",
       "      <td>38.302308</td>\n",
       "      <td>0.015782</td>\n",
       "      <td>0.031675</td>\n",
       "      <td>0.984213</td>\n",
       "      <td>1.015887</td>\n",
       "      <td>4282.37</td>\n",
       "      <td>5.25</td>\n",
       "      <td>5.08</td>\n",
       "    </tr>\n",
       "    <tr>\n",
       "      <th>32738</th>\n",
       "      <td>2023-06-03 22:00:00</td>\n",
       "      <td>27138.9</td>\n",
       "      <td>27153.6</td>\n",
       "      <td>27000.0</td>\n",
       "      <td>27084.9</td>\n",
       "      <td>15389.644</td>\n",
       "      <td>-0.042819</td>\n",
       "      <td>-91926.878625</td>\n",
       "      <td>49.242500</td>\n",
       "      <td>27175.830184</td>\n",
       "      <td>...</td>\n",
       "      <td>22.679318</td>\n",
       "      <td>0</td>\n",
       "      <td>19.151154</td>\n",
       "      <td>0.014471</td>\n",
       "      <td>-0.113904</td>\n",
       "      <td>1.006104</td>\n",
       "      <td>0.892200</td>\n",
       "      <td>4282.37</td>\n",
       "      <td>5.25</td>\n",
       "      <td>5.08</td>\n",
       "    </tr>\n",
       "    <tr>\n",
       "      <th>32739</th>\n",
       "      <td>2023-06-03 23:00:00</td>\n",
       "      <td>27084.9</td>\n",
       "      <td>27119.5</td>\n",
       "      <td>27042.0</td>\n",
       "      <td>27052.7</td>\n",
       "      <td>7760.747</td>\n",
       "      <td>-0.045307</td>\n",
       "      <td>-114493.903593</td>\n",
       "      <td>43.575625</td>\n",
       "      <td>27168.759575</td>\n",
       "      <td>...</td>\n",
       "      <td>22.794642</td>\n",
       "      <td>0</td>\n",
       "      <td>9.575577</td>\n",
       "      <td>0.012502</td>\n",
       "      <td>-0.173782</td>\n",
       "      <td>1.079289</td>\n",
       "      <td>0.905507</td>\n",
       "      <td>4282.37</td>\n",
       "      <td>5.25</td>\n",
       "      <td>5.08</td>\n",
       "    </tr>\n",
       "    <tr>\n",
       "      <th>32740</th>\n",
       "      <td>2023-06-04 00:00:00</td>\n",
       "      <td>27052.8</td>\n",
       "      <td>27069.3</td>\n",
       "      <td>26900.0</td>\n",
       "      <td>26990.0</td>\n",
       "      <td>18405.196</td>\n",
       "      <td>-0.030499</td>\n",
       "      <td>-262995.601537</td>\n",
       "      <td>38.631681</td>\n",
       "      <td>27142.897792</td>\n",
       "      <td>...</td>\n",
       "      <td>23.049919</td>\n",
       "      <td>0</td>\n",
       "      <td>4.787789</td>\n",
       "      <td>0.009703</td>\n",
       "      <td>-0.291848</td>\n",
       "      <td>1.094035</td>\n",
       "      <td>0.802186</td>\n",
       "      <td>4282.37</td>\n",
       "      <td>5.25</td>\n",
       "      <td>5.08</td>\n",
       "    </tr>\n",
       "  </tbody>\n",
       "</table>\n",
       "<p>5 rows × 55 columns</p>\n",
       "</div>"
      ],
      "text/plain": [
       "                timestamp     open     high      low    close     volume  \\\n",
       "32736 2023-06-03 20:00:00  27239.4  27246.4  27101.0  27147.6  15130.376   \n",
       "32737 2023-06-03 21:00:00  27147.7  27173.7  27113.9  27138.8   6229.878   \n",
       "32738 2023-06-03 22:00:00  27138.9  27153.6  27000.0  27084.9  15389.644   \n",
       "32739 2023-06-03 23:00:00  27084.9  27119.5  27042.0  27052.7   7760.747   \n",
       "32740 2023-06-04 00:00:00  27052.8  27069.3  26900.0  26990.0  18405.196   \n",
       "\n",
       "       volume_CMF     volume_FII  volume_MFI    volume_VWA  ...        MAI  \\\n",
       "32736   -0.048901   45306.477416   59.148253  27189.586323  ...  22.182831   \n",
       "32737   -0.075151   31002.276871   58.559862  27189.451257  ...  22.439449   \n",
       "32738   -0.042819  -91926.878625   49.242500  27175.830184  ...  22.679318   \n",
       "32739   -0.045307 -114493.903593   43.575625  27168.759575  ...  22.794642   \n",
       "32740   -0.030499 -262995.601537   38.631681  27142.897792  ...  23.049919   \n",
       "\n",
       "       PSAR_binary        STC      TRIX  vortex_ind_diff  vortex_neg  \\\n",
       "32736            0  61.706651  0.016418         0.065341    0.917674   \n",
       "32737            0  38.302308  0.015782         0.031675    0.984213   \n",
       "32738            0  19.151154  0.014471        -0.113904    1.006104   \n",
       "32739            0   9.575577  0.012502        -0.173782    1.079289   \n",
       "32740            0   4.787789  0.009703        -0.291848    1.094035   \n",
       "\n",
       "       vortex_pos  S&P_close_filled  Interest_Rates_filled  Inflation_Rate_us  \n",
       "32736    0.983015           4282.37                   5.25               5.08  \n",
       "32737    1.015887           4282.37                   5.25               5.08  \n",
       "32738    0.892200           4282.37                   5.25               5.08  \n",
       "32739    0.905507           4282.37                   5.25               5.08  \n",
       "32740    0.802186           4282.37                   5.25               5.08  \n",
       "\n",
       "[5 rows x 55 columns]"
      ]
     },
     "execution_count": 90,
     "metadata": {},
     "output_type": "execute_result"
    }
   ],
   "source": [
    "data = data.rename(columns={'Value': 'Inflation_Rate_us'})\n",
    "data.tail()\n"
   ]
  },
  {
   "cell_type": "code",
   "execution_count": 91,
   "id": "c58646b4",
   "metadata": {},
   "outputs": [
    {
     "name": "stdout",
     "output_type": "stream",
     "text": [
      "Shape: (32741, 55)\n",
      "Duplicates: 0\n",
      "Duplicate timestamps 0\n",
      "Total amount of NaN: 832\n"
     ]
    }
   ],
   "source": [
    "data_check(data)"
   ]
  },
  {
   "attachments": {},
   "cell_type": "markdown",
   "id": "2ae4cf1e",
   "metadata": {},
   "source": [
    "## Functions"
   ]
  },
  {
   "attachments": {},
   "cell_type": "markdown",
   "id": "7382c585",
   "metadata": {},
   "source": [
    "#### subhag trend"
   ]
  },
  {
   "cell_type": "code",
   "execution_count": 92,
   "id": "b00cd2da",
   "metadata": {},
   "outputs": [],
   "source": [
    "def ghost_trend_signal(data, resolution=60, fast_length=3, slow_length=10):\n",
    "    src = data.close\n",
    "    trend_60 = ((ta.trend.ema_indicator(src, fast_length) - ta.trend.ema_indicator(src, slow_length))/src)*100\n",
    "    prev_trend_60 = ((ta.trend.ema_indicator(src.shift(5), fast_length) - ta.trend.ema_indicator(src.shift(5), slow_length))/src.shift(5))*100\n",
    "    trend_status_60 = [1 if trend_60[i] > prev_trend_60[i] else -1 for i in range(len(data))]\n",
    "    return pd.DataFrame({'timestamp': data.timestamp,'subhag_signal': trend_status_60})\n"
   ]
  },
  {
   "cell_type": "code",
   "execution_count": 93,
   "id": "82cff0ff",
   "metadata": {},
   "outputs": [],
   "source": [
    "data_g_r = ghost_trend_signal(data, resolution=60, fast_length=3, slow_length=10)"
   ]
  },
  {
   "cell_type": "code",
   "execution_count": 94,
   "id": "2c5212a7",
   "metadata": {},
   "outputs": [],
   "source": [
    "data_g_r.rename(columns={'timestamp': 'time_g_r'}, inplace=True)"
   ]
  },
  {
   "cell_type": "code",
   "execution_count": 95,
   "id": "4a1588c0",
   "metadata": {},
   "outputs": [],
   "source": [
    "data = pd.merge(data, data_g_r, left_index=True, right_index=True)"
   ]
  },
  {
   "cell_type": "code",
   "execution_count": 96,
   "id": "3c97878d",
   "metadata": {},
   "outputs": [],
   "source": [
    "data = data.drop([\"time_g_r\"],axis=1)"
   ]
  },
  {
   "attachments": {},
   "cell_type": "markdown",
   "id": "105d1e16",
   "metadata": {},
   "source": [
    "#### Fisher transform"
   ]
  },
  {
   "cell_type": "code",
   "execution_count": 97,
   "id": "c83a2033",
   "metadata": {},
   "outputs": [],
   "source": [
    "def highes(data, length):\n",
    "    return np.array( [0]*length + [ np.max(data[i-length+1: i+1]) for i in range(length, len(data))])\n",
    "def lowes(data, length):\n",
    "    return np.array( [0]*length + [ np.min(data[i-length+1: i+1]) for i in range(length, len(data))])\n",
    "def fisher_transform(df, len_=9):\n",
    "    high, low = df.high, df.low\n",
    "    hl2 = (high+low)/2\n",
    "    high_ = highes(hl2, len_)\n",
    "    low_ = lowes(hl2, len_)\n",
    "    def round_(val):\n",
    "        return .999 if val > .99 else -.999 if val < -.99 else val\n",
    "    value, fish1 = [0.0], [0.0]\n",
    "    for i in range(1, len(hl2)):\n",
    "        value.append(round_(.66 * ((hl2[i] - low_[i]) / (high_[i] - low_[i]) - .5) + .67 * value[i-1]))\n",
    "        fish1.append(.5 * np.log((1 + value[i]) / (1 - value[i])) + .5 * fish1[i-1])\n",
    "    fish1 = pd.Series(fish1)\n",
    "    fish2 = fish1.shift().fillna(method='bfill')\n",
    "    return pd.DataFrame({'timestamp': df.timestamp,\n",
    "                         'Fisher': np.round(fish1, 5),\n",
    "                         'Fisher_trigger': np.round(fish2, 5)})"
   ]
  },
  {
   "cell_type": "code",
   "execution_count": 98,
   "id": "470dcc38",
   "metadata": {},
   "outputs": [
    {
     "name": "stderr",
     "output_type": "stream",
     "text": [
      "/tmp/ipykernel_19744/3376831689.py:14: RuntimeWarning: divide by zero encountered in double_scalars\n",
      "  value.append(round_(.66 * ((hl2[i] - low_[i]) / (high_[i] - low_[i]) - .5) + .67 * value[i-1]))\n"
     ]
    }
   ],
   "source": [
    "fisher_data = fisher_transform(data, len_=9)"
   ]
  },
  {
   "cell_type": "code",
   "execution_count": 99,
   "id": "6ff03ff2",
   "metadata": {},
   "outputs": [],
   "source": [
    "fisher_data.rename(columns={'timestamp': 'time_fish'}, inplace=True)"
   ]
  },
  {
   "cell_type": "code",
   "execution_count": 100,
   "id": "a799ff5b",
   "metadata": {},
   "outputs": [],
   "source": [
    "data = pd.merge(data, fisher_data, left_index=True, right_index=True)"
   ]
  },
  {
   "cell_type": "code",
   "execution_count": 101,
   "id": "e8892d15",
   "metadata": {},
   "outputs": [],
   "source": [
    "data = data.drop([\"time_fish\"],axis=1)"
   ]
  },
  {
   "cell_type": "code",
   "execution_count": 102,
   "id": "314e5d3e",
   "metadata": {},
   "outputs": [
    {
     "data": {
      "text/html": [
       "<div>\n",
       "<style scoped>\n",
       "    .dataframe tbody tr th:only-of-type {\n",
       "        vertical-align: middle;\n",
       "    }\n",
       "\n",
       "    .dataframe tbody tr th {\n",
       "        vertical-align: top;\n",
       "    }\n",
       "\n",
       "    .dataframe thead th {\n",
       "        text-align: right;\n",
       "    }\n",
       "</style>\n",
       "<table border=\"1\" class=\"dataframe\">\n",
       "  <thead>\n",
       "    <tr style=\"text-align: right;\">\n",
       "      <th></th>\n",
       "      <th>timestamp</th>\n",
       "      <th>open</th>\n",
       "      <th>high</th>\n",
       "      <th>low</th>\n",
       "      <th>close</th>\n",
       "      <th>volume</th>\n",
       "      <th>volume_CMF</th>\n",
       "      <th>volume_FII</th>\n",
       "      <th>volume_MFI</th>\n",
       "      <th>volume_VWA</th>\n",
       "      <th>...</th>\n",
       "      <th>TRIX</th>\n",
       "      <th>vortex_ind_diff</th>\n",
       "      <th>vortex_neg</th>\n",
       "      <th>vortex_pos</th>\n",
       "      <th>S&amp;P_close_filled</th>\n",
       "      <th>Interest_Rates_filled</th>\n",
       "      <th>Inflation_Rate_us</th>\n",
       "      <th>subhag_signal</th>\n",
       "      <th>Fisher</th>\n",
       "      <th>Fisher_trigger</th>\n",
       "    </tr>\n",
       "  </thead>\n",
       "  <tbody>\n",
       "    <tr>\n",
       "      <th>0</th>\n",
       "      <td>2019-09-08 20:00:00</td>\n",
       "      <td>10000.00</td>\n",
       "      <td>10000.00</td>\n",
       "      <td>10000.00</td>\n",
       "      <td>10000.00</td>\n",
       "      <td>0.002</td>\n",
       "      <td>NaN</td>\n",
       "      <td>NaN</td>\n",
       "      <td>NaN</td>\n",
       "      <td>NaN</td>\n",
       "      <td>...</td>\n",
       "      <td>NaN</td>\n",
       "      <td>NaN</td>\n",
       "      <td>NaN</td>\n",
       "      <td>NaN</td>\n",
       "      <td>2978.43</td>\n",
       "      <td>2.25</td>\n",
       "      <td>1.70</td>\n",
       "      <td>-1</td>\n",
       "      <td>0.00000</td>\n",
       "      <td>0.00000</td>\n",
       "    </tr>\n",
       "    <tr>\n",
       "      <th>1</th>\n",
       "      <td>2019-09-08 21:00:00</td>\n",
       "      <td>10000.00</td>\n",
       "      <td>10000.00</td>\n",
       "      <td>10000.00</td>\n",
       "      <td>10000.00</td>\n",
       "      <td>0.000</td>\n",
       "      <td>NaN</td>\n",
       "      <td>NaN</td>\n",
       "      <td>NaN</td>\n",
       "      <td>NaN</td>\n",
       "      <td>...</td>\n",
       "      <td>NaN</td>\n",
       "      <td>NaN</td>\n",
       "      <td>NaN</td>\n",
       "      <td>NaN</td>\n",
       "      <td>2978.43</td>\n",
       "      <td>2.25</td>\n",
       "      <td>1.70</td>\n",
       "      <td>-1</td>\n",
       "      <td>3.80020</td>\n",
       "      <td>0.00000</td>\n",
       "    </tr>\n",
       "    <tr>\n",
       "      <th>2</th>\n",
       "      <td>2019-09-08 22:00:00</td>\n",
       "      <td>10344.77</td>\n",
       "      <td>10357.53</td>\n",
       "      <td>10337.43</td>\n",
       "      <td>10340.12</td>\n",
       "      <td>471.659</td>\n",
       "      <td>NaN</td>\n",
       "      <td>NaN</td>\n",
       "      <td>NaN</td>\n",
       "      <td>NaN</td>\n",
       "      <td>...</td>\n",
       "      <td>NaN</td>\n",
       "      <td>NaN</td>\n",
       "      <td>NaN</td>\n",
       "      <td>NaN</td>\n",
       "      <td>2978.43</td>\n",
       "      <td>2.25</td>\n",
       "      <td>1.70</td>\n",
       "      <td>-1</td>\n",
       "      <td>5.70030</td>\n",
       "      <td>3.80020</td>\n",
       "    </tr>\n",
       "    <tr>\n",
       "      <th>3</th>\n",
       "      <td>2019-09-08 23:00:00</td>\n",
       "      <td>10340.12</td>\n",
       "      <td>10368.64</td>\n",
       "      <td>10334.54</td>\n",
       "      <td>10351.42</td>\n",
       "      <td>583.271</td>\n",
       "      <td>NaN</td>\n",
       "      <td>NaN</td>\n",
       "      <td>NaN</td>\n",
       "      <td>NaN</td>\n",
       "      <td>...</td>\n",
       "      <td>NaN</td>\n",
       "      <td>NaN</td>\n",
       "      <td>NaN</td>\n",
       "      <td>NaN</td>\n",
       "      <td>2978.43</td>\n",
       "      <td>2.25</td>\n",
       "      <td>1.70</td>\n",
       "      <td>-1</td>\n",
       "      <td>6.65035</td>\n",
       "      <td>5.70030</td>\n",
       "    </tr>\n",
       "    <tr>\n",
       "      <th>4</th>\n",
       "      <td>2019-09-09 00:00:00</td>\n",
       "      <td>10351.42</td>\n",
       "      <td>10391.90</td>\n",
       "      <td>10324.77</td>\n",
       "      <td>10391.90</td>\n",
       "      <td>689.759</td>\n",
       "      <td>NaN</td>\n",
       "      <td>NaN</td>\n",
       "      <td>NaN</td>\n",
       "      <td>NaN</td>\n",
       "      <td>...</td>\n",
       "      <td>NaN</td>\n",
       "      <td>NaN</td>\n",
       "      <td>NaN</td>\n",
       "      <td>NaN</td>\n",
       "      <td>2978.43</td>\n",
       "      <td>2.25</td>\n",
       "      <td>1.70</td>\n",
       "      <td>-1</td>\n",
       "      <td>7.12538</td>\n",
       "      <td>6.65035</td>\n",
       "    </tr>\n",
       "    <tr>\n",
       "      <th>...</th>\n",
       "      <td>...</td>\n",
       "      <td>...</td>\n",
       "      <td>...</td>\n",
       "      <td>...</td>\n",
       "      <td>...</td>\n",
       "      <td>...</td>\n",
       "      <td>...</td>\n",
       "      <td>...</td>\n",
       "      <td>...</td>\n",
       "      <td>...</td>\n",
       "      <td>...</td>\n",
       "      <td>...</td>\n",
       "      <td>...</td>\n",
       "      <td>...</td>\n",
       "      <td>...</td>\n",
       "      <td>...</td>\n",
       "      <td>...</td>\n",
       "      <td>...</td>\n",
       "      <td>...</td>\n",
       "      <td>...</td>\n",
       "      <td>...</td>\n",
       "    </tr>\n",
       "    <tr>\n",
       "      <th>32736</th>\n",
       "      <td>2023-06-03 20:00:00</td>\n",
       "      <td>27239.40</td>\n",
       "      <td>27246.40</td>\n",
       "      <td>27101.00</td>\n",
       "      <td>27147.60</td>\n",
       "      <td>15130.376</td>\n",
       "      <td>-0.048901</td>\n",
       "      <td>45306.477416</td>\n",
       "      <td>59.148253</td>\n",
       "      <td>27189.586323</td>\n",
       "      <td>...</td>\n",
       "      <td>0.016418</td>\n",
       "      <td>0.065341</td>\n",
       "      <td>0.917674</td>\n",
       "      <td>0.983015</td>\n",
       "      <td>4282.37</td>\n",
       "      <td>5.25</td>\n",
       "      <td>5.08</td>\n",
       "      <td>1</td>\n",
       "      <td>0.55827</td>\n",
       "      <td>0.61369</td>\n",
       "    </tr>\n",
       "    <tr>\n",
       "      <th>32737</th>\n",
       "      <td>2023-06-03 21:00:00</td>\n",
       "      <td>27147.70</td>\n",
       "      <td>27173.70</td>\n",
       "      <td>27113.90</td>\n",
       "      <td>27138.80</td>\n",
       "      <td>6229.878</td>\n",
       "      <td>-0.075151</td>\n",
       "      <td>31002.276871</td>\n",
       "      <td>58.559862</td>\n",
       "      <td>27189.451257</td>\n",
       "      <td>...</td>\n",
       "      <td>0.015782</td>\n",
       "      <td>0.031675</td>\n",
       "      <td>0.984213</td>\n",
       "      <td>1.015887</td>\n",
       "      <td>4282.37</td>\n",
       "      <td>5.25</td>\n",
       "      <td>5.08</td>\n",
       "      <td>-1</td>\n",
       "      <td>0.15512</td>\n",
       "      <td>0.55827</td>\n",
       "    </tr>\n",
       "    <tr>\n",
       "      <th>32738</th>\n",
       "      <td>2023-06-03 22:00:00</td>\n",
       "      <td>27138.90</td>\n",
       "      <td>27153.60</td>\n",
       "      <td>27000.00</td>\n",
       "      <td>27084.90</td>\n",
       "      <td>15389.644</td>\n",
       "      <td>-0.042819</td>\n",
       "      <td>-91926.878625</td>\n",
       "      <td>49.242500</td>\n",
       "      <td>27175.830184</td>\n",
       "      <td>...</td>\n",
       "      <td>0.014471</td>\n",
       "      <td>-0.113904</td>\n",
       "      <td>1.006104</td>\n",
       "      <td>0.892200</td>\n",
       "      <td>4282.37</td>\n",
       "      <td>5.25</td>\n",
       "      <td>5.08</td>\n",
       "      <td>-1</td>\n",
       "      <td>-0.36126</td>\n",
       "      <td>0.15512</td>\n",
       "    </tr>\n",
       "    <tr>\n",
       "      <th>32739</th>\n",
       "      <td>2023-06-03 23:00:00</td>\n",
       "      <td>27084.90</td>\n",
       "      <td>27119.50</td>\n",
       "      <td>27042.00</td>\n",
       "      <td>27052.70</td>\n",
       "      <td>7760.747</td>\n",
       "      <td>-0.045307</td>\n",
       "      <td>-114493.903593</td>\n",
       "      <td>43.575625</td>\n",
       "      <td>27168.759575</td>\n",
       "      <td>...</td>\n",
       "      <td>0.012502</td>\n",
       "      <td>-0.173782</td>\n",
       "      <td>1.079289</td>\n",
       "      <td>0.905507</td>\n",
       "      <td>4282.37</td>\n",
       "      <td>5.25</td>\n",
       "      <td>5.08</td>\n",
       "      <td>-1</td>\n",
       "      <td>-0.86198</td>\n",
       "      <td>-0.36126</td>\n",
       "    </tr>\n",
       "    <tr>\n",
       "      <th>32740</th>\n",
       "      <td>2023-06-04 00:00:00</td>\n",
       "      <td>27052.80</td>\n",
       "      <td>27069.30</td>\n",
       "      <td>26900.00</td>\n",
       "      <td>26990.00</td>\n",
       "      <td>18405.196</td>\n",
       "      <td>-0.030499</td>\n",
       "      <td>-262995.601537</td>\n",
       "      <td>38.631681</td>\n",
       "      <td>27142.897792</td>\n",
       "      <td>...</td>\n",
       "      <td>0.009703</td>\n",
       "      <td>-0.291848</td>\n",
       "      <td>1.094035</td>\n",
       "      <td>0.802186</td>\n",
       "      <td>4282.37</td>\n",
       "      <td>5.25</td>\n",
       "      <td>5.08</td>\n",
       "      <td>-1</td>\n",
       "      <td>-1.35313</td>\n",
       "      <td>-0.86198</td>\n",
       "    </tr>\n",
       "  </tbody>\n",
       "</table>\n",
       "<p>32741 rows × 58 columns</p>\n",
       "</div>"
      ],
      "text/plain": [
       "                timestamp      open      high       low     close     volume  \\\n",
       "0     2019-09-08 20:00:00  10000.00  10000.00  10000.00  10000.00      0.002   \n",
       "1     2019-09-08 21:00:00  10000.00  10000.00  10000.00  10000.00      0.000   \n",
       "2     2019-09-08 22:00:00  10344.77  10357.53  10337.43  10340.12    471.659   \n",
       "3     2019-09-08 23:00:00  10340.12  10368.64  10334.54  10351.42    583.271   \n",
       "4     2019-09-09 00:00:00  10351.42  10391.90  10324.77  10391.90    689.759   \n",
       "...                   ...       ...       ...       ...       ...        ...   \n",
       "32736 2023-06-03 20:00:00  27239.40  27246.40  27101.00  27147.60  15130.376   \n",
       "32737 2023-06-03 21:00:00  27147.70  27173.70  27113.90  27138.80   6229.878   \n",
       "32738 2023-06-03 22:00:00  27138.90  27153.60  27000.00  27084.90  15389.644   \n",
       "32739 2023-06-03 23:00:00  27084.90  27119.50  27042.00  27052.70   7760.747   \n",
       "32740 2023-06-04 00:00:00  27052.80  27069.30  26900.00  26990.00  18405.196   \n",
       "\n",
       "       volume_CMF     volume_FII  volume_MFI    volume_VWA  ...      TRIX  \\\n",
       "0             NaN            NaN         NaN           NaN  ...       NaN   \n",
       "1             NaN            NaN         NaN           NaN  ...       NaN   \n",
       "2             NaN            NaN         NaN           NaN  ...       NaN   \n",
       "3             NaN            NaN         NaN           NaN  ...       NaN   \n",
       "4             NaN            NaN         NaN           NaN  ...       NaN   \n",
       "...           ...            ...         ...           ...  ...       ...   \n",
       "32736   -0.048901   45306.477416   59.148253  27189.586323  ...  0.016418   \n",
       "32737   -0.075151   31002.276871   58.559862  27189.451257  ...  0.015782   \n",
       "32738   -0.042819  -91926.878625   49.242500  27175.830184  ...  0.014471   \n",
       "32739   -0.045307 -114493.903593   43.575625  27168.759575  ...  0.012502   \n",
       "32740   -0.030499 -262995.601537   38.631681  27142.897792  ...  0.009703   \n",
       "\n",
       "       vortex_ind_diff  vortex_neg  vortex_pos  S&P_close_filled  \\\n",
       "0                  NaN         NaN         NaN           2978.43   \n",
       "1                  NaN         NaN         NaN           2978.43   \n",
       "2                  NaN         NaN         NaN           2978.43   \n",
       "3                  NaN         NaN         NaN           2978.43   \n",
       "4                  NaN         NaN         NaN           2978.43   \n",
       "...                ...         ...         ...               ...   \n",
       "32736         0.065341    0.917674    0.983015           4282.37   \n",
       "32737         0.031675    0.984213    1.015887           4282.37   \n",
       "32738        -0.113904    1.006104    0.892200           4282.37   \n",
       "32739        -0.173782    1.079289    0.905507           4282.37   \n",
       "32740        -0.291848    1.094035    0.802186           4282.37   \n",
       "\n",
       "       Interest_Rates_filled  Inflation_Rate_us  subhag_signal   Fisher  \\\n",
       "0                       2.25               1.70             -1  0.00000   \n",
       "1                       2.25               1.70             -1  3.80020   \n",
       "2                       2.25               1.70             -1  5.70030   \n",
       "3                       2.25               1.70             -1  6.65035   \n",
       "4                       2.25               1.70             -1  7.12538   \n",
       "...                      ...                ...            ...      ...   \n",
       "32736                   5.25               5.08              1  0.55827   \n",
       "32737                   5.25               5.08             -1  0.15512   \n",
       "32738                   5.25               5.08             -1 -0.36126   \n",
       "32739                   5.25               5.08             -1 -0.86198   \n",
       "32740                   5.25               5.08             -1 -1.35313   \n",
       "\n",
       "       Fisher_trigger  \n",
       "0             0.00000  \n",
       "1             0.00000  \n",
       "2             3.80020  \n",
       "3             5.70030  \n",
       "4             6.65035  \n",
       "...               ...  \n",
       "32736         0.61369  \n",
       "32737         0.55827  \n",
       "32738         0.15512  \n",
       "32739        -0.36126  \n",
       "32740        -0.86198  \n",
       "\n",
       "[32741 rows x 58 columns]"
      ]
     },
     "execution_count": 102,
     "metadata": {},
     "output_type": "execute_result"
    }
   ],
   "source": [
    "data"
   ]
  },
  {
   "attachments": {},
   "cell_type": "markdown",
   "id": "174581e5",
   "metadata": {},
   "source": [
    "#### Super Trend"
   ]
  },
  {
   "cell_type": "code",
   "execution_count": 103,
   "id": "5de3e5aa",
   "metadata": {},
   "outputs": [],
   "source": [
    "def tr(high, low, close):\n",
    "    hl = np.abs(high-low)\n",
    "    hc = np.abs(high-close.shift())\n",
    "    lc = np.abs(low-close.shift())\n",
    "    ranges = pd.concat([hl, hc, lc], axis=1)\n",
    "    tr = np.max(ranges, axis=1)\n",
    "    return pd.Series(tr)\n",
    "def supertrend(df, Period=21, Multiplier=1.0):\n",
    "    high, low, close = df.high, df.low, df.close\n",
    "    src = (high+low)/2\n",
    "    atr2 = ta.trend.sma_indicator(tr(high, low, close), Period, True)\n",
    "    atr= ta.volatility.average_true_range(high, low, close, Period, True)\n",
    "    up, dn = [0], [0]\n",
    "    trend = [1]\n",
    "    trend_line = [0]\n",
    "    for i in range(1, len(close)):\n",
    "        up_=src[i]-(Multiplier*atr[i])\n",
    "        up1 = up[i-1]\n",
    "        up.append(max(up_,up1) if close[i-1] > up1 else up_ )\n",
    "        dn_ = src[i]+(Multiplier*atr[i])\n",
    "        dn1 = dn[i-1]\n",
    "        dn.append(min(dn_, dn1) if close[i-1] < dn1 else dn_)\n",
    "        trend.append(1 if trend[i-1]==-1 and close[i] > dn1 else -1 if trend[i-1]==1 and close[i] < up1 else trend[i-1])\n",
    "    return trend"
   ]
  },
  {
   "cell_type": "code",
   "execution_count": 104,
   "id": "17eca93f",
   "metadata": {},
   "outputs": [],
   "source": [
    "supertrend = supertrend(data)"
   ]
  },
  {
   "cell_type": "code",
   "execution_count": 105,
   "id": "49ed7280",
   "metadata": {},
   "outputs": [],
   "source": [
    "data['supertrend'] = supertrend"
   ]
  },
  {
   "attachments": {},
   "cell_type": "markdown",
   "id": "298b2b2d",
   "metadata": {},
   "source": [
    "#### choppiness index"
   ]
  },
  {
   "cell_type": "code",
   "execution_count": 106,
   "id": "b1da38da",
   "metadata": {},
   "outputs": [],
   "source": [
    "def highes(data, length):\n",
    "    return np.array( [0]*length + [ np.max(data[i-length+1: i+1]) for i in range(length, len(data))])\n",
    "def lowes(data, length):\n",
    "    return np.array( [0]*length + [ np.min(data[i-length+1: i+1]) for i in range(length, len(data))])\n",
    "def chop_index(df, length = 14):\n",
    "    high, low, close = df.high, df.low, df.close\n",
    "    atr = ta.volatility.average_true_range(high, low, close, 1).bfill()\n",
    "    atr_sum = atr.rolling(length).sum().bfill()\n",
    "    h = highes(high, length)\n",
    "    l = lowes(low, length)\n",
    "    ci = 100 * np.log10(atr_sum/(h-l)) / np.log10(length)\n",
    "    return ci"
   ]
  },
  {
   "cell_type": "code",
   "execution_count": 107,
   "id": "238f8b20",
   "metadata": {},
   "outputs": [],
   "source": [
    "chop_index = chop_index(data)"
   ]
  },
  {
   "cell_type": "code",
   "execution_count": 108,
   "id": "73677433",
   "metadata": {},
   "outputs": [],
   "source": [
    "data['chop_index'] = list(chop_index)"
   ]
  },
  {
   "attachments": {},
   "cell_type": "markdown",
   "id": "de65e8dd",
   "metadata": {},
   "source": [
    "#### Velocity Function"
   ]
  },
  {
   "cell_type": "code",
   "execution_count": 109,
   "id": "a2ec54f8",
   "metadata": {},
   "outputs": [],
   "source": [
    "## Ema Function ##\n",
    "def EMA(src, len_):\n",
    "    return ta.trend.ema_indicator(src, len_).fillna(method='bfill')\n",
    "## Velocity Function ##\n",
    "def t3_velocity(df, len_=10, vfactor=1):\n",
    "    Data = df.close\n",
    "    x1 = (EMA(Data,len_))*(1+vfactor)\n",
    "    x2 = (EMA(EMA(Data,len_),len_))*vfactor\n",
    "    gd = x1 - x2\n",
    "    x11 = (EMA(gd,len_))*(1+vfactor)\n",
    "    x21 = (EMA(EMA(gd,len_),len_))*vfactor\n",
    "    gd1 = x11 - x21\n",
    "    x12 = (EMA(gd1,len_))*(1+vfactor)\n",
    "    x22 = (EMA(EMA(gd1,len_),len_))*vfactor\n",
    "    first = x12 - x22\n",
    "    y1 = (EMA(Data,len_))*(1+vfactor/2)\n",
    "    y2 = (EMA(EMA(Data,len_),len_))*vfactor/2\n",
    "    ygd = y1-y2\n",
    "    y11 = (EMA(ygd,len_))*(1+vfactor/2)\n",
    "    y21 = (EMA(EMA(ygd,len_),len_))*vfactor/2\n",
    "    ygd1 = y11-y21\n",
    "    y12 = (EMA(ygd1,len_))*(1+vfactor/2)\n",
    "    y22 = (EMA(EMA(ygd1,len_),len_))*vfactor/2\n",
    "    second1 = y12-y22\n",
    "    S = first - second1.shift(1)\n",
    "    c = [1 if s > 0 else -1 for s in S]\n",
    "    df = pd.DataFrame({'time': df.timestamp, 't3velocity_color': c})\n",
    "    return df"
   ]
  },
  {
   "cell_type": "code",
   "execution_count": 110,
   "id": "b7cb6934",
   "metadata": {},
   "outputs": [],
   "source": [
    "velo_data = t3_velocity(data)"
   ]
  },
  {
   "cell_type": "code",
   "execution_count": 111,
   "id": "cce642a4",
   "metadata": {},
   "outputs": [
    {
     "data": {
      "text/html": [
       "<div>\n",
       "<style scoped>\n",
       "    .dataframe tbody tr th:only-of-type {\n",
       "        vertical-align: middle;\n",
       "    }\n",
       "\n",
       "    .dataframe tbody tr th {\n",
       "        vertical-align: top;\n",
       "    }\n",
       "\n",
       "    .dataframe thead th {\n",
       "        text-align: right;\n",
       "    }\n",
       "</style>\n",
       "<table border=\"1\" class=\"dataframe\">\n",
       "  <thead>\n",
       "    <tr style=\"text-align: right;\">\n",
       "      <th></th>\n",
       "      <th>time</th>\n",
       "      <th>t3velocity_color</th>\n",
       "    </tr>\n",
       "  </thead>\n",
       "  <tbody>\n",
       "    <tr>\n",
       "      <th>0</th>\n",
       "      <td>2019-09-08 20:00:00</td>\n",
       "      <td>-1</td>\n",
       "    </tr>\n",
       "  </tbody>\n",
       "</table>\n",
       "</div>"
      ],
      "text/plain": [
       "                 time  t3velocity_color\n",
       "0 2019-09-08 20:00:00                -1"
      ]
     },
     "execution_count": 111,
     "metadata": {},
     "output_type": "execute_result"
    }
   ],
   "source": [
    "velo_data.head(1)"
   ]
  },
  {
   "cell_type": "code",
   "execution_count": 112,
   "id": "362e330d",
   "metadata": {},
   "outputs": [],
   "source": [
    "velo = velo_data['t3velocity_color'].tolist()"
   ]
  },
  {
   "cell_type": "code",
   "execution_count": 113,
   "id": "9af348e3",
   "metadata": {},
   "outputs": [],
   "source": [
    "data['Velocity'] = velo"
   ]
  },
  {
   "cell_type": "code",
   "execution_count": 114,
   "id": "882e6dd3",
   "metadata": {},
   "outputs": [
    {
     "data": {
      "text/html": [
       "<div>\n",
       "<style scoped>\n",
       "    .dataframe tbody tr th:only-of-type {\n",
       "        vertical-align: middle;\n",
       "    }\n",
       "\n",
       "    .dataframe tbody tr th {\n",
       "        vertical-align: top;\n",
       "    }\n",
       "\n",
       "    .dataframe thead th {\n",
       "        text-align: right;\n",
       "    }\n",
       "</style>\n",
       "<table border=\"1\" class=\"dataframe\">\n",
       "  <thead>\n",
       "    <tr style=\"text-align: right;\">\n",
       "      <th></th>\n",
       "      <th>timestamp</th>\n",
       "      <th>open</th>\n",
       "      <th>high</th>\n",
       "      <th>low</th>\n",
       "      <th>close</th>\n",
       "      <th>volume</th>\n",
       "      <th>volume_CMF</th>\n",
       "      <th>volume_FII</th>\n",
       "      <th>volume_MFI</th>\n",
       "      <th>volume_VWA</th>\n",
       "      <th>...</th>\n",
       "      <th>vortex_pos</th>\n",
       "      <th>S&amp;P_close_filled</th>\n",
       "      <th>Interest_Rates_filled</th>\n",
       "      <th>Inflation_Rate_us</th>\n",
       "      <th>subhag_signal</th>\n",
       "      <th>Fisher</th>\n",
       "      <th>Fisher_trigger</th>\n",
       "      <th>supertrend</th>\n",
       "      <th>chop_index</th>\n",
       "      <th>Velocity</th>\n",
       "    </tr>\n",
       "  </thead>\n",
       "  <tbody>\n",
       "    <tr>\n",
       "      <th>0</th>\n",
       "      <td>2019-09-08 20:00:00</td>\n",
       "      <td>10000.00</td>\n",
       "      <td>10000.00</td>\n",
       "      <td>10000.00</td>\n",
       "      <td>10000.00</td>\n",
       "      <td>0.002</td>\n",
       "      <td>NaN</td>\n",
       "      <td>NaN</td>\n",
       "      <td>NaN</td>\n",
       "      <td>NaN</td>\n",
       "      <td>...</td>\n",
       "      <td>NaN</td>\n",
       "      <td>2978.43</td>\n",
       "      <td>2.25</td>\n",
       "      <td>1.70</td>\n",
       "      <td>-1</td>\n",
       "      <td>0.00000</td>\n",
       "      <td>0.00000</td>\n",
       "      <td>1</td>\n",
       "      <td>inf</td>\n",
       "      <td>-1</td>\n",
       "    </tr>\n",
       "    <tr>\n",
       "      <th>1</th>\n",
       "      <td>2019-09-08 21:00:00</td>\n",
       "      <td>10000.00</td>\n",
       "      <td>10000.00</td>\n",
       "      <td>10000.00</td>\n",
       "      <td>10000.00</td>\n",
       "      <td>0.000</td>\n",
       "      <td>NaN</td>\n",
       "      <td>NaN</td>\n",
       "      <td>NaN</td>\n",
       "      <td>NaN</td>\n",
       "      <td>...</td>\n",
       "      <td>NaN</td>\n",
       "      <td>2978.43</td>\n",
       "      <td>2.25</td>\n",
       "      <td>1.70</td>\n",
       "      <td>-1</td>\n",
       "      <td>3.80020</td>\n",
       "      <td>0.00000</td>\n",
       "      <td>1</td>\n",
       "      <td>inf</td>\n",
       "      <td>1</td>\n",
       "    </tr>\n",
       "    <tr>\n",
       "      <th>2</th>\n",
       "      <td>2019-09-08 22:00:00</td>\n",
       "      <td>10344.77</td>\n",
       "      <td>10357.53</td>\n",
       "      <td>10337.43</td>\n",
       "      <td>10340.12</td>\n",
       "      <td>471.659</td>\n",
       "      <td>NaN</td>\n",
       "      <td>NaN</td>\n",
       "      <td>NaN</td>\n",
       "      <td>NaN</td>\n",
       "      <td>...</td>\n",
       "      <td>NaN</td>\n",
       "      <td>2978.43</td>\n",
       "      <td>2.25</td>\n",
       "      <td>1.70</td>\n",
       "      <td>-1</td>\n",
       "      <td>5.70030</td>\n",
       "      <td>3.80020</td>\n",
       "      <td>1</td>\n",
       "      <td>inf</td>\n",
       "      <td>1</td>\n",
       "    </tr>\n",
       "    <tr>\n",
       "      <th>3</th>\n",
       "      <td>2019-09-08 23:00:00</td>\n",
       "      <td>10340.12</td>\n",
       "      <td>10368.64</td>\n",
       "      <td>10334.54</td>\n",
       "      <td>10351.42</td>\n",
       "      <td>583.271</td>\n",
       "      <td>NaN</td>\n",
       "      <td>NaN</td>\n",
       "      <td>NaN</td>\n",
       "      <td>NaN</td>\n",
       "      <td>...</td>\n",
       "      <td>NaN</td>\n",
       "      <td>2978.43</td>\n",
       "      <td>2.25</td>\n",
       "      <td>1.70</td>\n",
       "      <td>-1</td>\n",
       "      <td>6.65035</td>\n",
       "      <td>5.70030</td>\n",
       "      <td>1</td>\n",
       "      <td>inf</td>\n",
       "      <td>1</td>\n",
       "    </tr>\n",
       "    <tr>\n",
       "      <th>4</th>\n",
       "      <td>2019-09-09 00:00:00</td>\n",
       "      <td>10351.42</td>\n",
       "      <td>10391.90</td>\n",
       "      <td>10324.77</td>\n",
       "      <td>10391.90</td>\n",
       "      <td>689.759</td>\n",
       "      <td>NaN</td>\n",
       "      <td>NaN</td>\n",
       "      <td>NaN</td>\n",
       "      <td>NaN</td>\n",
       "      <td>...</td>\n",
       "      <td>NaN</td>\n",
       "      <td>2978.43</td>\n",
       "      <td>2.25</td>\n",
       "      <td>1.70</td>\n",
       "      <td>-1</td>\n",
       "      <td>7.12538</td>\n",
       "      <td>6.65035</td>\n",
       "      <td>1</td>\n",
       "      <td>inf</td>\n",
       "      <td>1</td>\n",
       "    </tr>\n",
       "    <tr>\n",
       "      <th>...</th>\n",
       "      <td>...</td>\n",
       "      <td>...</td>\n",
       "      <td>...</td>\n",
       "      <td>...</td>\n",
       "      <td>...</td>\n",
       "      <td>...</td>\n",
       "      <td>...</td>\n",
       "      <td>...</td>\n",
       "      <td>...</td>\n",
       "      <td>...</td>\n",
       "      <td>...</td>\n",
       "      <td>...</td>\n",
       "      <td>...</td>\n",
       "      <td>...</td>\n",
       "      <td>...</td>\n",
       "      <td>...</td>\n",
       "      <td>...</td>\n",
       "      <td>...</td>\n",
       "      <td>...</td>\n",
       "      <td>...</td>\n",
       "      <td>...</td>\n",
       "    </tr>\n",
       "    <tr>\n",
       "      <th>32736</th>\n",
       "      <td>2023-06-03 20:00:00</td>\n",
       "      <td>27239.40</td>\n",
       "      <td>27246.40</td>\n",
       "      <td>27101.00</td>\n",
       "      <td>27147.60</td>\n",
       "      <td>15130.376</td>\n",
       "      <td>-0.048901</td>\n",
       "      <td>45306.477416</td>\n",
       "      <td>59.148253</td>\n",
       "      <td>27189.586323</td>\n",
       "      <td>...</td>\n",
       "      <td>0.983015</td>\n",
       "      <td>4282.37</td>\n",
       "      <td>5.25</td>\n",
       "      <td>5.08</td>\n",
       "      <td>1</td>\n",
       "      <td>0.55827</td>\n",
       "      <td>0.61369</td>\n",
       "      <td>-1</td>\n",
       "      <td>53.765071</td>\n",
       "      <td>1</td>\n",
       "    </tr>\n",
       "    <tr>\n",
       "      <th>32737</th>\n",
       "      <td>2023-06-03 21:00:00</td>\n",
       "      <td>27147.70</td>\n",
       "      <td>27173.70</td>\n",
       "      <td>27113.90</td>\n",
       "      <td>27138.80</td>\n",
       "      <td>6229.878</td>\n",
       "      <td>-0.075151</td>\n",
       "      <td>31002.276871</td>\n",
       "      <td>58.559862</td>\n",
       "      <td>27189.451257</td>\n",
       "      <td>...</td>\n",
       "      <td>1.015887</td>\n",
       "      <td>4282.37</td>\n",
       "      <td>5.25</td>\n",
       "      <td>5.08</td>\n",
       "      <td>-1</td>\n",
       "      <td>0.15512</td>\n",
       "      <td>0.55827</td>\n",
       "      <td>-1</td>\n",
       "      <td>54.075485</td>\n",
       "      <td>1</td>\n",
       "    </tr>\n",
       "    <tr>\n",
       "      <th>32738</th>\n",
       "      <td>2023-06-03 22:00:00</td>\n",
       "      <td>27138.90</td>\n",
       "      <td>27153.60</td>\n",
       "      <td>27000.00</td>\n",
       "      <td>27084.90</td>\n",
       "      <td>15389.644</td>\n",
       "      <td>-0.042819</td>\n",
       "      <td>-91926.878625</td>\n",
       "      <td>49.242500</td>\n",
       "      <td>27175.830184</td>\n",
       "      <td>...</td>\n",
       "      <td>0.892200</td>\n",
       "      <td>4282.37</td>\n",
       "      <td>5.25</td>\n",
       "      <td>5.08</td>\n",
       "      <td>-1</td>\n",
       "      <td>-0.36126</td>\n",
       "      <td>0.15512</td>\n",
       "      <td>-1</td>\n",
       "      <td>44.950464</td>\n",
       "      <td>1</td>\n",
       "    </tr>\n",
       "    <tr>\n",
       "      <th>32739</th>\n",
       "      <td>2023-06-03 23:00:00</td>\n",
       "      <td>27084.90</td>\n",
       "      <td>27119.50</td>\n",
       "      <td>27042.00</td>\n",
       "      <td>27052.70</td>\n",
       "      <td>7760.747</td>\n",
       "      <td>-0.045307</td>\n",
       "      <td>-114493.903593</td>\n",
       "      <td>43.575625</td>\n",
       "      <td>27168.759575</td>\n",
       "      <td>...</td>\n",
       "      <td>0.905507</td>\n",
       "      <td>4282.37</td>\n",
       "      <td>5.25</td>\n",
       "      <td>5.08</td>\n",
       "      <td>-1</td>\n",
       "      <td>-0.86198</td>\n",
       "      <td>-0.36126</td>\n",
       "      <td>-1</td>\n",
       "      <td>45.530993</td>\n",
       "      <td>1</td>\n",
       "    </tr>\n",
       "    <tr>\n",
       "      <th>32740</th>\n",
       "      <td>2023-06-04 00:00:00</td>\n",
       "      <td>27052.80</td>\n",
       "      <td>27069.30</td>\n",
       "      <td>26900.00</td>\n",
       "      <td>26990.00</td>\n",
       "      <td>18405.196</td>\n",
       "      <td>-0.030499</td>\n",
       "      <td>-262995.601537</td>\n",
       "      <td>38.631681</td>\n",
       "      <td>27142.897792</td>\n",
       "      <td>...</td>\n",
       "      <td>0.802186</td>\n",
       "      <td>4282.37</td>\n",
       "      <td>5.25</td>\n",
       "      <td>5.08</td>\n",
       "      <td>-1</td>\n",
       "      <td>-1.35313</td>\n",
       "      <td>-0.86198</td>\n",
       "      <td>-1</td>\n",
       "      <td>39.918101</td>\n",
       "      <td>-1</td>\n",
       "    </tr>\n",
       "  </tbody>\n",
       "</table>\n",
       "<p>32741 rows × 61 columns</p>\n",
       "</div>"
      ],
      "text/plain": [
       "                timestamp      open      high       low     close     volume  \\\n",
       "0     2019-09-08 20:00:00  10000.00  10000.00  10000.00  10000.00      0.002   \n",
       "1     2019-09-08 21:00:00  10000.00  10000.00  10000.00  10000.00      0.000   \n",
       "2     2019-09-08 22:00:00  10344.77  10357.53  10337.43  10340.12    471.659   \n",
       "3     2019-09-08 23:00:00  10340.12  10368.64  10334.54  10351.42    583.271   \n",
       "4     2019-09-09 00:00:00  10351.42  10391.90  10324.77  10391.90    689.759   \n",
       "...                   ...       ...       ...       ...       ...        ...   \n",
       "32736 2023-06-03 20:00:00  27239.40  27246.40  27101.00  27147.60  15130.376   \n",
       "32737 2023-06-03 21:00:00  27147.70  27173.70  27113.90  27138.80   6229.878   \n",
       "32738 2023-06-03 22:00:00  27138.90  27153.60  27000.00  27084.90  15389.644   \n",
       "32739 2023-06-03 23:00:00  27084.90  27119.50  27042.00  27052.70   7760.747   \n",
       "32740 2023-06-04 00:00:00  27052.80  27069.30  26900.00  26990.00  18405.196   \n",
       "\n",
       "       volume_CMF     volume_FII  volume_MFI    volume_VWA  ...  vortex_pos  \\\n",
       "0             NaN            NaN         NaN           NaN  ...         NaN   \n",
       "1             NaN            NaN         NaN           NaN  ...         NaN   \n",
       "2             NaN            NaN         NaN           NaN  ...         NaN   \n",
       "3             NaN            NaN         NaN           NaN  ...         NaN   \n",
       "4             NaN            NaN         NaN           NaN  ...         NaN   \n",
       "...           ...            ...         ...           ...  ...         ...   \n",
       "32736   -0.048901   45306.477416   59.148253  27189.586323  ...    0.983015   \n",
       "32737   -0.075151   31002.276871   58.559862  27189.451257  ...    1.015887   \n",
       "32738   -0.042819  -91926.878625   49.242500  27175.830184  ...    0.892200   \n",
       "32739   -0.045307 -114493.903593   43.575625  27168.759575  ...    0.905507   \n",
       "32740   -0.030499 -262995.601537   38.631681  27142.897792  ...    0.802186   \n",
       "\n",
       "       S&P_close_filled  Interest_Rates_filled  Inflation_Rate_us  \\\n",
       "0               2978.43                   2.25               1.70   \n",
       "1               2978.43                   2.25               1.70   \n",
       "2               2978.43                   2.25               1.70   \n",
       "3               2978.43                   2.25               1.70   \n",
       "4               2978.43                   2.25               1.70   \n",
       "...                 ...                    ...                ...   \n",
       "32736           4282.37                   5.25               5.08   \n",
       "32737           4282.37                   5.25               5.08   \n",
       "32738           4282.37                   5.25               5.08   \n",
       "32739           4282.37                   5.25               5.08   \n",
       "32740           4282.37                   5.25               5.08   \n",
       "\n",
       "       subhag_signal   Fisher  Fisher_trigger  supertrend  chop_index  \\\n",
       "0                 -1  0.00000         0.00000           1         inf   \n",
       "1                 -1  3.80020         0.00000           1         inf   \n",
       "2                 -1  5.70030         3.80020           1         inf   \n",
       "3                 -1  6.65035         5.70030           1         inf   \n",
       "4                 -1  7.12538         6.65035           1         inf   \n",
       "...              ...      ...             ...         ...         ...   \n",
       "32736              1  0.55827         0.61369          -1   53.765071   \n",
       "32737             -1  0.15512         0.55827          -1   54.075485   \n",
       "32738             -1 -0.36126         0.15512          -1   44.950464   \n",
       "32739             -1 -0.86198        -0.36126          -1   45.530993   \n",
       "32740             -1 -1.35313        -0.86198          -1   39.918101   \n",
       "\n",
       "       Velocity  \n",
       "0            -1  \n",
       "1             1  \n",
       "2             1  \n",
       "3             1  \n",
       "4             1  \n",
       "...         ...  \n",
       "32736         1  \n",
       "32737         1  \n",
       "32738         1  \n",
       "32739         1  \n",
       "32740        -1  \n",
       "\n",
       "[32741 rows x 61 columns]"
      ]
     },
     "execution_count": 114,
     "metadata": {},
     "output_type": "execute_result"
    }
   ],
   "source": [
    "data"
   ]
  },
  {
   "cell_type": "code",
   "execution_count": 115,
   "id": "a02e3025",
   "metadata": {},
   "outputs": [
    {
     "name": "stdout",
     "output_type": "stream",
     "text": [
      "Shape: (32741, 61)\n",
      "Duplicates: 0\n",
      "Duplicate timestamps 0\n",
      "Total amount of NaN: 832\n"
     ]
    }
   ],
   "source": [
    "data_check(data)"
   ]
  },
  {
   "cell_type": "code",
   "execution_count": 116,
   "id": "adb5eea5",
   "metadata": {},
   "outputs": [
    {
     "data": {
      "text/plain": [
       "'20230609-165037'"
      ]
     },
     "execution_count": 116,
     "metadata": {},
     "output_type": "execute_result"
    }
   ],
   "source": [
    "import datetime\n",
    "\n",
    "now = datetime.datetime.now()\n",
    "now = now.strftime(\"%Y%m%d-%H%M%S\")\n",
    "now"
   ]
  },
  {
   "cell_type": "code",
   "execution_count": 117,
   "id": "11309c6f",
   "metadata": {},
   "outputs": [],
   "source": [
    "data = data.dropna().reset_index(drop=True)\n",
    "\n",
    "data.to_csv(f'../raw_data/{now}-processed-data.csv', index=False)"
   ]
  },
  {
   "cell_type": "code",
   "execution_count": 118,
   "id": "ac49e415",
   "metadata": {
    "scrolled": true
   },
   "outputs": [
    {
     "data": {
      "text/plain": [
       "0       2019-09-11 19:00:00\n",
       "1       2019-09-11 20:00:00\n",
       "2       2019-09-11 21:00:00\n",
       "3       2019-09-11 22:00:00\n",
       "4       2019-09-11 23:00:00\n",
       "                ...        \n",
       "32665   2023-06-03 20:00:00\n",
       "32666   2023-06-03 21:00:00\n",
       "32667   2023-06-03 22:00:00\n",
       "32668   2023-06-03 23:00:00\n",
       "32669   2023-06-04 00:00:00\n",
       "Name: timestamp, Length: 32670, dtype: datetime64[ns]"
      ]
     },
     "execution_count": 118,
     "metadata": {},
     "output_type": "execute_result"
    }
   ],
   "source": [
    "data['timestamp']"
   ]
  },
  {
   "cell_type": "code",
   "execution_count": 120,
   "id": "5841187c",
   "metadata": {},
   "outputs": [
    {
     "name": "stdout",
     "output_type": "stream",
     "text": [
      "Shape: (32670, 61)\n",
      "Duplicates: 0\n",
      "Duplicate timestamps 0\n",
      "Total amount of NaN: 0\n"
     ]
    }
   ],
   "source": [
    "load_df = pd.read_csv(f'../raw_data/{now}-processed-data.csv')\n",
    "data_check(load_df)"
   ]
  },
  {
   "cell_type": "code",
   "execution_count": null,
   "id": "700fc0d3",
   "metadata": {},
   "outputs": [],
   "source": []
  }
 ],
 "metadata": {
  "kernelspec": {
   "display_name": "Python 3 (ipykernel)",
   "language": "python",
   "name": "python3"
  },
  "language_info": {
   "codemirror_mode": {
    "name": "ipython",
    "version": 3
   },
   "file_extension": ".py",
   "mimetype": "text/x-python",
   "name": "python",
   "nbconvert_exporter": "python",
   "pygments_lexer": "ipython3",
   "version": "3.10.6"
  },
  "toc": {
   "base_numbering": 1,
   "nav_menu": {},
   "number_sections": true,
   "sideBar": true,
   "skip_h1_title": false,
   "title_cell": "Table of Contents",
   "title_sidebar": "Contents",
   "toc_cell": false,
   "toc_position": {},
   "toc_section_display": true,
   "toc_window_display": false
  }
 },
 "nbformat": 4,
 "nbformat_minor": 5
}
