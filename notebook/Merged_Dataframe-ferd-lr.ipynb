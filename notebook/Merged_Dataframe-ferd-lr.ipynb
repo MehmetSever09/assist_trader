{
 "cells": [
  {
   "attachments": {},
   "cell_type": "markdown",
   "id": "e958c588",
   "metadata": {},
   "source": [
    "# Merged Data"
   ]
  },
  {
   "cell_type": "code",
   "execution_count": 1,
   "id": "b8f406e8",
   "metadata": {},
   "outputs": [],
   "source": [
    "import pandas as pd\n",
    "import ta\n",
    "import numpy as np\n",
    "import matplotlib.pyplot as plt\n",
    "import missingno as msno"
   ]
  },
  {
   "attachments": {},
   "cell_type": "markdown",
   "id": "a2ab151e",
   "metadata": {},
   "source": [
    "Data"
   ]
  },
  {
   "cell_type": "code",
   "execution_count": 2,
   "id": "2790e32a",
   "metadata": {},
   "outputs": [],
   "source": [
    "data = pd.read_csv('../raw_data/BTCUSDT_daily.csv')\n",
    "data = data.drop_duplicates(subset='timestamp')\n",
    "data['timestamp'] = pd.to_datetime(data['timestamp'])\n"
   ]
  },
  {
   "cell_type": "code",
   "execution_count": 3,
   "id": "e0631390",
   "metadata": {},
   "outputs": [],
   "source": [
    "def data_check(data):\n",
    "    print(f'Shape: {data.shape}')\n",
    "    print(f'Duplicates: {data.duplicated().sum()}')\n",
    "    print(f\"Duplicate timestamps {data['timestamp'].duplicated().sum()}\")\n",
    "    print(f'Total amount of NaN: {data.isna().sum().sum()}')"
   ]
  },
  {
   "cell_type": "code",
   "execution_count": 4,
   "id": "a52484df",
   "metadata": {},
   "outputs": [
    {
     "name": "stdout",
     "output_type": "stream",
     "text": [
      "Shape: (1365, 6)\n",
      "Duplicates: 0\n",
      "Duplicate timestamps 0\n",
      "Total amount of NaN: 0\n"
     ]
    }
   ],
   "source": [
    "data_check(data)"
   ]
  },
  {
   "attachments": {},
   "cell_type": "markdown",
   "id": "5cd8c88a",
   "metadata": {},
   "source": [
    "## Indicators"
   ]
  },
  {
   "attachments": {},
   "cell_type": "markdown",
   "id": "71398fa4",
   "metadata": {},
   "source": [
    "### Volume Indicators"
   ]
  },
  {
   "attachments": {},
   "cell_type": "markdown",
   "id": "95bf6e82",
   "metadata": {},
   "source": [
    "Imports"
   ]
  },
  {
   "cell_type": "code",
   "execution_count": 5,
   "id": "9968cf48",
   "metadata": {},
   "outputs": [],
   "source": [
    "from ta.volume import ChaikinMoneyFlowIndicator\n",
    "from ta.volume import ForceIndexIndicator\n",
    "from ta.volume import MFIIndicator\n",
    "from ta.volume import VolumeWeightedAveragePrice"
   ]
  },
  {
   "attachments": {},
   "cell_type": "markdown",
   "id": "d4e1dfe0",
   "metadata": {},
   "source": [
    "Code"
   ]
  },
  {
   "cell_type": "code",
   "execution_count": 6,
   "id": "563f3896",
   "metadata": {},
   "outputs": [],
   "source": [
    "cmfi_indicator = ta.volume.ChaikinMoneyFlowIndicator(high = data[\"high\"], low = data[\"low\"], close = data[\"close\"], volume = data[\"volume\"])\n",
    "cmfi_values = cmfi_indicator.chaikin_money_flow()\n",
    "data['volume_CMF'] = cmfi_values"
   ]
  },
  {
   "cell_type": "code",
   "execution_count": 7,
   "id": "355cda43",
   "metadata": {},
   "outputs": [],
   "source": [
    "fii_indicator = ta.volume.ForceIndexIndicator(close = data[\"close\"], volume = data[\"volume\"])\n",
    "fii_values = fii_indicator.force_index() \n",
    "data['volume_FII'] = fii_values"
   ]
  },
  {
   "cell_type": "code",
   "execution_count": 8,
   "id": "9587df0c",
   "metadata": {},
   "outputs": [],
   "source": [
    "mfi_indicator = ta.volume.MFIIndicator(high = data[\"high\"], low = data[\"low\"], close = data[\"close\"], volume = data[\"volume\"])\n",
    "mfi_values = mfi_indicator.money_flow_index() \n",
    "data['volume_MFI'] = mfi_values"
   ]
  },
  {
   "cell_type": "code",
   "execution_count": 9,
   "id": "e39a6f40",
   "metadata": {},
   "outputs": [],
   "source": [
    "vwa_indicator = ta.volume.VolumeWeightedAveragePrice(high = data[\"high\"], low = data[\"low\"], close = data[\"close\"], volume = data[\"volume\"])\n",
    "vwa_values = vwa_indicator.volume_weighted_average_price() \n",
    "data['volume_VWA'] = vwa_values"
   ]
  },
  {
   "cell_type": "code",
   "execution_count": 10,
   "id": "bacbadc9",
   "metadata": {},
   "outputs": [
    {
     "name": "stdout",
     "output_type": "stream",
     "text": [
      "Shape: (1365, 10)\n",
      "Duplicates: 0\n",
      "Duplicate timestamps 0\n",
      "Total amount of NaN: 58\n"
     ]
    }
   ],
   "source": [
    "data_check(data)"
   ]
  },
  {
   "attachments": {},
   "cell_type": "markdown",
   "id": "770c30c8",
   "metadata": {},
   "source": [
    "### Momentum Indicators"
   ]
  },
  {
   "attachments": {},
   "cell_type": "markdown",
   "id": "42461b97",
   "metadata": {},
   "source": [
    "Imports"
   ]
  },
  {
   "cell_type": "code",
   "execution_count": 11,
   "id": "4edee572",
   "metadata": {},
   "outputs": [],
   "source": [
    "from ta.momentum import AwesomeOscillatorIndicator\n",
    "from ta.momentum import KAMAIndicator\n",
    "from ta.momentum import PercentagePriceOscillator\n",
    "from ta.momentum import PercentageVolumeOscillator\n",
    "from ta.momentum import ROCIndicator\n",
    "from ta.momentum import RSIIndicator\n",
    "from ta.momentum import StochRSIIndicator\n",
    "from ta.momentum import StochasticOscillator\n",
    "from ta.momentum import TSIIndicator\n",
    "from ta.momentum import UltimateOscillator\n",
    "from ta.momentum import WilliamsRIndicator"
   ]
  },
  {
   "attachments": {},
   "cell_type": "markdown",
   "id": "7fb9ccff",
   "metadata": {},
   "source": [
    "Code"
   ]
  },
  {
   "cell_type": "code",
   "execution_count": 12,
   "id": "6d7ebb81",
   "metadata": {},
   "outputs": [],
   "source": [
    "ao_indicator = ta.momentum.AwesomeOscillatorIndicator(data[\"high\"], data[\"low\"])\n",
    "ao_values = ao_indicator.awesome_oscillator()\n",
    "data['mom_AOI'] = ao_values"
   ]
  },
  {
   "cell_type": "code",
   "execution_count": 13,
   "id": "1b15c748",
   "metadata": {},
   "outputs": [],
   "source": [
    "# kama_indicator = KAMAIndicator(close=data['close'])\n",
    "# kama_values = kama_indicator.kama()\n",
    "# data['mom_KAMA'] = kama_values"
   ]
  },
  {
   "cell_type": "code",
   "execution_count": 14,
   "id": "2f94c082",
   "metadata": {},
   "outputs": [],
   "source": [
    "ppo_indicator = PercentagePriceOscillator(close=data['close'])\n",
    "ppo_values = ppo_indicator.ppo()\n",
    "data['mom_PPO'] = ppo_values\n",
    "ppo_signal_values = ppo_indicator.ppo_signal()\n",
    "data['mom_PPO_signal'] = ppo_signal_values"
   ]
  },
  {
   "cell_type": "code",
   "execution_count": 15,
   "id": "4ce9f78c",
   "metadata": {},
   "outputs": [],
   "source": [
    "pvo_indicator = PercentageVolumeOscillator(volume=data['volume'])\n",
    "pvo_values = pvo_indicator.pvo()\n",
    "data['mom_PVO'] = pvo_values\n",
    "pvo_signal_values = pvo_indicator.pvo_signal()\n",
    "data['mom_PVO_signal'] = pvo_signal_values"
   ]
  },
  {
   "cell_type": "code",
   "execution_count": 16,
   "id": "76f9c224",
   "metadata": {},
   "outputs": [],
   "source": [
    "roc_indicator = ROCIndicator(close=data['close'])\n",
    "roc_values = roc_indicator.roc()\n",
    "data['mom_ROC'] = roc_values"
   ]
  },
  {
   "cell_type": "code",
   "execution_count": 17,
   "id": "893d8db4",
   "metadata": {},
   "outputs": [],
   "source": [
    "rsi_indicator = RSIIndicator(close=data['close'])\n",
    "rsi_values = rsi_indicator.rsi()\n",
    "data['mom_rsi'] = rsi_values"
   ]
  },
  {
   "cell_type": "code",
   "execution_count": 18,
   "id": "2d350847",
   "metadata": {},
   "outputs": [],
   "source": [
    "srsi_indicator = StochRSIIndicator(close=data['close'])\n",
    "srsi_values = srsi_indicator.stochrsi()\n",
    "data['mom_stoch_RSI'] = srsi_values"
   ]
  },
  {
   "cell_type": "code",
   "execution_count": 19,
   "id": "85003fd9",
   "metadata": {},
   "outputs": [],
   "source": [
    "so_indicator = StochasticOscillator(high = data[\"high\"], low = data[\"low\"], close = data['close'])\n",
    "so_values = so_indicator.stoch()\n",
    "data[\"mom_StochOscillator\"] = so_values\n",
    "so_signal_values = so_indicator.stoch_signal()\n",
    "data['mom_StochOscillator_signal'] = so_signal_values"
   ]
  },
  {
   "cell_type": "code",
   "execution_count": 20,
   "id": "4b585215",
   "metadata": {},
   "outputs": [],
   "source": [
    "tsi_indicator = TSIIndicator(close=data['close'])\n",
    "tsi_values = tsi_indicator.tsi()\n",
    "data['mom_TSI'] = tsi_values"
   ]
  },
  {
   "cell_type": "code",
   "execution_count": 21,
   "id": "acd12f6c",
   "metadata": {},
   "outputs": [],
   "source": [
    "uo_indicator = UltimateOscillator(high = data[\"high\"], low = data[\"low\"], close = data['close'])\n",
    "uo_values = uo_indicator.ultimate_oscillator()\n",
    "data[\"mom_UltimateOscillator\"] = uo_values"
   ]
  },
  {
   "cell_type": "code",
   "execution_count": 22,
   "id": "ccfcd251",
   "metadata": {},
   "outputs": [],
   "source": [
    "wri_indicator = WilliamsRIndicator(high = data[\"high\"], low = data[\"low\"], close = data['close'])\n",
    "wri_values = wri_indicator.williams_r()\n",
    "data[\"mom_WilliamsRIndicator\"] = wri_values"
   ]
  },
  {
   "cell_type": "code",
   "execution_count": 23,
   "id": "09fff7d1",
   "metadata": {},
   "outputs": [
    {
     "name": "stdout",
     "output_type": "stream",
     "text": [
      "Shape: (1365, 23)\n",
      "Duplicates: 0\n",
      "Duplicate timestamps 0\n",
      "Total amount of NaN: 364\n"
     ]
    }
   ],
   "source": [
    "data_check(data)"
   ]
  },
  {
   "cell_type": "code",
   "execution_count": 24,
   "id": "b07c02d7",
   "metadata": {},
   "outputs": [],
   "source": [
    "# msno.matrix(data[:500])"
   ]
  },
  {
   "attachments": {},
   "cell_type": "markdown",
   "id": "f04a07b7",
   "metadata": {},
   "source": [
    "### Volatility Indicator"
   ]
  },
  {
   "attachments": {},
   "cell_type": "markdown",
   "id": "0fb22a20",
   "metadata": {},
   "source": [
    "Imports"
   ]
  },
  {
   "cell_type": "code",
   "execution_count": 25,
   "id": "9e229dd4",
   "metadata": {},
   "outputs": [],
   "source": [
    "from ta.volatility import AverageTrueRange\n",
    "from ta.volatility import BollingerBands\n",
    "from ta.volatility import keltner_channel_wband\n",
    "from ta.volatility import keltner_channel_pband\n",
    "from ta.volatility import keltner_channel_mband\n",
    "from ta.volatility import donchian_channel_lband\n",
    "from ta.volatility import donchian_channel_hband\n",
    "from ta.volatility import donchian_channel_mband\n",
    "from ta.volatility import donchian_channel_wband\n",
    "from ta.volatility import ulcer_index"
   ]
  },
  {
   "attachments": {},
   "cell_type": "markdown",
   "id": "db23be45",
   "metadata": {},
   "source": [
    "Code"
   ]
  },
  {
   "cell_type": "code",
   "execution_count": 26,
   "id": "5786da09",
   "metadata": {},
   "outputs": [],
   "source": [
    "# Average True Range\n",
    "\n",
    "atr_indicator = AverageTrueRange(high = data[\"high\"], low = data[\"low\"], close = data['close'], window=14)\n",
    "atr_values = atr_indicator.average_true_range()\n",
    "data['volat_ATR'] = atr_values"
   ]
  },
  {
   "cell_type": "code",
   "execution_count": 27,
   "id": "e4801b5a",
   "metadata": {},
   "outputs": [
    {
     "data": {
      "text/plain": [
       "0         0.000000\n",
       "1         0.000000\n",
       "2         0.000000\n",
       "3         0.000000\n",
       "4         0.000000\n",
       "           ...    \n",
       "1360    854.472960\n",
       "1361    864.796320\n",
       "1362    856.446583\n",
       "1363    853.300398\n",
       "1364    823.793227\n",
       "Name: atr, Length: 1365, dtype: float64"
      ]
     },
     "execution_count": 27,
     "metadata": {},
     "output_type": "execute_result"
    }
   ],
   "source": [
    "atr_values"
   ]
  },
  {
   "cell_type": "code",
   "execution_count": 28,
   "id": "13961a5e",
   "metadata": {},
   "outputs": [],
   "source": [
    "# Bollinger Indications\n",
    "\n",
    "bol_indicator = BollingerBands(close=data['close'])\n",
    "\n",
    "data['volat_bol_hband_binary'] = bol_indicator.bollinger_hband_indicator()\n",
    "data['volat_bol_lband_binary'] = bol_indicator.bollinger_lband_indicator()\n",
    "data['volat_bol_band_width'] = bol_indicator.bollinger_wband()"
   ]
  },
  {
   "cell_type": "code",
   "execution_count": 29,
   "id": "77b15d84",
   "metadata": {},
   "outputs": [],
   "source": [
    "# Keltner Channels\n",
    "\n",
    "kcw_indicator = keltner_channel_wband(high = data[\"high\"], low = data[\"low\"], close = data['close'])\n",
    "data['KCW'] = kcw_indicator\n",
    "\n",
    "kcp_indicator = keltner_channel_pband(high = data[\"high\"], low = data[\"low\"], close = data['close'])\n",
    "data['KCP'] = kcp_indicator\n",
    "\n",
    "# Perfect Correlation\n",
    "# kcm_indicator = keltner_channel_mband(high = data[\"high\"], low = data[\"low\"], close = data['close'])\n",
    "# data['KCM'] = kcm_indicator"
   ]
  },
  {
   "cell_type": "code",
   "execution_count": 30,
   "id": "c670695d",
   "metadata": {},
   "outputs": [],
   "source": [
    "# Donchian channels\n",
    "\n",
    "dcw_indicator = donchian_channel_wband(high=data[\"high\"], low=data['low'], close=data['close'])\n",
    "data['donch_DCW'] = dcw_indicator\n",
    "\n",
    "# Highly correlated\n",
    "# dcl_indicator = donchian_channel_lband(high = data[\"high\"], low = data[\"low\"], close = data['close'])\n",
    "# data[\"DCL\"] = dcl_indicator\n",
    "\n",
    "# dch_indicator = donchian_channel_hband(high = data[\"high\"], low = data[\"low\"], close = data['close'])\n",
    "# data['DCH'] = dch_indicator\n",
    "\n",
    "# dcm_indicator = donchian_channel_mband(high = data[\"high\"], low = data[\"low\"], close = data['close'])\n",
    "# data['DCM'] = dcm_indicator"
   ]
  },
  {
   "cell_type": "code",
   "execution_count": 31,
   "id": "301d7236",
   "metadata": {},
   "outputs": [],
   "source": [
    "# Ulcer\n",
    "\n",
    "uli_indicator = ulcer_index(close = data['close'])\n",
    "data['ULI'] = uli_indicator"
   ]
  },
  {
   "cell_type": "code",
   "execution_count": 32,
   "id": "2d669304",
   "metadata": {},
   "outputs": [
    {
     "name": "stdout",
     "output_type": "stream",
     "text": [
      "Shape: (1365, 31)\n",
      "Duplicates: 0\n",
      "Duplicate timestamps 0\n",
      "Total amount of NaN: 424\n"
     ]
    }
   ],
   "source": [
    "data_check(data)"
   ]
  },
  {
   "attachments": {},
   "cell_type": "markdown",
   "id": "7b96220c",
   "metadata": {},
   "source": [
    "### Trend Indicator"
   ]
  },
  {
   "attachments": {},
   "cell_type": "markdown",
   "id": "b19bddfe",
   "metadata": {},
   "source": [
    "Imports"
   ]
  },
  {
   "cell_type": "code",
   "execution_count": 33,
   "id": "82679781",
   "metadata": {},
   "outputs": [],
   "source": [
    "from ta.trend import ADXIndicator\n",
    "from ta.trend import AroonIndicator\n",
    "from ta.trend import CCIIndicator\n",
    "from ta.trend import DPOIndicator\n",
    "from ta.trend import EMAIndicator\n",
    "from ta.trend import KSTIndicator\n",
    "from ta.trend import MACD\n",
    "from ta.trend import MassIndex\n",
    "from ta.trend import PSARIndicator\n",
    "from ta.trend import SMAIndicator\n",
    "from ta.trend import STCIndicator\n",
    "from ta.trend import TRIXIndicator\n",
    "from ta.trend import VortexIndicator\n",
    "from ta.trend import WMAIndicator"
   ]
  },
  {
   "attachments": {},
   "cell_type": "markdown",
   "id": "b4fbb898",
   "metadata": {},
   "source": [
    "Code"
   ]
  },
  {
   "cell_type": "code",
   "execution_count": 34,
   "id": "ad0da146",
   "metadata": {},
   "outputs": [
    {
     "name": "stderr",
     "output_type": "stream",
     "text": [
      "/home/lscr/.pyenv/versions/3.10.6/envs/assist_trader/lib/python3.10/site-packages/ta/trend.py:780: RuntimeWarning: invalid value encountered in double_scalars\n",
      "  dip[idx] = 100 * (self._dip[idx] / value)\n",
      "/home/lscr/.pyenv/versions/3.10.6/envs/assist_trader/lib/python3.10/site-packages/ta/trend.py:785: RuntimeWarning: invalid value encountered in double_scalars\n",
      "  din[idx] = 100 * (self._din[idx] / value)\n"
     ]
    }
   ],
   "source": [
    "data[\"ADX\"] = ADXIndicator(high = data[\"high\"], low = data[\"low\"], close = data['close']).adx()\n",
    "data[\"ADX_neg\"] = ADXIndicator(high = data[\"high\"], low = data[\"low\"], close = data['close']).adx_neg()\n",
    "data[\"ADX_pos\"] = ADXIndicator(high = data[\"high\"], low = data[\"low\"], close = data['close']).adx_pos()"
   ]
  },
  {
   "cell_type": "code",
   "execution_count": 35,
   "id": "f617cb4b",
   "metadata": {},
   "outputs": [],
   "source": [
    "data[\"ARI_down\"] = AroonIndicator(close = data['close']).aroon_down()\n",
    "data[\"ARI\"] = AroonIndicator(close = data['close']).aroon_indicator()\n",
    "data[\"ARI_up\"] = AroonIndicator(close = data['close']).aroon_up()"
   ]
  },
  {
   "cell_type": "code",
   "execution_count": 36,
   "id": "8d1014c2",
   "metadata": {},
   "outputs": [],
   "source": [
    "data[\"CCI\"] = CCIIndicator(high = data[\"high\"], low = data[\"low\"], close = data['close']).cci()"
   ]
  },
  {
   "cell_type": "code",
   "execution_count": 37,
   "id": "c155987b",
   "metadata": {},
   "outputs": [],
   "source": [
    "data[\"DPO\"] = DPOIndicator(close = data['close']).dpo()"
   ]
  },
  {
   "cell_type": "code",
   "execution_count": 38,
   "id": "661ef703",
   "metadata": {},
   "outputs": [],
   "source": [
    "data[\"EMA_100\"] = EMAIndicator(close = data['close'], window=100).ema_indicator()\n",
    "\n",
    "def make_binary(feat, close):\n",
    "    if close > feat:\n",
    "        return 1\n",
    "    else:\n",
    "        return 0\n",
    "\n",
    "data['EMA_100_binary'] = data.apply(lambda x: make_binary(x['EMA_100'], x['close']), axis=1)\n",
    "\n",
    "data = data.drop(columns=['EMA_100'])\n",
    "\n",
    "# data[\"EMA_14\"] = EMAIndicator(close = data['close'], window=14).ema_indicator()\n",
    "# data[\"EMA_20\"] = EMAIndicator(close = data['close'], window=20).ema_indicator()\n",
    "# data[\"EMA_50\"] = EMAIndicator(close = data['close'], window=50).ema_indicator()\n",
    "# data[\"EMA_200\"] = EMAIndicator(close = data['close'], window=200).ema_indicator()"
   ]
  },
  {
   "cell_type": "code",
   "execution_count": 39,
   "id": "1b5fc659",
   "metadata": {},
   "outputs": [],
   "source": [
    "data[\"KST\"] = KSTIndicator(close = data['close'], roc1= 10, roc2= 15, roc3= 20, roc4= 30,\n",
    "                                  window1= 10, window2= 10, window3= 10, window4= 15, nsig= 9).kst()\n",
    "data[\"KST_diff\"] = KSTIndicator(close = data['close'], roc1= 10, roc2= 15, roc3= 20, roc4= 30,\n",
    "                                  window1= 10, window2= 10, window3= 10, window4= 15, nsig= 9).kst_diff()\n",
    "data[\"KST_sig\"] = KSTIndicator(close = data['close'], roc1= 10, roc2= 15, roc3= 20, roc4= 30,\n",
    "                                  window1= 10, window2= 10, window3= 10, window4= 15, nsig= 9).kst_sig()"
   ]
  },
  {
   "cell_type": "code",
   "execution_count": 40,
   "id": "1136ef24",
   "metadata": {},
   "outputs": [],
   "source": [
    "data[\"MACD_line\"] = MACD(close = data['close'], window_slow= 26, window_fast= 12, window_sign= 9).macd()\n",
    "data[\"MACD_signal\"] = MACD(close = data['close'], window_slow= 26, window_fast= 12, window_sign= 9).macd_signal()"
   ]
  },
  {
   "cell_type": "code",
   "execution_count": 41,
   "id": "74c3ceb4",
   "metadata": {},
   "outputs": [],
   "source": [
    "data[\"MAI\"] = MassIndex(high = data[\"high\"], low = data[\"low\"], window_fast= 9, window_slow= 25).mass_index()"
   ]
  },
  {
   "cell_type": "code",
   "execution_count": 42,
   "id": "0f0df19c",
   "metadata": {},
   "outputs": [],
   "source": [
    "data[\"PSAR\"] = PSARIndicator(high = data[\"high\"], low = data[\"low\"], close = data['close'], step= 0.02, max_step= 0.2).psar()\n",
    "\n",
    "data['PSAR_binary'] = data.apply(lambda x: make_binary(x['PSAR'], x['close']), axis=1)\n",
    "\n",
    "data = data.drop(columns=['PSAR'])"
   ]
  },
  {
   "cell_type": "code",
   "execution_count": 43,
   "id": "79298a10",
   "metadata": {},
   "outputs": [],
   "source": [
    "data[\"STC\"]= STCIndicator(close = data['close'], window_slow= 50, window_fast= 23, cycle= 10, smooth1= 3, smooth2= 3).stc()"
   ]
  },
  {
   "cell_type": "code",
   "execution_count": 44,
   "id": "bf49ea39",
   "metadata": {},
   "outputs": [],
   "source": [
    "data[\"TRIX\"]= TRIXIndicator(close = data['close'], window= 15).trix()"
   ]
  },
  {
   "cell_type": "code",
   "execution_count": 45,
   "id": "41730616",
   "metadata": {},
   "outputs": [],
   "source": [
    "data[\"vortex_ind_diff\"] = VortexIndicator(high = data[\"high\"], low = data[\"low\"], close = data['close'], window= 14).vortex_indicator_diff()\n",
    "data[\"vortex_neg\"] = VortexIndicator(high = data[\"high\"], low = data[\"low\"], close = data['close'], window= 14).vortex_indicator_neg()\n",
    "data[\"vortex_pos\"] = VortexIndicator(high = data[\"high\"], low = data[\"low\"], close = data['close'], window= 14).vortex_indicator_pos()"
   ]
  },
  {
   "cell_type": "code",
   "execution_count": 46,
   "id": "ae08258c",
   "metadata": {},
   "outputs": [],
   "source": [
    "# data[\"wma_9\"] = WMAIndicator(close = data['close'], window=14).wma()\n",
    "# data[\"wma_20\"] = WMAIndicator(close = data['close'], window=20).wma()\n",
    "# data[\"wma_50\"] = WMAIndicator(close = data['close'], window=50).wma()\n",
    "# data[\"wma_100\"] = WMAIndicator(close = data['close'], window=100).wma()"
   ]
  },
  {
   "cell_type": "code",
   "execution_count": 47,
   "id": "da22d12e",
   "metadata": {},
   "outputs": [
    {
     "name": "stdout",
     "output_type": "stream",
     "text": [
      "Shape: (1365, 52)\n",
      "Duplicates: 0\n",
      "Duplicate timestamps 0\n",
      "Total amount of NaN: 830\n"
     ]
    }
   ],
   "source": [
    "data_check(data)"
   ]
  },
  {
   "cell_type": "code",
   "execution_count": 48,
   "id": "267842b6",
   "metadata": {},
   "outputs": [
    {
     "name": "stdout",
     "output_type": "stream",
     "text": [
      "<class 'pandas.core.frame.DataFrame'>\n",
      "Int64Index: 1365 entries, 0 to 1364\n",
      "Data columns (total 52 columns):\n",
      " #   Column                      Non-Null Count  Dtype         \n",
      "---  ------                      --------------  -----         \n",
      " 0   timestamp                   1365 non-null   datetime64[ns]\n",
      " 1   open                        1365 non-null   float64       \n",
      " 2   high                        1365 non-null   float64       \n",
      " 3   low                         1365 non-null   float64       \n",
      " 4   close                       1365 non-null   float64       \n",
      " 5   volume                      1365 non-null   float64       \n",
      " 6   volume_CMF                  1346 non-null   float64       \n",
      " 7   volume_FII                  1352 non-null   float64       \n",
      " 8   volume_MFI                  1352 non-null   float64       \n",
      " 9   volume_VWA                  1352 non-null   float64       \n",
      " 10  mom_AOI                     1332 non-null   float64       \n",
      " 11  mom_PPO                     1340 non-null   float64       \n",
      " 12  mom_PPO_signal              1332 non-null   float64       \n",
      " 13  mom_PVO                     1340 non-null   float64       \n",
      " 14  mom_PVO_signal              1332 non-null   float64       \n",
      " 15  mom_ROC                     1353 non-null   float64       \n",
      " 16  mom_rsi                     1352 non-null   float64       \n",
      " 17  mom_stoch_RSI               1339 non-null   float64       \n",
      " 18  mom_StochOscillator         1352 non-null   float64       \n",
      " 19  mom_StochOscillator_signal  1350 non-null   float64       \n",
      " 20  mom_TSI                     1328 non-null   float64       \n",
      " 21  mom_UltimateOscillator      1337 non-null   float64       \n",
      " 22  mom_WilliamsRIndicator      1352 non-null   float64       \n",
      " 23  volat_ATR                   1365 non-null   float64       \n",
      " 24  volat_bol_hband_binary      1365 non-null   float64       \n",
      " 25  volat_bol_lband_binary      1365 non-null   float64       \n",
      " 26  volat_bol_band_width        1346 non-null   float64       \n",
      " 27  KCW                         1346 non-null   float64       \n",
      " 28  KCP                         1365 non-null   float64       \n",
      " 29  donch_DCW                   1356 non-null   float64       \n",
      " 30  ULI                         1352 non-null   float64       \n",
      " 31  ADX                         1365 non-null   float64       \n",
      " 32  ADX_neg                     1365 non-null   float64       \n",
      " 33  ADX_pos                     1365 non-null   float64       \n",
      " 34  ARI_down                    1341 non-null   float64       \n",
      " 35  ARI                         1341 non-null   float64       \n",
      " 36  ARI_up                      1341 non-null   float64       \n",
      " 37  CCI                         1346 non-null   float64       \n",
      " 38  DPO                         1346 non-null   float64       \n",
      " 39  EMA_100_binary              1365 non-null   int64         \n",
      " 40  KST                         1351 non-null   float64       \n",
      " 41  KST_diff                    1351 non-null   float64       \n",
      " 42  KST_sig                     1351 non-null   float64       \n",
      " 43  MACD_line                   1340 non-null   float64       \n",
      " 44  MACD_signal                 1332 non-null   float64       \n",
      " 45  MAI                         1325 non-null   float64       \n",
      " 46  PSAR_binary                 1365 non-null   int64         \n",
      " 47  STC                         1294 non-null   float64       \n",
      " 48  TRIX                        1322 non-null   float64       \n",
      " 49  vortex_ind_diff             1351 non-null   float64       \n",
      " 50  vortex_neg                  1351 non-null   float64       \n",
      " 51  vortex_pos                  1351 non-null   float64       \n",
      "dtypes: datetime64[ns](1), float64(49), int64(2)\n",
      "memory usage: 597.5 KB\n"
     ]
    }
   ],
   "source": [
    "data.info()"
   ]
  },
  {
   "attachments": {},
   "cell_type": "markdown",
   "id": "1a1c15f8",
   "metadata": {},
   "source": [
    "## Merging Tables"
   ]
  },
  {
   "attachments": {},
   "cell_type": "markdown",
   "id": "d6853ea2",
   "metadata": {},
   "source": [
    "### Merging Inflation rate to Bitcoin"
   ]
  },
  {
   "attachments": {},
   "cell_type": "markdown",
   "id": "6eaa20a7",
   "metadata": {},
   "source": [
    "Inflation rate dataset"
   ]
  },
  {
   "cell_type": "code",
   "execution_count": 49,
   "id": "9c96ee45",
   "metadata": {},
   "outputs": [],
   "source": [
    "data_inf_rt = pd.read_csv(\"../raw_data/SP500_price.csv\")\n",
    "data_inf_rt = data_inf_rt.dropna()"
   ]
  },
  {
   "cell_type": "code",
   "execution_count": 50,
   "id": "4fc1f01b",
   "metadata": {},
   "outputs": [],
   "source": [
    "data_inf_rt[\"Date\"] = pd.to_datetime(data_inf_rt[\"Date\"], format = '%b %d, %Y')"
   ]
  },
  {
   "cell_type": "code",
   "execution_count": 51,
   "id": "cb110c42",
   "metadata": {},
   "outputs": [],
   "source": [
    "data_inf_rt = data_inf_rt.drop([\"Open\", \"High\", \"Low\", \"Adj Close**\", \"Volume\"], axis=1)"
   ]
  },
  {
   "cell_type": "code",
   "execution_count": 52,
   "id": "68e40aa1",
   "metadata": {},
   "outputs": [
    {
     "name": "stdout",
     "output_type": "stream",
     "text": [
      "Shape: (1365, 52)\n",
      "Duplicates: 0\n",
      "Duplicate timestamps 0\n",
      "Total amount of NaN: 830\n"
     ]
    }
   ],
   "source": [
    "data_check(data)"
   ]
  },
  {
   "cell_type": "code",
   "execution_count": 53,
   "id": "3c51b7f0",
   "metadata": {},
   "outputs": [
    {
     "name": "stdout",
     "output_type": "stream",
     "text": [
      "<class 'pandas.core.frame.DataFrame'>\n",
      "Int64Index: 1365 entries, 0 to 1364\n",
      "Data columns (total 52 columns):\n",
      " #   Column                      Non-Null Count  Dtype         \n",
      "---  ------                      --------------  -----         \n",
      " 0   timestamp                   1365 non-null   datetime64[ns]\n",
      " 1   open                        1365 non-null   float64       \n",
      " 2   high                        1365 non-null   float64       \n",
      " 3   low                         1365 non-null   float64       \n",
      " 4   close                       1365 non-null   float64       \n",
      " 5   volume                      1365 non-null   float64       \n",
      " 6   volume_CMF                  1346 non-null   float64       \n",
      " 7   volume_FII                  1352 non-null   float64       \n",
      " 8   volume_MFI                  1352 non-null   float64       \n",
      " 9   volume_VWA                  1352 non-null   float64       \n",
      " 10  mom_AOI                     1332 non-null   float64       \n",
      " 11  mom_PPO                     1340 non-null   float64       \n",
      " 12  mom_PPO_signal              1332 non-null   float64       \n",
      " 13  mom_PVO                     1340 non-null   float64       \n",
      " 14  mom_PVO_signal              1332 non-null   float64       \n",
      " 15  mom_ROC                     1353 non-null   float64       \n",
      " 16  mom_rsi                     1352 non-null   float64       \n",
      " 17  mom_stoch_RSI               1339 non-null   float64       \n",
      " 18  mom_StochOscillator         1352 non-null   float64       \n",
      " 19  mom_StochOscillator_signal  1350 non-null   float64       \n",
      " 20  mom_TSI                     1328 non-null   float64       \n",
      " 21  mom_UltimateOscillator      1337 non-null   float64       \n",
      " 22  mom_WilliamsRIndicator      1352 non-null   float64       \n",
      " 23  volat_ATR                   1365 non-null   float64       \n",
      " 24  volat_bol_hband_binary      1365 non-null   float64       \n",
      " 25  volat_bol_lband_binary      1365 non-null   float64       \n",
      " 26  volat_bol_band_width        1346 non-null   float64       \n",
      " 27  KCW                         1346 non-null   float64       \n",
      " 28  KCP                         1365 non-null   float64       \n",
      " 29  donch_DCW                   1356 non-null   float64       \n",
      " 30  ULI                         1352 non-null   float64       \n",
      " 31  ADX                         1365 non-null   float64       \n",
      " 32  ADX_neg                     1365 non-null   float64       \n",
      " 33  ADX_pos                     1365 non-null   float64       \n",
      " 34  ARI_down                    1341 non-null   float64       \n",
      " 35  ARI                         1341 non-null   float64       \n",
      " 36  ARI_up                      1341 non-null   float64       \n",
      " 37  CCI                         1346 non-null   float64       \n",
      " 38  DPO                         1346 non-null   float64       \n",
      " 39  EMA_100_binary              1365 non-null   int64         \n",
      " 40  KST                         1351 non-null   float64       \n",
      " 41  KST_diff                    1351 non-null   float64       \n",
      " 42  KST_sig                     1351 non-null   float64       \n",
      " 43  MACD_line                   1340 non-null   float64       \n",
      " 44  MACD_signal                 1332 non-null   float64       \n",
      " 45  MAI                         1325 non-null   float64       \n",
      " 46  PSAR_binary                 1365 non-null   int64         \n",
      " 47  STC                         1294 non-null   float64       \n",
      " 48  TRIX                        1322 non-null   float64       \n",
      " 49  vortex_ind_diff             1351 non-null   float64       \n",
      " 50  vortex_neg                  1351 non-null   float64       \n",
      " 51  vortex_pos                  1351 non-null   float64       \n",
      "dtypes: datetime64[ns](1), float64(49), int64(2)\n",
      "memory usage: 597.5 KB\n"
     ]
    }
   ],
   "source": [
    "data.info()"
   ]
  },
  {
   "attachments": {},
   "cell_type": "markdown",
   "id": "ea45909e",
   "metadata": {},
   "source": [
    "Big Dataset"
   ]
  },
  {
   "cell_type": "code",
   "execution_count": 54,
   "id": "b20127f1",
   "metadata": {},
   "outputs": [],
   "source": [
    "data[\"Date\"] = data[\"timestamp\"]\n",
    "data[\"Date\"]= pd.to_datetime(data[\"Date\"]).dt.date\n",
    "data[\"Date\"]= pd.to_datetime(data[\"Date\"])"
   ]
  },
  {
   "attachments": {},
   "cell_type": "markdown",
   "id": "5e0fdc6f",
   "metadata": {},
   "source": [
    "Merging Datasets"
   ]
  },
  {
   "cell_type": "code",
   "execution_count": 55,
   "id": "86cf7702",
   "metadata": {},
   "outputs": [],
   "source": [
    "merged_df_sp = pd.merge(data, data_inf_rt, on=['Date', 'Date'], how='left')"
   ]
  },
  {
   "cell_type": "code",
   "execution_count": 56,
   "id": "9d2797a8",
   "metadata": {},
   "outputs": [],
   "source": [
    "data = merged_df_sp.drop(['Date'],axis = 1)"
   ]
  },
  {
   "cell_type": "code",
   "execution_count": 57,
   "id": "eb52bd0f",
   "metadata": {},
   "outputs": [],
   "source": [
    "data = data.rename(columns={'Close*': 'S&P_close'})"
   ]
  },
  {
   "cell_type": "code",
   "execution_count": 58,
   "id": "e147398c",
   "metadata": {},
   "outputs": [],
   "source": [
    "data['S&P_close'] = data['S&P_close'].str.replace(',', '').astype(float)"
   ]
  },
  {
   "cell_type": "code",
   "execution_count": 59,
   "id": "8fc847a1",
   "metadata": {},
   "outputs": [],
   "source": [
    "import math\n",
    "\n",
    "SP_close = data['S&P_close'].tolist()\n",
    "\n",
    "for i in range(len(SP_close)):\n",
    "    \n",
    "    if i > 0 and math.isnan(SP_close[i]):\n",
    "        \n",
    "        SP_close[i] = SP_close[i-1]\n",
    "        \n",
    "for i in range(len(SP_close)):\n",
    "    \n",
    "    if math.isnan(SP_close[i]):\n",
    "        \n",
    "        SP_close[i] = 2978.43"
   ]
  },
  {
   "cell_type": "code",
   "execution_count": 60,
   "id": "295b18ca",
   "metadata": {},
   "outputs": [],
   "source": [
    "data[\"S&P_close_filled\"] = SP_close"
   ]
  },
  {
   "cell_type": "code",
   "execution_count": 61,
   "id": "8d0c25a0",
   "metadata": {},
   "outputs": [],
   "source": [
    "data = data.drop([\"S&P_close\"], axis = 1)"
   ]
  },
  {
   "cell_type": "code",
   "execution_count": 62,
   "id": "96f93357",
   "metadata": {},
   "outputs": [
    {
     "data": {
      "text/html": [
       "<div>\n",
       "<style scoped>\n",
       "    .dataframe tbody tr th:only-of-type {\n",
       "        vertical-align: middle;\n",
       "    }\n",
       "\n",
       "    .dataframe tbody tr th {\n",
       "        vertical-align: top;\n",
       "    }\n",
       "\n",
       "    .dataframe thead th {\n",
       "        text-align: right;\n",
       "    }\n",
       "</style>\n",
       "<table border=\"1\" class=\"dataframe\">\n",
       "  <thead>\n",
       "    <tr style=\"text-align: right;\">\n",
       "      <th></th>\n",
       "      <th>timestamp</th>\n",
       "      <th>open</th>\n",
       "      <th>high</th>\n",
       "      <th>low</th>\n",
       "      <th>close</th>\n",
       "      <th>volume</th>\n",
       "      <th>volume_CMF</th>\n",
       "      <th>volume_FII</th>\n",
       "      <th>volume_MFI</th>\n",
       "      <th>volume_VWA</th>\n",
       "      <th>...</th>\n",
       "      <th>MACD_line</th>\n",
       "      <th>MACD_signal</th>\n",
       "      <th>MAI</th>\n",
       "      <th>PSAR_binary</th>\n",
       "      <th>STC</th>\n",
       "      <th>TRIX</th>\n",
       "      <th>vortex_ind_diff</th>\n",
       "      <th>vortex_neg</th>\n",
       "      <th>vortex_pos</th>\n",
       "      <th>S&amp;P_close_filled</th>\n",
       "    </tr>\n",
       "  </thead>\n",
       "  <tbody>\n",
       "    <tr>\n",
       "      <th>0</th>\n",
       "      <td>2019-09-08 03:00:00</td>\n",
       "      <td>10000.00</td>\n",
       "      <td>10412.65</td>\n",
       "      <td>10000.00</td>\n",
       "      <td>10391.63</td>\n",
       "      <td>3096.291</td>\n",
       "      <td>NaN</td>\n",
       "      <td>NaN</td>\n",
       "      <td>NaN</td>\n",
       "      <td>NaN</td>\n",
       "      <td>...</td>\n",
       "      <td>NaN</td>\n",
       "      <td>NaN</td>\n",
       "      <td>NaN</td>\n",
       "      <td>0</td>\n",
       "      <td>NaN</td>\n",
       "      <td>NaN</td>\n",
       "      <td>NaN</td>\n",
       "      <td>NaN</td>\n",
       "      <td>NaN</td>\n",
       "      <td>2978.43</td>\n",
       "    </tr>\n",
       "    <tr>\n",
       "      <th>1</th>\n",
       "      <td>2019-09-09 03:00:00</td>\n",
       "      <td>10316.62</td>\n",
       "      <td>10475.54</td>\n",
       "      <td>10077.22</td>\n",
       "      <td>10307.00</td>\n",
       "      <td>14824.373</td>\n",
       "      <td>NaN</td>\n",
       "      <td>NaN</td>\n",
       "      <td>NaN</td>\n",
       "      <td>NaN</td>\n",
       "      <td>...</td>\n",
       "      <td>NaN</td>\n",
       "      <td>NaN</td>\n",
       "      <td>NaN</td>\n",
       "      <td>0</td>\n",
       "      <td>NaN</td>\n",
       "      <td>NaN</td>\n",
       "      <td>NaN</td>\n",
       "      <td>NaN</td>\n",
       "      <td>NaN</td>\n",
       "      <td>2978.43</td>\n",
       "    </tr>\n",
       "    <tr>\n",
       "      <th>2</th>\n",
       "      <td>2019-09-10 03:00:00</td>\n",
       "      <td>10307.00</td>\n",
       "      <td>10382.97</td>\n",
       "      <td>9940.87</td>\n",
       "      <td>10102.02</td>\n",
       "      <td>9068.955</td>\n",
       "      <td>NaN</td>\n",
       "      <td>NaN</td>\n",
       "      <td>NaN</td>\n",
       "      <td>NaN</td>\n",
       "      <td>...</td>\n",
       "      <td>NaN</td>\n",
       "      <td>NaN</td>\n",
       "      <td>NaN</td>\n",
       "      <td>0</td>\n",
       "      <td>NaN</td>\n",
       "      <td>NaN</td>\n",
       "      <td>NaN</td>\n",
       "      <td>NaN</td>\n",
       "      <td>NaN</td>\n",
       "      <td>2979.39</td>\n",
       "    </tr>\n",
       "    <tr>\n",
       "      <th>3</th>\n",
       "      <td>2019-09-11 03:00:00</td>\n",
       "      <td>10094.27</td>\n",
       "      <td>10293.11</td>\n",
       "      <td>9884.31</td>\n",
       "      <td>10159.55</td>\n",
       "      <td>10897.922</td>\n",
       "      <td>NaN</td>\n",
       "      <td>NaN</td>\n",
       "      <td>NaN</td>\n",
       "      <td>NaN</td>\n",
       "      <td>...</td>\n",
       "      <td>NaN</td>\n",
       "      <td>NaN</td>\n",
       "      <td>NaN</td>\n",
       "      <td>0</td>\n",
       "      <td>NaN</td>\n",
       "      <td>NaN</td>\n",
       "      <td>NaN</td>\n",
       "      <td>NaN</td>\n",
       "      <td>NaN</td>\n",
       "      <td>3000.93</td>\n",
       "    </tr>\n",
       "    <tr>\n",
       "      <th>4</th>\n",
       "      <td>2019-09-12 03:00:00</td>\n",
       "      <td>10163.06</td>\n",
       "      <td>10450.13</td>\n",
       "      <td>10042.12</td>\n",
       "      <td>10415.13</td>\n",
       "      <td>15609.634</td>\n",
       "      <td>NaN</td>\n",
       "      <td>NaN</td>\n",
       "      <td>NaN</td>\n",
       "      <td>NaN</td>\n",
       "      <td>...</td>\n",
       "      <td>NaN</td>\n",
       "      <td>NaN</td>\n",
       "      <td>NaN</td>\n",
       "      <td>0</td>\n",
       "      <td>NaN</td>\n",
       "      <td>NaN</td>\n",
       "      <td>NaN</td>\n",
       "      <td>NaN</td>\n",
       "      <td>NaN</td>\n",
       "      <td>3009.57</td>\n",
       "    </tr>\n",
       "  </tbody>\n",
       "</table>\n",
       "<p>5 rows × 53 columns</p>\n",
       "</div>"
      ],
      "text/plain": [
       "            timestamp      open      high       low     close     volume  \\\n",
       "0 2019-09-08 03:00:00  10000.00  10412.65  10000.00  10391.63   3096.291   \n",
       "1 2019-09-09 03:00:00  10316.62  10475.54  10077.22  10307.00  14824.373   \n",
       "2 2019-09-10 03:00:00  10307.00  10382.97   9940.87  10102.02   9068.955   \n",
       "3 2019-09-11 03:00:00  10094.27  10293.11   9884.31  10159.55  10897.922   \n",
       "4 2019-09-12 03:00:00  10163.06  10450.13  10042.12  10415.13  15609.634   \n",
       "\n",
       "   volume_CMF  volume_FII  volume_MFI  volume_VWA  ...  MACD_line  \\\n",
       "0         NaN         NaN         NaN         NaN  ...        NaN   \n",
       "1         NaN         NaN         NaN         NaN  ...        NaN   \n",
       "2         NaN         NaN         NaN         NaN  ...        NaN   \n",
       "3         NaN         NaN         NaN         NaN  ...        NaN   \n",
       "4         NaN         NaN         NaN         NaN  ...        NaN   \n",
       "\n",
       "   MACD_signal  MAI  PSAR_binary  STC  TRIX  vortex_ind_diff  vortex_neg  \\\n",
       "0          NaN  NaN            0  NaN   NaN              NaN         NaN   \n",
       "1          NaN  NaN            0  NaN   NaN              NaN         NaN   \n",
       "2          NaN  NaN            0  NaN   NaN              NaN         NaN   \n",
       "3          NaN  NaN            0  NaN   NaN              NaN         NaN   \n",
       "4          NaN  NaN            0  NaN   NaN              NaN         NaN   \n",
       "\n",
       "   vortex_pos  S&P_close_filled  \n",
       "0         NaN           2978.43  \n",
       "1         NaN           2978.43  \n",
       "2         NaN           2979.39  \n",
       "3         NaN           3000.93  \n",
       "4         NaN           3009.57  \n",
       "\n",
       "[5 rows x 53 columns]"
      ]
     },
     "execution_count": 62,
     "metadata": {},
     "output_type": "execute_result"
    }
   ],
   "source": [
    "data.head()"
   ]
  },
  {
   "cell_type": "code",
   "execution_count": 63,
   "id": "ef137878",
   "metadata": {},
   "outputs": [],
   "source": [
    "# msno.matrix(data[:300], figsize=(50, 10))"
   ]
  },
  {
   "cell_type": "code",
   "execution_count": 64,
   "id": "fb3ff24b",
   "metadata": {},
   "outputs": [
    {
     "name": "stdout",
     "output_type": "stream",
     "text": [
      "Shape: (1365, 53)\n",
      "Duplicates: 0\n",
      "Duplicate timestamps 0\n",
      "Total amount of NaN: 830\n"
     ]
    }
   ],
   "source": [
    "data_check(data)"
   ]
  },
  {
   "attachments": {},
   "cell_type": "markdown",
   "id": "ceb313da",
   "metadata": {},
   "source": [
    "### Merging Interest rate (US) to Bitcoin"
   ]
  },
  {
   "attachments": {},
   "cell_type": "markdown",
   "id": "ac07da5a",
   "metadata": {},
   "source": [
    "Interest rate dataset"
   ]
  },
  {
   "cell_type": "code",
   "execution_count": 65,
   "id": "ac45fa1d",
   "metadata": {},
   "outputs": [
    {
     "data": {
      "text/html": [
       "<div>\n",
       "<style scoped>\n",
       "    .dataframe tbody tr th:only-of-type {\n",
       "        vertical-align: middle;\n",
       "    }\n",
       "\n",
       "    .dataframe tbody tr th {\n",
       "        vertical-align: top;\n",
       "    }\n",
       "\n",
       "    .dataframe thead th {\n",
       "        text-align: right;\n",
       "    }\n",
       "</style>\n",
       "<table border=\"1\" class=\"dataframe\">\n",
       "  <thead>\n",
       "    <tr style=\"text-align: right;\">\n",
       "      <th></th>\n",
       "      <th>DateTime</th>\n",
       "      <th>Interest_Rate</th>\n",
       "    </tr>\n",
       "  </thead>\n",
       "  <tbody>\n",
       "    <tr>\n",
       "      <th>0</th>\n",
       "      <td>1971-08-04</td>\n",
       "      <td>5.50</td>\n",
       "    </tr>\n",
       "    <tr>\n",
       "      <th>1</th>\n",
       "      <td>1971-08-16</td>\n",
       "      <td>5.75</td>\n",
       "    </tr>\n",
       "    <tr>\n",
       "      <th>2</th>\n",
       "      <td>1971-09-01</td>\n",
       "      <td>5.13</td>\n",
       "    </tr>\n",
       "    <tr>\n",
       "      <th>3</th>\n",
       "      <td>1971-10-01</td>\n",
       "      <td>5.13</td>\n",
       "    </tr>\n",
       "    <tr>\n",
       "      <th>4</th>\n",
       "      <td>1971-11-01</td>\n",
       "      <td>5.13</td>\n",
       "    </tr>\n",
       "    <tr>\n",
       "      <th>...</th>\n",
       "      <td>...</td>\n",
       "      <td>...</td>\n",
       "    </tr>\n",
       "    <tr>\n",
       "      <th>826</th>\n",
       "      <td>2023-01-31</td>\n",
       "      <td>4.50</td>\n",
       "    </tr>\n",
       "    <tr>\n",
       "      <th>827</th>\n",
       "      <td>2023-02-01</td>\n",
       "      <td>4.75</td>\n",
       "    </tr>\n",
       "    <tr>\n",
       "      <th>828</th>\n",
       "      <td>2023-03-22</td>\n",
       "      <td>5.00</td>\n",
       "    </tr>\n",
       "    <tr>\n",
       "      <th>829</th>\n",
       "      <td>2023-04-30</td>\n",
       "      <td>5.00</td>\n",
       "    </tr>\n",
       "    <tr>\n",
       "      <th>830</th>\n",
       "      <td>2023-05-03</td>\n",
       "      <td>5.25</td>\n",
       "    </tr>\n",
       "  </tbody>\n",
       "</table>\n",
       "<p>831 rows × 2 columns</p>\n",
       "</div>"
      ],
      "text/plain": [
       "      DateTime  Interest_Rate\n",
       "0   1971-08-04           5.50\n",
       "1   1971-08-16           5.75\n",
       "2   1971-09-01           5.13\n",
       "3   1971-10-01           5.13\n",
       "4   1971-11-01           5.13\n",
       "..         ...            ...\n",
       "826 2023-01-31           4.50\n",
       "827 2023-02-01           4.75\n",
       "828 2023-03-22           5.00\n",
       "829 2023-04-30           5.00\n",
       "830 2023-05-03           5.25\n",
       "\n",
       "[831 rows x 2 columns]"
      ]
     },
     "execution_count": 65,
     "metadata": {},
     "output_type": "execute_result"
    }
   ],
   "source": [
    "data_int_us = pd.read_csv(\"../raw_data/historical_country_United_States_indicator_Interest_Rate.csv\")\n",
    "\n",
    "data_int_us.drop(columns=[\"Category\", \"Country\", \"Frequency\", \"HistoricalDataSymbol\", \"LastUpdate\"], inplace=True)\n",
    "data_int_us = data_int_us.rename(columns={'Value': 'Interest_Rate'})\n",
    "data_int_us['DateTime'] = pd.to_datetime(data_int_us['DateTime'])\n",
    "\n",
    "data_int_us"
   ]
  },
  {
   "cell_type": "code",
   "execution_count": 66,
   "id": "4a3a8f0e",
   "metadata": {},
   "outputs": [],
   "source": [
    "data_int_us['datetime_M'] = data_int_us['DateTime'].dt.to_period('d').dt.strftime('%Y-%m-%d')"
   ]
  },
  {
   "attachments": {},
   "cell_type": "markdown",
   "id": "dc7dc722",
   "metadata": {},
   "source": [
    "Big dataset"
   ]
  },
  {
   "cell_type": "code",
   "execution_count": 67,
   "id": "71dd3bdc",
   "metadata": {},
   "outputs": [
    {
     "name": "stdout",
     "output_type": "stream",
     "text": [
      "<class 'pandas.core.frame.DataFrame'>\n",
      "Int64Index: 1365 entries, 0 to 1364\n",
      "Data columns (total 53 columns):\n",
      " #   Column                      Non-Null Count  Dtype         \n",
      "---  ------                      --------------  -----         \n",
      " 0   timestamp                   1365 non-null   datetime64[ns]\n",
      " 1   open                        1365 non-null   float64       \n",
      " 2   high                        1365 non-null   float64       \n",
      " 3   low                         1365 non-null   float64       \n",
      " 4   close                       1365 non-null   float64       \n",
      " 5   volume                      1365 non-null   float64       \n",
      " 6   volume_CMF                  1346 non-null   float64       \n",
      " 7   volume_FII                  1352 non-null   float64       \n",
      " 8   volume_MFI                  1352 non-null   float64       \n",
      " 9   volume_VWA                  1352 non-null   float64       \n",
      " 10  mom_AOI                     1332 non-null   float64       \n",
      " 11  mom_PPO                     1340 non-null   float64       \n",
      " 12  mom_PPO_signal              1332 non-null   float64       \n",
      " 13  mom_PVO                     1340 non-null   float64       \n",
      " 14  mom_PVO_signal              1332 non-null   float64       \n",
      " 15  mom_ROC                     1353 non-null   float64       \n",
      " 16  mom_rsi                     1352 non-null   float64       \n",
      " 17  mom_stoch_RSI               1339 non-null   float64       \n",
      " 18  mom_StochOscillator         1352 non-null   float64       \n",
      " 19  mom_StochOscillator_signal  1350 non-null   float64       \n",
      " 20  mom_TSI                     1328 non-null   float64       \n",
      " 21  mom_UltimateOscillator      1337 non-null   float64       \n",
      " 22  mom_WilliamsRIndicator      1352 non-null   float64       \n",
      " 23  volat_ATR                   1365 non-null   float64       \n",
      " 24  volat_bol_hband_binary      1365 non-null   float64       \n",
      " 25  volat_bol_lband_binary      1365 non-null   float64       \n",
      " 26  volat_bol_band_width        1346 non-null   float64       \n",
      " 27  KCW                         1346 non-null   float64       \n",
      " 28  KCP                         1365 non-null   float64       \n",
      " 29  donch_DCW                   1356 non-null   float64       \n",
      " 30  ULI                         1352 non-null   float64       \n",
      " 31  ADX                         1365 non-null   float64       \n",
      " 32  ADX_neg                     1365 non-null   float64       \n",
      " 33  ADX_pos                     1365 non-null   float64       \n",
      " 34  ARI_down                    1341 non-null   float64       \n",
      " 35  ARI                         1341 non-null   float64       \n",
      " 36  ARI_up                      1341 non-null   float64       \n",
      " 37  CCI                         1346 non-null   float64       \n",
      " 38  DPO                         1346 non-null   float64       \n",
      " 39  EMA_100_binary              1365 non-null   int64         \n",
      " 40  KST                         1351 non-null   float64       \n",
      " 41  KST_diff                    1351 non-null   float64       \n",
      " 42  KST_sig                     1351 non-null   float64       \n",
      " 43  MACD_line                   1340 non-null   float64       \n",
      " 44  MACD_signal                 1332 non-null   float64       \n",
      " 45  MAI                         1325 non-null   float64       \n",
      " 46  PSAR_binary                 1365 non-null   int64         \n",
      " 47  STC                         1294 non-null   float64       \n",
      " 48  TRIX                        1322 non-null   float64       \n",
      " 49  vortex_ind_diff             1351 non-null   float64       \n",
      " 50  vortex_neg                  1351 non-null   float64       \n",
      " 51  vortex_pos                  1351 non-null   float64       \n",
      " 52  S&P_close_filled            1365 non-null   float64       \n",
      "dtypes: datetime64[ns](1), float64(50), int64(2)\n",
      "memory usage: 575.9 KB\n"
     ]
    }
   ],
   "source": [
    "data.info()"
   ]
  },
  {
   "cell_type": "code",
   "execution_count": 68,
   "id": "a5dac4eb",
   "metadata": {},
   "outputs": [],
   "source": [
    "data['datetime_d'] = data['timestamp'].dt.to_period('d').dt.strftime('%Y-%m-%d')"
   ]
  },
  {
   "attachments": {},
   "cell_type": "markdown",
   "id": "96a423e9",
   "metadata": {},
   "source": [
    "Merging"
   ]
  },
  {
   "cell_type": "code",
   "execution_count": 69,
   "id": "ac044f9d",
   "metadata": {},
   "outputs": [],
   "source": [
    "data['datetime_d'] = pd.to_datetime(data['datetime_d'])"
   ]
  },
  {
   "cell_type": "code",
   "execution_count": 70,
   "id": "90ce9198",
   "metadata": {},
   "outputs": [],
   "source": [
    "data_int_us = data_int_us[data_int_us['DateTime'] > '2019-08-08']"
   ]
  },
  {
   "cell_type": "code",
   "execution_count": 71,
   "id": "1f118bbb",
   "metadata": {},
   "outputs": [],
   "source": [
    "data = data.merge(data_int_us, how='left', left_on='datetime_d', right_on='DateTime')"
   ]
  },
  {
   "cell_type": "code",
   "execution_count": 72,
   "id": "87315d4f",
   "metadata": {},
   "outputs": [],
   "source": [
    "import math"
   ]
  },
  {
   "cell_type": "code",
   "execution_count": 73,
   "id": "140897bd",
   "metadata": {},
   "outputs": [
    {
     "data": {
      "text/html": [
       "<div>\n",
       "<style scoped>\n",
       "    .dataframe tbody tr th:only-of-type {\n",
       "        vertical-align: middle;\n",
       "    }\n",
       "\n",
       "    .dataframe tbody tr th {\n",
       "        vertical-align: top;\n",
       "    }\n",
       "\n",
       "    .dataframe thead th {\n",
       "        text-align: right;\n",
       "    }\n",
       "</style>\n",
       "<table border=\"1\" class=\"dataframe\">\n",
       "  <thead>\n",
       "    <tr style=\"text-align: right;\">\n",
       "      <th></th>\n",
       "      <th>timestamp</th>\n",
       "      <th>open</th>\n",
       "      <th>high</th>\n",
       "      <th>low</th>\n",
       "      <th>close</th>\n",
       "      <th>volume</th>\n",
       "      <th>volume_CMF</th>\n",
       "      <th>volume_FII</th>\n",
       "      <th>volume_MFI</th>\n",
       "      <th>volume_VWA</th>\n",
       "      <th>...</th>\n",
       "      <th>STC</th>\n",
       "      <th>TRIX</th>\n",
       "      <th>vortex_ind_diff</th>\n",
       "      <th>vortex_neg</th>\n",
       "      <th>vortex_pos</th>\n",
       "      <th>S&amp;P_close_filled</th>\n",
       "      <th>datetime_d</th>\n",
       "      <th>DateTime</th>\n",
       "      <th>Interest_Rate</th>\n",
       "      <th>datetime_M</th>\n",
       "    </tr>\n",
       "  </thead>\n",
       "  <tbody>\n",
       "    <tr>\n",
       "      <th>0</th>\n",
       "      <td>2019-09-08 03:00:00</td>\n",
       "      <td>10000.0</td>\n",
       "      <td>10412.65</td>\n",
       "      <td>10000.0</td>\n",
       "      <td>10391.63</td>\n",
       "      <td>3096.291</td>\n",
       "      <td>NaN</td>\n",
       "      <td>NaN</td>\n",
       "      <td>NaN</td>\n",
       "      <td>NaN</td>\n",
       "      <td>...</td>\n",
       "      <td>NaN</td>\n",
       "      <td>NaN</td>\n",
       "      <td>NaN</td>\n",
       "      <td>NaN</td>\n",
       "      <td>NaN</td>\n",
       "      <td>2978.43</td>\n",
       "      <td>2019-09-08</td>\n",
       "      <td>NaT</td>\n",
       "      <td>NaN</td>\n",
       "      <td>NaN</td>\n",
       "    </tr>\n",
       "  </tbody>\n",
       "</table>\n",
       "<p>1 rows × 57 columns</p>\n",
       "</div>"
      ],
      "text/plain": [
       "            timestamp     open      high      low     close    volume  \\\n",
       "0 2019-09-08 03:00:00  10000.0  10412.65  10000.0  10391.63  3096.291   \n",
       "\n",
       "   volume_CMF  volume_FII  volume_MFI  volume_VWA  ...  STC  TRIX  \\\n",
       "0         NaN         NaN         NaN         NaN  ...  NaN   NaN   \n",
       "\n",
       "   vortex_ind_diff  vortex_neg  vortex_pos  S&P_close_filled  datetime_d  \\\n",
       "0              NaN         NaN         NaN           2978.43  2019-09-08   \n",
       "\n",
       "   DateTime  Interest_Rate  datetime_M  \n",
       "0       NaT            NaN         NaN  \n",
       "\n",
       "[1 rows x 57 columns]"
      ]
     },
     "execution_count": 73,
     "metadata": {},
     "output_type": "execute_result"
    }
   ],
   "source": [
    "data.head(1)"
   ]
  },
  {
   "cell_type": "code",
   "execution_count": 74,
   "id": "38ead521",
   "metadata": {},
   "outputs": [],
   "source": [
    "int_list = data['Interest_Rate'].tolist()\n",
    "\n",
    "\n",
    "for i in range(len(int_list)):\n",
    "    \n",
    "    if i > 0 and math.isnan(int_list[i]):\n",
    "        \n",
    "        int_list[i] = int_list[i-1]\n",
    "        \n",
    "for i in range(len(int_list)):\n",
    "    \n",
    "    if math.isnan(int_list[i]):\n",
    "        \n",
    "        int_list[i] = 2.25"
   ]
  },
  {
   "cell_type": "code",
   "execution_count": 75,
   "id": "92c89e19",
   "metadata": {},
   "outputs": [],
   "source": [
    "data['Interest_Rates_filled'] = int_list"
   ]
  },
  {
   "cell_type": "code",
   "execution_count": 76,
   "id": "f1d7b69a",
   "metadata": {},
   "outputs": [],
   "source": [
    "data = data.drop([\"datetime_d\", \"DateTime\", \"Interest_Rate\"], axis = 1)"
   ]
  },
  {
   "cell_type": "code",
   "execution_count": 77,
   "id": "b31c69d2",
   "metadata": {},
   "outputs": [
    {
     "name": "stdout",
     "output_type": "stream",
     "text": [
      "Shape: (1365, 55)\n",
      "Duplicates: 0\n",
      "Duplicate timestamps 0\n",
      "Total amount of NaN: 2149\n"
     ]
    }
   ],
   "source": [
    "data_check(data)"
   ]
  },
  {
   "cell_type": "code",
   "execution_count": 78,
   "id": "8e743d41",
   "metadata": {},
   "outputs": [
    {
     "data": {
      "text/html": [
       "<div>\n",
       "<style scoped>\n",
       "    .dataframe tbody tr th:only-of-type {\n",
       "        vertical-align: middle;\n",
       "    }\n",
       "\n",
       "    .dataframe tbody tr th {\n",
       "        vertical-align: top;\n",
       "    }\n",
       "\n",
       "    .dataframe thead th {\n",
       "        text-align: right;\n",
       "    }\n",
       "</style>\n",
       "<table border=\"1\" class=\"dataframe\">\n",
       "  <thead>\n",
       "    <tr style=\"text-align: right;\">\n",
       "      <th></th>\n",
       "      <th>timestamp</th>\n",
       "      <th>open</th>\n",
       "      <th>high</th>\n",
       "      <th>low</th>\n",
       "      <th>close</th>\n",
       "      <th>volume</th>\n",
       "      <th>volume_CMF</th>\n",
       "      <th>volume_FII</th>\n",
       "      <th>volume_MFI</th>\n",
       "      <th>volume_VWA</th>\n",
       "      <th>...</th>\n",
       "      <th>MAI</th>\n",
       "      <th>PSAR_binary</th>\n",
       "      <th>STC</th>\n",
       "      <th>TRIX</th>\n",
       "      <th>vortex_ind_diff</th>\n",
       "      <th>vortex_neg</th>\n",
       "      <th>vortex_pos</th>\n",
       "      <th>S&amp;P_close_filled</th>\n",
       "      <th>datetime_M</th>\n",
       "      <th>Interest_Rates_filled</th>\n",
       "    </tr>\n",
       "  </thead>\n",
       "  <tbody>\n",
       "    <tr>\n",
       "      <th>0</th>\n",
       "      <td>2019-09-08 03:00:00</td>\n",
       "      <td>10000.00</td>\n",
       "      <td>10412.65</td>\n",
       "      <td>10000.00</td>\n",
       "      <td>10391.63</td>\n",
       "      <td>3096.291</td>\n",
       "      <td>NaN</td>\n",
       "      <td>NaN</td>\n",
       "      <td>NaN</td>\n",
       "      <td>NaN</td>\n",
       "      <td>...</td>\n",
       "      <td>NaN</td>\n",
       "      <td>0</td>\n",
       "      <td>NaN</td>\n",
       "      <td>NaN</td>\n",
       "      <td>NaN</td>\n",
       "      <td>NaN</td>\n",
       "      <td>NaN</td>\n",
       "      <td>2978.43</td>\n",
       "      <td>NaN</td>\n",
       "      <td>2.25</td>\n",
       "    </tr>\n",
       "    <tr>\n",
       "      <th>1</th>\n",
       "      <td>2019-09-09 03:00:00</td>\n",
       "      <td>10316.62</td>\n",
       "      <td>10475.54</td>\n",
       "      <td>10077.22</td>\n",
       "      <td>10307.00</td>\n",
       "      <td>14824.373</td>\n",
       "      <td>NaN</td>\n",
       "      <td>NaN</td>\n",
       "      <td>NaN</td>\n",
       "      <td>NaN</td>\n",
       "      <td>...</td>\n",
       "      <td>NaN</td>\n",
       "      <td>0</td>\n",
       "      <td>NaN</td>\n",
       "      <td>NaN</td>\n",
       "      <td>NaN</td>\n",
       "      <td>NaN</td>\n",
       "      <td>NaN</td>\n",
       "      <td>2978.43</td>\n",
       "      <td>NaN</td>\n",
       "      <td>2.25</td>\n",
       "    </tr>\n",
       "    <tr>\n",
       "      <th>2</th>\n",
       "      <td>2019-09-10 03:00:00</td>\n",
       "      <td>10307.00</td>\n",
       "      <td>10382.97</td>\n",
       "      <td>9940.87</td>\n",
       "      <td>10102.02</td>\n",
       "      <td>9068.955</td>\n",
       "      <td>NaN</td>\n",
       "      <td>NaN</td>\n",
       "      <td>NaN</td>\n",
       "      <td>NaN</td>\n",
       "      <td>...</td>\n",
       "      <td>NaN</td>\n",
       "      <td>0</td>\n",
       "      <td>NaN</td>\n",
       "      <td>NaN</td>\n",
       "      <td>NaN</td>\n",
       "      <td>NaN</td>\n",
       "      <td>NaN</td>\n",
       "      <td>2979.39</td>\n",
       "      <td>NaN</td>\n",
       "      <td>2.25</td>\n",
       "    </tr>\n",
       "    <tr>\n",
       "      <th>3</th>\n",
       "      <td>2019-09-11 03:00:00</td>\n",
       "      <td>10094.27</td>\n",
       "      <td>10293.11</td>\n",
       "      <td>9884.31</td>\n",
       "      <td>10159.55</td>\n",
       "      <td>10897.922</td>\n",
       "      <td>NaN</td>\n",
       "      <td>NaN</td>\n",
       "      <td>NaN</td>\n",
       "      <td>NaN</td>\n",
       "      <td>...</td>\n",
       "      <td>NaN</td>\n",
       "      <td>0</td>\n",
       "      <td>NaN</td>\n",
       "      <td>NaN</td>\n",
       "      <td>NaN</td>\n",
       "      <td>NaN</td>\n",
       "      <td>NaN</td>\n",
       "      <td>3000.93</td>\n",
       "      <td>NaN</td>\n",
       "      <td>2.25</td>\n",
       "    </tr>\n",
       "    <tr>\n",
       "      <th>4</th>\n",
       "      <td>2019-09-12 03:00:00</td>\n",
       "      <td>10163.06</td>\n",
       "      <td>10450.13</td>\n",
       "      <td>10042.12</td>\n",
       "      <td>10415.13</td>\n",
       "      <td>15609.634</td>\n",
       "      <td>NaN</td>\n",
       "      <td>NaN</td>\n",
       "      <td>NaN</td>\n",
       "      <td>NaN</td>\n",
       "      <td>...</td>\n",
       "      <td>NaN</td>\n",
       "      <td>0</td>\n",
       "      <td>NaN</td>\n",
       "      <td>NaN</td>\n",
       "      <td>NaN</td>\n",
       "      <td>NaN</td>\n",
       "      <td>NaN</td>\n",
       "      <td>3009.57</td>\n",
       "      <td>NaN</td>\n",
       "      <td>2.25</td>\n",
       "    </tr>\n",
       "    <tr>\n",
       "      <th>...</th>\n",
       "      <td>...</td>\n",
       "      <td>...</td>\n",
       "      <td>...</td>\n",
       "      <td>...</td>\n",
       "      <td>...</td>\n",
       "      <td>...</td>\n",
       "      <td>...</td>\n",
       "      <td>...</td>\n",
       "      <td>...</td>\n",
       "      <td>...</td>\n",
       "      <td>...</td>\n",
       "      <td>...</td>\n",
       "      <td>...</td>\n",
       "      <td>...</td>\n",
       "      <td>...</td>\n",
       "      <td>...</td>\n",
       "      <td>...</td>\n",
       "      <td>...</td>\n",
       "      <td>...</td>\n",
       "      <td>...</td>\n",
       "      <td>...</td>\n",
       "    </tr>\n",
       "    <tr>\n",
       "      <th>1360</th>\n",
       "      <td>2023-05-30 03:00:00</td>\n",
       "      <td>27722.10</td>\n",
       "      <td>28038.60</td>\n",
       "      <td>27530.00</td>\n",
       "      <td>27680.10</td>\n",
       "      <td>334379.313</td>\n",
       "      <td>0.035793</td>\n",
       "      <td>1.970887e+07</td>\n",
       "      <td>53.201891</td>\n",
       "      <td>27036.666041</td>\n",
       "      <td>...</td>\n",
       "      <td>23.599941</td>\n",
       "      <td>1</td>\n",
       "      <td>87.500008</td>\n",
       "      <td>-0.180711</td>\n",
       "      <td>0.133550</td>\n",
       "      <td>0.930654</td>\n",
       "      <td>1.064204</td>\n",
       "      <td>4205.52</td>\n",
       "      <td>NaN</td>\n",
       "      <td>5.25</td>\n",
       "    </tr>\n",
       "    <tr>\n",
       "      <th>1361</th>\n",
       "      <td>2023-05-31 03:00:00</td>\n",
       "      <td>27680.00</td>\n",
       "      <td>27825.00</td>\n",
       "      <td>26826.00</td>\n",
       "      <td>27201.10</td>\n",
       "      <td>471381.890</td>\n",
       "      <td>0.051585</td>\n",
       "      <td>-1.536268e+07</td>\n",
       "      <td>43.574365</td>\n",
       "      <td>27049.705093</td>\n",
       "      <td>...</td>\n",
       "      <td>23.609551</td>\n",
       "      <td>1</td>\n",
       "      <td>93.750004</td>\n",
       "      <td>-0.163558</td>\n",
       "      <td>0.057212</td>\n",
       "      <td>0.970178</td>\n",
       "      <td>1.027390</td>\n",
       "      <td>4179.83</td>\n",
       "      <td>NaN</td>\n",
       "      <td>5.25</td>\n",
       "    </tr>\n",
       "    <tr>\n",
       "      <th>1362</th>\n",
       "      <td>2023-06-01 03:00:00</td>\n",
       "      <td>27201.10</td>\n",
       "      <td>27347.90</td>\n",
       "      <td>26600.00</td>\n",
       "      <td>26805.30</td>\n",
       "      <td>404787.572</td>\n",
       "      <td>-0.018570</td>\n",
       "      <td>-3.605585e+07</td>\n",
       "      <td>44.812701</td>\n",
       "      <td>27058.187222</td>\n",
       "      <td>...</td>\n",
       "      <td>23.656227</td>\n",
       "      <td>1</td>\n",
       "      <td>96.875002</td>\n",
       "      <td>-0.150931</td>\n",
       "      <td>0.012373</td>\n",
       "      <td>1.012840</td>\n",
       "      <td>1.025213</td>\n",
       "      <td>4221.02</td>\n",
       "      <td>NaN</td>\n",
       "      <td>5.25</td>\n",
       "    </tr>\n",
       "    <tr>\n",
       "      <th>1363</th>\n",
       "      <td>2023-06-02 03:00:00</td>\n",
       "      <td>26805.30</td>\n",
       "      <td>27290.00</td>\n",
       "      <td>26477.60</td>\n",
       "      <td>27227.80</td>\n",
       "      <td>391110.093</td>\n",
       "      <td>0.044282</td>\n",
       "      <td>-7.298730e+06</td>\n",
       "      <td>45.573710</td>\n",
       "      <td>27064.677674</td>\n",
       "      <td>...</td>\n",
       "      <td>23.651200</td>\n",
       "      <td>1</td>\n",
       "      <td>98.437501</td>\n",
       "      <td>-0.138612</td>\n",
       "      <td>-0.002197</td>\n",
       "      <td>0.989760</td>\n",
       "      <td>0.987563</td>\n",
       "      <td>4282.37</td>\n",
       "      <td>NaN</td>\n",
       "      <td>5.25</td>\n",
       "    </tr>\n",
       "    <tr>\n",
       "      <th>1364</th>\n",
       "      <td>2023-06-03 03:00:00</td>\n",
       "      <td>27227.80</td>\n",
       "      <td>27340.20</td>\n",
       "      <td>26900.00</td>\n",
       "      <td>27054.90</td>\n",
       "      <td>182464.100</td>\n",
       "      <td>0.034817</td>\n",
       "      <td>-1.076292e+07</td>\n",
       "      <td>46.069168</td>\n",
       "      <td>27067.256836</td>\n",
       "      <td>...</td>\n",
       "      <td>23.664663</td>\n",
       "      <td>1</td>\n",
       "      <td>99.218751</td>\n",
       "      <td>-0.127978</td>\n",
       "      <td>0.026015</td>\n",
       "      <td>0.981956</td>\n",
       "      <td>1.007971</td>\n",
       "      <td>4282.37</td>\n",
       "      <td>NaN</td>\n",
       "      <td>5.25</td>\n",
       "    </tr>\n",
       "  </tbody>\n",
       "</table>\n",
       "<p>1365 rows × 55 columns</p>\n",
       "</div>"
      ],
      "text/plain": [
       "               timestamp      open      high       low     close      volume  \\\n",
       "0    2019-09-08 03:00:00  10000.00  10412.65  10000.00  10391.63    3096.291   \n",
       "1    2019-09-09 03:00:00  10316.62  10475.54  10077.22  10307.00   14824.373   \n",
       "2    2019-09-10 03:00:00  10307.00  10382.97   9940.87  10102.02    9068.955   \n",
       "3    2019-09-11 03:00:00  10094.27  10293.11   9884.31  10159.55   10897.922   \n",
       "4    2019-09-12 03:00:00  10163.06  10450.13  10042.12  10415.13   15609.634   \n",
       "...                  ...       ...       ...       ...       ...         ...   \n",
       "1360 2023-05-30 03:00:00  27722.10  28038.60  27530.00  27680.10  334379.313   \n",
       "1361 2023-05-31 03:00:00  27680.00  27825.00  26826.00  27201.10  471381.890   \n",
       "1362 2023-06-01 03:00:00  27201.10  27347.90  26600.00  26805.30  404787.572   \n",
       "1363 2023-06-02 03:00:00  26805.30  27290.00  26477.60  27227.80  391110.093   \n",
       "1364 2023-06-03 03:00:00  27227.80  27340.20  26900.00  27054.90  182464.100   \n",
       "\n",
       "      volume_CMF    volume_FII  volume_MFI    volume_VWA  ...        MAI  \\\n",
       "0            NaN           NaN         NaN           NaN  ...        NaN   \n",
       "1            NaN           NaN         NaN           NaN  ...        NaN   \n",
       "2            NaN           NaN         NaN           NaN  ...        NaN   \n",
       "3            NaN           NaN         NaN           NaN  ...        NaN   \n",
       "4            NaN           NaN         NaN           NaN  ...        NaN   \n",
       "...          ...           ...         ...           ...  ...        ...   \n",
       "1360    0.035793  1.970887e+07   53.201891  27036.666041  ...  23.599941   \n",
       "1361    0.051585 -1.536268e+07   43.574365  27049.705093  ...  23.609551   \n",
       "1362   -0.018570 -3.605585e+07   44.812701  27058.187222  ...  23.656227   \n",
       "1363    0.044282 -7.298730e+06   45.573710  27064.677674  ...  23.651200   \n",
       "1364    0.034817 -1.076292e+07   46.069168  27067.256836  ...  23.664663   \n",
       "\n",
       "      PSAR_binary        STC      TRIX  vortex_ind_diff  vortex_neg  \\\n",
       "0               0        NaN       NaN              NaN         NaN   \n",
       "1               0        NaN       NaN              NaN         NaN   \n",
       "2               0        NaN       NaN              NaN         NaN   \n",
       "3               0        NaN       NaN              NaN         NaN   \n",
       "4               0        NaN       NaN              NaN         NaN   \n",
       "...           ...        ...       ...              ...         ...   \n",
       "1360            1  87.500008 -0.180711         0.133550    0.930654   \n",
       "1361            1  93.750004 -0.163558         0.057212    0.970178   \n",
       "1362            1  96.875002 -0.150931         0.012373    1.012840   \n",
       "1363            1  98.437501 -0.138612        -0.002197    0.989760   \n",
       "1364            1  99.218751 -0.127978         0.026015    0.981956   \n",
       "\n",
       "      vortex_pos  S&P_close_filled  datetime_M  Interest_Rates_filled  \n",
       "0            NaN           2978.43         NaN                   2.25  \n",
       "1            NaN           2978.43         NaN                   2.25  \n",
       "2            NaN           2979.39         NaN                   2.25  \n",
       "3            NaN           3000.93         NaN                   2.25  \n",
       "4            NaN           3009.57         NaN                   2.25  \n",
       "...          ...               ...         ...                    ...  \n",
       "1360    1.064204           4205.52         NaN                   5.25  \n",
       "1361    1.027390           4179.83         NaN                   5.25  \n",
       "1362    1.025213           4221.02         NaN                   5.25  \n",
       "1363    0.987563           4282.37         NaN                   5.25  \n",
       "1364    1.007971           4282.37         NaN                   5.25  \n",
       "\n",
       "[1365 rows x 55 columns]"
      ]
     },
     "execution_count": 78,
     "metadata": {},
     "output_type": "execute_result"
    }
   ],
   "source": [
    "data"
   ]
  },
  {
   "attachments": {},
   "cell_type": "markdown",
   "id": "d7d06b89",
   "metadata": {},
   "source": [
    "### Merging Inflation rate to Bitcoin"
   ]
  },
  {
   "attachments": {},
   "cell_type": "markdown",
   "id": "37853c97",
   "metadata": {},
   "source": [
    "Inflation rate dataset"
   ]
  },
  {
   "cell_type": "code",
   "execution_count": 79,
   "id": "2ef0a70c",
   "metadata": {},
   "outputs": [],
   "source": [
    "data_inf_us = pd.read_csv(\"../raw_data/historical_country_United_States_indicator_Inflation_Rate.csv\")"
   ]
  },
  {
   "cell_type": "code",
   "execution_count": 80,
   "id": "6bfe0fb8",
   "metadata": {},
   "outputs": [],
   "source": [
    "new_rows = [{'Value': 5.15, 'DateTime': '2023-05-30T00:00:00'}, {'Value': 5.08, 'DateTime': '2023-06-30T00:00:00'}]\n",
    "new_df = pd.DataFrame(new_rows)\n",
    "data_inf_us = pd.concat([data_inf_us, new_df], ignore_index=True)"
   ]
  },
  {
   "cell_type": "code",
   "execution_count": 81,
   "id": "1e49ecb1",
   "metadata": {},
   "outputs": [],
   "source": [
    "data_inf_us['DateTime'] = pd.to_datetime(data_inf_us['DateTime'])"
   ]
  },
  {
   "cell_type": "code",
   "execution_count": 82,
   "id": "75f3c65a",
   "metadata": {},
   "outputs": [
    {
     "data": {
      "text/html": [
       "<div>\n",
       "<style scoped>\n",
       "    .dataframe tbody tr th:only-of-type {\n",
       "        vertical-align: middle;\n",
       "    }\n",
       "\n",
       "    .dataframe tbody tr th {\n",
       "        vertical-align: top;\n",
       "    }\n",
       "\n",
       "    .dataframe thead th {\n",
       "        text-align: right;\n",
       "    }\n",
       "</style>\n",
       "<table border=\"1\" class=\"dataframe\">\n",
       "  <thead>\n",
       "    <tr style=\"text-align: right;\">\n",
       "      <th></th>\n",
       "      <th>Country</th>\n",
       "      <th>Category</th>\n",
       "      <th>DateTime</th>\n",
       "      <th>Value</th>\n",
       "      <th>Frequency</th>\n",
       "      <th>HistoricalDataSymbol</th>\n",
       "      <th>LastUpdate</th>\n",
       "    </tr>\n",
       "  </thead>\n",
       "  <tbody>\n",
       "    <tr>\n",
       "      <th>0</th>\n",
       "      <td>United States</td>\n",
       "      <td>Inflation Rate</td>\n",
       "      <td>1914-12-31</td>\n",
       "      <td>1.00</td>\n",
       "      <td>Monthly</td>\n",
       "      <td>CPI YOY</td>\n",
       "      <td>2015-02-26T15:56:00</td>\n",
       "    </tr>\n",
       "    <tr>\n",
       "      <th>1</th>\n",
       "      <td>United States</td>\n",
       "      <td>Inflation Rate</td>\n",
       "      <td>1915-01-31</td>\n",
       "      <td>1.00</td>\n",
       "      <td>Monthly</td>\n",
       "      <td>CPI YOY</td>\n",
       "      <td>2015-02-26T15:56:00</td>\n",
       "    </tr>\n",
       "    <tr>\n",
       "      <th>2</th>\n",
       "      <td>United States</td>\n",
       "      <td>Inflation Rate</td>\n",
       "      <td>1915-02-28</td>\n",
       "      <td>1.00</td>\n",
       "      <td>Monthly</td>\n",
       "      <td>CPI YOY</td>\n",
       "      <td>2015-02-26T15:56:00</td>\n",
       "    </tr>\n",
       "    <tr>\n",
       "      <th>3</th>\n",
       "      <td>United States</td>\n",
       "      <td>Inflation Rate</td>\n",
       "      <td>1915-03-31</td>\n",
       "      <td>0.00</td>\n",
       "      <td>Monthly</td>\n",
       "      <td>CPI YOY</td>\n",
       "      <td>2015-02-26T15:56:00</td>\n",
       "    </tr>\n",
       "    <tr>\n",
       "      <th>4</th>\n",
       "      <td>United States</td>\n",
       "      <td>Inflation Rate</td>\n",
       "      <td>1915-04-30</td>\n",
       "      <td>2.00</td>\n",
       "      <td>Monthly</td>\n",
       "      <td>CPI YOY</td>\n",
       "      <td>2015-02-26T15:56:00</td>\n",
       "    </tr>\n",
       "    <tr>\n",
       "      <th>...</th>\n",
       "      <td>...</td>\n",
       "      <td>...</td>\n",
       "      <td>...</td>\n",
       "      <td>...</td>\n",
       "      <td>...</td>\n",
       "      <td>...</td>\n",
       "      <td>...</td>\n",
       "    </tr>\n",
       "    <tr>\n",
       "      <th>1298</th>\n",
       "      <td>United States</td>\n",
       "      <td>Inflation Rate</td>\n",
       "      <td>2023-02-28</td>\n",
       "      <td>6.00</td>\n",
       "      <td>Monthly</td>\n",
       "      <td>CPI YOY</td>\n",
       "      <td>2023-04-12T12:30:00</td>\n",
       "    </tr>\n",
       "    <tr>\n",
       "      <th>1299</th>\n",
       "      <td>United States</td>\n",
       "      <td>Inflation Rate</td>\n",
       "      <td>2023-03-31</td>\n",
       "      <td>5.00</td>\n",
       "      <td>Monthly</td>\n",
       "      <td>CPI YOY</td>\n",
       "      <td>2023-05-10T12:30:00</td>\n",
       "    </tr>\n",
       "    <tr>\n",
       "      <th>1300</th>\n",
       "      <td>United States</td>\n",
       "      <td>Inflation Rate</td>\n",
       "      <td>2023-04-30</td>\n",
       "      <td>4.90</td>\n",
       "      <td>Monthly</td>\n",
       "      <td>CPI YOY</td>\n",
       "      <td>2023-05-10T12:30:00</td>\n",
       "    </tr>\n",
       "    <tr>\n",
       "      <th>1301</th>\n",
       "      <td>NaN</td>\n",
       "      <td>NaN</td>\n",
       "      <td>2023-05-30</td>\n",
       "      <td>5.15</td>\n",
       "      <td>NaN</td>\n",
       "      <td>NaN</td>\n",
       "      <td>NaN</td>\n",
       "    </tr>\n",
       "    <tr>\n",
       "      <th>1302</th>\n",
       "      <td>NaN</td>\n",
       "      <td>NaN</td>\n",
       "      <td>2023-06-30</td>\n",
       "      <td>5.08</td>\n",
       "      <td>NaN</td>\n",
       "      <td>NaN</td>\n",
       "      <td>NaN</td>\n",
       "    </tr>\n",
       "  </tbody>\n",
       "</table>\n",
       "<p>1303 rows × 7 columns</p>\n",
       "</div>"
      ],
      "text/plain": [
       "            Country        Category   DateTime  Value Frequency  \\\n",
       "0     United States  Inflation Rate 1914-12-31   1.00   Monthly   \n",
       "1     United States  Inflation Rate 1915-01-31   1.00   Monthly   \n",
       "2     United States  Inflation Rate 1915-02-28   1.00   Monthly   \n",
       "3     United States  Inflation Rate 1915-03-31   0.00   Monthly   \n",
       "4     United States  Inflation Rate 1915-04-30   2.00   Monthly   \n",
       "...             ...             ...        ...    ...       ...   \n",
       "1298  United States  Inflation Rate 2023-02-28   6.00   Monthly   \n",
       "1299  United States  Inflation Rate 2023-03-31   5.00   Monthly   \n",
       "1300  United States  Inflation Rate 2023-04-30   4.90   Monthly   \n",
       "1301            NaN             NaN 2023-05-30   5.15       NaN   \n",
       "1302            NaN             NaN 2023-06-30   5.08       NaN   \n",
       "\n",
       "     HistoricalDataSymbol           LastUpdate  \n",
       "0                 CPI YOY  2015-02-26T15:56:00  \n",
       "1                 CPI YOY  2015-02-26T15:56:00  \n",
       "2                 CPI YOY  2015-02-26T15:56:00  \n",
       "3                 CPI YOY  2015-02-26T15:56:00  \n",
       "4                 CPI YOY  2015-02-26T15:56:00  \n",
       "...                   ...                  ...  \n",
       "1298              CPI YOY  2023-04-12T12:30:00  \n",
       "1299              CPI YOY  2023-05-10T12:30:00  \n",
       "1300              CPI YOY  2023-05-10T12:30:00  \n",
       "1301                  NaN                  NaN  \n",
       "1302                  NaN                  NaN  \n",
       "\n",
       "[1303 rows x 7 columns]"
      ]
     },
     "execution_count": 82,
     "metadata": {},
     "output_type": "execute_result"
    }
   ],
   "source": [
    "data_inf_us"
   ]
  },
  {
   "cell_type": "code",
   "execution_count": null,
   "id": "e188d3f7",
   "metadata": {},
   "outputs": [],
   "source": []
  },
  {
   "cell_type": "code",
   "execution_count": 83,
   "id": "af59afda",
   "metadata": {},
   "outputs": [],
   "source": [
    "data_inf_us['datetime_M'] = data_inf_us['DateTime'].dt.to_period('M').dt.strftime('%Y-%m')"
   ]
  },
  {
   "cell_type": "code",
   "execution_count": 84,
   "id": "6380b7bc",
   "metadata": {},
   "outputs": [],
   "source": [
    "data_inf_us = data_inf_us.drop([\"Category\", \"Country\", \"Frequency\", \"HistoricalDataSymbol\", \"LastUpdate\", \"DateTime\"], axis=1)"
   ]
  },
  {
   "cell_type": "code",
   "execution_count": 85,
   "id": "920d8ced",
   "metadata": {},
   "outputs": [
    {
     "name": "stdout",
     "output_type": "stream",
     "text": [
      "<class 'pandas.core.frame.DataFrame'>\n",
      "RangeIndex: 1303 entries, 0 to 1302\n",
      "Data columns (total 2 columns):\n",
      " #   Column      Non-Null Count  Dtype  \n",
      "---  ------      --------------  -----  \n",
      " 0   Value       1303 non-null   float64\n",
      " 1   datetime_M  1303 non-null   object \n",
      "dtypes: float64(1), object(1)\n",
      "memory usage: 20.5+ KB\n"
     ]
    }
   ],
   "source": [
    "data_inf_us.info()"
   ]
  },
  {
   "attachments": {},
   "cell_type": "markdown",
   "id": "d1b63dcc",
   "metadata": {},
   "source": [
    "Big Dataset"
   ]
  },
  {
   "cell_type": "code",
   "execution_count": null,
   "id": "282b4776",
   "metadata": {},
   "outputs": [],
   "source": []
  },
  {
   "cell_type": "code",
   "execution_count": 86,
   "id": "f9646ed5",
   "metadata": {},
   "outputs": [
    {
     "name": "stdout",
     "output_type": "stream",
     "text": [
      "<class 'pandas.core.frame.DataFrame'>\n",
      "RangeIndex: 1303 entries, 0 to 1302\n",
      "Data columns (total 2 columns):\n",
      " #   Column      Non-Null Count  Dtype  \n",
      "---  ------      --------------  -----  \n",
      " 0   Value       1303 non-null   float64\n",
      " 1   datetime_M  1303 non-null   object \n",
      "dtypes: float64(1), object(1)\n",
      "memory usage: 20.5+ KB\n"
     ]
    }
   ],
   "source": [
    "data_inf_us.info()"
   ]
  },
  {
   "cell_type": "code",
   "execution_count": 87,
   "id": "6cc813f3",
   "metadata": {},
   "outputs": [],
   "source": [
    "data['datetime_M'] = data['timestamp'].dt.to_period('M').dt.strftime('%Y-%m')"
   ]
  },
  {
   "attachments": {},
   "cell_type": "markdown",
   "id": "e70db8d6",
   "metadata": {},
   "source": [
    "Merging"
   ]
  },
  {
   "cell_type": "code",
   "execution_count": 88,
   "id": "bb0394e2",
   "metadata": {},
   "outputs": [],
   "source": [
    "data = pd.merge(data, data_inf_us, on=['datetime_M', 'datetime_M'], how='left')"
   ]
  },
  {
   "cell_type": "code",
   "execution_count": 89,
   "id": "fa9014f7",
   "metadata": {
    "scrolled": false
   },
   "outputs": [],
   "source": [
    "# data.tail(50)"
   ]
  },
  {
   "cell_type": "code",
   "execution_count": 90,
   "id": "01af468c",
   "metadata": {},
   "outputs": [],
   "source": [
    "data = data.drop([\"datetime_M\"], axis=1)"
   ]
  },
  {
   "cell_type": "code",
   "execution_count": 91,
   "id": "c2ba86b7",
   "metadata": {},
   "outputs": [
    {
     "data": {
      "text/html": [
       "<div>\n",
       "<style scoped>\n",
       "    .dataframe tbody tr th:only-of-type {\n",
       "        vertical-align: middle;\n",
       "    }\n",
       "\n",
       "    .dataframe tbody tr th {\n",
       "        vertical-align: top;\n",
       "    }\n",
       "\n",
       "    .dataframe thead th {\n",
       "        text-align: right;\n",
       "    }\n",
       "</style>\n",
       "<table border=\"1\" class=\"dataframe\">\n",
       "  <thead>\n",
       "    <tr style=\"text-align: right;\">\n",
       "      <th></th>\n",
       "      <th>timestamp</th>\n",
       "      <th>open</th>\n",
       "      <th>high</th>\n",
       "      <th>low</th>\n",
       "      <th>close</th>\n",
       "      <th>volume</th>\n",
       "      <th>volume_CMF</th>\n",
       "      <th>volume_FII</th>\n",
       "      <th>volume_MFI</th>\n",
       "      <th>volume_VWA</th>\n",
       "      <th>...</th>\n",
       "      <th>MAI</th>\n",
       "      <th>PSAR_binary</th>\n",
       "      <th>STC</th>\n",
       "      <th>TRIX</th>\n",
       "      <th>vortex_ind_diff</th>\n",
       "      <th>vortex_neg</th>\n",
       "      <th>vortex_pos</th>\n",
       "      <th>S&amp;P_close_filled</th>\n",
       "      <th>Interest_Rates_filled</th>\n",
       "      <th>Inflation_Rate_us</th>\n",
       "    </tr>\n",
       "  </thead>\n",
       "  <tbody>\n",
       "    <tr>\n",
       "      <th>1360</th>\n",
       "      <td>2023-05-30 03:00:00</td>\n",
       "      <td>27722.1</td>\n",
       "      <td>28038.6</td>\n",
       "      <td>27530.0</td>\n",
       "      <td>27680.1</td>\n",
       "      <td>334379.313</td>\n",
       "      <td>0.035793</td>\n",
       "      <td>1.970887e+07</td>\n",
       "      <td>53.201891</td>\n",
       "      <td>27036.666041</td>\n",
       "      <td>...</td>\n",
       "      <td>23.599941</td>\n",
       "      <td>1</td>\n",
       "      <td>87.500008</td>\n",
       "      <td>-0.180711</td>\n",
       "      <td>0.133550</td>\n",
       "      <td>0.930654</td>\n",
       "      <td>1.064204</td>\n",
       "      <td>4205.52</td>\n",
       "      <td>5.25</td>\n",
       "      <td>5.15</td>\n",
       "    </tr>\n",
       "    <tr>\n",
       "      <th>1361</th>\n",
       "      <td>2023-05-31 03:00:00</td>\n",
       "      <td>27680.0</td>\n",
       "      <td>27825.0</td>\n",
       "      <td>26826.0</td>\n",
       "      <td>27201.1</td>\n",
       "      <td>471381.890</td>\n",
       "      <td>0.051585</td>\n",
       "      <td>-1.536268e+07</td>\n",
       "      <td>43.574365</td>\n",
       "      <td>27049.705093</td>\n",
       "      <td>...</td>\n",
       "      <td>23.609551</td>\n",
       "      <td>1</td>\n",
       "      <td>93.750004</td>\n",
       "      <td>-0.163558</td>\n",
       "      <td>0.057212</td>\n",
       "      <td>0.970178</td>\n",
       "      <td>1.027390</td>\n",
       "      <td>4179.83</td>\n",
       "      <td>5.25</td>\n",
       "      <td>5.15</td>\n",
       "    </tr>\n",
       "    <tr>\n",
       "      <th>1362</th>\n",
       "      <td>2023-06-01 03:00:00</td>\n",
       "      <td>27201.1</td>\n",
       "      <td>27347.9</td>\n",
       "      <td>26600.0</td>\n",
       "      <td>26805.3</td>\n",
       "      <td>404787.572</td>\n",
       "      <td>-0.018570</td>\n",
       "      <td>-3.605585e+07</td>\n",
       "      <td>44.812701</td>\n",
       "      <td>27058.187222</td>\n",
       "      <td>...</td>\n",
       "      <td>23.656227</td>\n",
       "      <td>1</td>\n",
       "      <td>96.875002</td>\n",
       "      <td>-0.150931</td>\n",
       "      <td>0.012373</td>\n",
       "      <td>1.012840</td>\n",
       "      <td>1.025213</td>\n",
       "      <td>4221.02</td>\n",
       "      <td>5.25</td>\n",
       "      <td>5.08</td>\n",
       "    </tr>\n",
       "    <tr>\n",
       "      <th>1363</th>\n",
       "      <td>2023-06-02 03:00:00</td>\n",
       "      <td>26805.3</td>\n",
       "      <td>27290.0</td>\n",
       "      <td>26477.6</td>\n",
       "      <td>27227.8</td>\n",
       "      <td>391110.093</td>\n",
       "      <td>0.044282</td>\n",
       "      <td>-7.298730e+06</td>\n",
       "      <td>45.573710</td>\n",
       "      <td>27064.677674</td>\n",
       "      <td>...</td>\n",
       "      <td>23.651200</td>\n",
       "      <td>1</td>\n",
       "      <td>98.437501</td>\n",
       "      <td>-0.138612</td>\n",
       "      <td>-0.002197</td>\n",
       "      <td>0.989760</td>\n",
       "      <td>0.987563</td>\n",
       "      <td>4282.37</td>\n",
       "      <td>5.25</td>\n",
       "      <td>5.08</td>\n",
       "    </tr>\n",
       "    <tr>\n",
       "      <th>1364</th>\n",
       "      <td>2023-06-03 03:00:00</td>\n",
       "      <td>27227.8</td>\n",
       "      <td>27340.2</td>\n",
       "      <td>26900.0</td>\n",
       "      <td>27054.9</td>\n",
       "      <td>182464.100</td>\n",
       "      <td>0.034817</td>\n",
       "      <td>-1.076292e+07</td>\n",
       "      <td>46.069168</td>\n",
       "      <td>27067.256836</td>\n",
       "      <td>...</td>\n",
       "      <td>23.664663</td>\n",
       "      <td>1</td>\n",
       "      <td>99.218751</td>\n",
       "      <td>-0.127978</td>\n",
       "      <td>0.026015</td>\n",
       "      <td>0.981956</td>\n",
       "      <td>1.007971</td>\n",
       "      <td>4282.37</td>\n",
       "      <td>5.25</td>\n",
       "      <td>5.08</td>\n",
       "    </tr>\n",
       "  </tbody>\n",
       "</table>\n",
       "<p>5 rows × 55 columns</p>\n",
       "</div>"
      ],
      "text/plain": [
       "               timestamp     open     high      low    close      volume  \\\n",
       "1360 2023-05-30 03:00:00  27722.1  28038.6  27530.0  27680.1  334379.313   \n",
       "1361 2023-05-31 03:00:00  27680.0  27825.0  26826.0  27201.1  471381.890   \n",
       "1362 2023-06-01 03:00:00  27201.1  27347.9  26600.0  26805.3  404787.572   \n",
       "1363 2023-06-02 03:00:00  26805.3  27290.0  26477.6  27227.8  391110.093   \n",
       "1364 2023-06-03 03:00:00  27227.8  27340.2  26900.0  27054.9  182464.100   \n",
       "\n",
       "      volume_CMF    volume_FII  volume_MFI    volume_VWA  ...        MAI  \\\n",
       "1360    0.035793  1.970887e+07   53.201891  27036.666041  ...  23.599941   \n",
       "1361    0.051585 -1.536268e+07   43.574365  27049.705093  ...  23.609551   \n",
       "1362   -0.018570 -3.605585e+07   44.812701  27058.187222  ...  23.656227   \n",
       "1363    0.044282 -7.298730e+06   45.573710  27064.677674  ...  23.651200   \n",
       "1364    0.034817 -1.076292e+07   46.069168  27067.256836  ...  23.664663   \n",
       "\n",
       "      PSAR_binary        STC      TRIX  vortex_ind_diff  vortex_neg  \\\n",
       "1360            1  87.500008 -0.180711         0.133550    0.930654   \n",
       "1361            1  93.750004 -0.163558         0.057212    0.970178   \n",
       "1362            1  96.875002 -0.150931         0.012373    1.012840   \n",
       "1363            1  98.437501 -0.138612        -0.002197    0.989760   \n",
       "1364            1  99.218751 -0.127978         0.026015    0.981956   \n",
       "\n",
       "      vortex_pos  S&P_close_filled  Interest_Rates_filled  Inflation_Rate_us  \n",
       "1360    1.064204           4205.52                   5.25               5.15  \n",
       "1361    1.027390           4179.83                   5.25               5.15  \n",
       "1362    1.025213           4221.02                   5.25               5.08  \n",
       "1363    0.987563           4282.37                   5.25               5.08  \n",
       "1364    1.007971           4282.37                   5.25               5.08  \n",
       "\n",
       "[5 rows x 55 columns]"
      ]
     },
     "execution_count": 91,
     "metadata": {},
     "output_type": "execute_result"
    }
   ],
   "source": [
    "data = data.rename(columns={'Value': 'Inflation_Rate_us'})\n",
    "data.tail()\n"
   ]
  },
  {
   "cell_type": "code",
   "execution_count": 92,
   "id": "c58646b4",
   "metadata": {},
   "outputs": [
    {
     "name": "stdout",
     "output_type": "stream",
     "text": [
      "Shape: (1365, 55)\n",
      "Duplicates: 0\n",
      "Duplicate timestamps 0\n",
      "Total amount of NaN: 830\n"
     ]
    }
   ],
   "source": [
    "data_check(data)"
   ]
  },
  {
   "cell_type": "code",
   "execution_count": 93,
   "id": "04268d68",
   "metadata": {},
   "outputs": [
    {
     "data": {
      "text/plain": [
       "<Axes: >"
      ]
     },
     "execution_count": 93,
     "metadata": {},
     "output_type": "execute_result"
    },
    {
     "data": {
      "image/png": "[encoded data removed]",
      "text/plain": [
       "<Figure size 2500x1000 with 2 Axes>"
      ]
     },
     "metadata": {},
     "output_type": "display_data"
    }
   ],
   "source": [
    "msno.matrix(data)"
   ]
  },
  {
   "attachments": {},
   "cell_type": "markdown",
   "id": "2ae4cf1e",
   "metadata": {},
   "source": [
    "## Functions"
   ]
  },
  {
   "attachments": {},
   "cell_type": "markdown",
   "id": "7382c585",
   "metadata": {},
   "source": [
    "#### subhag trend"
   ]
  },
  {
   "cell_type": "code",
   "execution_count": 94,
   "id": "b00cd2da",
   "metadata": {},
   "outputs": [],
   "source": [
    "def ghost_trend_signal(data, resolution=60, fast_length=3, slow_length=10):\n",
    "    src = data.close\n",
    "    trend_60 = ((ta.trend.ema_indicator(src, fast_length) - ta.trend.ema_indicator(src, slow_length))/src)*100\n",
    "    prev_trend_60 = ((ta.trend.ema_indicator(src.shift(5), fast_length) - ta.trend.ema_indicator(src.shift(5), slow_length))/src.shift(5))*100\n",
    "    trend_status_60 = [1 if trend_60[i] > prev_trend_60[i] else -1 for i in range(len(data))]\n",
    "    return pd.DataFrame({'timestamp': data.timestamp,'subhag_signal': trend_status_60})\n"
   ]
  },
  {
   "cell_type": "code",
   "execution_count": 95,
   "id": "82cff0ff",
   "metadata": {},
   "outputs": [],
   "source": [
    "data_g_r = ghost_trend_signal(data, resolution=60, fast_length=3, slow_length=10)"
   ]
  },
  {
   "cell_type": "code",
   "execution_count": 96,
   "id": "2c5212a7",
   "metadata": {},
   "outputs": [],
   "source": [
    "data_g_r.rename(columns={'timestamp': 'time_g_r'}, inplace=True)"
   ]
  },
  {
   "cell_type": "code",
   "execution_count": 97,
   "id": "4a1588c0",
   "metadata": {},
   "outputs": [],
   "source": [
    "data = pd.merge(data, data_g_r, left_index=True, right_index=True)"
   ]
  },
  {
   "cell_type": "code",
   "execution_count": 98,
   "id": "3c97878d",
   "metadata": {},
   "outputs": [],
   "source": [
    "data = data.drop([\"time_g_r\"],axis=1)"
   ]
  },
  {
   "attachments": {},
   "cell_type": "markdown",
   "id": "105d1e16",
   "metadata": {},
   "source": [
    "#### Fisher transform"
   ]
  },
  {
   "cell_type": "code",
   "execution_count": 99,
   "id": "c83a2033",
   "metadata": {},
   "outputs": [],
   "source": [
    "def highes(data, length):\n",
    "    return np.array( [0]*length + [ np.max(data[i-length+1: i+1]) for i in range(length, len(data))])\n",
    "def lowes(data, length):\n",
    "    return np.array( [0]*length + [ np.min(data[i-length+1: i+1]) for i in range(length, len(data))])\n",
    "def fisher_transform(df, len_=9):\n",
    "    high, low = df.high, df.low\n",
    "    hl2 = (high+low)/2\n",
    "    high_ = highes(hl2, len_)\n",
    "    low_ = lowes(hl2, len_)\n",
    "    def round_(val):\n",
    "        return .999 if val > .99 else -.999 if val < -.99 else val\n",
    "    value, fish1 = [0.0], [0.0]\n",
    "    for i in range(1, len(hl2)):\n",
    "        value.append(round_(.66 * ((hl2[i] - low_[i]) / (high_[i] - low_[i]) - .5) + .67 * value[i-1]))\n",
    "        fish1.append(.5 * np.log((1 + value[i]) / (1 - value[i])) + .5 * fish1[i-1])\n",
    "    fish1 = pd.Series(fish1)\n",
    "    fish2 = fish1.shift().fillna(method='bfill')\n",
    "    return pd.DataFrame({'timestamp': df.timestamp,\n",
    "                         'Fisher': np.round(fish1, 5),\n",
    "                         'Fisher_trigger': np.round(fish2, 5)})"
   ]
  },
  {
   "cell_type": "code",
   "execution_count": 100,
   "id": "470dcc38",
   "metadata": {},
   "outputs": [
    {
     "name": "stderr",
     "output_type": "stream",
     "text": [
      "/tmp/ipykernel_16643/3376831689.py:14: RuntimeWarning: divide by zero encountered in double_scalars\n",
      "  value.append(round_(.66 * ((hl2[i] - low_[i]) / (high_[i] - low_[i]) - .5) + .67 * value[i-1]))\n"
     ]
    }
   ],
   "source": [
    "fisher_data = fisher_transform(data, len_=9)"
   ]
  },
  {
   "cell_type": "code",
   "execution_count": 101,
   "id": "6ff03ff2",
   "metadata": {},
   "outputs": [],
   "source": [
    "fisher_data.rename(columns={'timestamp': 'time_fish'}, inplace=True)"
   ]
  },
  {
   "cell_type": "code",
   "execution_count": 102,
   "id": "a799ff5b",
   "metadata": {},
   "outputs": [],
   "source": [
    "data = pd.merge(data, fisher_data, left_index=True, right_index=True)"
   ]
  },
  {
   "cell_type": "code",
   "execution_count": 103,
   "id": "e8892d15",
   "metadata": {},
   "outputs": [],
   "source": [
    "data = data.drop([\"time_fish\"],axis=1)"
   ]
  },
  {
   "cell_type": "code",
   "execution_count": 104,
   "id": "314e5d3e",
   "metadata": {},
   "outputs": [
    {
     "data": {
      "text/html": [
       "<div>\n",
       "<style scoped>\n",
       "    .dataframe tbody tr th:only-of-type {\n",
       "        vertical-align: middle;\n",
       "    }\n",
       "\n",
       "    .dataframe tbody tr th {\n",
       "        vertical-align: top;\n",
       "    }\n",
       "\n",
       "    .dataframe thead th {\n",
       "        text-align: right;\n",
       "    }\n",
       "</style>\n",
       "<table border=\"1\" class=\"dataframe\">\n",
       "  <thead>\n",
       "    <tr style=\"text-align: right;\">\n",
       "      <th></th>\n",
       "      <th>timestamp</th>\n",
       "      <th>open</th>\n",
       "      <th>high</th>\n",
       "      <th>low</th>\n",
       "      <th>close</th>\n",
       "      <th>volume</th>\n",
       "      <th>volume_CMF</th>\n",
       "      <th>volume_FII</th>\n",
       "      <th>volume_MFI</th>\n",
       "      <th>volume_VWA</th>\n",
       "      <th>...</th>\n",
       "      <th>TRIX</th>\n",
       "      <th>vortex_ind_diff</th>\n",
       "      <th>vortex_neg</th>\n",
       "      <th>vortex_pos</th>\n",
       "      <th>S&amp;P_close_filled</th>\n",
       "      <th>Interest_Rates_filled</th>\n",
       "      <th>Inflation_Rate_us</th>\n",
       "      <th>subhag_signal</th>\n",
       "      <th>Fisher</th>\n",
       "      <th>Fisher_trigger</th>\n",
       "    </tr>\n",
       "  </thead>\n",
       "  <tbody>\n",
       "    <tr>\n",
       "      <th>0</th>\n",
       "      <td>2019-09-08 03:00:00</td>\n",
       "      <td>10000.00</td>\n",
       "      <td>10412.65</td>\n",
       "      <td>10000.00</td>\n",
       "      <td>10391.63</td>\n",
       "      <td>3096.291</td>\n",
       "      <td>NaN</td>\n",
       "      <td>NaN</td>\n",
       "      <td>NaN</td>\n",
       "      <td>NaN</td>\n",
       "      <td>...</td>\n",
       "      <td>NaN</td>\n",
       "      <td>NaN</td>\n",
       "      <td>NaN</td>\n",
       "      <td>NaN</td>\n",
       "      <td>2978.43</td>\n",
       "      <td>2.25</td>\n",
       "      <td>1.70</td>\n",
       "      <td>-1</td>\n",
       "      <td>0.00000</td>\n",
       "      <td>0.00000</td>\n",
       "    </tr>\n",
       "    <tr>\n",
       "      <th>1</th>\n",
       "      <td>2019-09-09 03:00:00</td>\n",
       "      <td>10316.62</td>\n",
       "      <td>10475.54</td>\n",
       "      <td>10077.22</td>\n",
       "      <td>10307.00</td>\n",
       "      <td>14824.373</td>\n",
       "      <td>NaN</td>\n",
       "      <td>NaN</td>\n",
       "      <td>NaN</td>\n",
       "      <td>NaN</td>\n",
       "      <td>...</td>\n",
       "      <td>NaN</td>\n",
       "      <td>NaN</td>\n",
       "      <td>NaN</td>\n",
       "      <td>NaN</td>\n",
       "      <td>2978.43</td>\n",
       "      <td>2.25</td>\n",
       "      <td>1.70</td>\n",
       "      <td>-1</td>\n",
       "      <td>3.80020</td>\n",
       "      <td>0.00000</td>\n",
       "    </tr>\n",
       "    <tr>\n",
       "      <th>2</th>\n",
       "      <td>2019-09-10 03:00:00</td>\n",
       "      <td>10307.00</td>\n",
       "      <td>10382.97</td>\n",
       "      <td>9940.87</td>\n",
       "      <td>10102.02</td>\n",
       "      <td>9068.955</td>\n",
       "      <td>NaN</td>\n",
       "      <td>NaN</td>\n",
       "      <td>NaN</td>\n",
       "      <td>NaN</td>\n",
       "      <td>...</td>\n",
       "      <td>NaN</td>\n",
       "      <td>NaN</td>\n",
       "      <td>NaN</td>\n",
       "      <td>NaN</td>\n",
       "      <td>2979.39</td>\n",
       "      <td>2.25</td>\n",
       "      <td>1.70</td>\n",
       "      <td>-1</td>\n",
       "      <td>5.70030</td>\n",
       "      <td>3.80020</td>\n",
       "    </tr>\n",
       "    <tr>\n",
       "      <th>3</th>\n",
       "      <td>2019-09-11 03:00:00</td>\n",
       "      <td>10094.27</td>\n",
       "      <td>10293.11</td>\n",
       "      <td>9884.31</td>\n",
       "      <td>10159.55</td>\n",
       "      <td>10897.922</td>\n",
       "      <td>NaN</td>\n",
       "      <td>NaN</td>\n",
       "      <td>NaN</td>\n",
       "      <td>NaN</td>\n",
       "      <td>...</td>\n",
       "      <td>NaN</td>\n",
       "      <td>NaN</td>\n",
       "      <td>NaN</td>\n",
       "      <td>NaN</td>\n",
       "      <td>3000.93</td>\n",
       "      <td>2.25</td>\n",
       "      <td>1.70</td>\n",
       "      <td>-1</td>\n",
       "      <td>6.65035</td>\n",
       "      <td>5.70030</td>\n",
       "    </tr>\n",
       "    <tr>\n",
       "      <th>4</th>\n",
       "      <td>2019-09-12 03:00:00</td>\n",
       "      <td>10163.06</td>\n",
       "      <td>10450.13</td>\n",
       "      <td>10042.12</td>\n",
       "      <td>10415.13</td>\n",
       "      <td>15609.634</td>\n",
       "      <td>NaN</td>\n",
       "      <td>NaN</td>\n",
       "      <td>NaN</td>\n",
       "      <td>NaN</td>\n",
       "      <td>...</td>\n",
       "      <td>NaN</td>\n",
       "      <td>NaN</td>\n",
       "      <td>NaN</td>\n",
       "      <td>NaN</td>\n",
       "      <td>3009.57</td>\n",
       "      <td>2.25</td>\n",
       "      <td>1.70</td>\n",
       "      <td>-1</td>\n",
       "      <td>7.12538</td>\n",
       "      <td>6.65035</td>\n",
       "    </tr>\n",
       "    <tr>\n",
       "      <th>...</th>\n",
       "      <td>...</td>\n",
       "      <td>...</td>\n",
       "      <td>...</td>\n",
       "      <td>...</td>\n",
       "      <td>...</td>\n",
       "      <td>...</td>\n",
       "      <td>...</td>\n",
       "      <td>...</td>\n",
       "      <td>...</td>\n",
       "      <td>...</td>\n",
       "      <td>...</td>\n",
       "      <td>...</td>\n",
       "      <td>...</td>\n",
       "      <td>...</td>\n",
       "      <td>...</td>\n",
       "      <td>...</td>\n",
       "      <td>...</td>\n",
       "      <td>...</td>\n",
       "      <td>...</td>\n",
       "      <td>...</td>\n",
       "      <td>...</td>\n",
       "    </tr>\n",
       "    <tr>\n",
       "      <th>1360</th>\n",
       "      <td>2023-05-30 03:00:00</td>\n",
       "      <td>27722.10</td>\n",
       "      <td>28038.60</td>\n",
       "      <td>27530.00</td>\n",
       "      <td>27680.10</td>\n",
       "      <td>334379.313</td>\n",
       "      <td>0.035793</td>\n",
       "      <td>1.970887e+07</td>\n",
       "      <td>53.201891</td>\n",
       "      <td>27036.666041</td>\n",
       "      <td>...</td>\n",
       "      <td>-0.180711</td>\n",
       "      <td>0.133550</td>\n",
       "      <td>0.930654</td>\n",
       "      <td>1.064204</td>\n",
       "      <td>4205.52</td>\n",
       "      <td>5.25</td>\n",
       "      <td>5.15</td>\n",
       "      <td>1</td>\n",
       "      <td>0.79356</td>\n",
       "      <td>0.36538</td>\n",
       "    </tr>\n",
       "    <tr>\n",
       "      <th>1361</th>\n",
       "      <td>2023-05-31 03:00:00</td>\n",
       "      <td>27680.00</td>\n",
       "      <td>27825.00</td>\n",
       "      <td>26826.00</td>\n",
       "      <td>27201.10</td>\n",
       "      <td>471381.890</td>\n",
       "      <td>0.051585</td>\n",
       "      <td>-1.536268e+07</td>\n",
       "      <td>43.574365</td>\n",
       "      <td>27049.705093</td>\n",
       "      <td>...</td>\n",
       "      <td>-0.163558</td>\n",
       "      <td>0.057212</td>\n",
       "      <td>0.970178</td>\n",
       "      <td>1.027390</td>\n",
       "      <td>4179.83</td>\n",
       "      <td>5.25</td>\n",
       "      <td>5.15</td>\n",
       "      <td>1</td>\n",
       "      <td>0.87678</td>\n",
       "      <td>0.79356</td>\n",
       "    </tr>\n",
       "    <tr>\n",
       "      <th>1362</th>\n",
       "      <td>2023-06-01 03:00:00</td>\n",
       "      <td>27201.10</td>\n",
       "      <td>27347.90</td>\n",
       "      <td>26600.00</td>\n",
       "      <td>26805.30</td>\n",
       "      <td>404787.572</td>\n",
       "      <td>-0.018570</td>\n",
       "      <td>-3.605585e+07</td>\n",
       "      <td>44.812701</td>\n",
       "      <td>27058.187222</td>\n",
       "      <td>...</td>\n",
       "      <td>-0.150931</td>\n",
       "      <td>0.012373</td>\n",
       "      <td>1.012840</td>\n",
       "      <td>1.025213</td>\n",
       "      <td>4221.02</td>\n",
       "      <td>5.25</td>\n",
       "      <td>5.08</td>\n",
       "      <td>1</td>\n",
       "      <td>0.68976</td>\n",
       "      <td>0.87678</td>\n",
       "    </tr>\n",
       "    <tr>\n",
       "      <th>1363</th>\n",
       "      <td>2023-06-02 03:00:00</td>\n",
       "      <td>26805.30</td>\n",
       "      <td>27290.00</td>\n",
       "      <td>26477.60</td>\n",
       "      <td>27227.80</td>\n",
       "      <td>391110.093</td>\n",
       "      <td>0.044282</td>\n",
       "      <td>-7.298730e+06</td>\n",
       "      <td>45.573710</td>\n",
       "      <td>27064.677674</td>\n",
       "      <td>...</td>\n",
       "      <td>-0.138612</td>\n",
       "      <td>-0.002197</td>\n",
       "      <td>0.989760</td>\n",
       "      <td>0.987563</td>\n",
       "      <td>4282.37</td>\n",
       "      <td>5.25</td>\n",
       "      <td>5.08</td>\n",
       "      <td>-1</td>\n",
       "      <td>0.42282</td>\n",
       "      <td>0.68976</td>\n",
       "    </tr>\n",
       "    <tr>\n",
       "      <th>1364</th>\n",
       "      <td>2023-06-03 03:00:00</td>\n",
       "      <td>27227.80</td>\n",
       "      <td>27340.20</td>\n",
       "      <td>26900.00</td>\n",
       "      <td>27054.90</td>\n",
       "      <td>182464.100</td>\n",
       "      <td>0.034817</td>\n",
       "      <td>-1.076292e+07</td>\n",
       "      <td>46.069168</td>\n",
       "      <td>27067.256836</td>\n",
       "      <td>...</td>\n",
       "      <td>-0.127978</td>\n",
       "      <td>0.026015</td>\n",
       "      <td>0.981956</td>\n",
       "      <td>1.007971</td>\n",
       "      <td>4282.37</td>\n",
       "      <td>5.25</td>\n",
       "      <td>5.08</td>\n",
       "      <td>-1</td>\n",
       "      <td>0.17678</td>\n",
       "      <td>0.42282</td>\n",
       "    </tr>\n",
       "  </tbody>\n",
       "</table>\n",
       "<p>1365 rows × 58 columns</p>\n",
       "</div>"
      ],
      "text/plain": [
       "               timestamp      open      high       low     close      volume  \\\n",
       "0    2019-09-08 03:00:00  10000.00  10412.65  10000.00  10391.63    3096.291   \n",
       "1    2019-09-09 03:00:00  10316.62  10475.54  10077.22  10307.00   14824.373   \n",
       "2    2019-09-10 03:00:00  10307.00  10382.97   9940.87  10102.02    9068.955   \n",
       "3    2019-09-11 03:00:00  10094.27  10293.11   9884.31  10159.55   10897.922   \n",
       "4    2019-09-12 03:00:00  10163.06  10450.13  10042.12  10415.13   15609.634   \n",
       "...                  ...       ...       ...       ...       ...         ...   \n",
       "1360 2023-05-30 03:00:00  27722.10  28038.60  27530.00  27680.10  334379.313   \n",
       "1361 2023-05-31 03:00:00  27680.00  27825.00  26826.00  27201.10  471381.890   \n",
       "1362 2023-06-01 03:00:00  27201.10  27347.90  26600.00  26805.30  404787.572   \n",
       "1363 2023-06-02 03:00:00  26805.30  27290.00  26477.60  27227.80  391110.093   \n",
       "1364 2023-06-03 03:00:00  27227.80  27340.20  26900.00  27054.90  182464.100   \n",
       "\n",
       "      volume_CMF    volume_FII  volume_MFI    volume_VWA  ...      TRIX  \\\n",
       "0            NaN           NaN         NaN           NaN  ...       NaN   \n",
       "1            NaN           NaN         NaN           NaN  ...       NaN   \n",
       "2            NaN           NaN         NaN           NaN  ...       NaN   \n",
       "3            NaN           NaN         NaN           NaN  ...       NaN   \n",
       "4            NaN           NaN         NaN           NaN  ...       NaN   \n",
       "...          ...           ...         ...           ...  ...       ...   \n",
       "1360    0.035793  1.970887e+07   53.201891  27036.666041  ... -0.180711   \n",
       "1361    0.051585 -1.536268e+07   43.574365  27049.705093  ... -0.163558   \n",
       "1362   -0.018570 -3.605585e+07   44.812701  27058.187222  ... -0.150931   \n",
       "1363    0.044282 -7.298730e+06   45.573710  27064.677674  ... -0.138612   \n",
       "1364    0.034817 -1.076292e+07   46.069168  27067.256836  ... -0.127978   \n",
       "\n",
       "      vortex_ind_diff  vortex_neg  vortex_pos  S&P_close_filled  \\\n",
       "0                 NaN         NaN         NaN           2978.43   \n",
       "1                 NaN         NaN         NaN           2978.43   \n",
       "2                 NaN         NaN         NaN           2979.39   \n",
       "3                 NaN         NaN         NaN           3000.93   \n",
       "4                 NaN         NaN         NaN           3009.57   \n",
       "...               ...         ...         ...               ...   \n",
       "1360         0.133550    0.930654    1.064204           4205.52   \n",
       "1361         0.057212    0.970178    1.027390           4179.83   \n",
       "1362         0.012373    1.012840    1.025213           4221.02   \n",
       "1363        -0.002197    0.989760    0.987563           4282.37   \n",
       "1364         0.026015    0.981956    1.007971           4282.37   \n",
       "\n",
       "      Interest_Rates_filled  Inflation_Rate_us  subhag_signal   Fisher  \\\n",
       "0                      2.25               1.70             -1  0.00000   \n",
       "1                      2.25               1.70             -1  3.80020   \n",
       "2                      2.25               1.70             -1  5.70030   \n",
       "3                      2.25               1.70             -1  6.65035   \n",
       "4                      2.25               1.70             -1  7.12538   \n",
       "...                     ...                ...            ...      ...   \n",
       "1360                   5.25               5.15              1  0.79356   \n",
       "1361                   5.25               5.15              1  0.87678   \n",
       "1362                   5.25               5.08              1  0.68976   \n",
       "1363                   5.25               5.08             -1  0.42282   \n",
       "1364                   5.25               5.08             -1  0.17678   \n",
       "\n",
       "      Fisher_trigger  \n",
       "0            0.00000  \n",
       "1            0.00000  \n",
       "2            3.80020  \n",
       "3            5.70030  \n",
       "4            6.65035  \n",
       "...              ...  \n",
       "1360         0.36538  \n",
       "1361         0.79356  \n",
       "1362         0.87678  \n",
       "1363         0.68976  \n",
       "1364         0.42282  \n",
       "\n",
       "[1365 rows x 58 columns]"
      ]
     },
     "execution_count": 104,
     "metadata": {},
     "output_type": "execute_result"
    }
   ],
   "source": [
    "data"
   ]
  },
  {
   "attachments": {},
   "cell_type": "markdown",
   "id": "174581e5",
   "metadata": {},
   "source": [
    "#### Super Trend"
   ]
  },
  {
   "cell_type": "code",
   "execution_count": 105,
   "id": "5de3e5aa",
   "metadata": {},
   "outputs": [],
   "source": [
    "def tr(high, low, close):\n",
    "    hl = np.abs(high-low)\n",
    "    hc = np.abs(high-close.shift())\n",
    "    lc = np.abs(low-close.shift())\n",
    "    ranges = pd.concat([hl, hc, lc], axis=1)\n",
    "    tr = np.max(ranges, axis=1)\n",
    "    return pd.Series(tr)\n",
    "def supertrend(df, Period=21, Multiplier=1.0):\n",
    "    high, low, close = df.high, df.low, df.close\n",
    "    src = (high+low)/2\n",
    "    atr2 = ta.trend.sma_indicator(tr(high, low, close), Period, True)\n",
    "    atr= ta.volatility.average_true_range(high, low, close, Period, True)\n",
    "    up, dn = [0], [0]\n",
    "    trend = [1]\n",
    "    trend_line = [0]\n",
    "    for i in range(1, len(close)):\n",
    "        up_=src[i]-(Multiplier*atr[i])\n",
    "        up1 = up[i-1]\n",
    "        up.append(max(up_,up1) if close[i-1] > up1 else up_ )\n",
    "        dn_ = src[i]+(Multiplier*atr[i])\n",
    "        dn1 = dn[i-1]\n",
    "        dn.append(min(dn_, dn1) if close[i-1] < dn1 else dn_)\n",
    "        trend.append(1 if trend[i-1]==-1 and close[i] > dn1 else -1 if trend[i-1]==1 and close[i] < up1 else trend[i-1])\n",
    "    return trend"
   ]
  },
  {
   "cell_type": "code",
   "execution_count": 106,
   "id": "17eca93f",
   "metadata": {},
   "outputs": [],
   "source": [
    "supertrend = supertrend(data)"
   ]
  },
  {
   "cell_type": "code",
   "execution_count": 107,
   "id": "49ed7280",
   "metadata": {},
   "outputs": [],
   "source": [
    "data['supertrend'] = supertrend"
   ]
  },
  {
   "attachments": {},
   "cell_type": "markdown",
   "id": "298b2b2d",
   "metadata": {},
   "source": [
    "#### choppiness index"
   ]
  },
  {
   "cell_type": "code",
   "execution_count": 108,
   "id": "b1da38da",
   "metadata": {},
   "outputs": [],
   "source": [
    "def highes(data, length):\n",
    "    return np.array( [0]*length + [ np.max(data[i-length+1: i+1]) for i in range(length, len(data))])\n",
    "def lowes(data, length):\n",
    "    return np.array( [0]*length + [ np.min(data[i-length+1: i+1]) for i in range(length, len(data))])\n",
    "def chop_index(df, length = 14):\n",
    "    high, low, close = df.high, df.low, df.close\n",
    "    atr = ta.volatility.average_true_range(high, low, close, 1).bfill()\n",
    "    atr_sum = atr.rolling(length).sum().bfill()\n",
    "    h = highes(high, length)\n",
    "    l = lowes(low, length)\n",
    "    ci = 100 * np.log10(atr_sum/(h-l)) / np.log10(length)\n",
    "    return ci"
   ]
  },
  {
   "cell_type": "code",
   "execution_count": 109,
   "id": "238f8b20",
   "metadata": {},
   "outputs": [],
   "source": [
    "chop_index = chop_index(data)"
   ]
  },
  {
   "cell_type": "code",
   "execution_count": 110,
   "id": "73677433",
   "metadata": {},
   "outputs": [],
   "source": [
    "data['chop_index'] = list(chop_index)"
   ]
  },
  {
   "attachments": {},
   "cell_type": "markdown",
   "id": "de65e8dd",
   "metadata": {},
   "source": [
    "#### Velocity Function"
   ]
  },
  {
   "cell_type": "code",
   "execution_count": 111,
   "id": "a2ec54f8",
   "metadata": {},
   "outputs": [],
   "source": [
    "## Ema Function ##\n",
    "def EMA(src, len_):\n",
    "    return ta.trend.ema_indicator(src, len_).fillna(method='bfill')\n",
    "## Velocity Function ##\n",
    "def t3_velocity(df, len_=10, vfactor=1):\n",
    "    Data = df.close\n",
    "    x1 = (EMA(Data,len_))*(1+vfactor)\n",
    "    x2 = (EMA(EMA(Data,len_),len_))*vfactor\n",
    "    gd = x1 - x2\n",
    "    x11 = (EMA(gd,len_))*(1+vfactor)\n",
    "    x21 = (EMA(EMA(gd,len_),len_))*vfactor\n",
    "    gd1 = x11 - x21\n",
    "    x12 = (EMA(gd1,len_))*(1+vfactor)\n",
    "    x22 = (EMA(EMA(gd1,len_),len_))*vfactor\n",
    "    first = x12 - x22\n",
    "    y1 = (EMA(Data,len_))*(1+vfactor/2)\n",
    "    y2 = (EMA(EMA(Data,len_),len_))*vfactor/2\n",
    "    ygd = y1-y2\n",
    "    y11 = (EMA(ygd,len_))*(1+vfactor/2)\n",
    "    y21 = (EMA(EMA(ygd,len_),len_))*vfactor/2\n",
    "    ygd1 = y11-y21\n",
    "    y12 = (EMA(ygd1,len_))*(1+vfactor/2)\n",
    "    y22 = (EMA(EMA(ygd1,len_),len_))*vfactor/2\n",
    "    second1 = y12-y22\n",
    "    S = first - second1.shift(1)\n",
    "    c = [1 if s > 0 else -1 for s in S]\n",
    "    df = pd.DataFrame({'time': df.timestamp, 't3velocity_color': c})\n",
    "    return df"
   ]
  },
  {
   "cell_type": "code",
   "execution_count": 112,
   "id": "b7cb6934",
   "metadata": {},
   "outputs": [],
   "source": [
    "velo_data = t3_velocity(data)"
   ]
  },
  {
   "cell_type": "code",
   "execution_count": 113,
   "id": "cce642a4",
   "metadata": {},
   "outputs": [
    {
     "data": {
      "text/html": [
       "<div>\n",
       "<style scoped>\n",
       "    .dataframe tbody tr th:only-of-type {\n",
       "        vertical-align: middle;\n",
       "    }\n",
       "\n",
       "    .dataframe tbody tr th {\n",
       "        vertical-align: top;\n",
       "    }\n",
       "\n",
       "    .dataframe thead th {\n",
       "        text-align: right;\n",
       "    }\n",
       "</style>\n",
       "<table border=\"1\" class=\"dataframe\">\n",
       "  <thead>\n",
       "    <tr style=\"text-align: right;\">\n",
       "      <th></th>\n",
       "      <th>time</th>\n",
       "      <th>t3velocity_color</th>\n",
       "    </tr>\n",
       "  </thead>\n",
       "  <tbody>\n",
       "    <tr>\n",
       "      <th>0</th>\n",
       "      <td>2019-09-08 03:00:00</td>\n",
       "      <td>-1</td>\n",
       "    </tr>\n",
       "  </tbody>\n",
       "</table>\n",
       "</div>"
      ],
      "text/plain": [
       "                 time  t3velocity_color\n",
       "0 2019-09-08 03:00:00                -1"
      ]
     },
     "execution_count": 113,
     "metadata": {},
     "output_type": "execute_result"
    }
   ],
   "source": [
    "velo_data.head(1)"
   ]
  },
  {
   "cell_type": "code",
   "execution_count": 114,
   "id": "362e330d",
   "metadata": {},
   "outputs": [],
   "source": [
    "velo = velo_data['t3velocity_color'].tolist()"
   ]
  },
  {
   "cell_type": "code",
   "execution_count": 115,
   "id": "9af348e3",
   "metadata": {},
   "outputs": [],
   "source": [
    "data['Velocity'] = velo"
   ]
  },
  {
   "cell_type": "code",
   "execution_count": 116,
   "id": "882e6dd3",
   "metadata": {},
   "outputs": [
    {
     "name": "stdout",
     "output_type": "stream",
     "text": [
      "<class 'pandas.core.frame.DataFrame'>\n",
      "Int64Index: 1365 entries, 0 to 1364\n",
      "Data columns (total 61 columns):\n",
      " #   Column                      Non-Null Count  Dtype         \n",
      "---  ------                      --------------  -----         \n",
      " 0   timestamp                   1365 non-null   datetime64[ns]\n",
      " 1   open                        1365 non-null   float64       \n",
      " 2   high                        1365 non-null   float64       \n",
      " 3   low                         1365 non-null   float64       \n",
      " 4   close                       1365 non-null   float64       \n",
      " 5   volume                      1365 non-null   float64       \n",
      " 6   volume_CMF                  1346 non-null   float64       \n",
      " 7   volume_FII                  1352 non-null   float64       \n",
      " 8   volume_MFI                  1352 non-null   float64       \n",
      " 9   volume_VWA                  1352 non-null   float64       \n",
      " 10  mom_AOI                     1332 non-null   float64       \n",
      " 11  mom_PPO                     1340 non-null   float64       \n",
      " 12  mom_PPO_signal              1332 non-null   float64       \n",
      " 13  mom_PVO                     1340 non-null   float64       \n",
      " 14  mom_PVO_signal              1332 non-null   float64       \n",
      " 15  mom_ROC                     1353 non-null   float64       \n",
      " 16  mom_rsi                     1352 non-null   float64       \n",
      " 17  mom_stoch_RSI               1339 non-null   float64       \n",
      " 18  mom_StochOscillator         1352 non-null   float64       \n",
      " 19  mom_StochOscillator_signal  1350 non-null   float64       \n",
      " 20  mom_TSI                     1328 non-null   float64       \n",
      " 21  mom_UltimateOscillator      1337 non-null   float64       \n",
      " 22  mom_WilliamsRIndicator      1352 non-null   float64       \n",
      " 23  volat_ATR                   1365 non-null   float64       \n",
      " 24  volat_bol_hband_binary      1365 non-null   float64       \n",
      " 25  volat_bol_lband_binary      1365 non-null   float64       \n",
      " 26  volat_bol_band_width        1346 non-null   float64       \n",
      " 27  KCW                         1346 non-null   float64       \n",
      " 28  KCP                         1365 non-null   float64       \n",
      " 29  donch_DCW                   1356 non-null   float64       \n",
      " 30  ULI                         1352 non-null   float64       \n",
      " 31  ADX                         1365 non-null   float64       \n",
      " 32  ADX_neg                     1365 non-null   float64       \n",
      " 33  ADX_pos                     1365 non-null   float64       \n",
      " 34  ARI_down                    1341 non-null   float64       \n",
      " 35  ARI                         1341 non-null   float64       \n",
      " 36  ARI_up                      1341 non-null   float64       \n",
      " 37  CCI                         1346 non-null   float64       \n",
      " 38  DPO                         1346 non-null   float64       \n",
      " 39  EMA_100_binary              1365 non-null   int64         \n",
      " 40  KST                         1351 non-null   float64       \n",
      " 41  KST_diff                    1351 non-null   float64       \n",
      " 42  KST_sig                     1351 non-null   float64       \n",
      " 43  MACD_line                   1340 non-null   float64       \n",
      " 44  MACD_signal                 1332 non-null   float64       \n",
      " 45  MAI                         1325 non-null   float64       \n",
      " 46  PSAR_binary                 1365 non-null   int64         \n",
      " 47  STC                         1294 non-null   float64       \n",
      " 48  TRIX                        1322 non-null   float64       \n",
      " 49  vortex_ind_diff             1351 non-null   float64       \n",
      " 50  vortex_neg                  1351 non-null   float64       \n",
      " 51  vortex_pos                  1351 non-null   float64       \n",
      " 52  S&P_close_filled            1365 non-null   float64       \n",
      " 53  Interest_Rates_filled       1365 non-null   float64       \n",
      " 54  Inflation_Rate_us           1365 non-null   float64       \n",
      " 55  subhag_signal               1365 non-null   int64         \n",
      " 56  Fisher                      1365 non-null   float64       \n",
      " 57  Fisher_trigger              1365 non-null   float64       \n",
      " 58  supertrend                  1365 non-null   int64         \n",
      " 59  chop_index                  1365 non-null   float64       \n",
      " 60  Velocity                    1365 non-null   int64         \n",
      "dtypes: datetime64[ns](1), float64(55), int64(5)\n",
      "memory usage: 693.5 KB\n"
     ]
    }
   ],
   "source": [
    "data.info()"
   ]
  },
  {
   "cell_type": "code",
   "execution_count": 117,
   "id": "a02e3025",
   "metadata": {},
   "outputs": [
    {
     "name": "stdout",
     "output_type": "stream",
     "text": [
      "Shape: (1365, 61)\n",
      "Duplicates: 0\n",
      "Duplicate timestamps 0\n",
      "Total amount of NaN: 830\n"
     ]
    }
   ],
   "source": [
    "data_check(data)"
   ]
  },
  {
   "cell_type": "code",
   "execution_count": 118,
   "id": "adb5eea5",
   "metadata": {},
   "outputs": [
    {
     "data": {
      "text/plain": [
       "'20230613-130102'"
      ]
     },
     "execution_count": 118,
     "metadata": {},
     "output_type": "execute_result"
    }
   ],
   "source": [
    "import datetime\n",
    "\n",
    "now = datetime.datetime.now()\n",
    "now = now.strftime(\"%Y%m%d-%H%M%S\")\n",
    "now"
   ]
  },
  {
   "cell_type": "code",
   "execution_count": 119,
   "id": "11309c6f",
   "metadata": {},
   "outputs": [],
   "source": [
    "data = data.dropna().reset_index(drop=True)\n",
    "\n",
    "data.to_csv(f'../raw_data/{now}-hourly-processed-data.csv', index=False)"
   ]
  },
  {
   "cell_type": "code",
   "execution_count": 120,
   "id": "5841187c",
   "metadata": {},
   "outputs": [],
   "source": [
    "# load_df = pd.read_csv(f'../raw_data/{now}-hourly-processed-data.csv')\n",
    "# data_check(load_df)"
   ]
  },
  {
   "cell_type": "code",
   "execution_count": 121,
   "id": "cce742a3",
   "metadata": {},
   "outputs": [],
   "source": [
    "# load_df.info()"
   ]
  },
  {
   "cell_type": "code",
   "execution_count": 122,
   "id": "700fc0d3",
   "metadata": {},
   "outputs": [],
   "source": [
    "# load_df['timestamp'] = pd.to_datetime(load_df['timestamp'])\n",
    "# load_df.info()"
   ]
  },
  {
   "cell_type": "code",
   "execution_count": 123,
   "id": "562370bc",
   "metadata": {},
   "outputs": [],
   "source": [
    "# daily_df = load_df[load_df['timestamp'].dt.hour == 0].reset_index(drop=True)\n",
    "# daily_df"
   ]
  },
  {
   "cell_type": "code",
   "execution_count": 124,
   "id": "ebef571d",
   "metadata": {},
   "outputs": [],
   "source": [
    "# daily_df.to_csv(f'../raw_data/{now}-daily-processed-data.csv', index=False)"
   ]
  },
  {
   "cell_type": "code",
   "execution_count": null,
   "id": "7aafb85e",
   "metadata": {},
   "outputs": [],
   "source": []
  },
  {
   "cell_type": "code",
   "execution_count": null,
   "id": "e16be8bb",
   "metadata": {},
   "outputs": [],
   "source": []
  }
 ],
 "metadata": {
  "kernelspec": {
   "display_name": "Python 3 (ipykernel)",
   "language": "python",
   "name": "python3"
  },
  "language_info": {
   "codemirror_mode": {
    "name": "ipython",
    "version": 3
   },
   "file_extension": ".py",
   "mimetype": "text/x-python",
   "name": "python",
   "nbconvert_exporter": "python",
   "pygments_lexer": "ipython3",
   "version": "3.10.6"
  },
  "toc": {
   "base_numbering": 1,
   "nav_menu": {},
   "number_sections": true,
   "sideBar": true,
   "skip_h1_title": false,
   "title_cell": "Table of Contents",
   "title_sidebar": "Contents",
   "toc_cell": false,
   "toc_position": {},
   "toc_section_display": true,
   "toc_window_display": false
  }
 },
 "nbformat": 4,
 "nbformat_minor": 5
}
