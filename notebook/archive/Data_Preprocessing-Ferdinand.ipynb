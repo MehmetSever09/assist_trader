{
 "cells": [
  {
   "cell_type": "code",
   "execution_count": 15,
   "id": "e1b472b2",
   "metadata": {},
   "outputs": [],
   "source": [
    "import pandas as pd\n",
    "import numpy as np\n",
    "import missingno as msno"
   ]
  },
  {
   "cell_type": "code",
   "execution_count": 16,
   "id": "a103b607",
   "metadata": {},
   "outputs": [],
   "source": [
    "data = pd.read_csv(\"../notebook/final_raw_data_all_featues.csv\")"
   ]
  },
  {
   "cell_type": "code",
   "execution_count": 17,
   "id": "8b2bab21",
   "metadata": {},
   "outputs": [
    {
     "data": {
      "text/html": [
       "<div>\n",
       "<style scoped>\n",
       "    .dataframe tbody tr th:only-of-type {\n",
       "        vertical-align: middle;\n",
       "    }\n",
       "\n",
       "    .dataframe tbody tr th {\n",
       "        vertical-align: top;\n",
       "    }\n",
       "\n",
       "    .dataframe thead th {\n",
       "        text-align: right;\n",
       "    }\n",
       "</style>\n",
       "<table border=\"1\" class=\"dataframe\">\n",
       "  <thead>\n",
       "    <tr style=\"text-align: right;\">\n",
       "      <th></th>\n",
       "      <th>timestamp</th>\n",
       "      <th>open</th>\n",
       "      <th>high</th>\n",
       "      <th>low</th>\n",
       "      <th>close</th>\n",
       "      <th>volume</th>\n",
       "      <th>CMF</th>\n",
       "      <th>FII</th>\n",
       "      <th>MFI</th>\n",
       "      <th>VWA</th>\n",
       "      <th>...</th>\n",
       "      <th>wma_100</th>\n",
       "      <th>S&amp;P_close_filled</th>\n",
       "      <th>Interest_Rates_filled</th>\n",
       "      <th>Inflation_Rate_us</th>\n",
       "      <th>subhag_signal</th>\n",
       "      <th>Fisher</th>\n",
       "      <th>Fisher_trigger</th>\n",
       "      <th>supertrend</th>\n",
       "      <th>chop_index</th>\n",
       "      <th>Velocity</th>\n",
       "    </tr>\n",
       "  </thead>\n",
       "  <tbody>\n",
       "    <tr>\n",
       "      <th>0</th>\n",
       "      <td>2019-09-08 20:00:00</td>\n",
       "      <td>10000.00</td>\n",
       "      <td>10000.00</td>\n",
       "      <td>10000.00</td>\n",
       "      <td>10000.00</td>\n",
       "      <td>0.002</td>\n",
       "      <td>NaN</td>\n",
       "      <td>NaN</td>\n",
       "      <td>NaN</td>\n",
       "      <td>NaN</td>\n",
       "      <td>...</td>\n",
       "      <td>NaN</td>\n",
       "      <td>2978.43</td>\n",
       "      <td>2.25</td>\n",
       "      <td>1.7</td>\n",
       "      <td>-1</td>\n",
       "      <td>0.00000</td>\n",
       "      <td>0.00000</td>\n",
       "      <td>1</td>\n",
       "      <td>inf</td>\n",
       "      <td>-1</td>\n",
       "    </tr>\n",
       "    <tr>\n",
       "      <th>1</th>\n",
       "      <td>2019-09-08 21:00:00</td>\n",
       "      <td>10000.00</td>\n",
       "      <td>10000.00</td>\n",
       "      <td>10000.00</td>\n",
       "      <td>10000.00</td>\n",
       "      <td>0.000</td>\n",
       "      <td>NaN</td>\n",
       "      <td>NaN</td>\n",
       "      <td>NaN</td>\n",
       "      <td>NaN</td>\n",
       "      <td>...</td>\n",
       "      <td>NaN</td>\n",
       "      <td>2978.43</td>\n",
       "      <td>2.25</td>\n",
       "      <td>1.7</td>\n",
       "      <td>-1</td>\n",
       "      <td>3.80020</td>\n",
       "      <td>0.00000</td>\n",
       "      <td>1</td>\n",
       "      <td>inf</td>\n",
       "      <td>1</td>\n",
       "    </tr>\n",
       "    <tr>\n",
       "      <th>2</th>\n",
       "      <td>2019-09-08 22:00:00</td>\n",
       "      <td>10344.77</td>\n",
       "      <td>10357.53</td>\n",
       "      <td>10337.43</td>\n",
       "      <td>10340.12</td>\n",
       "      <td>471.659</td>\n",
       "      <td>NaN</td>\n",
       "      <td>NaN</td>\n",
       "      <td>NaN</td>\n",
       "      <td>NaN</td>\n",
       "      <td>...</td>\n",
       "      <td>NaN</td>\n",
       "      <td>2978.43</td>\n",
       "      <td>2.25</td>\n",
       "      <td>1.7</td>\n",
       "      <td>-1</td>\n",
       "      <td>5.70030</td>\n",
       "      <td>3.80020</td>\n",
       "      <td>1</td>\n",
       "      <td>inf</td>\n",
       "      <td>1</td>\n",
       "    </tr>\n",
       "    <tr>\n",
       "      <th>3</th>\n",
       "      <td>2019-09-08 23:00:00</td>\n",
       "      <td>10340.12</td>\n",
       "      <td>10368.64</td>\n",
       "      <td>10334.54</td>\n",
       "      <td>10351.42</td>\n",
       "      <td>583.271</td>\n",
       "      <td>NaN</td>\n",
       "      <td>NaN</td>\n",
       "      <td>NaN</td>\n",
       "      <td>NaN</td>\n",
       "      <td>...</td>\n",
       "      <td>NaN</td>\n",
       "      <td>2978.43</td>\n",
       "      <td>2.25</td>\n",
       "      <td>1.7</td>\n",
       "      <td>-1</td>\n",
       "      <td>6.65035</td>\n",
       "      <td>5.70030</td>\n",
       "      <td>1</td>\n",
       "      <td>inf</td>\n",
       "      <td>1</td>\n",
       "    </tr>\n",
       "    <tr>\n",
       "      <th>4</th>\n",
       "      <td>2019-09-09 00:00:00</td>\n",
       "      <td>10351.42</td>\n",
       "      <td>10391.90</td>\n",
       "      <td>10324.77</td>\n",
       "      <td>10391.90</td>\n",
       "      <td>689.759</td>\n",
       "      <td>NaN</td>\n",
       "      <td>NaN</td>\n",
       "      <td>NaN</td>\n",
       "      <td>NaN</td>\n",
       "      <td>...</td>\n",
       "      <td>NaN</td>\n",
       "      <td>2978.43</td>\n",
       "      <td>2.25</td>\n",
       "      <td>1.7</td>\n",
       "      <td>-1</td>\n",
       "      <td>7.12538</td>\n",
       "      <td>6.65035</td>\n",
       "      <td>1</td>\n",
       "      <td>inf</td>\n",
       "      <td>1</td>\n",
       "    </tr>\n",
       "  </tbody>\n",
       "</table>\n",
       "<p>5 rows × 78 columns</p>\n",
       "</div>"
      ],
      "text/plain": [
       "             timestamp      open      high       low     close   volume  CMF  \\\n",
       "0  2019-09-08 20:00:00  10000.00  10000.00  10000.00  10000.00    0.002  NaN   \n",
       "1  2019-09-08 21:00:00  10000.00  10000.00  10000.00  10000.00    0.000  NaN   \n",
       "2  2019-09-08 22:00:00  10344.77  10357.53  10337.43  10340.12  471.659  NaN   \n",
       "3  2019-09-08 23:00:00  10340.12  10368.64  10334.54  10351.42  583.271  NaN   \n",
       "4  2019-09-09 00:00:00  10351.42  10391.90  10324.77  10391.90  689.759  NaN   \n",
       "\n",
       "   FII  MFI  VWA  ...  wma_100  S&P_close_filled  Interest_Rates_filled  \\\n",
       "0  NaN  NaN  NaN  ...      NaN           2978.43                   2.25   \n",
       "1  NaN  NaN  NaN  ...      NaN           2978.43                   2.25   \n",
       "2  NaN  NaN  NaN  ...      NaN           2978.43                   2.25   \n",
       "3  NaN  NaN  NaN  ...      NaN           2978.43                   2.25   \n",
       "4  NaN  NaN  NaN  ...      NaN           2978.43                   2.25   \n",
       "\n",
       "   Inflation_Rate_us  subhag_signal   Fisher  Fisher_trigger  supertrend  \\\n",
       "0                1.7             -1  0.00000         0.00000           1   \n",
       "1                1.7             -1  3.80020         0.00000           1   \n",
       "2                1.7             -1  5.70030         3.80020           1   \n",
       "3                1.7             -1  6.65035         5.70030           1   \n",
       "4                1.7             -1  7.12538         6.65035           1   \n",
       "\n",
       "   chop_index  Velocity  \n",
       "0         inf        -1  \n",
       "1         inf         1  \n",
       "2         inf         1  \n",
       "3         inf         1  \n",
       "4         inf         1  \n",
       "\n",
       "[5 rows x 78 columns]"
      ]
     },
     "execution_count": 17,
     "metadata": {},
     "output_type": "execute_result"
    }
   ],
   "source": [
    "data.head()"
   ]
  },
  {
   "cell_type": "code",
   "execution_count": 18,
   "id": "b7b5707d",
   "metadata": {},
   "outputs": [
    {
     "name": "stdout",
     "output_type": "stream",
     "text": [
      "<class 'pandas.core.series.Series'>\n",
      "RangeIndex: 32756 entries, 0 to 32755\n",
      "Series name: chop_index\n",
      "Non-Null Count  Dtype  \n",
      "--------------  -----  \n",
      "32756 non-null  float64\n",
      "dtypes: float64(1)\n",
      "memory usage: 256.0 KB\n"
     ]
    }
   ],
   "source": [
    "data[\"chop_index\"].info()"
   ]
  },
  {
   "cell_type": "code",
   "execution_count": 19,
   "id": "2a9162ad",
   "metadata": {},
   "outputs": [
    {
     "data": {
      "text/plain": [
       "<Axes: >"
      ]
     },
     "execution_count": 19,
     "metadata": {},
     "output_type": "execute_result"
    },
    {
     "data": {
      "image/png": "[encoded data removed]",
      "text/plain": [
       "<Figure size 2000x500 with 2 Axes>"
      ]
     },
     "metadata": {},
     "output_type": "display_data"
    }
   ],
   "source": [
    "msno.matrix(df=data, figsize = (20, 5))"
   ]
  },
  {
   "cell_type": "code",
   "execution_count": 20,
   "id": "20078014",
   "metadata": {},
   "outputs": [
    {
     "name": "stdout",
     "output_type": "stream",
     "text": [
      "<class 'pandas.core.frame.DataFrame'>\n",
      "RangeIndex: 32756 entries, 0 to 32755\n",
      "Data columns (total 78 columns):\n",
      " #   Column                  Non-Null Count  Dtype  \n",
      "---  ------                  --------------  -----  \n",
      " 0   timestamp               32756 non-null  object \n",
      " 1   open                    32756 non-null  float64\n",
      " 2   high                    32756 non-null  float64\n",
      " 3   low                     32756 non-null  float64\n",
      " 4   close                   32756 non-null  float64\n",
      " 5   volume                  32756 non-null  float64\n",
      " 6   CMF                     32737 non-null  float64\n",
      " 7   FII                     32743 non-null  float64\n",
      " 8   MFI                     32743 non-null  float64\n",
      " 9   VWA                     32743 non-null  float64\n",
      " 10  AOI                     32723 non-null  float64\n",
      " 11  KAMA                    32747 non-null  float64\n",
      " 12  PPO                     32731 non-null  float64\n",
      " 13  PPO_signal              32723 non-null  float64\n",
      " 14  PVO                     32731 non-null  float64\n",
      " 15  PVO_signal              32723 non-null  float64\n",
      " 16  ROC                     32744 non-null  float64\n",
      " 17  rsi                     32743 non-null  float64\n",
      " 18  stoch_RSI               32730 non-null  float64\n",
      " 19  StochOscillator         32743 non-null  float64\n",
      " 20  StochOscillator_signal  32741 non-null  float64\n",
      " 21  TSI                     32719 non-null  float64\n",
      " 22  UltimateOscillator      32728 non-null  float64\n",
      " 23  WilliamsRIndicator      32743 non-null  float64\n",
      " 24  ATR                     32756 non-null  float64\n",
      " 25  BOL_lband               32737 non-null  float64\n",
      " 26  BOL_hband               32737 non-null  float64\n",
      " 27  BOL_avg                 32737 non-null  float64\n",
      " 28  KCW                     32737 non-null  float64\n",
      " 29  KCP                     32754 non-null  float64\n",
      " 30  KCM                     32737 non-null  float64\n",
      " 31  DCL                     32737 non-null  float64\n",
      " 32  DCH                     32737 non-null  float64\n",
      " 33  DCM                     32747 non-null  float64\n",
      " 34  ULI                     32743 non-null  float64\n",
      " 35  ADX                     32756 non-null  float64\n",
      " 36  ADX_neg                 32756 non-null  float64\n",
      " 37  ADX_pos                 32756 non-null  float64\n",
      " 38  ARI_down                32732 non-null  float64\n",
      " 39  ARI                     32732 non-null  float64\n",
      " 40  ARI_up                  32732 non-null  float64\n",
      " 41  CCI                     32737 non-null  float64\n",
      " 42  DPO                     32737 non-null  float64\n",
      " 43  EMA_14                  32743 non-null  float64\n",
      " 44  EMA_20                  32737 non-null  float64\n",
      " 45  EMA_50                  32707 non-null  float64\n",
      " 46  EMA_100                 32657 non-null  float64\n",
      " 47  EMA_200                 32557 non-null  float64\n",
      " 48  KST                     32742 non-null  float64\n",
      " 49  KST_diff                32742 non-null  float64\n",
      " 50  KST_sig                 32742 non-null  float64\n",
      " 51  MACD_line               32731 non-null  float64\n",
      " 52  MACD_signal             32723 non-null  float64\n",
      " 53  MAI                     32716 non-null  float64\n",
      " 54  PSAR                    32756 non-null  float64\n",
      " 55  SMA_14                  32743 non-null  float64\n",
      " 56  SMA_20                  32737 non-null  float64\n",
      " 57  SMA_50                  32707 non-null  float64\n",
      " 58  SMA_100                 32657 non-null  float64\n",
      " 59  SMA_200                 32557 non-null  float64\n",
      " 60  STC                     32685 non-null  float64\n",
      " 61  TRIX                    32713 non-null  float64\n",
      " 62  vortex_ind_diff         32742 non-null  float64\n",
      " 63  vortex_neg              32742 non-null  float64\n",
      " 64  vortex_pos              32742 non-null  float64\n",
      " 65  wma_9                   32743 non-null  float64\n",
      " 66  wma_20                  32737 non-null  float64\n",
      " 67  wma_50                  32707 non-null  float64\n",
      " 68  wma_100                 32657 non-null  float64\n",
      " 69  S&P_close_filled        32756 non-null  float64\n",
      " 70  Interest_Rates_filled   32756 non-null  float64\n",
      " 71  Inflation_Rate_us       32756 non-null  float64\n",
      " 72  subhag_signal           32756 non-null  int64  \n",
      " 73  Fisher                  32756 non-null  float64\n",
      " 74  Fisher_trigger          32756 non-null  float64\n",
      " 75  supertrend              32756 non-null  int64  \n",
      " 76  chop_index              32756 non-null  float64\n",
      " 77  Velocity                32756 non-null  int64  \n",
      "dtypes: float64(74), int64(3), object(1)\n",
      "memory usage: 19.5+ MB\n"
     ]
    }
   ],
   "source": [
    "data.info()"
   ]
  },
  {
   "cell_type": "code",
   "execution_count": 21,
   "id": "56d8566b",
   "metadata": {},
   "outputs": [
    {
     "data": {
      "text/plain": [
       "0"
      ]
     },
     "execution_count": 21,
     "metadata": {},
     "output_type": "execute_result"
    }
   ],
   "source": [
    "data[\"Inflation_Rate_us\"].isna().sum()"
   ]
  },
  {
   "cell_type": "code",
   "execution_count": 25,
   "id": "3b4be706",
   "metadata": {},
   "outputs": [
    {
     "data": {
      "text/plain": [
       "SMA_200     199\n",
       "EMA_200     199\n",
       "EMA_100      99\n",
       "wma_100      99\n",
       "SMA_100      99\n",
       "           ... \n",
       "volume        0\n",
       "close         0\n",
       "low           0\n",
       "high          0\n",
       "Velocity      0\n",
       "Length: 78, dtype: int64"
      ]
     },
     "execution_count": 25,
     "metadata": {},
     "output_type": "execute_result"
    }
   ],
   "source": [
    "data.isna().sum().sort_values(ascending=False)"
   ]
  },
  {
   "cell_type": "code",
   "execution_count": 27,
   "id": "41b95d29",
   "metadata": {},
   "outputs": [],
   "source": [
    "data_clean = data.drop(data.index[:200])"
   ]
  },
  {
   "cell_type": "code",
   "execution_count": 30,
   "id": "c6028966",
   "metadata": {},
   "outputs": [
    {
     "data": {
      "text/plain": [
       "timestamp             0\n",
       "KST_diff              0\n",
       "SMA_20                0\n",
       "SMA_14                0\n",
       "PSAR                  0\n",
       "                     ..\n",
       "BOL_lband             0\n",
       "ATR                   0\n",
       "WilliamsRIndicator    0\n",
       "UltimateOscillator    0\n",
       "Velocity              0\n",
       "Length: 78, dtype: int64"
      ]
     },
     "execution_count": 30,
     "metadata": {},
     "output_type": "execute_result"
    }
   ],
   "source": [
    "data_clean.isna().sum().sort_values(ascending=False)"
   ]
  },
  {
   "cell_type": "code",
   "execution_count": 31,
   "id": "aa9d6c16",
   "metadata": {},
   "outputs": [
    {
     "data": {
      "text/plain": [
       "<Axes: >"
      ]
     },
     "execution_count": 31,
     "metadata": {},
     "output_type": "execute_result"
    },
    {
     "data": {
      "image/png": "[encoded data removed]",
      "text/plain": [
       "<Figure size 2000x500 with 2 Axes>"
      ]
     },
     "metadata": {},
     "output_type": "display_data"
    }
   ],
   "source": [
    "msno.matrix(df=data_clean, figsize = (20, 5))"
   ]
  },
  {
   "cell_type": "code",
   "execution_count": 34,
   "id": "03b21277",
   "metadata": {},
   "outputs": [],
   "source": [
    "data_clean.to_csv('clean_raw_data.csv', index=False)"
   ]
  },
  {
   "cell_type": "code",
   "execution_count": null,
   "id": "9938f0f9",
   "metadata": {},
   "outputs": [],
   "source": []
  }
 ],
 "metadata": {
  "kernelspec": {
   "display_name": "Python 3 (ipykernel)",
   "language": "python",
   "name": "python3"
  },
  "language_info": {
   "codemirror_mode": {
    "name": "ipython",
    "version": 3
   },
   "file_extension": ".py",
   "mimetype": "text/x-python",
   "name": "python",
   "nbconvert_exporter": "python",
   "pygments_lexer": "ipython3",
   "version": "3.10.6"
  },
  "toc": {
   "base_numbering": 1,
   "nav_menu": {},
   "number_sections": true,
   "sideBar": true,
   "skip_h1_title": false,
   "title_cell": "Table of Contents",
   "title_sidebar": "Contents",
   "toc_cell": false,
   "toc_position": {},
   "toc_section_display": true,
   "toc_window_display": false
  }
 },
 "nbformat": 4,
 "nbformat_minor": 5
}
