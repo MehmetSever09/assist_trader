{
 "cells": [
  {
   "cell_type": "markdown",
   "id": "69fb63fb",
   "metadata": {},
   "source": [
    "## Feature Selection ##"
   ]
  },
  {
   "cell_type": "code",
   "execution_count": 3,
   "id": "512e6af6",
   "metadata": {},
   "outputs": [],
   "source": [
    "import pandas as pd\n",
    "import ta\n",
    "import numpy as np\n",
    "import seaborn as sns\n",
    "import matplotlib.pyplot as plt\n",
    "from statsmodels.graphics.tsaplots import plot_acf\n",
    "from statsmodels.graphics.tsaplots import plot_pacf\n",
    "from pandas.plotting import scatter_matrix\n",
    "from statsmodels.tsa.stattools import grangercausalitytests"
   ]
  },
  {
   "cell_type": "code",
   "execution_count": null,
   "id": "d4bdb044",
   "metadata": {},
   "outputs": [],
   "source": [
    "# Import data \n"
   ]
  },
  {
   "cell_type": "code",
   "execution_count": null,
   "id": "400888af",
   "metadata": {},
   "outputs": [],
   "source": [
    "# Compute correlation matrix\n",
    "correlation_matrix = data.corr()"
   ]
  },
  {
   "cell_type": "code",
   "execution_count": null,
   "id": "1639f04e",
   "metadata": {},
   "outputs": [],
   "source": [
    "# Visualize the Corr matrix\n",
    "plt.figure(figsize=(12, 10))\n",
    "sns.heatmap(correlation_matrix, annot=True, cmap=\"coolwarm\")\n",
    "plt.title(\"Correlation Matrix\")\n",
    "plt.show()"
   ]
  },
  {
   "cell_type": "markdown",
   "id": "2ac6e24c",
   "metadata": {},
   "source": [
    "--> The heatmap visualization will display the correlation coefficients between each pair of features in your dataset. \n",
    "The colors in the heatmap represent the strength and direction of the correlation. \n",
    "Positive correlations are indicated by warmer colors (reds), \n",
    "negative correlations by cooler colors (blues), and no correlation by white.\n"
   ]
  },
  {
   "cell_type": "code",
   "execution_count": null,
   "id": "78ac61fe",
   "metadata": {},
   "outputs": [],
   "source": [
    "# Compute autocorrelation\n",
    "plot_acf(data['close'], lags=14)\n",
    "plt.title(\"Autocorrelation Function\")\n",
    "plt.show()"
   ]
  },
  {
   "cell_type": "code",
   "execution_count": null,
   "id": "55e6d378",
   "metadata": {},
   "outputs": [],
   "source": [
    "# Compute Partial Autocorrelation \n",
    "plot_pacf(data['close'], lags=14)\n",
    "plt.title(\"Partial Autocorrelation Function\")\n",
    "plt.show()"
   ]
  },
  {
   "cell_type": "code",
   "execution_count": null,
   "id": "55f7f9d6",
   "metadata": {},
   "outputs": [],
   "source": [
    "# Compute scatter matrix\n",
    "subset = data[\"close\"]"
   ]
  },
  {
   "cell_type": "code",
   "execution_count": null,
   "id": "de38a4e6",
   "metadata": {},
   "outputs": [],
   "source": [
    "scatter_matrix(subset, figsize=(10, 10), diagonal='kde')\n",
    "plt.show()"
   ]
  },
  {
   "cell_type": "markdown",
   "id": "4ee054ac",
   "metadata": {},
   "source": [
    "### Granger Causality ###"
   ]
  },
  {
   "cell_type": "code",
   "execution_count": null,
   "id": "23a1b681",
   "metadata": {},
   "outputs": [],
   "source": [
    "# put the feature you wanna analyze into subset\n",
    "subset = data[[\"close\", \"volume\"]]"
   ]
  },
  {
   "cell_type": "code",
   "execution_count": null,
   "id": "02c24ec0",
   "metadata": {},
   "outputs": [],
   "source": [
    "max_lag = 14  # Specify the maximum lag value for the test\n",
    "results = grangercausalitytests(subset, max_lag)"
   ]
  },
  {
   "cell_type": "markdown",
   "id": "74e4a53c",
   "metadata": {},
   "source": [
    "-->  The p-values help evaluate the significance of the causality, where lower p-values indicate a stronger evidence of causality."
   ]
  },
  {
   "cell_type": "code",
   "execution_count": null,
   "id": "1125898d",
   "metadata": {},
   "outputs": [],
   "source": [
    "for lag in range(1, max_lag + 1):\n",
    "    p_value = results[lag][0]['ssr_chi2test'][1]\n",
    "    print(f\"Lag {lag}: p-value = {p_value}\")"
   ]
  },
  {
   "cell_type": "code",
   "execution_count": null,
   "id": "3f6f17c2",
   "metadata": {},
   "outputs": [],
   "source": []
  },
  {
   "cell_type": "code",
   "execution_count": null,
   "id": "bed5419f",
   "metadata": {},
   "outputs": [],
   "source": []
  },
  {
   "cell_type": "code",
   "execution_count": null,
   "id": "a031a79e",
   "metadata": {},
   "outputs": [],
   "source": []
  },
  {
   "cell_type": "code",
   "execution_count": null,
   "id": "64e2f0a3",
   "metadata": {},
   "outputs": [],
   "source": []
  },
  {
   "cell_type": "code",
   "execution_count": null,
   "id": "12c12163",
   "metadata": {},
   "outputs": [],
   "source": []
  },
  {
   "cell_type": "code",
   "execution_count": null,
   "id": "fab2405a",
   "metadata": {},
   "outputs": [],
   "source": []
  }
 ],
 "metadata": {
  "kernelspec": {
   "display_name": "Python 3 (ipykernel)",
   "language": "python",
   "name": "python3"
  },
  "language_info": {
   "codemirror_mode": {
    "name": "ipython",
    "version": 3
   },
   "file_extension": ".py",
   "mimetype": "text/x-python",
   "name": "python",
   "nbconvert_exporter": "python",
   "pygments_lexer": "ipython3",
   "version": "3.10.6"
  },
  "toc": {
   "base_numbering": 1,
   "nav_menu": {},
   "number_sections": true,
   "sideBar": true,
   "skip_h1_title": false,
   "title_cell": "Table of Contents",
   "title_sidebar": "Contents",
   "toc_cell": false,
   "toc_position": {},
   "toc_section_display": true,
   "toc_window_display": false
  }
 },
 "nbformat": 4,
 "nbformat_minor": 5
}
