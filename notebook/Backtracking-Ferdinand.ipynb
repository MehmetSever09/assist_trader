{
 "cells": [
  {
   "cell_type": "markdown",
   "id": "e268fc0c",
   "metadata": {},
   "source": [
    "# Backtracking\n"
   ]
  },
  {
   "cell_type": "markdown",
   "id": "5a24aef2",
   "metadata": {},
   "source": [
    "imports\n"
   ]
  },
  {
   "cell_type": "code",
   "execution_count": 12,
   "id": "da78e958",
   "metadata": {},
   "outputs": [],
   "source": [
    "import pandas as pd\n",
    "import numpy as np\n",
    "import matplotlib.pyplot as plt\n",
    "import backtrader as bt"
   ]
  },
  {
   "cell_type": "code",
   "execution_count": 27,
   "id": "b82fd804",
   "metadata": {},
   "outputs": [
    {
     "data": {
      "text/html": [
       "<div>\n",
       "<style scoped>\n",
       "    .dataframe tbody tr th:only-of-type {\n",
       "        vertical-align: middle;\n",
       "    }\n",
       "\n",
       "    .dataframe tbody tr th {\n",
       "        vertical-align: top;\n",
       "    }\n",
       "\n",
       "    .dataframe thead th {\n",
       "        text-align: right;\n",
       "    }\n",
       "</style>\n",
       "<table border=\"1\" class=\"dataframe\">\n",
       "  <thead>\n",
       "    <tr style=\"text-align: right;\">\n",
       "      <th></th>\n",
       "      <th>timestamp</th>\n",
       "      <th>open</th>\n",
       "      <th>high</th>\n",
       "      <th>low</th>\n",
       "      <th>close</th>\n",
       "      <th>volume</th>\n",
       "      <th>volume_CMF</th>\n",
       "      <th>volume_FII</th>\n",
       "      <th>volume_MFI</th>\n",
       "      <th>volume_VWA</th>\n",
       "      <th>...</th>\n",
       "      <th>vortex_pos</th>\n",
       "      <th>S&amp;P_close_filled</th>\n",
       "      <th>Interest_Rates_filled</th>\n",
       "      <th>Inflation_Rate_us</th>\n",
       "      <th>subhag_signal</th>\n",
       "      <th>Fisher</th>\n",
       "      <th>Fisher_trigger</th>\n",
       "      <th>supertrend</th>\n",
       "      <th>chop_index</th>\n",
       "      <th>Velocity</th>\n",
       "    </tr>\n",
       "  </thead>\n",
       "  <tbody>\n",
       "    <tr>\n",
       "      <th>71</th>\n",
       "      <td>2019-09-11 19:00:00</td>\n",
       "      <td>9992.18</td>\n",
       "      <td>10110.21</td>\n",
       "      <td>9934.11</td>\n",
       "      <td>10044.87</td>\n",
       "      <td>643.32</td>\n",
       "      <td>-0.041563</td>\n",
       "      <td>154.369057</td>\n",
       "      <td>34.613137</td>\n",
       "      <td>10037.46237</td>\n",
       "      <td>...</td>\n",
       "      <td>0.900406</td>\n",
       "      <td>3000.93</td>\n",
       "      <td>2.25</td>\n",
       "      <td>2.0</td>\n",
       "      <td>-1.0</td>\n",
       "      <td>-0.33674</td>\n",
       "      <td>0.0292</td>\n",
       "      <td>-1.0</td>\n",
       "      <td>58.337947</td>\n",
       "      <td>-1.0</td>\n",
       "    </tr>\n",
       "  </tbody>\n",
       "</table>\n",
       "<p>1 rows × 61 columns</p>\n",
       "</div>"
      ],
      "text/plain": [
       "              timestamp     open      high      low     close  volume  \\\n",
       "71  2019-09-11 19:00:00  9992.18  10110.21  9934.11  10044.87  643.32   \n",
       "\n",
       "    volume_CMF  volume_FII  volume_MFI   volume_VWA  ...  vortex_pos  \\\n",
       "71   -0.041563  154.369057   34.613137  10037.46237  ...    0.900406   \n",
       "\n",
       "    S&P_close_filled  Interest_Rates_filled  Inflation_Rate_us  subhag_signal  \\\n",
       "71           3000.93                   2.25                2.0           -1.0   \n",
       "\n",
       "     Fisher  Fisher_trigger  supertrend  chop_index  Velocity  \n",
       "71 -0.33674          0.0292        -1.0   58.337947      -1.0  \n",
       "\n",
       "[1 rows x 61 columns]"
      ]
     },
     "execution_count": 27,
     "metadata": {},
     "output_type": "execute_result"
    }
   ],
   "source": [
    "df = pd.read_csv(\"../raw_data/20230609-150316-processed-data.csv\")\n",
    "df.dropna(inplace=True)\n",
    "df.head(1)"
   ]
  },
  {
   "cell_type": "code",
   "execution_count": null,
   "id": "1b4e34f3",
   "metadata": {},
   "outputs": [],
   "source": []
  },
  {
   "cell_type": "code",
   "execution_count": null,
   "id": "ec3fe00b",
   "metadata": {},
   "outputs": [],
   "source": []
  },
  {
   "cell_type": "code",
   "execution_count": null,
   "id": "7e49685a",
   "metadata": {},
   "outputs": [],
   "source": [
    "from pyalgotrade import strategy from pyalgotrade.technical import ma\n",
    "class MACrossoverStrategy (strategy .BacktestingStrategy):\n",
    "def _init_(self, feed, instrument, broker, fastha, slowa, takeProfithultiplier, Stopiultiplier):\n",
    "\n",
    "#Parameters:\n",
    "#feed: historical data feed\n",
    "#instrument: the asset we are trading broker: exchange broker peculiarities \n",
    "#fastMA: fast moving average periods slowMA: slow moving average periods\n",
    "#takeProfitMultipler: percetage to define our take profit stopMultiplier: percetage to define our stop loss\n",
    "    super (MACrossoverStrategy, self)•__init_(feed, broker)\n",
    "    self.__instrument = instrument\n",
    "    self.__fast_ma = ma.SMA(feed [ instrument ] -getPriceDataseries(), fastMA) \n",
    "    self.__slow_ma = ma. SMA (feed [instrument ] -getPriceDataseries(), slowMA)\n",
    "    self.__takeProfitMultiplier = takeProfitMultiplier\n",
    "    self.__stopMultiplier = stopMultiplier\n",
    "    self.__takeProfitPrice = None\n",
    "    self.__stopPrice = None\n",
    "    self.__position = None\n",
    "    self.__lastTrend = None\n",
    "    \n",
    "    \n",
    "    def onBars(self, bars) :\n",
    "# Wait for enough bars to be available to calculate Moving Averages\n",
    "        if self.__fast_ma[-1] is None or self.__slow_ma[-1] is None:\n",
    "            return\n",
    "        bar = bars[self.__instrument]\n",
    "# If we don't have an open position, we check if there is an trend reversal\n",
    "        if self.\n",
    "•position is None:\n",
    "if self.\n",
    "fast_mal-1] > self.__slow_ma[-1] and self.\n",
    "lastTrend != 'BULL':\n",
    "# If the trend is bullish, we buy 1 bitcoin and calculate the\n",
    "# take profit and stop loss prices\n",
    "self.\n",
    "_position - self.enterLong(self..\n",
    "instrument, 1, True)\n",
    "self.\n",
    "_takeProfitPrice - bar •getPrice() * (1 + self..\n",
    "takeProfithultiplier)\n",
    "self._ _stopPrice - bar.getPrice() * (1 - self..\n",
    "_stopMultiplier)\n",
    "self., lastTrend -\n",
    "\"BULL\n",
    "elif self.\n",
    "fast_ma[-1] < self.__slow_ma[-1] and self..\n",
    "lastirend !- \"BEAR':\n",
    "# If the trend is bearish, we sell 1 bitcoin and calculate the\n",
    "# take profit and stop loss prices\n",
    "self.\n",
    "position - self.enterShort (self.\n",
    "_instrument, 1, True)\n",
    "self.\n",
    "takeProfitPrice - bar.getPrice() * (1 - self.\n",
    "takeProfitMultiplier)\n",
    "self.\n",
    "-stopPrice - bar-getPrice() * (1 + self._ stopMultiplier)\n",
    "self.\n",
    "lastirend\n",
    "BEAR\"\n",
    "else:\n",
    "# If we have an open position, we check if the asset price got to our take profit\n",
    "# or stop loss price\n",
    "if self..\n",
    "_position getShares() > 0:\n",
    "if bar.getPrice() > self..\n",
    "_takeProfitPrice or bar-getPrice() ‹ self._ _stopPrice:\n",
    "self.\n",
    "_position.exitMarket ()\n",
    "self, position = None\n",
    "elif-self.\n",
    "position.getShares ( ) < 0:\n",
    "if bar getPrice() < self._ _takeProfitPrica or bar.getPrice ) › self..\n",
    "_stopPrice:\n",
    "self.\n",
    "_position.exitMarket ()\n",
    "self.\n",
    "_position - None"
   ]
  },
  {
   "cell_type": "code",
   "execution_count": null,
   "id": "2b1fffdc",
   "metadata": {},
   "outputs": [],
   "source": []
  },
  {
   "cell_type": "code",
   "execution_count": null,
   "id": "575d26cd",
   "metadata": {},
   "outputs": [],
   "source": []
  },
  {
   "cell_type": "code",
   "execution_count": null,
   "id": "2b33f173",
   "metadata": {},
   "outputs": [],
   "source": []
  },
  {
   "cell_type": "code",
   "execution_count": null,
   "id": "41dc3c70",
   "metadata": {},
   "outputs": [],
   "source": []
  },
  {
   "cell_type": "code",
   "execution_count": null,
   "id": "e5d2b474",
   "metadata": {},
   "outputs": [],
   "source": []
  },
  {
   "cell_type": "code",
   "execution_count": null,
   "id": "567ec2ed",
   "metadata": {},
   "outputs": [],
   "source": []
  },
  {
   "cell_type": "code",
   "execution_count": null,
   "id": "b4334c9c",
   "metadata": {},
   "outputs": [],
   "source": []
  },
  {
   "cell_type": "code",
   "execution_count": null,
   "id": "3b4bb063",
   "metadata": {},
   "outputs": [],
   "source": []
  },
  {
   "cell_type": "code",
   "execution_count": null,
   "id": "eb31ba0e",
   "metadata": {},
   "outputs": [],
   "source": []
  },
  {
   "cell_type": "code",
   "execution_count": null,
   "id": "f97d1a95",
   "metadata": {},
   "outputs": [],
   "source": []
  },
  {
   "cell_type": "code",
   "execution_count": null,
   "id": "2e046eb4",
   "metadata": {},
   "outputs": [],
   "source": []
  },
  {
   "cell_type": "code",
   "execution_count": null,
   "id": "92a2d397",
   "metadata": {},
   "outputs": [],
   "source": []
  },
  {
   "cell_type": "code",
   "execution_count": null,
   "id": "28ff2e36",
   "metadata": {},
   "outputs": [],
   "source": []
  },
  {
   "cell_type": "code",
   "execution_count": null,
   "id": "30e37ba0",
   "metadata": {},
   "outputs": [],
   "source": []
  },
  {
   "cell_type": "code",
   "execution_count": null,
   "id": "d7fe97cb",
   "metadata": {},
   "outputs": [],
   "source": []
  },
  {
   "cell_type": "code",
   "execution_count": null,
   "id": "e8290697",
   "metadata": {},
   "outputs": [],
   "source": []
  },
  {
   "cell_type": "code",
   "execution_count": null,
   "id": "5d0c0480",
   "metadata": {},
   "outputs": [],
   "source": []
  },
  {
   "cell_type": "code",
   "execution_count": null,
   "id": "97ddfcdf",
   "metadata": {},
   "outputs": [],
   "source": []
  },
  {
   "cell_type": "code",
   "execution_count": null,
   "id": "b5cb0fa9",
   "metadata": {},
   "outputs": [],
   "source": []
  },
  {
   "cell_type": "code",
   "execution_count": null,
   "id": "350a368f",
   "metadata": {},
   "outputs": [],
   "source": []
  },
  {
   "cell_type": "code",
   "execution_count": null,
   "id": "0d072971",
   "metadata": {},
   "outputs": [],
   "source": []
  },
  {
   "cell_type": "code",
   "execution_count": null,
   "id": "6af24aea",
   "metadata": {},
   "outputs": [],
   "source": []
  },
  {
   "cell_type": "code",
   "execution_count": null,
   "id": "8588aa02",
   "metadata": {},
   "outputs": [],
   "source": []
  }
 ],
 "metadata": {
  "kernelspec": {
   "display_name": "Python 3 (ipykernel)",
   "language": "python",
   "name": "python3"
  },
  "language_info": {
   "codemirror_mode": {
    "name": "ipython",
    "version": 3
   },
   "file_extension": ".py",
   "mimetype": "text/x-python",
   "name": "python",
   "nbconvert_exporter": "python",
   "pygments_lexer": "ipython3",
   "version": "3.10.6"
  },
  "toc": {
   "base_numbering": 1,
   "nav_menu": {},
   "number_sections": true,
   "sideBar": true,
   "skip_h1_title": false,
   "title_cell": "Table of Contents",
   "title_sidebar": "Contents",
   "toc_cell": false,
   "toc_position": {},
   "toc_section_display": true,
   "toc_window_display": false
  }
 },
 "nbformat": 4,
 "nbformat_minor": 5
}
